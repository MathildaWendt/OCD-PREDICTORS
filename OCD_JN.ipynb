{
 "cells": [
  {
   "cell_type": "markdown",
   "metadata": {},
   "source": [
    "This is the Jupyter notebook for team F. We are using a comprehensive dataset of 1500 patients diagnosed with Obsessive Compulsive Disorder (OCD). This dataset is available on Kaggle.  \n",
    "  \n",
    "Reference:   \n",
    "Haque O, Alamgir Z. OCD Patient Dataset: Demographics and Clinical Data [Internet]. 2023 [cited 2024-09-08]. Available from: https://www.kaggle.com/datasets/ohinhaque/ocd-patient-dataset-demographics-and-clinical-data/data\n",
    "\n",
    "The dataset looks as follows:"
   ]
  },
  {
   "cell_type": "code",
   "execution_count": null,
   "metadata": {},
   "outputs": [],
   "source": [
    "# read dataset\n",
    "import pandas as pd\n",
    "df = pd.read_csv(\"ocd_patient_dataset.csv\")\n",
    "df.head()"
   ]
  },
  {
   "cell_type": "markdown",
   "metadata": {},
   "source": [
    "The dataset includes demographic information such as patient id age, gender, ethnicity, marital status and education level; along with clinical details like OCD diagnosis date, symptom duration, past history of psychiatric diagnosis, and family history of OCD. Moreover, symptom severity is assessed through the Yale-Brown Obsessive Compulsive Scale (Y-BOCS) for obsessive and compulsive symptom types. Furthermore, there is record of other mental health conditions such as anxiety and depression, and the medications prescribed to the patients.  \n",
    "  \n",
    "Reference:  \n",
    "Goodman WK, Lawrence HP, Rasmussen SA, Mazure C, Fleischmann RL, Hill CL, et al. The Yale-Brown Obsessive Compulsive Scale. Arch Gen Psychiatry. 1989;46:1006-11"
   ]
  },
  {
   "cell_type": "markdown",
   "metadata": {},
   "source": [
    "Over the next few sections, the following tasks have been carried out:  \n",
    "1. The variable datatypes have been checked  \n",
    "2. The variables that had \"yes\" or \"no answers were converted to Boolean  \n",
    "3. The missing values have been taken care of.  \n"
   ]
  },
  {
   "cell_type": "code",
   "execution_count": null,
   "metadata": {},
   "outputs": [],
   "source": [
    "# display variable datatypes\n",
    "df.dtypes"
   ]
  },
  {
   "cell_type": "code",
   "execution_count": null,
   "metadata": {},
   "outputs": [],
   "source": [
    "# convert to boolean\n",
    "df = pd.read_csv(\"ocd_patient_dataset.csv\", true_values =[\"Yes\"], false_values=[\"No\"])\n",
    "df.head()\n",
    "df.dtypes"
   ]
  },
  {
   "cell_type": "code",
   "execution_count": null,
   "metadata": {},
   "outputs": [],
   "source": [
    "# missing values\n",
    "df.isnull().sum()"
   ]
  },
  {
   "cell_type": "code",
   "execution_count": null,
   "metadata": {},
   "outputs": [],
   "source": [
    "# 'Previous Diagnoses' and 'Medications' have missing values, however we have assumed that it implies that the patient does not have a diagnosis or is not taking any medication respectively.\n",
    "# Therefore filling missing values with the word None\n",
    "df['Previous Diagnoses'] = df['Previous Diagnoses'].fillna('None')\n",
    "df['Medications'] = df['Medications'].fillna('None')\n",
    "df.isnull().sum()"
   ]
  },
  {
   "cell_type": "markdown",
   "metadata": {},
   "source": [
    "The Y-BOCS scale is a standardized clinical assessment tool designed to evaluate the severity and type of symptoms in individuals with OCD. There are 10 items: 5 for grading Obsession and 5 for grading compulsion and each can be scored from 0-4. Thus, scores for obsession and compulsion range from 0-20 each, and the total score ranges from 0-40. The dataset did not have the total score calculated which we have done below by adding the scores for Y-BOCS Score (Obsessions) and Y-BOCS Score (Compulsions)."
   ]
  },
  {
   "cell_type": "code",
   "execution_count": 6,
   "metadata": {},
   "outputs": [],
   "source": [
    "# calculate total score\n",
    "df['Total_Score'] = df['Y-BOCS Score (Obsessions)'] + df['Y-BOCS Score (Compulsions)']"
   ]
  },
  {
   "cell_type": "markdown",
   "metadata": {},
   "source": [
    "We realised that there were instances in our dataset that had total score above 40, and individual scores for Obsessions and Compulsions above 20 each, which is not acceptable based on the scoring system of the scale. Hence, we have eliminated those."
   ]
  },
  {
   "cell_type": "code",
   "execution_count": null,
   "metadata": {},
   "outputs": [],
   "source": [
    "# count above 40 for Total_Score\n",
    "count_above_40 = (df['Total_Score'] > 40).sum()\n",
    "print(f'Number of values above 40: {count_above_40}')\n",
    "\n",
    "# count above 20 for Y-BOCS Score (Obsessions)\n",
    "count_above_20_O = (df['Y-BOCS Score (Obsessions)'] > 20).sum()\n",
    "print(f'Number of values above 20: {count_above_20_O}')\n",
    "\n",
    "# count above 20 for Y-BOCS Score (Compulsions)\n",
    "count_above_20_C = (df['Y-BOCS Score (Compulsions)'] > 20).sum()\n",
    "print(f'Number of values above 20: {count_above_20_C}')\n",
    "\n"
   ]
  },
  {
   "cell_type": "code",
   "execution_count": null,
   "metadata": {},
   "outputs": [],
   "source": [
    "# creating a dataframe with valid scores\n",
    "filtered_df = df[\n",
    "    (df['Y-BOCS Score (Obsessions)'] <= 20) &\n",
    "    (df['Y-BOCS Score (Compulsions)'] <= 20) &\n",
    "    (df['Total_Score'] <= 40)\n",
    "]\n",
    "filtered_df"
   ]
  },
  {
   "cell_type": "markdown",
   "metadata": {},
   "source": [
    "Saving the filtered dataframe in a csv"
   ]
  },
  {
   "cell_type": "code",
   "execution_count": 9,
   "metadata": {},
   "outputs": [],
   "source": [
    "filtered_df.to_csv('filtered_df.csv', index=False)"
   ]
  },
  {
   "cell_type": "markdown",
   "metadata": {},
   "source": [
    "We were interested in predicting the severity of OCD given by \"Total_Score\", and based on a literature review found that age, duration of symptoms, family history of OCD, and diagnosis of Anxiety or Depression affect it. Gender being a basic demographic feature has been retained though research does not clearly indicate its influence on OCD. Obsession Type and Compulsion Type are a reflection of patient's symptoms which may affect severity of the disorder, and therefore have been retained.  \n",
    "\n",
    "References:  \n",
    "1. Mathes BM, Morabito DM, Schmidt NB. Epidemiological and Clinical Gender Differences in OCD. Curr Psychiatry Rep. 2019 Apr 23;21(5):36. doi: 10.1007/s11920-019-1015-2.\n",
    "2. Riddle DB, Guzick A, Minhajuddin A, Smárason O, Armstrong GM, Slater H, et al. Obsessive-compulsive disorder in youth and young adults with depression: Clinical characteristics of comorbid presentations. J Obsessive Compuls Relat Disord. 2023 Jul;38:100820. doi: 10.1016/j.jocrd.2023.100820. \n",
    "3. Zheng H, Zhang Z, Huang C, Luo G. Medical status of outpatients with obsessive-compulsive disorder in psychiatric department and its influencing factors. Zhong Nan Da Xue Xue Bao Yi Xue Ban. 2022 Oct 28;47(10):1418-1424. English, Chinese. doi: 10.11817/j.issn.1672-7347.2022.220125. \n",
    "4. Mahjani B, Bey K, Boberg J, Burton C. Genetics of obsessive-compulsive disorder. Psychol Med. 2021 Oct;51(13):2247-2259. doi: 10.1017/S0033291721001744. Epub 2021 May 25. PMID: 34030745; PMCID: PMC8477226.\n",
    "5. Mathes BM, Morabito DM, Schmidt NB. Epidemiological and Clinical Gender Differences in OCD. Curr Psychiatry Rep. 2019 Apr 23;21(5):36. doi: 10.1007/s11920-019-1015-2. PMID: 31016410."
   ]
  },
  {
   "cell_type": "markdown",
   "metadata": {},
   "source": [
    "With the goal of predicting OCD severity, it was necessary to label the Total_Score for classification task. We tried to  identify the distribution of scores across bins of 5 from 0-40 in order to define score categories."
   ]
  },
  {
   "cell_type": "code",
   "execution_count": null,
   "metadata": {},
   "outputs": [],
   "source": [
    "# Define bin ranges (0 to 40 with bins of size 5)\n",
    "bins = range(0, 45, 5)  # This creates bins from 0-5, 6-10, ..., 36-40\n",
    "\n",
    "# Use pd.cut to categorize the Total_Score into bins\n",
    "filtered_df['Score_Bins'] = pd.cut(df['Total_Score'], bins=bins, right=False)\n",
    "\n",
    "# Calculate the count for each bin\n",
    "bin_counts = filtered_df['Score_Bins'].value_counts().sort_index()\n",
    "\n",
    "# Display the bin counts\n",
    "print(bin_counts)"
   ]
  },
  {
   "cell_type": "markdown",
   "metadata": {},
   "source": [
    "Based on the distribution above, we have decided to categorise Total_Score as follows:  \n",
    "0-20: Low\n",
    "21-40: High"
   ]
  },
  {
   "cell_type": "code",
   "execution_count": null,
   "metadata": {},
   "outputs": [],
   "source": [
    "# Categorize Total_Score into 'Low' and 'High' based on the given range\n",
    "filtered_df['Score_Category'] = pd.cut(filtered_df['Total_Score'], \n",
    "                              bins=[0, 20, 40], \n",
    "                              labels=['Low', 'High'], \n",
    "                              include_lowest=True)\n",
    "\n",
    "#  View a concise dataframe based on the feature selection\n",
    "filtered_df = filtered_df[[\"Age\", \"Gender\", \"Family History of OCD\", \"Duration of Symptoms (months)\", \"Obsession Type\", \"Compulsion Type\", \"Total_Score\", \"Depression Diagnosis\", \"Anxiety Diagnosis\", \"Score_Category\"]]\n",
    "filtered_df.head()"
   ]
  },
  {
   "cell_type": "markdown",
   "metadata": {},
   "source": [
    "### Descriptive Analytics  \n",
    "In this section, we have tried to analyse if the literature review results hold true for our dataset."
   ]
  },
  {
   "cell_type": "code",
   "execution_count": 12,
   "metadata": {},
   "outputs": [],
   "source": [
    "import plotly.express as px\n",
    "import plotly.graph_objects as go"
   ]
  },
  {
   "cell_type": "markdown",
   "metadata": {},
   "source": [
    "We tried to evaluate if our data is equally distributed for age and gender which are important demographic features and Score_Category which will be the task."
   ]
  },
  {
   "cell_type": "code",
   "execution_count": null,
   "metadata": {},
   "outputs": [],
   "source": [
    "# Checking if the data is equally distributed for age and gender\n",
    "# Creating age groups (bins)\n",
    "filtered_df['Age Group'] = pd.cut(filtered_df['Age'], bins=[0, 18, 30, 50, 70, 100], \n",
    "                         labels=['0-18', '19-30', '31-50', '51-70', '71+'])\n",
    "\n",
    "# Count the number of males and females in each age group\n",
    "gender_age_group = filtered_df.groupby(['Age Group', 'Gender']).size().unstack().fillna(0)\n",
    "\n",
    "# Create a figure\n",
    "fig0 = go.Figure()\n",
    "\n",
    "# Add bar plot for males\n",
    "fig0.add_trace(\n",
    "    go.Bar(\n",
    "        x=gender_age_group.index,\n",
    "        y=gender_age_group['Male'],\n",
    "        name='Male',\n",
    "        marker_color='blue'\n",
    "    )\n",
    ")\n",
    "\n",
    "# Add bar plot for females\n",
    "fig0.add_trace(\n",
    "    go.Bar(\n",
    "        x=gender_age_group.index,\n",
    "        y=gender_age_group['Female'],\n",
    "        name='Female',\n",
    "        marker_color='pink'\n",
    "    )\n",
    ")\n",
    "\n",
    "# Update layout to create stacked bars\n",
    "fig0.update_layout(\n",
    "    barmode='stack',  # Stacked bar mode\n",
    "    title='Number of People by Age Group and Gender',\n",
    "    xaxis_title='Age Group',\n",
    "    yaxis_title='Number of People',\n",
    "    legend_title='Gender',\n",
    "    xaxis_tickangle=0,\n",
    "    yaxis=dict(showgrid=True)\n",
    ")\n",
    "\n",
    "# Show the plot\n",
    "fig0.show()"
   ]
  },
  {
   "cell_type": "code",
   "execution_count": null,
   "metadata": {},
   "outputs": [],
   "source": [
    "# Count the instances for each Score_Category\n",
    "score_category_counts = filtered_df['Score_Category'].value_counts()\n",
    "\n",
    "# Create a bar plot using Plotly to visualize the counts of 'Low' and 'High'\n",
    "fig00 = px.bar(x=score_category_counts.index, \n",
    "             y=score_category_counts.values, \n",
    "             labels={'x': 'Score Category', 'y': 'Count of Instances'}, \n",
    "             title='Count of Instances in Low and High Score Categories',\n",
    "             text=score_category_counts.values)  # Display counts on bars\n",
    "\n",
    "# Customize the layout\n",
    "fig00.update_layout(xaxis_title='Score Category', \n",
    "                  yaxis_title='Number of Instances',\n",
    "                  showlegend=False)\n",
    "\n",
    "# Show the figure\n",
    "fig00.show()"
   ]
  },
  {
   "cell_type": "markdown",
   "metadata": {},
   "source": [
    "1. What is the distribution of OCD severity (Total_Score) across different age groups?  \n",
    "This question helps to determine if certain age groups tend to experience more severe OCD symptoms. It might reveal whether younger or older people are more affected.  \n",
    "The age has been split into age groups and we have tried to evaluate how our dataset is represented across the various age bins."
   ]
  },
  {
   "cell_type": "code",
   "execution_count": null,
   "metadata": {},
   "outputs": [],
   "source": [
    "# Box plot to show distribution\n",
    "fig = px.box(filtered_df, x='Age Group', y='Total_Score', title='Distribution of OCD Severity Across Age Groups',\n",
    "             labels={'Age Group': 'Age Group', 'Total_Score': 'OCD Severity (Y-BOCS Total Score)'},\n",
    "             category_orders={'Age Group': ['0-18', '19-30', '31-50', '51-70', '71+']})  # Ensure proper order\n",
    "\n",
    "fig.show()"
   ]
  },
  {
   "cell_type": "markdown",
   "metadata": {},
   "source": [
    "2. Is there a significant difference in OCD severity based on gender?  \n",
    "Literature does not clearly indicate a relation between gender and OCD. Gender-based analysis can uncover any significant differences between males and females in terms of OCD severity. This could help in targeting gender-specific interventions."
   ]
  },
  {
   "cell_type": "code",
   "execution_count": null,
   "metadata": {},
   "outputs": [],
   "source": [
    "# checking for gender distribution in the dataset\n",
    "gender_counts = filtered_df['Gender'].value_counts()\n",
    "print(gender_counts)\n",
    "\n",
    "fig2 = px.bar(gender_counts, \n",
    "             x=gender_counts.index, \n",
    "             y=gender_counts.values, \n",
    "             title='Gender Distribution',\n",
    "             labels={'x': 'Gender', 'y': 'Count'},\n",
    "             color=gender_counts.index)\n",
    "\n",
    "# Show the figure\n",
    "fig2.show()"
   ]
  },
  {
   "cell_type": "code",
   "execution_count": null,
   "metadata": {},
   "outputs": [],
   "source": [
    "# Box plot for OCD severity (Total_Score) by Gender\n",
    "fig3 = px.box(df, x='Gender', y='Total_Score', title='Distribution of OCD Severity by Gender',\n",
    "              labels={'Total_Score': 'OCD Severity (Y-BOCS Total Score)', 'Gender': 'Gender'})\n",
    "fig3.show()"
   ]
  },
  {
   "cell_type": "markdown",
   "metadata": {},
   "source": [
    "3. How does family history of OCD influence the Total_Score?  \n",
    "We try to examine whether individuals with a family history of OCD are more likely to have severe symptoms, potentially highlighting genetic or environmental influences."
   ]
  },
  {
   "cell_type": "code",
   "execution_count": 18,
   "metadata": {},
   "outputs": [],
   "source": [
    "import plotly.io as pio"
   ]
  },
  {
   "cell_type": "code",
   "execution_count": null,
   "metadata": {},
   "outputs": [],
   "source": [
    "# Count the number of people with and without family history of OCD\n",
    "family_history_counts = filtered_df['Family History of OCD'].value_counts()\n",
    "\n",
    "# Create a bar plot for the number of people with and without family history of OCD\n",
    "bar_trace = go.Bar(\n",
    "    x=family_history_counts.index, \n",
    "    y=family_history_counts.values, \n",
    "    name='Number of People',\n",
    "    yaxis='y1',\n",
    "    marker_color='lightblue'\n",
    ")\n",
    "\n",
    "# Create a box plot for the distribution of Total_Score for each category\n",
    "box_trace = go.Box(\n",
    "    x=filtered_df['Family History of OCD'], \n",
    "    y=filtered_df['Total_Score'], \n",
    "    name='Distribution of Total Score',\n",
    "    yaxis='y2',\n",
    "    marker_color='orange'\n",
    ")\n",
    "\n",
    "# Combine the bar and box plot using secondary y-axes\n",
    "fig4 = go.Figure(data=[bar_trace, box_trace])\n",
    "\n",
    "# Update layout for dual y-axes\n",
    "fig4.update_layout(\n",
    "    title='Number of People with Family History of OCD and Distribution of Their Scores',\n",
    "    xaxis_title='Family History of OCD',\n",
    "    yaxis=dict(\n",
    "        title='Number of People',\n",
    "        showgrid=False\n",
    "    ),\n",
    "    yaxis2=dict(\n",
    "        title='Distribution of Total Score',\n",
    "        overlaying='y',  # Overlay on the same plot\n",
    "        side='right'\n",
    "    ),\n",
    "    legend=dict(x=0.1, y=1.1)\n",
    ")\n",
    "\n",
    "# Show the figure\n",
    "fig4.show()"
   ]
  },
  {
   "cell_type": "markdown",
   "metadata": {},
   "source": [
    "4. How does diagnosis of Anxiety or Depression affect Total_Score?"
   ]
  },
  {
   "cell_type": "code",
   "execution_count": null,
   "metadata": {},
   "outputs": [],
   "source": [
    "# Add a 'Condition' column for easy visualization\n",
    "filtered_df['Condition'] = filtered_df.apply(lambda row: \n",
    "                            'Anxiety T, Depression T' if row['Anxiety Diagnosis'] and row['Depression Diagnosis'] else\n",
    "                            'Anxiety T, Depression F' if row['Anxiety Diagnosis'] and not row['Depression Diagnosis'] else\n",
    "                            'Anxiety F, Depression T' if not row['Anxiety Diagnosis'] and row['Depression Diagnosis'] else\n",
    "                            'Anxiety F, Depression F', axis=1)\n",
    "\n",
    "# Create a boxplot to visualize the total score distribution across different conditions using Plotly\n",
    "fig6 = px.box(filtered_df, \n",
    "             x='Condition', \n",
    "             y='Total_Score', \n",
    "             title='Total Score Distribution by Anxiety and Depression Conditions',\n",
    "             labels={'Condition': 'Anxiety and Depression Conditions', 'Total_Score': 'Total Score'},\n",
    "             category_orders={'Condition': ['Anxiety T, Depression T', 'Anxiety T, Depression F', \n",
    "                                            'Anxiety F, Depression T', 'Anxiety F, Depression F']}\n",
    "            )\n",
    "\n",
    "# Update layout to rotate the x-axis labels and add gridlines\n",
    "fig6.update_layout(\n",
    "    xaxis_title='Condition',\n",
    "    yaxis_title='Total Score',\n",
    "    xaxis_tickangle=45,\n",
    "    yaxis=dict(showgrid=True)\n",
    ")\n",
    "\n",
    "# Show the plot\n",
    "fig6.show()"
   ]
  },
  {
   "cell_type": "markdown",
   "metadata": {},
   "source": [
    "5. Are the Obsession types represented equally in this dataset? What is the average Total_Score for each type?"
   ]
  },
  {
   "cell_type": "code",
   "execution_count": null,
   "metadata": {},
   "outputs": [],
   "source": [
    "# Count the number of instances for each obsession type\n",
    "obsession_counts = filtered_df['Obsession Type'].value_counts()\n",
    "\n",
    "# Calculate the average Total Score for each obsession type\n",
    "obsession_avg_scores = filtered_df.groupby('Obsession Type')['Total_Score'].mean()\n",
    "\n",
    "# Create a figure\n",
    "fig7 = go.Figure()\n",
    "\n",
    "# Add bar plot for the number of instances (left y-axis)\n",
    "fig7.add_trace(\n",
    "    go.Bar(\n",
    "        x=obsession_counts.index,\n",
    "        y=obsession_counts.values,\n",
    "        name='Number of Instances',\n",
    "        marker_color='lightblue',\n",
    "        text=obsession_counts.values,  # Show count on the bars\n",
    "        textposition='auto'\n",
    "    )\n",
    ")\n",
    "\n",
    "# Add line plot for the average total score (right y-axis)\n",
    "fig7.add_trace(\n",
    "    go.Scatter(\n",
    "        x=obsession_avg_scores.index,\n",
    "        y=obsession_avg_scores.values,\n",
    "        name='Average Total Score',\n",
    "        yaxis='y2',  # Associate this with the second y-axis\n",
    "        mode='lines+markers',\n",
    "        line=dict(color='orange', width=3),\n",
    "        marker=dict(size=8),\n",
    "        text=obsession_avg_scores.values,  # Show average scores on the points\n",
    "        textposition='top center'\n",
    "    )\n",
    ")\n",
    "\n",
    "# Update layout to include a second y-axis\n",
    "fig7.update_layout(\n",
    "    title='Number of Instances and Average Total Score by Obsession Type',\n",
    "    xaxis_title='Obsession Type',\n",
    "    yaxis_title='Number of Instances',\n",
    "    yaxis2=dict(\n",
    "        title='Average Total Score',\n",
    "        overlaying='y',  # Overlay y-axis 2 on the same plot as y-axis 1\n",
    "        side='right'\n",
    "    ),\n",
    "    legend=dict(x=0.1, y=1.1),\n",
    "    xaxis_tickangle=45,\n",
    "    yaxis=dict(showgrid=True)\n",
    ")\n",
    "\n",
    "# Show the plot\n",
    "fig7.show()"
   ]
  },
  {
   "cell_type": "markdown",
   "metadata": {},
   "source": [
    "6. Are the Compulsion types represented equally in this dataset? What is the average Total_Score for each type?"
   ]
  },
  {
   "cell_type": "code",
   "execution_count": null,
   "metadata": {},
   "outputs": [],
   "source": [
    "# Count the number of instances for each compulsion type\n",
    "compulsion_counts = filtered_df['Compulsion Type'].value_counts()\n",
    "\n",
    "# Calculate the average Total Score for each compulsion type\n",
    "compulsion_avg_scores = filtered_df.groupby('Compulsion Type')['Total_Score'].mean()\n",
    "\n",
    "# Create a figure\n",
    "fig8 = go.Figure()\n",
    "\n",
    "# Add bar plot for the number of instances (left y-axis)\n",
    "fig8.add_trace(\n",
    "    go.Bar(\n",
    "        x=compulsion_counts.index,\n",
    "        y=compulsion_counts.values,\n",
    "        name='Number of Instances',\n",
    "        marker_color='lightblue',\n",
    "        text=compulsion_counts.values,  # Show count on the bars\n",
    "        textposition='auto'\n",
    "    )\n",
    ")\n",
    "\n",
    "# Add line plot for the average total score (right y-axis)\n",
    "fig8.add_trace(\n",
    "    go.Scatter(\n",
    "        x=compulsion_avg_scores.index,\n",
    "        y=compulsion_avg_scores.values,\n",
    "        name='Average Total Score',\n",
    "        yaxis='y2',  # Associate this with the second y-axis\n",
    "        mode='lines+markers',\n",
    "        line=dict(color='orange', width=3),\n",
    "        marker=dict(size=8),\n",
    "        text=compulsion_avg_scores.values,  # Show average scores on the points\n",
    "        textposition='top center'\n",
    "    )\n",
    ")\n",
    "\n",
    "# Update layout to include a second y-axis\n",
    "fig8.update_layout(\n",
    "    title='Number of Instances and Average Total Score by Compulsion Type',\n",
    "    xaxis_title='Compulsion Type',\n",
    "    yaxis_title='Number of Instances',\n",
    "    yaxis2=dict(\n",
    "        title='Average Total Score',\n",
    "        overlaying='y',  # Overlay y-axis 2 on the same plot as y-axis 1\n",
    "        side='right'\n",
    "    ),\n",
    "    legend=dict(x=0.1, y=1.1),\n",
    "    xaxis_tickangle=45,\n",
    "    yaxis=dict(showgrid=True)\n",
    ")\n",
    "\n",
    "# Show the plot\n",
    "fig8.show()"
   ]
  },
  {
   "cell_type": "markdown",
   "metadata": {},
   "source": [
    "To prepare the dataframe for diagnosis and prediction, over the next few codes, the following has been done:\n",
    "1. Conversion of boolean values to integers\n",
    "2. Normalisation of numerical features\n",
    "3. Conversion of categorical features to numerical by one hot encoding\n",
    "4. Using Label encoding on Score_Category"
   ]
  },
  {
   "cell_type": "code",
   "execution_count": null,
   "metadata": {},
   "outputs": [],
   "source": [
    "# Convert boolean values to integers (0 for False, 1 for True) for Family history of OCD\n",
    "filtered_df['Family History of OCD'] = filtered_df['Family History of OCD'].astype(int)\n",
    "\n",
    "\n",
    "# Convert boolean values to integers (0 for False, 1 for True) for Depression Diagnosis\n",
    "filtered_df['Depression Diagnosis'] = filtered_df['Depression Diagnosis'].astype(int)\n",
    "\n",
    "# Convert boolean values to integers (0 for False, 1 for True) for Anxiety Diagnosis\n",
    "filtered_df['Anxiety Diagnosis'] = filtered_df['Anxiety Diagnosis'].astype(int)\n",
    "\n",
    "# Convert Gender to Boolean: Male as True, Female as False\n",
    "filtered_df['Gender_Boolean'] = filtered_df['Gender'].map({'Male': True, 'Female': False})\n",
    "\n",
    "# Convert Boolean to Integers (True -> 1, False -> 0)\n",
    "filtered_df['Gender_Boolean'] = filtered_df['Gender_Boolean'].astype(int)"
   ]
  },
  {
   "cell_type": "code",
   "execution_count": null,
   "metadata": {},
   "outputs": [],
   "source": [
    "# Normalisation of numerical features\n",
    "from sklearn.preprocessing import MinMaxScaler\n",
    "\n",
    "# Initialize Min-Max Scaler\n",
    "scaler = MinMaxScaler()\n",
    "\n",
    "# Select the columns you want to normalize\n",
    "columns_to_normalize = ['Age', 'Duration of Symptoms (months)']\n",
    "\n",
    "# Apply the Min-Max scaling\n",
    "filtered_df[columns_to_normalize] = scaler.fit_transform(filtered_df[columns_to_normalize])"
   ]
  },
  {
   "cell_type": "code",
   "execution_count": 25,
   "metadata": {},
   "outputs": [],
   "source": [
    "# One ot encoding for Obsession Type and Compulsion Type\n",
    "\n",
    "from sklearn.preprocessing import OneHotEncoder\n",
    "\n",
    "# Initialize OneHotEncoder with sparse_output=False to return dense array\n",
    "encoder = OneHotEncoder(sparse_output=False)\n",
    "\n",
    "# Apply One-Hot Encoding to the 'Obsession Type' column\n",
    "one_hot_encoded = encoder.fit_transform(filtered_df[[\"Obsession Type\"]])\n",
    "\n",
    "# Get the feature names for the encoded columns\n",
    "encoded_feature_names = encoder.get_feature_names_out([\"Obsession Type\"])\n",
    "\n",
    "# Convert the encoded data into a DataFrame\n",
    "df_one_hot_O = pd.DataFrame(one_hot_encoded, columns=encoded_feature_names)\n",
    "\n",
    "# Reset the index to avoid row misalignment during concatenation\n",
    "df_one_hot_O.reset_index(drop=True, inplace=True)\n",
    "\n",
    "# Concatenate the original dataframe with the new one-hot encoded columns\n",
    "filtered_df.reset_index(drop=True, inplace=True)  # Reset index in original dataframe too\n",
    "filtered_df = pd.concat([filtered_df, df_one_hot_O], axis=1)\n",
    "\n",
    "# Drop the original 'Obsession Type' column if you no longer need it\n",
    "filtered_df.drop(columns=['Obsession Type'], inplace=True)\n",
    "\n",
    "# Apply One-Hot Encoding to the 'Compulsion Type' column\n",
    "one_hot_encoded = encoder.fit_transform(filtered_df[[\"Compulsion Type\"]])\n",
    "\n",
    "# Get the feature names for the encoded columns\n",
    "encoded_feature_names = encoder.get_feature_names_out([\"Compulsion Type\"])\n",
    "\n",
    "# Convert the encoded data into a DataFrame\n",
    "df_one_hot_C = pd.DataFrame(one_hot_encoded, columns=encoded_feature_names)\n",
    "\n",
    "# Reset the index to avoid row misalignment during concatenation\n",
    "df_one_hot_C.reset_index(drop=True, inplace=True)\n",
    "\n",
    "# Concatenate the original dataframe with the new one-hot encoded columns\n",
    "filtered_df.reset_index(drop=True, inplace=True)  # Reset index in original dataframe too\n",
    "filtered_df = pd.concat([filtered_df, df_one_hot_C], axis=1)\n",
    "\n",
    "# Drop the original 'Compulsion Type' column if you no longer need it\n",
    "filtered_df.drop(columns=['Compulsion Type'], inplace=True)\n"
   ]
  },
  {
   "cell_type": "code",
   "execution_count": 26,
   "metadata": {},
   "outputs": [],
   "source": [
    "# Using Label Encoding on Score_Category\n",
    "from sklearn.preprocessing import LabelEncoder\n",
    "\n",
    "# Initialize the LabelEncoder\n",
    "label_encoder = LabelEncoder()\n",
    "\n",
    "# Apply the label encoder to the 'Score_Category' column\n",
    "filtered_df['Score_Category_Encoded'] = label_encoder.fit_transform(filtered_df['Score_Category'])"
   ]
  },
  {
   "cell_type": "code",
   "execution_count": null,
   "metadata": {},
   "outputs": [],
   "source": [
    "# Display the updated dataframe\n",
    "filtered_df.head()"
   ]
  },
  {
   "cell_type": "markdown",
   "metadata": {},
   "source": [
    "### Diagnostic Analytics"
   ]
  },
  {
   "cell_type": "markdown",
   "metadata": {},
   "source": [
    "1. Can we cluster patients based on their symptom severity, anxiety, and depression diagnoses?"
   ]
  },
  {
   "cell_type": "code",
   "execution_count": null,
   "metadata": {},
   "outputs": [],
   "source": [
    "from sklearn.cluster import KMeans\n",
    "\n",
    "# Select the features for clustering\n",
    "clustering_features = filtered_df[['Anxiety Diagnosis', 'Depression Diagnosis', 'Score_Category_Encoded']]\n",
    "\n",
    "# Initialize and apply K-Means clustering (3 clusters)\n",
    "kmeans = KMeans(n_clusters=3, random_state=42)\n",
    "filtered_df['Cluster'] = kmeans.fit_predict(clustering_features)\n",
    "\n",
    "# Visualize the clusters\n",
    "fig = px.scatter_3d(\n",
    "    filtered_df, x='Anxiety Diagnosis', y='Depression Diagnosis', z='Score_Category_Encoded', \n",
    "    color='Cluster', title='Patient Clusters based on Symptom Severity, Anxiety, and Depression',\n",
    "    labels={'Anxiety Diagnosis': 'Anxiety Diagnosis', 'Depression Diagnosis': 'Depression Diagnosis', \n",
    "            'Score_Category_Encoded': 'Symptom Severity (Encoded)', 'Cluster': 'Cluster'}\n",
    ")\n",
    "\n",
    "fig.show()\n",
    "\n",
    "# To analyze the cluster centers\n",
    "print(\"Cluster Centers:\")\n",
    "print(kmeans.cluster_centers_)"
   ]
  },
  {
   "cell_type": "markdown",
   "metadata": {},
   "source": [
    "Cluster 0:  \n",
    "Anxiety Diagnosis: 0.30 (~30% of patients in this cluster have a positive anxiety diagnosis).  \n",
    "Depression Diagnosis: 0.23 (~23% of patients in this cluster have a positive depression diagnosis).  \n",
    "Score_Category_Encoded: 0.76 (Most patients in this cluster have a High symptom severity category, as 0.76 is closer to 1, which is the encoding for High).  \n",
    "\n",
    "Interpretation: This cluster likely represents patients with mild to moderate anxiety and depression diagnoses, but they tend to have a High symptom severity. These patients may have other significant symptoms contributing to their overall severity, despite less frequent diagnoses of anxiety or depression.\n",
    "\n",
    "Cluster 1:  \n",
    "Anxiety Diagnosis: 0.61 (~61% of patients have a positive anxiety diagnosis).  \n",
    "Depression Diagnosis: 0.68 (~68% of patients have a positive depression diagnosis).  \n",
    "Score_Category_Encoded: 0.00 (Most patients in this cluster have a Low symptom severity category).  \n",
    "\n",
    "Interpretation: This cluster represents patients with moderate to high anxiety and depression diagnoses, but their symptom severity is generally low. This could indicate that while they have anxiety or depression diagnoses, their overall symptom burden (as measured by other factors) is not severe.\n",
    "\n",
    "Cluster 2:  \n",
    "Anxiety Diagnosis: 1.00 (All patients in this cluster have a positive anxiety diagnosis).  \n",
    "Depression Diagnosis: 1.00 (All patients in this cluster have a positive depression diagnosis).  \n",
    "Score_Category_Encoded: 1.00 (All patients in this cluster have a High symptom severity).  \n",
    "\n",
    "Interpretation: This cluster represents patients with the most severe conditions. All patients in this group are diagnosed with both anxiety and depression, and they also have high symptom severity. This cluster likely represents patients who are the most clinically severe, requiring more attention and possibly more intensive treatment."
   ]
  },
  {
   "cell_type": "markdown",
   "metadata": {},
   "source": [
    "2. Is there a relationship between a family history of OCD and the severity of symptoms?"
   ]
  },
  {
   "cell_type": "code",
   "execution_count": null,
   "metadata": {},
   "outputs": [],
   "source": [
    "import scipy.stats as stats\n",
    "import seaborn as sns\n",
    "import matplotlib.pyplot as plt\n",
    "\n",
    "# Contingency table for Family History vs Symptom Severity\n",
    "contingency_table = pd.crosstab(filtered_df['Family History of OCD'], filtered_df['Score_Category'])\n",
    "\n",
    "# Perform chi-square test\n",
    "chi2, p, dof, expected = stats.chi2_contingency(contingency_table)\n",
    "\n",
    "# Print the chi-square test result\n",
    "print(f\"Chi-Square Test Statistic: {chi2}, p-value: {p}\")\n",
    "\n",
    "# Visualize the relationship using a heatmap\n",
    "sns.heatmap(contingency_table, annot=True, cmap=\"YlGnBu\")\n",
    "plt.title('Family History vs Symptom Severity')\n",
    "plt.show()"
   ]
  },
  {
   "cell_type": "markdown",
   "metadata": {},
   "source": [
    "The Chi-Square test statistic (1.23) is relatively low indicating a weaker association.  \n",
    "Since the p-value is greater than 0.05, there is no statistically significant association between having a family history of OCD and the severity of symptoms (whether low or high)."
   ]
  },
  {
   "cell_type": "markdown",
   "metadata": {},
   "source": [
    "3. Below, we try to evaluate the corelation between Age and Total_Score."
   ]
  },
  {
   "cell_type": "code",
   "execution_count": null,
   "metadata": {},
   "outputs": [],
   "source": [
    "# Calculate the Pearson correlation coefficient\n",
    "correlation_coefficient = filtered_df['Age'].corr(filtered_df['Total_Score'])\n",
    "print(f'Pearson correlation coefficient between Age and Total_Score: {correlation_coefficient:.2f}')\n",
    "\n",
    "# Create a scatter plot to show the relationship\n",
    "fig1 = px.scatter(filtered_df, x='Age', y='Total_Score', \n",
    "                 title='Scatter Plot of Age vs Total Score',\n",
    "                 labels={'Age': 'Age', 'Total_Score': 'OCD Severity (Y-BOCS Total Score)'},\n",
    "                 trendline='ols')  # Add a trendline to visualize the linear relationship\n",
    "\n",
    "# Show the figure\n",
    "fig1.show()"
   ]
  },
  {
   "cell_type": "markdown",
   "metadata": {},
   "source": [
    "4. What is the correlation between the duration of symptoms and OCD severity?"
   ]
  },
  {
   "cell_type": "code",
   "execution_count": null,
   "metadata": {},
   "outputs": [],
   "source": [
    "# Calculate the Pearson correlation coefficient\n",
    "correlation_coefficient = filtered_df['Duration of Symptoms (months)'].corr(filtered_df['Total_Score'])\n",
    "print(f'Pearson correlation coefficient between Duration of symptoms and Total_Score: {correlation_coefficient:.2f}')\n",
    "\n",
    "# Create a scatterplot\n",
    "fig5 = px.scatter(df, x='Duration of Symptoms (months)', y='Total_Score', \n",
    "                  title='Relationship between Duration of Symptoms and OCD Severity',\n",
    "                  labels={'Duration of Symptoms (months)': 'Duration of Symptoms (months)', 'Total_Score': 'OCD Severity (Y-BOCS Total Score)'}, \n",
    "                  trendline='ols')\n",
    "fig5.show()"
   ]
  },
  {
   "cell_type": "markdown",
   "metadata": {},
   "source": [
    "5. How are Age and Duration of Symptoms related?"
   ]
  },
  {
   "cell_type": "code",
   "execution_count": null,
   "metadata": {},
   "outputs": [],
   "source": [
    "from sklearn.linear_model import LinearRegression\n",
    "import numpy as np\n",
    "\n",
    "# Scatter plot with regression line\n",
    "def plot_age_duration_relation(filtered_df):\n",
    "    X = filtered_df[['Age']]\n",
    "    y = filtered_df['Duration of Symptoms (months)']\n",
    "\n",
    "    # Fit linear regression model\n",
    "    reg = LinearRegression().fit(X, y)\n",
    "    y_pred = reg.predict(X)\n",
    "\n",
    "    # Create scatter plot with linear regression line\n",
    "    fig = px.scatter(filtered_df, x='Age', y='Duration of Symptoms (months)', \n",
    "                     trendline=\"ols\", title=\"Age vs Duration of Symptoms\",\n",
    "                     labels={'Age': 'Age (Years)', 'Duration of Symptoms (months)': 'Duration (Months)'})\n",
    "    \n",
    "    fig.add_trace(go.Scatter(x=filtered_df['Age'], y=y_pred, mode='lines', name='Regression Line'))\n",
    "    fig.show()\n",
    "\n",
    "# Usage\n",
    "plot_age_duration_relation(filtered_df)"
   ]
  },
  {
   "cell_type": "markdown",
   "metadata": {},
   "source": [
    "### Predictive Analytics: Classification"
   ]
  },
  {
   "cell_type": "markdown",
   "metadata": {},
   "source": [
    "We choose to predict the severity of OCD symptoms (by predicting Score_Category). \"Score_Category_Encoded\" is the target class. It is binary.\n",
    "Going by the literature review and subject matter expertise within the team, features that are deemed to be necessary to create a prediction model are: Age, Gender, Family History of OCD, Duration of Symptoms, Depression Diagnosis, Anxiety Diagnosis, Type of Obsession, Type of Compulsion. \n",
    "\n",
    "Prediction task: Build a model that predicts severity of OCD symptoms by assigning a category to the Y-BOCS scores of patients."
   ]
  },
  {
   "cell_type": "code",
   "execution_count": null,
   "metadata": {},
   "outputs": [],
   "source": [
    "# Drop columns that are not required\n",
    "new_df = filtered_df.drop(columns=['Total_Score', 'Score_Category', 'Age Group', 'Condition', 'Cluster', 'Gender'])\n",
    "\n",
    "# View the concise dataframe\n",
    "new_df.head()"
   ]
  },
  {
   "cell_type": "code",
   "execution_count": null,
   "metadata": {},
   "outputs": [],
   "source": [
    "# Convert pd df into numpy array\n",
    "new_df_na = new_df.values\n",
    "print(new_df_na)"
   ]
  },
  {
   "cell_type": "markdown",
   "metadata": {},
   "source": [
    "Checking for class imbalance"
   ]
  },
  {
   "cell_type": "code",
   "execution_count": null,
   "metadata": {},
   "outputs": [],
   "source": [
    "# Plot histogram for target class\n",
    "fig = px.histogram(new_df, x='Score_Category_Encoded', nbins=2, \n",
    "                   title='Distribution of Score Category (Encoded)',\n",
    "                   labels={'Score_Category_Encoded': 'Score Category (Encoded)'},\n",
    "                   text_auto=True\n",
    ")\n",
    "\n",
    "# Update the layout for better visualization\n",
    "fig.update_layout(\n",
    "    xaxis_title='Score Category (Encoded)',\n",
    "    yaxis_title='Count',\n",
    "    bargap=0.2,\n",
    "    showlegend=False\n",
    ")\n",
    "\n",
    "# Show the plot\n",
    "fig.show()"
   ]
  },
  {
   "cell_type": "markdown",
   "metadata": {},
   "source": [
    "While there doesn't seem to be a significant class imbalance, we still choose to perform Stratified train-test partitioning to ensure that the distribution of classes in both the training and testing sets remains similar to the original dataset."
   ]
  },
  {
   "cell_type": "code",
   "execution_count": 36,
   "metadata": {},
   "outputs": [],
   "source": [
    "from sklearn.model_selection import train_test_split\n",
    "\n",
    "# Separate features (x) and target variable (y)\n",
    "x = new_df_na[:, :-1]  # Features\n",
    "y = new_df_na[:, -1].astype(float)  # Target variable\n",
    "\n",
    "import numpy as np\n",
    "RANDOM_SEED = 2000\n",
    "np.random.seed(RANDOM_SEED)\n",
    "\n",
    "# Normalize the data\n",
    "from sklearn.preprocessing import MinMaxScaler\n",
    "\n",
    "scaler = MinMaxScaler()\n",
    "x_normalized = scaler.fit_transform(x)\n",
    "\n",
    "# Create splits from the normalized dataset.\n",
    "x_train_norm, x_test_norm, y_train, y_test = train_test_split(x_normalized,\n",
    "                                                              y,\n",
    "                                                              test_size=0.2,\n",
    "                                                              random_state=RANDOM_SEED)\n"
   ]
  },
  {
   "cell_type": "code",
   "execution_count": 37,
   "metadata": {},
   "outputs": [],
   "source": [
    "# Models used\n",
    "from sklearn.tree import DecisionTreeClassifier\n",
    "from sklearn.ensemble import RandomForestClassifier\n",
    "from sklearn.neighbors import KNeighborsClassifier\n",
    "from sklearn.svm import SVC\n",
    "from sklearn.linear_model import LogisticRegression"
   ]
  },
  {
   "cell_type": "code",
   "execution_count": null,
   "metadata": {},
   "outputs": [],
   "source": [
    "models = {\n",
    "    \"DT_1\": DecisionTreeClassifier(max_depth=3),\n",
    "    \"DT_2\": DecisionTreeClassifier(max_depth=5),\n",
    "    \"RF_1\": RandomForestClassifier(n_estimators=10, max_depth=3),\n",
    "    \"RF_2\": RandomForestClassifier(n_estimators=100, max_depth=5),\n",
    "    \"KNN_1\": KNeighborsClassifier(n_neighbors=3),\n",
    "    \"KNN_2\": KNeighborsClassifier(n_neighbors=7),\n",
    "    \"SVM_1\": SVC(kernel='rbf'),\n",
    "    \"SVM_2\": SVC(kernel='linear'),\n",
    "    \"SVM_3\": SVC(kernel='sigmoid'),\n",
    "    \"SVM_4\": SVC(kernel='linear', class_weight= {0:2, 1:1}),\n",
    "    \"LR_1\": LogisticRegression(),\n",
    "    \"LR_2\": LogisticRegression(class_weight= \"balanced\"),\n",
    "    \"LR_3\": LogisticRegression(class_weight= {0:2, 1:1})\n",
    "}\n",
    "\n",
    "# Iterate over the dictionary as follows:\n",
    "for name, classifier in models.items():\n",
    "    print(\"The name of the classifier is:\", name, \" and it is a sklearn object:\", classifier)"
   ]
  },
  {
   "cell_type": "code",
   "execution_count": 39,
   "metadata": {},
   "outputs": [],
   "source": [
    "# Individual performance metrics\n",
    "from sklearn.metrics import accuracy_score, precision_score, recall_score, f1_score\n",
    "import time\n",
    "\n",
    "# Pandas dataframe to store results of each variable on the 10 classifiers\n",
    "results = pd.DataFrame({\n",
    "                        \"classifier_name\": [],\n",
    "                        \"training_time\": [],\n",
    "                        \"prediction_time\": [],\n",
    "                        \"accuracy\": [],\n",
    "                        \"precision\": [],\n",
    "                        \"recall\": [],\n",
    "                        \"f1\": []\n",
    "                        })"
   ]
  },
  {
   "cell_type": "code",
   "execution_count": null,
   "metadata": {},
   "outputs": [],
   "source": [
    "# Apply the classifier in each dataset\n",
    "for name, classifier in models.items():\n",
    "\n",
    "    # Start measuring the training time\n",
    "    t_start = time.time()\n",
    "    # The code below applies the specific classifier from the loop on the data\n",
    "    classifier.fit(x_train_norm,y_train)\n",
    "    # Stop measuring training time\n",
    "    t_end = time.time()\n",
    "    # Calculate Variable of interest `training_time`\n",
    "    training_time = t_end - t_start\n",
    "    #######\n",
    "\n",
    "    # Start measuring the prediction time\n",
    "    t_start = time.time()\n",
    "    # Predict on test set\n",
    "    y_predicted = classifier.predict(x_test_norm)\n",
    "    # Stop measuring prediction time\n",
    "    t_end = time.time()\n",
    "    # Calculate Variable of interest `prediction_time`\n",
    "    prediction_time = t_end - t_start\n",
    "    #######\n",
    "\n",
    "\n",
    "    # Get performance metrics\n",
    "    accuracy_result = accuracy_score(y_test, y_predicted)\n",
    "    precision_result = precision_score(y_test, y_predicted, zero_division=0)\n",
    "    recall_result = recall_score(y_test, y_predicted)\n",
    "    f1_result = f1_score(y_test, y_predicted)\n",
    "    #######\n",
    "\n",
    "\n",
    "    #### Generate the results to populate the pandas.DataFrame\n",
    "    this_result = pd.DataFrame({\n",
    "                    \"classifier_name\": [name],\n",
    "                    \"training_time\": [training_time],\n",
    "                    \"prediction_time\": [prediction_time],\n",
    "                    \"accuracy\": [accuracy_result],\n",
    "                    \"precision\": [precision_result],\n",
    "                    \"recall\": [recall_result],\n",
    "                    \"f1\": [f1_result]\n",
    "                    })\n",
    "    # Append to the main dataframe with the results\n",
    "    results = pd.concat([results, this_result], axis=0, ignore_index=True)\n",
    "\n",
    "results"
   ]
  },
  {
   "cell_type": "code",
   "execution_count": null,
   "metadata": {},
   "outputs": [],
   "source": [
    "from sklearn.metrics import classification_report\n",
    "\n",
    "report = classification_report(y_test, y_predicted, zero_division=0)  # Use zero_division=1 if needed\n",
    "print(report)"
   ]
  }
 ],
 "metadata": {
  "kernelspec": {
   "display_name": "Python 3",
   "language": "python",
   "name": "python3"
  },
  "language_info": {
   "codemirror_mode": {
    "name": "ipython",
    "version": 3
   },
   "file_extension": ".py",
   "mimetype": "text/x-python",
   "name": "python",
   "nbconvert_exporter": "python",
   "pygments_lexer": "ipython3",
   "version": "3.11.5"
  }
 },
 "nbformat": 4,
 "nbformat_minor": 2
}
