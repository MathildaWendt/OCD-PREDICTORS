{
 "cells": [
  {
   "cell_type": "markdown",
   "metadata": {},
   "source": [
    "This is the Jupyter notebook for team F. We are using a comprehensive dataset of 1500 patients diagnosed with Obsessive Compulsive Disorder (OCD). This dataset is available on Kaggle.  \n",
    "  \n",
    "Reference:   \n",
    "Haque O, Alamgir Z. OCD Patient Dataset: Demographics and Clinical Data [Internet]. 2023 [cited 2024-09-08]. Available from: https://www.kaggle.com/datasets/ohinhaque/ocd-patient-dataset-demographics-and-clinical-data/data\n",
    "\n",
    "The dataset looks as follows:"
   ]
  },
  {
   "cell_type": "code",
   "execution_count": 1,
   "metadata": {},
   "outputs": [
    {
     "data": {
      "text/html": [
       "<div>\n",
       "<style scoped>\n",
       "    .dataframe tbody tr th:only-of-type {\n",
       "        vertical-align: middle;\n",
       "    }\n",
       "\n",
       "    .dataframe tbody tr th {\n",
       "        vertical-align: top;\n",
       "    }\n",
       "\n",
       "    .dataframe thead th {\n",
       "        text-align: right;\n",
       "    }\n",
       "</style>\n",
       "<table border=\"1\" class=\"dataframe\">\n",
       "  <thead>\n",
       "    <tr style=\"text-align: right;\">\n",
       "      <th></th>\n",
       "      <th>Patient ID</th>\n",
       "      <th>Age</th>\n",
       "      <th>Gender</th>\n",
       "      <th>Ethnicity</th>\n",
       "      <th>Marital Status</th>\n",
       "      <th>Education Level</th>\n",
       "      <th>OCD Diagnosis Date</th>\n",
       "      <th>Duration of Symptoms (months)</th>\n",
       "      <th>Previous Diagnoses</th>\n",
       "      <th>Family History of OCD</th>\n",
       "      <th>Obsession Type</th>\n",
       "      <th>Compulsion Type</th>\n",
       "      <th>Y-BOCS Score (Obsessions)</th>\n",
       "      <th>Y-BOCS Score (Compulsions)</th>\n",
       "      <th>Depression Diagnosis</th>\n",
       "      <th>Anxiety Diagnosis</th>\n",
       "      <th>Medications</th>\n",
       "    </tr>\n",
       "  </thead>\n",
       "  <tbody>\n",
       "    <tr>\n",
       "      <th>0</th>\n",
       "      <td>1018</td>\n",
       "      <td>32</td>\n",
       "      <td>Female</td>\n",
       "      <td>African</td>\n",
       "      <td>Single</td>\n",
       "      <td>Some College</td>\n",
       "      <td>2016-07-15</td>\n",
       "      <td>203</td>\n",
       "      <td>MDD</td>\n",
       "      <td>No</td>\n",
       "      <td>Harm-related</td>\n",
       "      <td>Checking</td>\n",
       "      <td>17</td>\n",
       "      <td>10</td>\n",
       "      <td>Yes</td>\n",
       "      <td>Yes</td>\n",
       "      <td>SNRI</td>\n",
       "    </tr>\n",
       "    <tr>\n",
       "      <th>1</th>\n",
       "      <td>2406</td>\n",
       "      <td>69</td>\n",
       "      <td>Male</td>\n",
       "      <td>African</td>\n",
       "      <td>Divorced</td>\n",
       "      <td>Some College</td>\n",
       "      <td>2017-04-28</td>\n",
       "      <td>180</td>\n",
       "      <td>NaN</td>\n",
       "      <td>Yes</td>\n",
       "      <td>Harm-related</td>\n",
       "      <td>Washing</td>\n",
       "      <td>21</td>\n",
       "      <td>25</td>\n",
       "      <td>Yes</td>\n",
       "      <td>Yes</td>\n",
       "      <td>SSRI</td>\n",
       "    </tr>\n",
       "    <tr>\n",
       "      <th>2</th>\n",
       "      <td>1188</td>\n",
       "      <td>57</td>\n",
       "      <td>Male</td>\n",
       "      <td>Hispanic</td>\n",
       "      <td>Divorced</td>\n",
       "      <td>College Degree</td>\n",
       "      <td>2018-02-02</td>\n",
       "      <td>173</td>\n",
       "      <td>MDD</td>\n",
       "      <td>No</td>\n",
       "      <td>Contamination</td>\n",
       "      <td>Checking</td>\n",
       "      <td>3</td>\n",
       "      <td>4</td>\n",
       "      <td>No</td>\n",
       "      <td>No</td>\n",
       "      <td>Benzodiazepine</td>\n",
       "    </tr>\n",
       "    <tr>\n",
       "      <th>3</th>\n",
       "      <td>6200</td>\n",
       "      <td>27</td>\n",
       "      <td>Female</td>\n",
       "      <td>Hispanic</td>\n",
       "      <td>Married</td>\n",
       "      <td>College Degree</td>\n",
       "      <td>2014-08-25</td>\n",
       "      <td>126</td>\n",
       "      <td>PTSD</td>\n",
       "      <td>Yes</td>\n",
       "      <td>Symmetry</td>\n",
       "      <td>Washing</td>\n",
       "      <td>14</td>\n",
       "      <td>28</td>\n",
       "      <td>Yes</td>\n",
       "      <td>Yes</td>\n",
       "      <td>SSRI</td>\n",
       "    </tr>\n",
       "    <tr>\n",
       "      <th>4</th>\n",
       "      <td>5824</td>\n",
       "      <td>56</td>\n",
       "      <td>Female</td>\n",
       "      <td>Hispanic</td>\n",
       "      <td>Married</td>\n",
       "      <td>High School</td>\n",
       "      <td>2022-02-20</td>\n",
       "      <td>168</td>\n",
       "      <td>PTSD</td>\n",
       "      <td>Yes</td>\n",
       "      <td>Hoarding</td>\n",
       "      <td>Ordering</td>\n",
       "      <td>39</td>\n",
       "      <td>18</td>\n",
       "      <td>No</td>\n",
       "      <td>No</td>\n",
       "      <td>NaN</td>\n",
       "    </tr>\n",
       "  </tbody>\n",
       "</table>\n",
       "</div>"
      ],
      "text/plain": [
       "   Patient ID  Age  Gender Ethnicity Marital Status Education Level  \\\n",
       "0        1018   32  Female   African         Single    Some College   \n",
       "1        2406   69    Male   African       Divorced    Some College   \n",
       "2        1188   57    Male  Hispanic       Divorced  College Degree   \n",
       "3        6200   27  Female  Hispanic        Married  College Degree   \n",
       "4        5824   56  Female  Hispanic        Married     High School   \n",
       "\n",
       "  OCD Diagnosis Date  Duration of Symptoms (months) Previous Diagnoses  \\\n",
       "0         2016-07-15                            203                MDD   \n",
       "1         2017-04-28                            180                NaN   \n",
       "2         2018-02-02                            173                MDD   \n",
       "3         2014-08-25                            126               PTSD   \n",
       "4         2022-02-20                            168               PTSD   \n",
       "\n",
       "  Family History of OCD Obsession Type Compulsion Type  \\\n",
       "0                    No   Harm-related        Checking   \n",
       "1                   Yes   Harm-related         Washing   \n",
       "2                    No  Contamination        Checking   \n",
       "3                   Yes       Symmetry         Washing   \n",
       "4                   Yes       Hoarding        Ordering   \n",
       "\n",
       "   Y-BOCS Score (Obsessions)  Y-BOCS Score (Compulsions) Depression Diagnosis  \\\n",
       "0                         17                          10                  Yes   \n",
       "1                         21                          25                  Yes   \n",
       "2                          3                           4                   No   \n",
       "3                         14                          28                  Yes   \n",
       "4                         39                          18                   No   \n",
       "\n",
       "  Anxiety Diagnosis     Medications  \n",
       "0               Yes            SNRI  \n",
       "1               Yes            SSRI  \n",
       "2                No  Benzodiazepine  \n",
       "3               Yes            SSRI  \n",
       "4                No             NaN  "
      ]
     },
     "execution_count": 1,
     "metadata": {},
     "output_type": "execute_result"
    }
   ],
   "source": [
    "# read dataset\n",
    "import pandas as pd\n",
    "df = pd.read_csv(\"ocd_patient_dataset.csv\")\n",
    "df.head()"
   ]
  },
  {
   "cell_type": "markdown",
   "metadata": {},
   "source": [
    "The dataset includes demographic information such as patient id age, gender, ethnicity, marital status and education level; along with clinical details like OCD diagnosis date, symptom duration, past history of psychiatric diagnosis, and family history of OCD. Moreover, symptom severity is assessed through the Yale-Brown Obsessive Compulsive Scale (Y-BOCS) for obsessive and compulsive symptom types. Furthermore, there is record of other mental health conditions such as anxiety and depression, and the medications prescribed to the patients.  \n",
    "  \n",
    "Reference:  \n",
    "Goodman WK, Lawrence HP, Rasmussen SA, Mazure C, Fleischmann RL, Hill CL, et al. The Yale-Brown Obsessive Compulsive Scale. Arch Gen Psychiatry. 1989;46:1006-11"
   ]
  },
  {
   "cell_type": "markdown",
   "metadata": {},
   "source": [
    "Over the next few sections, the following tasks have been carried out:  \n",
    "1. The variable datatypes have been checked  \n",
    "2. The variables that had \"yes\" or \"no answers were converted to Boolean  \n",
    "3. The missing values have been taken care of.  \n"
   ]
  },
  {
   "cell_type": "code",
   "execution_count": 2,
   "metadata": {},
   "outputs": [
    {
     "data": {
      "text/plain": [
       "Patient ID                        int64\n",
       "Age                               int64\n",
       "Gender                           object\n",
       "Ethnicity                        object\n",
       "Marital Status                   object\n",
       "Education Level                  object\n",
       "OCD Diagnosis Date               object\n",
       "Duration of Symptoms (months)     int64\n",
       "Previous Diagnoses               object\n",
       "Family History of OCD            object\n",
       "Obsession Type                   object\n",
       "Compulsion Type                  object\n",
       "Y-BOCS Score (Obsessions)         int64\n",
       "Y-BOCS Score (Compulsions)        int64\n",
       "Depression Diagnosis             object\n",
       "Anxiety Diagnosis                object\n",
       "Medications                      object\n",
       "dtype: object"
      ]
     },
     "execution_count": 2,
     "metadata": {},
     "output_type": "execute_result"
    }
   ],
   "source": [
    "# display variable datatypes\n",
    "df.dtypes"
   ]
  },
  {
   "cell_type": "code",
   "execution_count": 3,
   "metadata": {},
   "outputs": [
    {
     "data": {
      "text/plain": [
       "Patient ID                        int64\n",
       "Age                               int64\n",
       "Gender                           object\n",
       "Ethnicity                        object\n",
       "Marital Status                   object\n",
       "Education Level                  object\n",
       "OCD Diagnosis Date               object\n",
       "Duration of Symptoms (months)     int64\n",
       "Previous Diagnoses               object\n",
       "Family History of OCD              bool\n",
       "Obsession Type                   object\n",
       "Compulsion Type                  object\n",
       "Y-BOCS Score (Obsessions)         int64\n",
       "Y-BOCS Score (Compulsions)        int64\n",
       "Depression Diagnosis               bool\n",
       "Anxiety Diagnosis                  bool\n",
       "Medications                      object\n",
       "dtype: object"
      ]
     },
     "execution_count": 3,
     "metadata": {},
     "output_type": "execute_result"
    }
   ],
   "source": [
    "# convert to boolean\n",
    "df = pd.read_csv(\"ocd_patient_dataset.csv\", true_values =[\"Yes\"], false_values=[\"No\"])\n",
    "df.head()\n",
    "df.dtypes"
   ]
  },
  {
   "cell_type": "code",
   "execution_count": 4,
   "metadata": {},
   "outputs": [
    {
     "data": {
      "text/plain": [
       "Patient ID                         0\n",
       "Age                                0\n",
       "Gender                             0\n",
       "Ethnicity                          0\n",
       "Marital Status                     0\n",
       "Education Level                    0\n",
       "OCD Diagnosis Date                 0\n",
       "Duration of Symptoms (months)      0\n",
       "Previous Diagnoses               248\n",
       "Family History of OCD              0\n",
       "Obsession Type                     0\n",
       "Compulsion Type                    0\n",
       "Y-BOCS Score (Obsessions)          0\n",
       "Y-BOCS Score (Compulsions)         0\n",
       "Depression Diagnosis               0\n",
       "Anxiety Diagnosis                  0\n",
       "Medications                      386\n",
       "dtype: int64"
      ]
     },
     "execution_count": 4,
     "metadata": {},
     "output_type": "execute_result"
    }
   ],
   "source": [
    "# missing values\n",
    "df.isnull().sum()"
   ]
  },
  {
   "cell_type": "code",
   "execution_count": 5,
   "metadata": {},
   "outputs": [
    {
     "data": {
      "text/plain": [
       "Patient ID                       0\n",
       "Age                              0\n",
       "Gender                           0\n",
       "Ethnicity                        0\n",
       "Marital Status                   0\n",
       "Education Level                  0\n",
       "OCD Diagnosis Date               0\n",
       "Duration of Symptoms (months)    0\n",
       "Previous Diagnoses               0\n",
       "Family History of OCD            0\n",
       "Obsession Type                   0\n",
       "Compulsion Type                  0\n",
       "Y-BOCS Score (Obsessions)        0\n",
       "Y-BOCS Score (Compulsions)       0\n",
       "Depression Diagnosis             0\n",
       "Anxiety Diagnosis                0\n",
       "Medications                      0\n",
       "dtype: int64"
      ]
     },
     "execution_count": 5,
     "metadata": {},
     "output_type": "execute_result"
    }
   ],
   "source": [
    "# 'Previous Diagnoses' and 'Medications' have missing values, however we have assumed that it implies that the patient does not have a diagnosis or is not taking any medication respectively.\n",
    "# Therefore filling missing values with the word None\n",
    "df['Previous Diagnoses'] = df['Previous Diagnoses'].fillna('None')\n",
    "df['Medications'] = df['Medications'].fillna('None')\n",
    "df.isnull().sum()"
   ]
  },
  {
   "cell_type": "markdown",
   "metadata": {},
   "source": [
    "The Y-BOCS scale is a standardized clinical assessment tool designed to evaluate the severity and type of symptoms in individuals with OCD. There are 10 items: 5 for grading Obsession and 5 for grading compulsion and each can be scored from 0-4. Thus, scores for obsession and compulsion range from 0-20 each, and the total score ranges from 0-40. The dataset did not have the total score calculated which we have done below by adding the scores for Y-BOCS Score (Obsessions) and Y-BOCS Score (Compulsions)."
   ]
  },
  {
   "cell_type": "code",
   "execution_count": 6,
   "metadata": {},
   "outputs": [],
   "source": [
    "# calculate total score\n",
    "df['Total_Score'] = df['Y-BOCS Score (Obsessions)'] + df['Y-BOCS Score (Compulsions)']"
   ]
  },
  {
   "cell_type": "markdown",
   "metadata": {},
   "source": [
    "We realised that there were instances in our dataset that had total score above 40, and individual scores for Obsessions and Compulsions above 20 each, which is not acceptable based on the scoring system of the scale. Hence, we have eliminated those."
   ]
  },
  {
   "cell_type": "code",
   "execution_count": 7,
   "metadata": {},
   "outputs": [
    {
     "name": "stdout",
     "output_type": "stream",
     "text": [
      "Number of values above 40: 720\n",
      "Number of values above 20: 717\n",
      "Number of values above 20: 722\n"
     ]
    }
   ],
   "source": [
    "# count above 40 for Total_Score\n",
    "count_above_40 = (df['Total_Score'] > 40).sum()\n",
    "print(f'Number of values above 40: {count_above_40}')\n",
    "\n",
    "# count above 20 for Y-BOCS Score (Obsessions)\n",
    "count_above_20_O = (df['Y-BOCS Score (Obsessions)'] > 20).sum()\n",
    "print(f'Number of values above 20: {count_above_20_O}')\n",
    "\n",
    "# count above 20 for Y-BOCS Score (Compulsions)\n",
    "count_above_20_C = (df['Y-BOCS Score (Compulsions)'] > 20).sum()\n",
    "print(f'Number of values above 20: {count_above_20_C}')\n",
    "\n"
   ]
  },
  {
   "cell_type": "code",
   "execution_count": 8,
   "metadata": {},
   "outputs": [
    {
     "data": {
      "text/html": [
       "<div>\n",
       "<style scoped>\n",
       "    .dataframe tbody tr th:only-of-type {\n",
       "        vertical-align: middle;\n",
       "    }\n",
       "\n",
       "    .dataframe tbody tr th {\n",
       "        vertical-align: top;\n",
       "    }\n",
       "\n",
       "    .dataframe thead th {\n",
       "        text-align: right;\n",
       "    }\n",
       "</style>\n",
       "<table border=\"1\" class=\"dataframe\">\n",
       "  <thead>\n",
       "    <tr style=\"text-align: right;\">\n",
       "      <th></th>\n",
       "      <th>Patient ID</th>\n",
       "      <th>Age</th>\n",
       "      <th>Gender</th>\n",
       "      <th>Ethnicity</th>\n",
       "      <th>Marital Status</th>\n",
       "      <th>Education Level</th>\n",
       "      <th>OCD Diagnosis Date</th>\n",
       "      <th>Duration of Symptoms (months)</th>\n",
       "      <th>Previous Diagnoses</th>\n",
       "      <th>Family History of OCD</th>\n",
       "      <th>Obsession Type</th>\n",
       "      <th>Compulsion Type</th>\n",
       "      <th>Y-BOCS Score (Obsessions)</th>\n",
       "      <th>Y-BOCS Score (Compulsions)</th>\n",
       "      <th>Depression Diagnosis</th>\n",
       "      <th>Anxiety Diagnosis</th>\n",
       "      <th>Medications</th>\n",
       "      <th>Total_Score</th>\n",
       "    </tr>\n",
       "  </thead>\n",
       "  <tbody>\n",
       "    <tr>\n",
       "      <th>0</th>\n",
       "      <td>1018</td>\n",
       "      <td>32</td>\n",
       "      <td>Female</td>\n",
       "      <td>African</td>\n",
       "      <td>Single</td>\n",
       "      <td>Some College</td>\n",
       "      <td>2016-07-15</td>\n",
       "      <td>203</td>\n",
       "      <td>MDD</td>\n",
       "      <td>False</td>\n",
       "      <td>Harm-related</td>\n",
       "      <td>Checking</td>\n",
       "      <td>17</td>\n",
       "      <td>10</td>\n",
       "      <td>True</td>\n",
       "      <td>True</td>\n",
       "      <td>SNRI</td>\n",
       "      <td>27</td>\n",
       "    </tr>\n",
       "    <tr>\n",
       "      <th>2</th>\n",
       "      <td>1188</td>\n",
       "      <td>57</td>\n",
       "      <td>Male</td>\n",
       "      <td>Hispanic</td>\n",
       "      <td>Divorced</td>\n",
       "      <td>College Degree</td>\n",
       "      <td>2018-02-02</td>\n",
       "      <td>173</td>\n",
       "      <td>MDD</td>\n",
       "      <td>False</td>\n",
       "      <td>Contamination</td>\n",
       "      <td>Checking</td>\n",
       "      <td>3</td>\n",
       "      <td>4</td>\n",
       "      <td>False</td>\n",
       "      <td>False</td>\n",
       "      <td>Benzodiazepine</td>\n",
       "      <td>7</td>\n",
       "    </tr>\n",
       "    <tr>\n",
       "      <th>6</th>\n",
       "      <td>9861</td>\n",
       "      <td>38</td>\n",
       "      <td>Female</td>\n",
       "      <td>Hispanic</td>\n",
       "      <td>Single</td>\n",
       "      <td>College Degree</td>\n",
       "      <td>2017-03-13</td>\n",
       "      <td>110</td>\n",
       "      <td>MDD</td>\n",
       "      <td>False</td>\n",
       "      <td>Contamination</td>\n",
       "      <td>Praying</td>\n",
       "      <td>12</td>\n",
       "      <td>16</td>\n",
       "      <td>True</td>\n",
       "      <td>False</td>\n",
       "      <td>SNRI</td>\n",
       "      <td>28</td>\n",
       "    </tr>\n",
       "    <tr>\n",
       "      <th>11</th>\n",
       "      <td>7905</td>\n",
       "      <td>73</td>\n",
       "      <td>Female</td>\n",
       "      <td>Hispanic</td>\n",
       "      <td>Divorced</td>\n",
       "      <td>High School</td>\n",
       "      <td>2017-01-13</td>\n",
       "      <td>233</td>\n",
       "      <td>GAD</td>\n",
       "      <td>False</td>\n",
       "      <td>Religious</td>\n",
       "      <td>Counting</td>\n",
       "      <td>4</td>\n",
       "      <td>16</td>\n",
       "      <td>True</td>\n",
       "      <td>True</td>\n",
       "      <td>Benzodiazepine</td>\n",
       "      <td>20</td>\n",
       "    </tr>\n",
       "    <tr>\n",
       "      <th>19</th>\n",
       "      <td>2637</td>\n",
       "      <td>66</td>\n",
       "      <td>Female</td>\n",
       "      <td>Asian</td>\n",
       "      <td>Divorced</td>\n",
       "      <td>College Degree</td>\n",
       "      <td>2018-08-14</td>\n",
       "      <td>73</td>\n",
       "      <td>Panic Disorder</td>\n",
       "      <td>False</td>\n",
       "      <td>Harm-related</td>\n",
       "      <td>Washing</td>\n",
       "      <td>0</td>\n",
       "      <td>12</td>\n",
       "      <td>False</td>\n",
       "      <td>True</td>\n",
       "      <td>SNRI</td>\n",
       "      <td>12</td>\n",
       "    </tr>\n",
       "    <tr>\n",
       "      <th>...</th>\n",
       "      <td>...</td>\n",
       "      <td>...</td>\n",
       "      <td>...</td>\n",
       "      <td>...</td>\n",
       "      <td>...</td>\n",
       "      <td>...</td>\n",
       "      <td>...</td>\n",
       "      <td>...</td>\n",
       "      <td>...</td>\n",
       "      <td>...</td>\n",
       "      <td>...</td>\n",
       "      <td>...</td>\n",
       "      <td>...</td>\n",
       "      <td>...</td>\n",
       "      <td>...</td>\n",
       "      <td>...</td>\n",
       "      <td>...</td>\n",
       "      <td>...</td>\n",
       "    </tr>\n",
       "    <tr>\n",
       "      <th>1484</th>\n",
       "      <td>9561</td>\n",
       "      <td>24</td>\n",
       "      <td>Female</td>\n",
       "      <td>Asian</td>\n",
       "      <td>Married</td>\n",
       "      <td>Some College</td>\n",
       "      <td>2018-01-08</td>\n",
       "      <td>95</td>\n",
       "      <td>Panic Disorder</td>\n",
       "      <td>True</td>\n",
       "      <td>Contamination</td>\n",
       "      <td>Praying</td>\n",
       "      <td>15</td>\n",
       "      <td>9</td>\n",
       "      <td>False</td>\n",
       "      <td>True</td>\n",
       "      <td>None</td>\n",
       "      <td>24</td>\n",
       "    </tr>\n",
       "    <tr>\n",
       "      <th>1485</th>\n",
       "      <td>3419</td>\n",
       "      <td>62</td>\n",
       "      <td>Female</td>\n",
       "      <td>African</td>\n",
       "      <td>Single</td>\n",
       "      <td>College Degree</td>\n",
       "      <td>2020-12-11</td>\n",
       "      <td>162</td>\n",
       "      <td>Panic Disorder</td>\n",
       "      <td>False</td>\n",
       "      <td>Hoarding</td>\n",
       "      <td>Checking</td>\n",
       "      <td>20</td>\n",
       "      <td>15</td>\n",
       "      <td>False</td>\n",
       "      <td>True</td>\n",
       "      <td>SNRI</td>\n",
       "      <td>35</td>\n",
       "    </tr>\n",
       "    <tr>\n",
       "      <th>1493</th>\n",
       "      <td>1819</td>\n",
       "      <td>58</td>\n",
       "      <td>Female</td>\n",
       "      <td>Hispanic</td>\n",
       "      <td>Divorced</td>\n",
       "      <td>Some College</td>\n",
       "      <td>2016-07-07</td>\n",
       "      <td>22</td>\n",
       "      <td>None</td>\n",
       "      <td>True</td>\n",
       "      <td>Contamination</td>\n",
       "      <td>Praying</td>\n",
       "      <td>10</td>\n",
       "      <td>1</td>\n",
       "      <td>False</td>\n",
       "      <td>True</td>\n",
       "      <td>SNRI</td>\n",
       "      <td>11</td>\n",
       "    </tr>\n",
       "    <tr>\n",
       "      <th>1497</th>\n",
       "      <td>6089</td>\n",
       "      <td>40</td>\n",
       "      <td>Male</td>\n",
       "      <td>Asian</td>\n",
       "      <td>Married</td>\n",
       "      <td>Some College</td>\n",
       "      <td>2018-03-13</td>\n",
       "      <td>100</td>\n",
       "      <td>None</td>\n",
       "      <td>True</td>\n",
       "      <td>Contamination</td>\n",
       "      <td>Counting</td>\n",
       "      <td>2</td>\n",
       "      <td>15</td>\n",
       "      <td>True</td>\n",
       "      <td>True</td>\n",
       "      <td>Benzodiazepine</td>\n",
       "      <td>17</td>\n",
       "    </tr>\n",
       "    <tr>\n",
       "      <th>1498</th>\n",
       "      <td>3808</td>\n",
       "      <td>37</td>\n",
       "      <td>Female</td>\n",
       "      <td>Caucasian</td>\n",
       "      <td>Married</td>\n",
       "      <td>Some College</td>\n",
       "      <td>2018-04-14</td>\n",
       "      <td>210</td>\n",
       "      <td>GAD</td>\n",
       "      <td>True</td>\n",
       "      <td>Contamination</td>\n",
       "      <td>Washing</td>\n",
       "      <td>16</td>\n",
       "      <td>7</td>\n",
       "      <td>True</td>\n",
       "      <td>False</td>\n",
       "      <td>Benzodiazepine</td>\n",
       "      <td>23</td>\n",
       "    </tr>\n",
       "  </tbody>\n",
       "</table>\n",
       "<p>419 rows × 18 columns</p>\n",
       "</div>"
      ],
      "text/plain": [
       "      Patient ID  Age  Gender  Ethnicity Marital Status Education Level  \\\n",
       "0           1018   32  Female    African         Single    Some College   \n",
       "2           1188   57    Male   Hispanic       Divorced  College Degree   \n",
       "6           9861   38  Female   Hispanic         Single  College Degree   \n",
       "11          7905   73  Female   Hispanic       Divorced     High School   \n",
       "19          2637   66  Female      Asian       Divorced  College Degree   \n",
       "...          ...  ...     ...        ...            ...             ...   \n",
       "1484        9561   24  Female      Asian        Married    Some College   \n",
       "1485        3419   62  Female    African         Single  College Degree   \n",
       "1493        1819   58  Female   Hispanic       Divorced    Some College   \n",
       "1497        6089   40    Male      Asian        Married    Some College   \n",
       "1498        3808   37  Female  Caucasian        Married    Some College   \n",
       "\n",
       "     OCD Diagnosis Date  Duration of Symptoms (months) Previous Diagnoses  \\\n",
       "0            2016-07-15                            203                MDD   \n",
       "2            2018-02-02                            173                MDD   \n",
       "6            2017-03-13                            110                MDD   \n",
       "11           2017-01-13                            233                GAD   \n",
       "19           2018-08-14                             73     Panic Disorder   \n",
       "...                 ...                            ...                ...   \n",
       "1484         2018-01-08                             95     Panic Disorder   \n",
       "1485         2020-12-11                            162     Panic Disorder   \n",
       "1493         2016-07-07                             22               None   \n",
       "1497         2018-03-13                            100               None   \n",
       "1498         2018-04-14                            210                GAD   \n",
       "\n",
       "      Family History of OCD Obsession Type Compulsion Type  \\\n",
       "0                     False   Harm-related        Checking   \n",
       "2                     False  Contamination        Checking   \n",
       "6                     False  Contamination         Praying   \n",
       "11                    False      Religious        Counting   \n",
       "19                    False   Harm-related         Washing   \n",
       "...                     ...            ...             ...   \n",
       "1484                   True  Contamination         Praying   \n",
       "1485                  False       Hoarding        Checking   \n",
       "1493                   True  Contamination         Praying   \n",
       "1497                   True  Contamination        Counting   \n",
       "1498                   True  Contamination         Washing   \n",
       "\n",
       "      Y-BOCS Score (Obsessions)  Y-BOCS Score (Compulsions)  \\\n",
       "0                            17                          10   \n",
       "2                             3                           4   \n",
       "6                            12                          16   \n",
       "11                            4                          16   \n",
       "19                            0                          12   \n",
       "...                         ...                         ...   \n",
       "1484                         15                           9   \n",
       "1485                         20                          15   \n",
       "1493                         10                           1   \n",
       "1497                          2                          15   \n",
       "1498                         16                           7   \n",
       "\n",
       "      Depression Diagnosis  Anxiety Diagnosis     Medications  Total_Score  \n",
       "0                     True               True            SNRI           27  \n",
       "2                    False              False  Benzodiazepine            7  \n",
       "6                     True              False            SNRI           28  \n",
       "11                    True               True  Benzodiazepine           20  \n",
       "19                   False               True            SNRI           12  \n",
       "...                    ...                ...             ...          ...  \n",
       "1484                 False               True            None           24  \n",
       "1485                 False               True            SNRI           35  \n",
       "1493                 False               True            SNRI           11  \n",
       "1497                  True               True  Benzodiazepine           17  \n",
       "1498                  True              False  Benzodiazepine           23  \n",
       "\n",
       "[419 rows x 18 columns]"
      ]
     },
     "execution_count": 8,
     "metadata": {},
     "output_type": "execute_result"
    }
   ],
   "source": [
    "# creating a dataframe with valid scores\n",
    "filtered_df = df[\n",
    "    (df['Y-BOCS Score (Obsessions)'] <= 20) &\n",
    "    (df['Y-BOCS Score (Compulsions)'] <= 20) &\n",
    "    (df['Total_Score'] <= 40)\n",
    "]\n",
    "filtered_df"
   ]
  },
  {
   "cell_type": "markdown",
   "metadata": {},
   "source": [
    "Saving the filtered dataframe in a csv"
   ]
  },
  {
   "cell_type": "code",
   "execution_count": 9,
   "metadata": {},
   "outputs": [],
   "source": [
    "filtered_df.to_csv('filtered_df.csv', index=False)"
   ]
  },
  {
   "cell_type": "markdown",
   "metadata": {},
   "source": [
    "We were interested in predicting the severity of OCD given by \"Total_Score\", and based on a literature review found that age, duration of symptoms, family history of OCD, and diagnosis of Anxiety or Depression affect it. Gender being a basic demographic feature has been retained though research does not clearly indicate its influence on OCD. Obsession Type and Compulsion Type are a reflection of patient's symptoms which may affect severity of the disorder, and therefore have been retained.  \n",
    "\n",
    "References:  \n",
    "1. Mathes BM, Morabito DM, Schmidt NB. Epidemiological and Clinical Gender Differences in OCD. Curr Psychiatry Rep. 2019 Apr 23;21(5):36. doi: 10.1007/s11920-019-1015-2.\n",
    "2. Riddle DB, Guzick A, Minhajuddin A, Smárason O, Armstrong GM, Slater H, et al. Obsessive-compulsive disorder in youth and young adults with depression: Clinical characteristics of comorbid presentations. J Obsessive Compuls Relat Disord. 2023 Jul;38:100820. doi: 10.1016/j.jocrd.2023.100820. \n",
    "3. Zheng H, Zhang Z, Huang C, Luo G. Medical status of outpatients with obsessive-compulsive disorder in psychiatric department and its influencing factors. Zhong Nan Da Xue Xue Bao Yi Xue Ban. 2022 Oct 28;47(10):1418-1424. English, Chinese. doi: 10.11817/j.issn.1672-7347.2022.220125. \n",
    "4. Mahjani B, Bey K, Boberg J, Burton C. Genetics of obsessive-compulsive disorder. Psychol Med. 2021 Oct;51(13):2247-2259. doi: 10.1017/S0033291721001744. Epub 2021 May 25. PMID: 34030745; PMCID: PMC8477226.\n",
    "5. Mathes BM, Morabito DM, Schmidt NB. Epidemiological and Clinical Gender Differences in OCD. Curr Psychiatry Rep. 2019 Apr 23;21(5):36. doi: 10.1007/s11920-019-1015-2. PMID: 31016410."
   ]
  },
  {
   "cell_type": "markdown",
   "metadata": {},
   "source": [
    "With the goal of predicting OCD severity, it was necessary to label the Total_Score for classification task. We tried to  identify the distribution of scores across bins of 5 from 0-40 in order to define score categories."
   ]
  },
  {
   "cell_type": "code",
   "execution_count": 10,
   "metadata": {},
   "outputs": [
    {
     "name": "stdout",
     "output_type": "stream",
     "text": [
      "Score_Bins\n",
      "[0, 5)       11\n",
      "[5, 10)      50\n",
      "[10, 15)     61\n",
      "[15, 20)     70\n",
      "[20, 25)    102\n",
      "[25, 30)     61\n",
      "[30, 35)     35\n",
      "[35, 40)     28\n",
      "Name: count, dtype: int64\n"
     ]
    },
    {
     "name": "stderr",
     "output_type": "stream",
     "text": [
      "C:\\Users\\shwet\\AppData\\Local\\Temp\\ipykernel_35864\\4113541483.py:5: SettingWithCopyWarning: \n",
      "A value is trying to be set on a copy of a slice from a DataFrame.\n",
      "Try using .loc[row_indexer,col_indexer] = value instead\n",
      "\n",
      "See the caveats in the documentation: https://pandas.pydata.org/pandas-docs/stable/user_guide/indexing.html#returning-a-view-versus-a-copy\n",
      "  filtered_df['Score_Bins'] = pd.cut(df['Total_Score'], bins=bins, right=False)\n"
     ]
    }
   ],
   "source": [
    "# Define bin ranges (0 to 40 with bins of size 5)\n",
    "bins = range(0, 45, 5)  # This creates bins from 0-5, 6-10, ..., 36-40\n",
    "\n",
    "# Use pd.cut to categorize the Total_Score into bins\n",
    "filtered_df['Score_Bins'] = pd.cut(df['Total_Score'], bins=bins, right=False)\n",
    "\n",
    "# Calculate the count for each bin\n",
    "bin_counts = filtered_df['Score_Bins'].value_counts().sort_index()\n",
    "\n",
    "# Display the bin counts\n",
    "print(bin_counts)"
   ]
  },
  {
   "cell_type": "markdown",
   "metadata": {},
   "source": [
    "Based on the distribution above, we have decided to categorise Total_Score as follows:  \n",
    "0-20: Low\n",
    "21-40: High"
   ]
  },
  {
   "cell_type": "code",
   "execution_count": 11,
   "metadata": {},
   "outputs": [
    {
     "name": "stderr",
     "output_type": "stream",
     "text": [
      "C:\\Users\\shwet\\AppData\\Local\\Temp\\ipykernel_35864\\1325466603.py:2: SettingWithCopyWarning: \n",
      "A value is trying to be set on a copy of a slice from a DataFrame.\n",
      "Try using .loc[row_indexer,col_indexer] = value instead\n",
      "\n",
      "See the caveats in the documentation: https://pandas.pydata.org/pandas-docs/stable/user_guide/indexing.html#returning-a-view-versus-a-copy\n",
      "  filtered_df['Score_Category'] = pd.cut(filtered_df['Total_Score'],\n"
     ]
    },
    {
     "data": {
      "text/html": [
       "<div>\n",
       "<style scoped>\n",
       "    .dataframe tbody tr th:only-of-type {\n",
       "        vertical-align: middle;\n",
       "    }\n",
       "\n",
       "    .dataframe tbody tr th {\n",
       "        vertical-align: top;\n",
       "    }\n",
       "\n",
       "    .dataframe thead th {\n",
       "        text-align: right;\n",
       "    }\n",
       "</style>\n",
       "<table border=\"1\" class=\"dataframe\">\n",
       "  <thead>\n",
       "    <tr style=\"text-align: right;\">\n",
       "      <th></th>\n",
       "      <th>Age</th>\n",
       "      <th>Gender</th>\n",
       "      <th>Family History of OCD</th>\n",
       "      <th>Duration of Symptoms (months)</th>\n",
       "      <th>Obsession Type</th>\n",
       "      <th>Compulsion Type</th>\n",
       "      <th>Total_Score</th>\n",
       "      <th>Depression Diagnosis</th>\n",
       "      <th>Anxiety Diagnosis</th>\n",
       "      <th>Score_Category</th>\n",
       "    </tr>\n",
       "  </thead>\n",
       "  <tbody>\n",
       "    <tr>\n",
       "      <th>0</th>\n",
       "      <td>32</td>\n",
       "      <td>Female</td>\n",
       "      <td>False</td>\n",
       "      <td>203</td>\n",
       "      <td>Harm-related</td>\n",
       "      <td>Checking</td>\n",
       "      <td>27</td>\n",
       "      <td>True</td>\n",
       "      <td>True</td>\n",
       "      <td>High</td>\n",
       "    </tr>\n",
       "    <tr>\n",
       "      <th>2</th>\n",
       "      <td>57</td>\n",
       "      <td>Male</td>\n",
       "      <td>False</td>\n",
       "      <td>173</td>\n",
       "      <td>Contamination</td>\n",
       "      <td>Checking</td>\n",
       "      <td>7</td>\n",
       "      <td>False</td>\n",
       "      <td>False</td>\n",
       "      <td>Low</td>\n",
       "    </tr>\n",
       "    <tr>\n",
       "      <th>6</th>\n",
       "      <td>38</td>\n",
       "      <td>Female</td>\n",
       "      <td>False</td>\n",
       "      <td>110</td>\n",
       "      <td>Contamination</td>\n",
       "      <td>Praying</td>\n",
       "      <td>28</td>\n",
       "      <td>True</td>\n",
       "      <td>False</td>\n",
       "      <td>High</td>\n",
       "    </tr>\n",
       "    <tr>\n",
       "      <th>11</th>\n",
       "      <td>73</td>\n",
       "      <td>Female</td>\n",
       "      <td>False</td>\n",
       "      <td>233</td>\n",
       "      <td>Religious</td>\n",
       "      <td>Counting</td>\n",
       "      <td>20</td>\n",
       "      <td>True</td>\n",
       "      <td>True</td>\n",
       "      <td>Low</td>\n",
       "    </tr>\n",
       "    <tr>\n",
       "      <th>19</th>\n",
       "      <td>66</td>\n",
       "      <td>Female</td>\n",
       "      <td>False</td>\n",
       "      <td>73</td>\n",
       "      <td>Harm-related</td>\n",
       "      <td>Washing</td>\n",
       "      <td>12</td>\n",
       "      <td>False</td>\n",
       "      <td>True</td>\n",
       "      <td>Low</td>\n",
       "    </tr>\n",
       "  </tbody>\n",
       "</table>\n",
       "</div>"
      ],
      "text/plain": [
       "    Age  Gender  Family History of OCD  Duration of Symptoms (months)  \\\n",
       "0    32  Female                  False                            203   \n",
       "2    57    Male                  False                            173   \n",
       "6    38  Female                  False                            110   \n",
       "11   73  Female                  False                            233   \n",
       "19   66  Female                  False                             73   \n",
       "\n",
       "   Obsession Type Compulsion Type  Total_Score  Depression Diagnosis  \\\n",
       "0    Harm-related        Checking           27                  True   \n",
       "2   Contamination        Checking            7                 False   \n",
       "6   Contamination         Praying           28                  True   \n",
       "11      Religious        Counting           20                  True   \n",
       "19   Harm-related         Washing           12                 False   \n",
       "\n",
       "    Anxiety Diagnosis Score_Category  \n",
       "0                True           High  \n",
       "2               False            Low  \n",
       "6               False           High  \n",
       "11               True            Low  \n",
       "19               True            Low  "
      ]
     },
     "execution_count": 11,
     "metadata": {},
     "output_type": "execute_result"
    }
   ],
   "source": [
    "# Categorize Total_Score into 'Low' and 'High' based on the given range\n",
    "filtered_df['Score_Category'] = pd.cut(filtered_df['Total_Score'], \n",
    "                              bins=[0, 20, 40], \n",
    "                              labels=['Low', 'High'], \n",
    "                              include_lowest=True)\n",
    "\n",
    "#  View a concise dataframe based on the feature selection\n",
    "filtered_df = filtered_df[[\"Age\", \"Gender\", \"Family History of OCD\", \"Duration of Symptoms (months)\", \"Obsession Type\", \"Compulsion Type\", \"Total_Score\", \"Depression Diagnosis\", \"Anxiety Diagnosis\", \"Score_Category\"]]\n",
    "filtered_df.head()"
   ]
  },
  {
   "cell_type": "markdown",
   "metadata": {},
   "source": [
    "### Descriptive Analytics  \n",
    "In this section, we have tried to analyse if the literature review results hold true for our dataset."
   ]
  },
  {
   "cell_type": "code",
   "execution_count": 12,
   "metadata": {},
   "outputs": [],
   "source": [
    "import plotly.express as px\n",
    "import plotly.graph_objects as go"
   ]
  },
  {
   "cell_type": "markdown",
   "metadata": {},
   "source": [
    "We tried to evaluate if our data is equally distributed for age and gender which are important demographic features and Score_Category which will be the task."
   ]
  },
  {
   "cell_type": "code",
   "execution_count": 13,
   "metadata": {},
   "outputs": [
    {
     "name": "stderr",
     "output_type": "stream",
     "text": [
      "C:\\Users\\shwet\\AppData\\Local\\Temp\\ipykernel_35864\\2842059404.py:3: SettingWithCopyWarning: \n",
      "A value is trying to be set on a copy of a slice from a DataFrame.\n",
      "Try using .loc[row_indexer,col_indexer] = value instead\n",
      "\n",
      "See the caveats in the documentation: https://pandas.pydata.org/pandas-docs/stable/user_guide/indexing.html#returning-a-view-versus-a-copy\n",
      "  filtered_df['Age Group'] = pd.cut(filtered_df['Age'], bins=[0, 18, 30, 50, 70, 100],\n",
      "C:\\Users\\shwet\\AppData\\Local\\Temp\\ipykernel_35864\\2842059404.py:7: FutureWarning: The default of observed=False is deprecated and will be changed to True in a future version of pandas. Pass observed=False to retain current behavior or observed=True to adopt the future default and silence this warning.\n",
      "  gender_age_group = filtered_df.groupby(['Age Group', 'Gender']).size().unstack().fillna(0)\n"
     ]
    },
    {
     "data": {
      "application/vnd.plotly.v1+json": {
       "config": {
        "plotlyServerURL": "https://plot.ly"
       },
       "data": [
        {
         "marker": {
          "color": "blue"
         },
         "name": "Male",
         "type": "bar",
         "x": [
          "0-18",
          "19-30",
          "31-50",
          "51-70",
          "71+"
         ],
         "y": [
          4,
          35,
          78,
          57,
          21
         ]
        },
        {
         "marker": {
          "color": "pink"
         },
         "name": "Female",
         "type": "bar",
         "x": [
          "0-18",
          "19-30",
          "31-50",
          "51-70",
          "71+"
         ],
         "y": [
          2,
          47,
          70,
          80,
          25
         ]
        }
       ],
       "layout": {
        "barmode": "stack",
        "legend": {
         "title": {
          "text": "Gender"
         }
        },
        "template": {
         "data": {
          "bar": [
           {
            "error_x": {
             "color": "#2a3f5f"
            },
            "error_y": {
             "color": "#2a3f5f"
            },
            "marker": {
             "line": {
              "color": "#E5ECF6",
              "width": 0.5
             },
             "pattern": {
              "fillmode": "overlay",
              "size": 10,
              "solidity": 0.2
             }
            },
            "type": "bar"
           }
          ],
          "barpolar": [
           {
            "marker": {
             "line": {
              "color": "#E5ECF6",
              "width": 0.5
             },
             "pattern": {
              "fillmode": "overlay",
              "size": 10,
              "solidity": 0.2
             }
            },
            "type": "barpolar"
           }
          ],
          "carpet": [
           {
            "aaxis": {
             "endlinecolor": "#2a3f5f",
             "gridcolor": "white",
             "linecolor": "white",
             "minorgridcolor": "white",
             "startlinecolor": "#2a3f5f"
            },
            "baxis": {
             "endlinecolor": "#2a3f5f",
             "gridcolor": "white",
             "linecolor": "white",
             "minorgridcolor": "white",
             "startlinecolor": "#2a3f5f"
            },
            "type": "carpet"
           }
          ],
          "choropleth": [
           {
            "colorbar": {
             "outlinewidth": 0,
             "ticks": ""
            },
            "type": "choropleth"
           }
          ],
          "contour": [
           {
            "colorbar": {
             "outlinewidth": 0,
             "ticks": ""
            },
            "colorscale": [
             [
              0,
              "#0d0887"
             ],
             [
              0.1111111111111111,
              "#46039f"
             ],
             [
              0.2222222222222222,
              "#7201a8"
             ],
             [
              0.3333333333333333,
              "#9c179e"
             ],
             [
              0.4444444444444444,
              "#bd3786"
             ],
             [
              0.5555555555555556,
              "#d8576b"
             ],
             [
              0.6666666666666666,
              "#ed7953"
             ],
             [
              0.7777777777777778,
              "#fb9f3a"
             ],
             [
              0.8888888888888888,
              "#fdca26"
             ],
             [
              1,
              "#f0f921"
             ]
            ],
            "type": "contour"
           }
          ],
          "contourcarpet": [
           {
            "colorbar": {
             "outlinewidth": 0,
             "ticks": ""
            },
            "type": "contourcarpet"
           }
          ],
          "heatmap": [
           {
            "colorbar": {
             "outlinewidth": 0,
             "ticks": ""
            },
            "colorscale": [
             [
              0,
              "#0d0887"
             ],
             [
              0.1111111111111111,
              "#46039f"
             ],
             [
              0.2222222222222222,
              "#7201a8"
             ],
             [
              0.3333333333333333,
              "#9c179e"
             ],
             [
              0.4444444444444444,
              "#bd3786"
             ],
             [
              0.5555555555555556,
              "#d8576b"
             ],
             [
              0.6666666666666666,
              "#ed7953"
             ],
             [
              0.7777777777777778,
              "#fb9f3a"
             ],
             [
              0.8888888888888888,
              "#fdca26"
             ],
             [
              1,
              "#f0f921"
             ]
            ],
            "type": "heatmap"
           }
          ],
          "heatmapgl": [
           {
            "colorbar": {
             "outlinewidth": 0,
             "ticks": ""
            },
            "colorscale": [
             [
              0,
              "#0d0887"
             ],
             [
              0.1111111111111111,
              "#46039f"
             ],
             [
              0.2222222222222222,
              "#7201a8"
             ],
             [
              0.3333333333333333,
              "#9c179e"
             ],
             [
              0.4444444444444444,
              "#bd3786"
             ],
             [
              0.5555555555555556,
              "#d8576b"
             ],
             [
              0.6666666666666666,
              "#ed7953"
             ],
             [
              0.7777777777777778,
              "#fb9f3a"
             ],
             [
              0.8888888888888888,
              "#fdca26"
             ],
             [
              1,
              "#f0f921"
             ]
            ],
            "type": "heatmapgl"
           }
          ],
          "histogram": [
           {
            "marker": {
             "pattern": {
              "fillmode": "overlay",
              "size": 10,
              "solidity": 0.2
             }
            },
            "type": "histogram"
           }
          ],
          "histogram2d": [
           {
            "colorbar": {
             "outlinewidth": 0,
             "ticks": ""
            },
            "colorscale": [
             [
              0,
              "#0d0887"
             ],
             [
              0.1111111111111111,
              "#46039f"
             ],
             [
              0.2222222222222222,
              "#7201a8"
             ],
             [
              0.3333333333333333,
              "#9c179e"
             ],
             [
              0.4444444444444444,
              "#bd3786"
             ],
             [
              0.5555555555555556,
              "#d8576b"
             ],
             [
              0.6666666666666666,
              "#ed7953"
             ],
             [
              0.7777777777777778,
              "#fb9f3a"
             ],
             [
              0.8888888888888888,
              "#fdca26"
             ],
             [
              1,
              "#f0f921"
             ]
            ],
            "type": "histogram2d"
           }
          ],
          "histogram2dcontour": [
           {
            "colorbar": {
             "outlinewidth": 0,
             "ticks": ""
            },
            "colorscale": [
             [
              0,
              "#0d0887"
             ],
             [
              0.1111111111111111,
              "#46039f"
             ],
             [
              0.2222222222222222,
              "#7201a8"
             ],
             [
              0.3333333333333333,
              "#9c179e"
             ],
             [
              0.4444444444444444,
              "#bd3786"
             ],
             [
              0.5555555555555556,
              "#d8576b"
             ],
             [
              0.6666666666666666,
              "#ed7953"
             ],
             [
              0.7777777777777778,
              "#fb9f3a"
             ],
             [
              0.8888888888888888,
              "#fdca26"
             ],
             [
              1,
              "#f0f921"
             ]
            ],
            "type": "histogram2dcontour"
           }
          ],
          "mesh3d": [
           {
            "colorbar": {
             "outlinewidth": 0,
             "ticks": ""
            },
            "type": "mesh3d"
           }
          ],
          "parcoords": [
           {
            "line": {
             "colorbar": {
              "outlinewidth": 0,
              "ticks": ""
             }
            },
            "type": "parcoords"
           }
          ],
          "pie": [
           {
            "automargin": true,
            "type": "pie"
           }
          ],
          "scatter": [
           {
            "fillpattern": {
             "fillmode": "overlay",
             "size": 10,
             "solidity": 0.2
            },
            "type": "scatter"
           }
          ],
          "scatter3d": [
           {
            "line": {
             "colorbar": {
              "outlinewidth": 0,
              "ticks": ""
             }
            },
            "marker": {
             "colorbar": {
              "outlinewidth": 0,
              "ticks": ""
             }
            },
            "type": "scatter3d"
           }
          ],
          "scattercarpet": [
           {
            "marker": {
             "colorbar": {
              "outlinewidth": 0,
              "ticks": ""
             }
            },
            "type": "scattercarpet"
           }
          ],
          "scattergeo": [
           {
            "marker": {
             "colorbar": {
              "outlinewidth": 0,
              "ticks": ""
             }
            },
            "type": "scattergeo"
           }
          ],
          "scattergl": [
           {
            "marker": {
             "colorbar": {
              "outlinewidth": 0,
              "ticks": ""
             }
            },
            "type": "scattergl"
           }
          ],
          "scattermapbox": [
           {
            "marker": {
             "colorbar": {
              "outlinewidth": 0,
              "ticks": ""
             }
            },
            "type": "scattermapbox"
           }
          ],
          "scatterpolar": [
           {
            "marker": {
             "colorbar": {
              "outlinewidth": 0,
              "ticks": ""
             }
            },
            "type": "scatterpolar"
           }
          ],
          "scatterpolargl": [
           {
            "marker": {
             "colorbar": {
              "outlinewidth": 0,
              "ticks": ""
             }
            },
            "type": "scatterpolargl"
           }
          ],
          "scatterternary": [
           {
            "marker": {
             "colorbar": {
              "outlinewidth": 0,
              "ticks": ""
             }
            },
            "type": "scatterternary"
           }
          ],
          "surface": [
           {
            "colorbar": {
             "outlinewidth": 0,
             "ticks": ""
            },
            "colorscale": [
             [
              0,
              "#0d0887"
             ],
             [
              0.1111111111111111,
              "#46039f"
             ],
             [
              0.2222222222222222,
              "#7201a8"
             ],
             [
              0.3333333333333333,
              "#9c179e"
             ],
             [
              0.4444444444444444,
              "#bd3786"
             ],
             [
              0.5555555555555556,
              "#d8576b"
             ],
             [
              0.6666666666666666,
              "#ed7953"
             ],
             [
              0.7777777777777778,
              "#fb9f3a"
             ],
             [
              0.8888888888888888,
              "#fdca26"
             ],
             [
              1,
              "#f0f921"
             ]
            ],
            "type": "surface"
           }
          ],
          "table": [
           {
            "cells": {
             "fill": {
              "color": "#EBF0F8"
             },
             "line": {
              "color": "white"
             }
            },
            "header": {
             "fill": {
              "color": "#C8D4E3"
             },
             "line": {
              "color": "white"
             }
            },
            "type": "table"
           }
          ]
         },
         "layout": {
          "annotationdefaults": {
           "arrowcolor": "#2a3f5f",
           "arrowhead": 0,
           "arrowwidth": 1
          },
          "autotypenumbers": "strict",
          "coloraxis": {
           "colorbar": {
            "outlinewidth": 0,
            "ticks": ""
           }
          },
          "colorscale": {
           "diverging": [
            [
             0,
             "#8e0152"
            ],
            [
             0.1,
             "#c51b7d"
            ],
            [
             0.2,
             "#de77ae"
            ],
            [
             0.3,
             "#f1b6da"
            ],
            [
             0.4,
             "#fde0ef"
            ],
            [
             0.5,
             "#f7f7f7"
            ],
            [
             0.6,
             "#e6f5d0"
            ],
            [
             0.7,
             "#b8e186"
            ],
            [
             0.8,
             "#7fbc41"
            ],
            [
             0.9,
             "#4d9221"
            ],
            [
             1,
             "#276419"
            ]
           ],
           "sequential": [
            [
             0,
             "#0d0887"
            ],
            [
             0.1111111111111111,
             "#46039f"
            ],
            [
             0.2222222222222222,
             "#7201a8"
            ],
            [
             0.3333333333333333,
             "#9c179e"
            ],
            [
             0.4444444444444444,
             "#bd3786"
            ],
            [
             0.5555555555555556,
             "#d8576b"
            ],
            [
             0.6666666666666666,
             "#ed7953"
            ],
            [
             0.7777777777777778,
             "#fb9f3a"
            ],
            [
             0.8888888888888888,
             "#fdca26"
            ],
            [
             1,
             "#f0f921"
            ]
           ],
           "sequentialminus": [
            [
             0,
             "#0d0887"
            ],
            [
             0.1111111111111111,
             "#46039f"
            ],
            [
             0.2222222222222222,
             "#7201a8"
            ],
            [
             0.3333333333333333,
             "#9c179e"
            ],
            [
             0.4444444444444444,
             "#bd3786"
            ],
            [
             0.5555555555555556,
             "#d8576b"
            ],
            [
             0.6666666666666666,
             "#ed7953"
            ],
            [
             0.7777777777777778,
             "#fb9f3a"
            ],
            [
             0.8888888888888888,
             "#fdca26"
            ],
            [
             1,
             "#f0f921"
            ]
           ]
          },
          "colorway": [
           "#636efa",
           "#EF553B",
           "#00cc96",
           "#ab63fa",
           "#FFA15A",
           "#19d3f3",
           "#FF6692",
           "#B6E880",
           "#FF97FF",
           "#FECB52"
          ],
          "font": {
           "color": "#2a3f5f"
          },
          "geo": {
           "bgcolor": "white",
           "lakecolor": "white",
           "landcolor": "#E5ECF6",
           "showlakes": true,
           "showland": true,
           "subunitcolor": "white"
          },
          "hoverlabel": {
           "align": "left"
          },
          "hovermode": "closest",
          "mapbox": {
           "style": "light"
          },
          "paper_bgcolor": "white",
          "plot_bgcolor": "#E5ECF6",
          "polar": {
           "angularaxis": {
            "gridcolor": "white",
            "linecolor": "white",
            "ticks": ""
           },
           "bgcolor": "#E5ECF6",
           "radialaxis": {
            "gridcolor": "white",
            "linecolor": "white",
            "ticks": ""
           }
          },
          "scene": {
           "xaxis": {
            "backgroundcolor": "#E5ECF6",
            "gridcolor": "white",
            "gridwidth": 2,
            "linecolor": "white",
            "showbackground": true,
            "ticks": "",
            "zerolinecolor": "white"
           },
           "yaxis": {
            "backgroundcolor": "#E5ECF6",
            "gridcolor": "white",
            "gridwidth": 2,
            "linecolor": "white",
            "showbackground": true,
            "ticks": "",
            "zerolinecolor": "white"
           },
           "zaxis": {
            "backgroundcolor": "#E5ECF6",
            "gridcolor": "white",
            "gridwidth": 2,
            "linecolor": "white",
            "showbackground": true,
            "ticks": "",
            "zerolinecolor": "white"
           }
          },
          "shapedefaults": {
           "line": {
            "color": "#2a3f5f"
           }
          },
          "ternary": {
           "aaxis": {
            "gridcolor": "white",
            "linecolor": "white",
            "ticks": ""
           },
           "baxis": {
            "gridcolor": "white",
            "linecolor": "white",
            "ticks": ""
           },
           "bgcolor": "#E5ECF6",
           "caxis": {
            "gridcolor": "white",
            "linecolor": "white",
            "ticks": ""
           }
          },
          "title": {
           "x": 0.05
          },
          "xaxis": {
           "automargin": true,
           "gridcolor": "white",
           "linecolor": "white",
           "ticks": "",
           "title": {
            "standoff": 15
           },
           "zerolinecolor": "white",
           "zerolinewidth": 2
          },
          "yaxis": {
           "automargin": true,
           "gridcolor": "white",
           "linecolor": "white",
           "ticks": "",
           "title": {
            "standoff": 15
           },
           "zerolinecolor": "white",
           "zerolinewidth": 2
          }
         }
        },
        "title": {
         "text": "Number of People by Age Group and Gender"
        },
        "xaxis": {
         "tickangle": 0,
         "title": {
          "text": "Age Group"
         }
        },
        "yaxis": {
         "showgrid": true,
         "title": {
          "text": "Number of People"
         }
        }
       }
      }
     },
     "metadata": {},
     "output_type": "display_data"
    }
   ],
   "source": [
    "# Checking if the data is equally distributed for age and gender\n",
    "# Creating age groups (bins)\n",
    "filtered_df['Age Group'] = pd.cut(filtered_df['Age'], bins=[0, 18, 30, 50, 70, 100], \n",
    "                         labels=['0-18', '19-30', '31-50', '51-70', '71+'])\n",
    "\n",
    "# Count the number of males and females in each age group\n",
    "gender_age_group = filtered_df.groupby(['Age Group', 'Gender']).size().unstack().fillna(0)\n",
    "\n",
    "# Create a figure\n",
    "fig0 = go.Figure()\n",
    "\n",
    "# Add bar plot for males\n",
    "fig0.add_trace(\n",
    "    go.Bar(\n",
    "        x=gender_age_group.index,\n",
    "        y=gender_age_group['Male'],\n",
    "        name='Male',\n",
    "        marker_color='blue'\n",
    "    )\n",
    ")\n",
    "\n",
    "# Add bar plot for females\n",
    "fig0.add_trace(\n",
    "    go.Bar(\n",
    "        x=gender_age_group.index,\n",
    "        y=gender_age_group['Female'],\n",
    "        name='Female',\n",
    "        marker_color='pink'\n",
    "    )\n",
    ")\n",
    "\n",
    "# Update layout to create stacked bars\n",
    "fig0.update_layout(\n",
    "    barmode='stack',  # Stacked bar mode\n",
    "    title='Number of People by Age Group and Gender',\n",
    "    xaxis_title='Age Group',\n",
    "    yaxis_title='Number of People',\n",
    "    legend_title='Gender',\n",
    "    xaxis_tickangle=0,\n",
    "    yaxis=dict(showgrid=True)\n",
    ")\n",
    "\n",
    "# Show the plot\n",
    "fig0.show()"
   ]
  },
  {
   "cell_type": "code",
   "execution_count": 14,
   "metadata": {},
   "outputs": [
    {
     "data": {
      "application/vnd.plotly.v1+json": {
       "config": {
        "plotlyServerURL": "https://plot.ly"
       },
       "data": [
        {
         "alignmentgroup": "True",
         "hovertemplate": "Score Category=%{x}<br>Count of Instances=%{y}<br>text=%{text}<extra></extra>",
         "legendgroup": "",
         "marker": {
          "color": "#636efa",
          "pattern": {
           "shape": ""
          }
         },
         "name": "",
         "offsetgroup": "",
         "orientation": "v",
         "showlegend": false,
         "text": [
          218,
          201
         ],
         "textposition": "auto",
         "type": "bar",
         "x": [
          "Low",
          "High"
         ],
         "xaxis": "x",
         "y": [
          218,
          201
         ],
         "yaxis": "y"
        }
       ],
       "layout": {
        "barmode": "relative",
        "legend": {
         "tracegroupgap": 0
        },
        "showlegend": false,
        "template": {
         "data": {
          "bar": [
           {
            "error_x": {
             "color": "#2a3f5f"
            },
            "error_y": {
             "color": "#2a3f5f"
            },
            "marker": {
             "line": {
              "color": "#E5ECF6",
              "width": 0.5
             },
             "pattern": {
              "fillmode": "overlay",
              "size": 10,
              "solidity": 0.2
             }
            },
            "type": "bar"
           }
          ],
          "barpolar": [
           {
            "marker": {
             "line": {
              "color": "#E5ECF6",
              "width": 0.5
             },
             "pattern": {
              "fillmode": "overlay",
              "size": 10,
              "solidity": 0.2
             }
            },
            "type": "barpolar"
           }
          ],
          "carpet": [
           {
            "aaxis": {
             "endlinecolor": "#2a3f5f",
             "gridcolor": "white",
             "linecolor": "white",
             "minorgridcolor": "white",
             "startlinecolor": "#2a3f5f"
            },
            "baxis": {
             "endlinecolor": "#2a3f5f",
             "gridcolor": "white",
             "linecolor": "white",
             "minorgridcolor": "white",
             "startlinecolor": "#2a3f5f"
            },
            "type": "carpet"
           }
          ],
          "choropleth": [
           {
            "colorbar": {
             "outlinewidth": 0,
             "ticks": ""
            },
            "type": "choropleth"
           }
          ],
          "contour": [
           {
            "colorbar": {
             "outlinewidth": 0,
             "ticks": ""
            },
            "colorscale": [
             [
              0,
              "#0d0887"
             ],
             [
              0.1111111111111111,
              "#46039f"
             ],
             [
              0.2222222222222222,
              "#7201a8"
             ],
             [
              0.3333333333333333,
              "#9c179e"
             ],
             [
              0.4444444444444444,
              "#bd3786"
             ],
             [
              0.5555555555555556,
              "#d8576b"
             ],
             [
              0.6666666666666666,
              "#ed7953"
             ],
             [
              0.7777777777777778,
              "#fb9f3a"
             ],
             [
              0.8888888888888888,
              "#fdca26"
             ],
             [
              1,
              "#f0f921"
             ]
            ],
            "type": "contour"
           }
          ],
          "contourcarpet": [
           {
            "colorbar": {
             "outlinewidth": 0,
             "ticks": ""
            },
            "type": "contourcarpet"
           }
          ],
          "heatmap": [
           {
            "colorbar": {
             "outlinewidth": 0,
             "ticks": ""
            },
            "colorscale": [
             [
              0,
              "#0d0887"
             ],
             [
              0.1111111111111111,
              "#46039f"
             ],
             [
              0.2222222222222222,
              "#7201a8"
             ],
             [
              0.3333333333333333,
              "#9c179e"
             ],
             [
              0.4444444444444444,
              "#bd3786"
             ],
             [
              0.5555555555555556,
              "#d8576b"
             ],
             [
              0.6666666666666666,
              "#ed7953"
             ],
             [
              0.7777777777777778,
              "#fb9f3a"
             ],
             [
              0.8888888888888888,
              "#fdca26"
             ],
             [
              1,
              "#f0f921"
             ]
            ],
            "type": "heatmap"
           }
          ],
          "heatmapgl": [
           {
            "colorbar": {
             "outlinewidth": 0,
             "ticks": ""
            },
            "colorscale": [
             [
              0,
              "#0d0887"
             ],
             [
              0.1111111111111111,
              "#46039f"
             ],
             [
              0.2222222222222222,
              "#7201a8"
             ],
             [
              0.3333333333333333,
              "#9c179e"
             ],
             [
              0.4444444444444444,
              "#bd3786"
             ],
             [
              0.5555555555555556,
              "#d8576b"
             ],
             [
              0.6666666666666666,
              "#ed7953"
             ],
             [
              0.7777777777777778,
              "#fb9f3a"
             ],
             [
              0.8888888888888888,
              "#fdca26"
             ],
             [
              1,
              "#f0f921"
             ]
            ],
            "type": "heatmapgl"
           }
          ],
          "histogram": [
           {
            "marker": {
             "pattern": {
              "fillmode": "overlay",
              "size": 10,
              "solidity": 0.2
             }
            },
            "type": "histogram"
           }
          ],
          "histogram2d": [
           {
            "colorbar": {
             "outlinewidth": 0,
             "ticks": ""
            },
            "colorscale": [
             [
              0,
              "#0d0887"
             ],
             [
              0.1111111111111111,
              "#46039f"
             ],
             [
              0.2222222222222222,
              "#7201a8"
             ],
             [
              0.3333333333333333,
              "#9c179e"
             ],
             [
              0.4444444444444444,
              "#bd3786"
             ],
             [
              0.5555555555555556,
              "#d8576b"
             ],
             [
              0.6666666666666666,
              "#ed7953"
             ],
             [
              0.7777777777777778,
              "#fb9f3a"
             ],
             [
              0.8888888888888888,
              "#fdca26"
             ],
             [
              1,
              "#f0f921"
             ]
            ],
            "type": "histogram2d"
           }
          ],
          "histogram2dcontour": [
           {
            "colorbar": {
             "outlinewidth": 0,
             "ticks": ""
            },
            "colorscale": [
             [
              0,
              "#0d0887"
             ],
             [
              0.1111111111111111,
              "#46039f"
             ],
             [
              0.2222222222222222,
              "#7201a8"
             ],
             [
              0.3333333333333333,
              "#9c179e"
             ],
             [
              0.4444444444444444,
              "#bd3786"
             ],
             [
              0.5555555555555556,
              "#d8576b"
             ],
             [
              0.6666666666666666,
              "#ed7953"
             ],
             [
              0.7777777777777778,
              "#fb9f3a"
             ],
             [
              0.8888888888888888,
              "#fdca26"
             ],
             [
              1,
              "#f0f921"
             ]
            ],
            "type": "histogram2dcontour"
           }
          ],
          "mesh3d": [
           {
            "colorbar": {
             "outlinewidth": 0,
             "ticks": ""
            },
            "type": "mesh3d"
           }
          ],
          "parcoords": [
           {
            "line": {
             "colorbar": {
              "outlinewidth": 0,
              "ticks": ""
             }
            },
            "type": "parcoords"
           }
          ],
          "pie": [
           {
            "automargin": true,
            "type": "pie"
           }
          ],
          "scatter": [
           {
            "fillpattern": {
             "fillmode": "overlay",
             "size": 10,
             "solidity": 0.2
            },
            "type": "scatter"
           }
          ],
          "scatter3d": [
           {
            "line": {
             "colorbar": {
              "outlinewidth": 0,
              "ticks": ""
             }
            },
            "marker": {
             "colorbar": {
              "outlinewidth": 0,
              "ticks": ""
             }
            },
            "type": "scatter3d"
           }
          ],
          "scattercarpet": [
           {
            "marker": {
             "colorbar": {
              "outlinewidth": 0,
              "ticks": ""
             }
            },
            "type": "scattercarpet"
           }
          ],
          "scattergeo": [
           {
            "marker": {
             "colorbar": {
              "outlinewidth": 0,
              "ticks": ""
             }
            },
            "type": "scattergeo"
           }
          ],
          "scattergl": [
           {
            "marker": {
             "colorbar": {
              "outlinewidth": 0,
              "ticks": ""
             }
            },
            "type": "scattergl"
           }
          ],
          "scattermapbox": [
           {
            "marker": {
             "colorbar": {
              "outlinewidth": 0,
              "ticks": ""
             }
            },
            "type": "scattermapbox"
           }
          ],
          "scatterpolar": [
           {
            "marker": {
             "colorbar": {
              "outlinewidth": 0,
              "ticks": ""
             }
            },
            "type": "scatterpolar"
           }
          ],
          "scatterpolargl": [
           {
            "marker": {
             "colorbar": {
              "outlinewidth": 0,
              "ticks": ""
             }
            },
            "type": "scatterpolargl"
           }
          ],
          "scatterternary": [
           {
            "marker": {
             "colorbar": {
              "outlinewidth": 0,
              "ticks": ""
             }
            },
            "type": "scatterternary"
           }
          ],
          "surface": [
           {
            "colorbar": {
             "outlinewidth": 0,
             "ticks": ""
            },
            "colorscale": [
             [
              0,
              "#0d0887"
             ],
             [
              0.1111111111111111,
              "#46039f"
             ],
             [
              0.2222222222222222,
              "#7201a8"
             ],
             [
              0.3333333333333333,
              "#9c179e"
             ],
             [
              0.4444444444444444,
              "#bd3786"
             ],
             [
              0.5555555555555556,
              "#d8576b"
             ],
             [
              0.6666666666666666,
              "#ed7953"
             ],
             [
              0.7777777777777778,
              "#fb9f3a"
             ],
             [
              0.8888888888888888,
              "#fdca26"
             ],
             [
              1,
              "#f0f921"
             ]
            ],
            "type": "surface"
           }
          ],
          "table": [
           {
            "cells": {
             "fill": {
              "color": "#EBF0F8"
             },
             "line": {
              "color": "white"
             }
            },
            "header": {
             "fill": {
              "color": "#C8D4E3"
             },
             "line": {
              "color": "white"
             }
            },
            "type": "table"
           }
          ]
         },
         "layout": {
          "annotationdefaults": {
           "arrowcolor": "#2a3f5f",
           "arrowhead": 0,
           "arrowwidth": 1
          },
          "autotypenumbers": "strict",
          "coloraxis": {
           "colorbar": {
            "outlinewidth": 0,
            "ticks": ""
           }
          },
          "colorscale": {
           "diverging": [
            [
             0,
             "#8e0152"
            ],
            [
             0.1,
             "#c51b7d"
            ],
            [
             0.2,
             "#de77ae"
            ],
            [
             0.3,
             "#f1b6da"
            ],
            [
             0.4,
             "#fde0ef"
            ],
            [
             0.5,
             "#f7f7f7"
            ],
            [
             0.6,
             "#e6f5d0"
            ],
            [
             0.7,
             "#b8e186"
            ],
            [
             0.8,
             "#7fbc41"
            ],
            [
             0.9,
             "#4d9221"
            ],
            [
             1,
             "#276419"
            ]
           ],
           "sequential": [
            [
             0,
             "#0d0887"
            ],
            [
             0.1111111111111111,
             "#46039f"
            ],
            [
             0.2222222222222222,
             "#7201a8"
            ],
            [
             0.3333333333333333,
             "#9c179e"
            ],
            [
             0.4444444444444444,
             "#bd3786"
            ],
            [
             0.5555555555555556,
             "#d8576b"
            ],
            [
             0.6666666666666666,
             "#ed7953"
            ],
            [
             0.7777777777777778,
             "#fb9f3a"
            ],
            [
             0.8888888888888888,
             "#fdca26"
            ],
            [
             1,
             "#f0f921"
            ]
           ],
           "sequentialminus": [
            [
             0,
             "#0d0887"
            ],
            [
             0.1111111111111111,
             "#46039f"
            ],
            [
             0.2222222222222222,
             "#7201a8"
            ],
            [
             0.3333333333333333,
             "#9c179e"
            ],
            [
             0.4444444444444444,
             "#bd3786"
            ],
            [
             0.5555555555555556,
             "#d8576b"
            ],
            [
             0.6666666666666666,
             "#ed7953"
            ],
            [
             0.7777777777777778,
             "#fb9f3a"
            ],
            [
             0.8888888888888888,
             "#fdca26"
            ],
            [
             1,
             "#f0f921"
            ]
           ]
          },
          "colorway": [
           "#636efa",
           "#EF553B",
           "#00cc96",
           "#ab63fa",
           "#FFA15A",
           "#19d3f3",
           "#FF6692",
           "#B6E880",
           "#FF97FF",
           "#FECB52"
          ],
          "font": {
           "color": "#2a3f5f"
          },
          "geo": {
           "bgcolor": "white",
           "lakecolor": "white",
           "landcolor": "#E5ECF6",
           "showlakes": true,
           "showland": true,
           "subunitcolor": "white"
          },
          "hoverlabel": {
           "align": "left"
          },
          "hovermode": "closest",
          "mapbox": {
           "style": "light"
          },
          "paper_bgcolor": "white",
          "plot_bgcolor": "#E5ECF6",
          "polar": {
           "angularaxis": {
            "gridcolor": "white",
            "linecolor": "white",
            "ticks": ""
           },
           "bgcolor": "#E5ECF6",
           "radialaxis": {
            "gridcolor": "white",
            "linecolor": "white",
            "ticks": ""
           }
          },
          "scene": {
           "xaxis": {
            "backgroundcolor": "#E5ECF6",
            "gridcolor": "white",
            "gridwidth": 2,
            "linecolor": "white",
            "showbackground": true,
            "ticks": "",
            "zerolinecolor": "white"
           },
           "yaxis": {
            "backgroundcolor": "#E5ECF6",
            "gridcolor": "white",
            "gridwidth": 2,
            "linecolor": "white",
            "showbackground": true,
            "ticks": "",
            "zerolinecolor": "white"
           },
           "zaxis": {
            "backgroundcolor": "#E5ECF6",
            "gridcolor": "white",
            "gridwidth": 2,
            "linecolor": "white",
            "showbackground": true,
            "ticks": "",
            "zerolinecolor": "white"
           }
          },
          "shapedefaults": {
           "line": {
            "color": "#2a3f5f"
           }
          },
          "ternary": {
           "aaxis": {
            "gridcolor": "white",
            "linecolor": "white",
            "ticks": ""
           },
           "baxis": {
            "gridcolor": "white",
            "linecolor": "white",
            "ticks": ""
           },
           "bgcolor": "#E5ECF6",
           "caxis": {
            "gridcolor": "white",
            "linecolor": "white",
            "ticks": ""
           }
          },
          "title": {
           "x": 0.05
          },
          "xaxis": {
           "automargin": true,
           "gridcolor": "white",
           "linecolor": "white",
           "ticks": "",
           "title": {
            "standoff": 15
           },
           "zerolinecolor": "white",
           "zerolinewidth": 2
          },
          "yaxis": {
           "automargin": true,
           "gridcolor": "white",
           "linecolor": "white",
           "ticks": "",
           "title": {
            "standoff": 15
           },
           "zerolinecolor": "white",
           "zerolinewidth": 2
          }
         }
        },
        "title": {
         "text": "Count of Instances in Low and High Score Categories"
        },
        "xaxis": {
         "anchor": "y",
         "domain": [
          0,
          1
         ],
         "title": {
          "text": "Score Category"
         }
        },
        "yaxis": {
         "anchor": "x",
         "domain": [
          0,
          1
         ],
         "title": {
          "text": "Number of Instances"
         }
        }
       }
      }
     },
     "metadata": {},
     "output_type": "display_data"
    }
   ],
   "source": [
    "# Count the instances for each Score_Category\n",
    "score_category_counts = filtered_df['Score_Category'].value_counts()\n",
    "\n",
    "# Create a bar plot using Plotly to visualize the counts of 'Low' and 'High'\n",
    "fig00 = px.bar(x=score_category_counts.index, \n",
    "             y=score_category_counts.values, \n",
    "             labels={'x': 'Score Category', 'y': 'Count of Instances'}, \n",
    "             title='Count of Instances in Low and High Score Categories',\n",
    "             text=score_category_counts.values)  # Display counts on bars\n",
    "\n",
    "# Customize the layout\n",
    "fig00.update_layout(xaxis_title='Score Category', \n",
    "                  yaxis_title='Number of Instances',\n",
    "                  showlegend=False)\n",
    "\n",
    "# Show the figure\n",
    "fig00.show()"
   ]
  },
  {
   "cell_type": "markdown",
   "metadata": {},
   "source": [
    "1. What is the distribution of OCD severity (Total_Score) across different age groups?  \n",
    "This question helps to determine if certain age groups tend to experience more severe OCD symptoms. It might reveal whether younger or older people are more affected.  \n",
    "The age has been split into age groups and we have tried to evaluate how our dataset is represented across the various age bins."
   ]
  },
  {
   "cell_type": "code",
   "execution_count": 15,
   "metadata": {},
   "outputs": [
    {
     "data": {
      "application/vnd.plotly.v1+json": {
       "config": {
        "plotlyServerURL": "https://plot.ly"
       },
       "data": [
        {
         "alignmentgroup": "True",
         "hovertemplate": "Age Group=%{x}<br>OCD Severity (Y-BOCS Total Score)=%{y}<extra></extra>",
         "legendgroup": "",
         "marker": {
          "color": "#636efa"
         },
         "name": "",
         "notched": false,
         "offsetgroup": "",
         "orientation": "v",
         "showlegend": false,
         "type": "box",
         "x": [
          "31-50",
          "51-70",
          "31-50",
          "71+",
          "51-70",
          "31-50",
          "71+",
          "51-70",
          "19-30",
          "51-70",
          "19-30",
          "51-70",
          "31-50",
          "19-30",
          "19-30",
          "51-70",
          "31-50",
          "19-30",
          "51-70",
          "51-70",
          "31-50",
          "31-50",
          "71+",
          "19-30",
          "19-30",
          "51-70",
          "19-30",
          "51-70",
          "19-30",
          "71+",
          "19-30",
          "31-50",
          "31-50",
          "51-70",
          "31-50",
          "0-18",
          "19-30",
          "51-70",
          "31-50",
          "51-70",
          "71+",
          "19-30",
          "51-70",
          "51-70",
          "31-50",
          "31-50",
          "51-70",
          "31-50",
          "31-50",
          "31-50",
          "31-50",
          "51-70",
          "19-30",
          "51-70",
          "71+",
          "71+",
          "51-70",
          "51-70",
          "51-70",
          "31-50",
          "51-70",
          "31-50",
          "31-50",
          "19-30",
          "31-50",
          "51-70",
          "31-50",
          "71+",
          "51-70",
          "19-30",
          "31-50",
          "31-50",
          "31-50",
          "51-70",
          "31-50",
          "31-50",
          "19-30",
          "71+",
          "51-70",
          "31-50",
          "19-30",
          "19-30",
          "31-50",
          "31-50",
          "51-70",
          "51-70",
          "31-50",
          "71+",
          "31-50",
          "31-50",
          "51-70",
          "71+",
          "51-70",
          "71+",
          "51-70",
          "51-70",
          "31-50",
          "31-50",
          "51-70",
          "31-50",
          "31-50",
          "31-50",
          "51-70",
          "19-30",
          "51-70",
          "31-50",
          "51-70",
          "51-70",
          "19-30",
          "31-50",
          "31-50",
          "51-70",
          "71+",
          "51-70",
          "51-70",
          "19-30",
          "31-50",
          "51-70",
          "51-70",
          "19-30",
          "31-50",
          "19-30",
          "51-70",
          "31-50",
          "31-50",
          "19-30",
          "51-70",
          "71+",
          "31-50",
          "51-70",
          "51-70",
          "71+",
          "19-30",
          "31-50",
          "51-70",
          "31-50",
          "71+",
          "31-50",
          "51-70",
          "19-30",
          "71+",
          "51-70",
          "31-50",
          "19-30",
          "31-50",
          "51-70",
          "31-50",
          "31-50",
          "31-50",
          "19-30",
          "51-70",
          "71+",
          "19-30",
          "71+",
          "31-50",
          "51-70",
          "51-70",
          "51-70",
          "51-70",
          "31-50",
          "31-50",
          "51-70",
          "19-30",
          "19-30",
          "31-50",
          "51-70",
          "19-30",
          "51-70",
          "19-30",
          "31-50",
          "31-50",
          "0-18",
          "19-30",
          "51-70",
          "19-30",
          "31-50",
          "31-50",
          "31-50",
          "31-50",
          "19-30",
          "71+",
          "0-18",
          "19-30",
          "19-30",
          "51-70",
          "31-50",
          "19-30",
          "51-70",
          "71+",
          "71+",
          "31-50",
          "51-70",
          "31-50",
          "31-50",
          "31-50",
          "31-50",
          "31-50",
          "51-70",
          "31-50",
          "51-70",
          "31-50",
          "71+",
          "31-50",
          "19-30",
          "31-50",
          "19-30",
          "19-30",
          "19-30",
          "19-30",
          "31-50",
          "51-70",
          "71+",
          "71+",
          "31-50",
          "31-50",
          "51-70",
          "51-70",
          "51-70",
          "51-70",
          "19-30",
          "31-50",
          "31-50",
          "51-70",
          "71+",
          "51-70",
          "31-50",
          "19-30",
          "51-70",
          "71+",
          "31-50",
          "51-70",
          "51-70",
          "51-70",
          "71+",
          "19-30",
          "31-50",
          "51-70",
          "51-70",
          "51-70",
          "51-70",
          "31-50",
          "19-30",
          "31-50",
          "71+",
          "51-70",
          "71+",
          "51-70",
          "19-30",
          "19-30",
          "19-30",
          "51-70",
          "51-70",
          "31-50",
          "31-50",
          "31-50",
          "71+",
          "19-30",
          "31-50",
          "51-70",
          "71+",
          "31-50",
          "71+",
          "71+",
          "19-30",
          "31-50",
          "19-30",
          "19-30",
          "31-50",
          "31-50",
          "51-70",
          "19-30",
          "51-70",
          "51-70",
          "51-70",
          "31-50",
          "51-70",
          "51-70",
          "51-70",
          "31-50",
          "19-30",
          "51-70",
          "19-30",
          "31-50",
          "31-50",
          "51-70",
          "71+",
          "71+",
          "19-30",
          "31-50",
          "51-70",
          "19-30",
          "31-50",
          "51-70",
          "31-50",
          "31-50",
          "51-70",
          "31-50",
          "31-50",
          "19-30",
          "51-70",
          "31-50",
          "19-30",
          "31-50",
          "19-30",
          "51-70",
          "19-30",
          "31-50",
          "31-50",
          "51-70",
          "51-70",
          "51-70",
          "31-50",
          "31-50",
          "19-30",
          "51-70",
          "71+",
          "31-50",
          "71+",
          "31-50",
          "31-50",
          "31-50",
          "31-50",
          "31-50",
          "19-30",
          "31-50",
          "0-18",
          "51-70",
          "51-70",
          "51-70",
          "31-50",
          "31-50",
          "31-50",
          "31-50",
          "31-50",
          "51-70",
          "19-30",
          "19-30",
          "51-70",
          "71+",
          "19-30",
          "51-70",
          "31-50",
          "51-70",
          "19-30",
          "51-70",
          "31-50",
          "31-50",
          "51-70",
          "19-30",
          "71+",
          "31-50",
          "71+",
          "31-50",
          "51-70",
          "51-70",
          "31-50",
          "31-50",
          "19-30",
          "31-50",
          "51-70",
          "31-50",
          "51-70",
          "51-70",
          "31-50",
          "31-50",
          "71+",
          "31-50",
          "51-70",
          "51-70",
          "31-50",
          "31-50",
          "31-50",
          "51-70",
          "31-50",
          "51-70",
          "31-50",
          "51-70",
          "0-18",
          "31-50",
          "51-70",
          "31-50",
          "51-70",
          "19-30",
          "71+",
          "51-70",
          "71+",
          "19-30",
          "19-30",
          "19-30",
          "31-50",
          "31-50",
          "51-70",
          "51-70",
          "71+",
          "51-70",
          "19-30",
          "51-70",
          "51-70",
          "0-18",
          "51-70",
          "31-50",
          "19-30",
          "51-70",
          "31-50",
          "51-70",
          "31-50",
          "51-70",
          "31-50",
          "51-70",
          "51-70",
          "71+",
          "19-30",
          "19-30",
          "19-30",
          "19-30",
          "51-70",
          "51-70",
          "31-50",
          "31-50"
         ],
         "x0": " ",
         "xaxis": "x",
         "y": [
          27,
          7,
          28,
          20,
          12,
          18,
          12,
          18,
          40,
          7,
          26,
          28,
          20,
          23,
          38,
          22,
          21,
          25,
          34,
          14,
          28,
          25,
          8,
          18,
          3,
          16,
          5,
          24,
          28,
          22,
          5,
          26,
          19,
          15,
          22,
          2,
          9,
          35,
          6,
          24,
          20,
          27,
          30,
          29,
          30,
          17,
          37,
          8,
          24,
          23,
          17,
          23,
          5,
          13,
          36,
          24,
          13,
          16,
          18,
          13,
          19,
          18,
          9,
          21,
          21,
          23,
          7,
          20,
          36,
          19,
          21,
          12,
          16,
          20,
          28,
          33,
          20,
          9,
          15,
          20,
          8,
          4,
          1,
          16,
          26,
          13,
          22,
          23,
          25,
          6,
          7,
          21,
          28,
          20,
          21,
          24,
          13,
          18,
          22,
          17,
          20,
          25,
          26,
          4,
          20,
          36,
          5,
          27,
          16,
          20,
          18,
          5,
          22,
          22,
          31,
          13,
          12,
          14,
          2,
          13,
          31,
          34,
          25,
          16,
          34,
          26,
          20,
          23,
          32,
          16,
          5,
          14,
          35,
          30,
          11,
          11,
          12,
          14,
          30,
          16,
          29,
          6,
          26,
          7,
          17,
          15,
          23,
          20,
          38,
          20,
          20,
          24,
          22,
          27,
          12,
          27,
          10,
          9,
          16,
          18,
          29,
          23,
          32,
          20,
          13,
          39,
          24,
          36,
          7,
          27,
          18,
          27,
          38,
          22,
          22,
          34,
          15,
          21,
          32,
          17,
          29,
          11,
          9,
          33,
          9,
          32,
          10,
          18,
          14,
          24,
          21,
          15,
          10,
          19,
          22,
          24,
          24,
          21,
          20,
          35,
          18,
          12,
          7,
          6,
          18,
          20,
          16,
          18,
          23,
          27,
          20,
          26,
          30,
          8,
          24,
          24,
          14,
          22,
          12,
          8,
          11,
          10,
          25,
          32,
          30,
          11,
          17,
          18,
          37,
          19,
          23,
          29,
          12,
          8,
          19,
          29,
          7,
          4,
          24,
          6,
          18,
          12,
          7,
          17,
          35,
          14,
          25,
          7,
          25,
          26,
          22,
          11,
          9,
          28,
          20,
          8,
          30,
          23,
          18,
          22,
          18,
          12,
          25,
          22,
          20,
          13,
          16,
          10,
          5,
          21,
          9,
          36,
          39,
          35,
          8,
          22,
          8,
          20,
          15,
          2,
          20,
          4,
          18,
          24,
          26,
          16,
          10,
          9,
          18,
          29,
          21,
          28,
          25,
          37,
          30,
          29,
          14,
          17,
          16,
          23,
          12,
          28,
          22,
          37,
          19,
          31,
          15,
          27,
          14,
          33,
          38,
          3,
          27,
          28,
          16,
          30,
          39,
          12,
          22,
          31,
          23,
          14,
          19,
          19,
          24,
          29,
          39,
          28,
          25,
          34,
          17,
          37,
          14,
          24,
          5,
          21,
          13,
          16,
          21,
          23,
          29,
          33,
          33,
          11,
          13,
          38,
          15,
          16,
          29,
          25,
          18,
          5,
          11,
          23,
          7,
          8,
          31,
          27,
          11,
          17,
          17,
          12,
          13,
          28,
          10,
          14,
          20,
          24,
          20,
          5,
          16,
          6,
          13,
          19,
          24,
          23,
          9,
          22,
          35,
          8,
          5,
          16,
          29,
          34,
          17,
          14,
          9,
          24,
          12,
          22,
          24,
          25,
          21,
          22,
          24,
          31,
          25,
          20,
          11,
          33,
          11,
          27,
          34,
          38,
          22,
          28,
          2,
          30,
          35,
          15,
          30,
          25,
          13,
          21,
          24,
          35,
          11,
          17,
          23
         ],
         "y0": " ",
         "yaxis": "y"
        }
       ],
       "layout": {
        "boxmode": "group",
        "legend": {
         "tracegroupgap": 0
        },
        "template": {
         "data": {
          "bar": [
           {
            "error_x": {
             "color": "#2a3f5f"
            },
            "error_y": {
             "color": "#2a3f5f"
            },
            "marker": {
             "line": {
              "color": "#E5ECF6",
              "width": 0.5
             },
             "pattern": {
              "fillmode": "overlay",
              "size": 10,
              "solidity": 0.2
             }
            },
            "type": "bar"
           }
          ],
          "barpolar": [
           {
            "marker": {
             "line": {
              "color": "#E5ECF6",
              "width": 0.5
             },
             "pattern": {
              "fillmode": "overlay",
              "size": 10,
              "solidity": 0.2
             }
            },
            "type": "barpolar"
           }
          ],
          "carpet": [
           {
            "aaxis": {
             "endlinecolor": "#2a3f5f",
             "gridcolor": "white",
             "linecolor": "white",
             "minorgridcolor": "white",
             "startlinecolor": "#2a3f5f"
            },
            "baxis": {
             "endlinecolor": "#2a3f5f",
             "gridcolor": "white",
             "linecolor": "white",
             "minorgridcolor": "white",
             "startlinecolor": "#2a3f5f"
            },
            "type": "carpet"
           }
          ],
          "choropleth": [
           {
            "colorbar": {
             "outlinewidth": 0,
             "ticks": ""
            },
            "type": "choropleth"
           }
          ],
          "contour": [
           {
            "colorbar": {
             "outlinewidth": 0,
             "ticks": ""
            },
            "colorscale": [
             [
              0,
              "#0d0887"
             ],
             [
              0.1111111111111111,
              "#46039f"
             ],
             [
              0.2222222222222222,
              "#7201a8"
             ],
             [
              0.3333333333333333,
              "#9c179e"
             ],
             [
              0.4444444444444444,
              "#bd3786"
             ],
             [
              0.5555555555555556,
              "#d8576b"
             ],
             [
              0.6666666666666666,
              "#ed7953"
             ],
             [
              0.7777777777777778,
              "#fb9f3a"
             ],
             [
              0.8888888888888888,
              "#fdca26"
             ],
             [
              1,
              "#f0f921"
             ]
            ],
            "type": "contour"
           }
          ],
          "contourcarpet": [
           {
            "colorbar": {
             "outlinewidth": 0,
             "ticks": ""
            },
            "type": "contourcarpet"
           }
          ],
          "heatmap": [
           {
            "colorbar": {
             "outlinewidth": 0,
             "ticks": ""
            },
            "colorscale": [
             [
              0,
              "#0d0887"
             ],
             [
              0.1111111111111111,
              "#46039f"
             ],
             [
              0.2222222222222222,
              "#7201a8"
             ],
             [
              0.3333333333333333,
              "#9c179e"
             ],
             [
              0.4444444444444444,
              "#bd3786"
             ],
             [
              0.5555555555555556,
              "#d8576b"
             ],
             [
              0.6666666666666666,
              "#ed7953"
             ],
             [
              0.7777777777777778,
              "#fb9f3a"
             ],
             [
              0.8888888888888888,
              "#fdca26"
             ],
             [
              1,
              "#f0f921"
             ]
            ],
            "type": "heatmap"
           }
          ],
          "heatmapgl": [
           {
            "colorbar": {
             "outlinewidth": 0,
             "ticks": ""
            },
            "colorscale": [
             [
              0,
              "#0d0887"
             ],
             [
              0.1111111111111111,
              "#46039f"
             ],
             [
              0.2222222222222222,
              "#7201a8"
             ],
             [
              0.3333333333333333,
              "#9c179e"
             ],
             [
              0.4444444444444444,
              "#bd3786"
             ],
             [
              0.5555555555555556,
              "#d8576b"
             ],
             [
              0.6666666666666666,
              "#ed7953"
             ],
             [
              0.7777777777777778,
              "#fb9f3a"
             ],
             [
              0.8888888888888888,
              "#fdca26"
             ],
             [
              1,
              "#f0f921"
             ]
            ],
            "type": "heatmapgl"
           }
          ],
          "histogram": [
           {
            "marker": {
             "pattern": {
              "fillmode": "overlay",
              "size": 10,
              "solidity": 0.2
             }
            },
            "type": "histogram"
           }
          ],
          "histogram2d": [
           {
            "colorbar": {
             "outlinewidth": 0,
             "ticks": ""
            },
            "colorscale": [
             [
              0,
              "#0d0887"
             ],
             [
              0.1111111111111111,
              "#46039f"
             ],
             [
              0.2222222222222222,
              "#7201a8"
             ],
             [
              0.3333333333333333,
              "#9c179e"
             ],
             [
              0.4444444444444444,
              "#bd3786"
             ],
             [
              0.5555555555555556,
              "#d8576b"
             ],
             [
              0.6666666666666666,
              "#ed7953"
             ],
             [
              0.7777777777777778,
              "#fb9f3a"
             ],
             [
              0.8888888888888888,
              "#fdca26"
             ],
             [
              1,
              "#f0f921"
             ]
            ],
            "type": "histogram2d"
           }
          ],
          "histogram2dcontour": [
           {
            "colorbar": {
             "outlinewidth": 0,
             "ticks": ""
            },
            "colorscale": [
             [
              0,
              "#0d0887"
             ],
             [
              0.1111111111111111,
              "#46039f"
             ],
             [
              0.2222222222222222,
              "#7201a8"
             ],
             [
              0.3333333333333333,
              "#9c179e"
             ],
             [
              0.4444444444444444,
              "#bd3786"
             ],
             [
              0.5555555555555556,
              "#d8576b"
             ],
             [
              0.6666666666666666,
              "#ed7953"
             ],
             [
              0.7777777777777778,
              "#fb9f3a"
             ],
             [
              0.8888888888888888,
              "#fdca26"
             ],
             [
              1,
              "#f0f921"
             ]
            ],
            "type": "histogram2dcontour"
           }
          ],
          "mesh3d": [
           {
            "colorbar": {
             "outlinewidth": 0,
             "ticks": ""
            },
            "type": "mesh3d"
           }
          ],
          "parcoords": [
           {
            "line": {
             "colorbar": {
              "outlinewidth": 0,
              "ticks": ""
             }
            },
            "type": "parcoords"
           }
          ],
          "pie": [
           {
            "automargin": true,
            "type": "pie"
           }
          ],
          "scatter": [
           {
            "fillpattern": {
             "fillmode": "overlay",
             "size": 10,
             "solidity": 0.2
            },
            "type": "scatter"
           }
          ],
          "scatter3d": [
           {
            "line": {
             "colorbar": {
              "outlinewidth": 0,
              "ticks": ""
             }
            },
            "marker": {
             "colorbar": {
              "outlinewidth": 0,
              "ticks": ""
             }
            },
            "type": "scatter3d"
           }
          ],
          "scattercarpet": [
           {
            "marker": {
             "colorbar": {
              "outlinewidth": 0,
              "ticks": ""
             }
            },
            "type": "scattercarpet"
           }
          ],
          "scattergeo": [
           {
            "marker": {
             "colorbar": {
              "outlinewidth": 0,
              "ticks": ""
             }
            },
            "type": "scattergeo"
           }
          ],
          "scattergl": [
           {
            "marker": {
             "colorbar": {
              "outlinewidth": 0,
              "ticks": ""
             }
            },
            "type": "scattergl"
           }
          ],
          "scattermapbox": [
           {
            "marker": {
             "colorbar": {
              "outlinewidth": 0,
              "ticks": ""
             }
            },
            "type": "scattermapbox"
           }
          ],
          "scatterpolar": [
           {
            "marker": {
             "colorbar": {
              "outlinewidth": 0,
              "ticks": ""
             }
            },
            "type": "scatterpolar"
           }
          ],
          "scatterpolargl": [
           {
            "marker": {
             "colorbar": {
              "outlinewidth": 0,
              "ticks": ""
             }
            },
            "type": "scatterpolargl"
           }
          ],
          "scatterternary": [
           {
            "marker": {
             "colorbar": {
              "outlinewidth": 0,
              "ticks": ""
             }
            },
            "type": "scatterternary"
           }
          ],
          "surface": [
           {
            "colorbar": {
             "outlinewidth": 0,
             "ticks": ""
            },
            "colorscale": [
             [
              0,
              "#0d0887"
             ],
             [
              0.1111111111111111,
              "#46039f"
             ],
             [
              0.2222222222222222,
              "#7201a8"
             ],
             [
              0.3333333333333333,
              "#9c179e"
             ],
             [
              0.4444444444444444,
              "#bd3786"
             ],
             [
              0.5555555555555556,
              "#d8576b"
             ],
             [
              0.6666666666666666,
              "#ed7953"
             ],
             [
              0.7777777777777778,
              "#fb9f3a"
             ],
             [
              0.8888888888888888,
              "#fdca26"
             ],
             [
              1,
              "#f0f921"
             ]
            ],
            "type": "surface"
           }
          ],
          "table": [
           {
            "cells": {
             "fill": {
              "color": "#EBF0F8"
             },
             "line": {
              "color": "white"
             }
            },
            "header": {
             "fill": {
              "color": "#C8D4E3"
             },
             "line": {
              "color": "white"
             }
            },
            "type": "table"
           }
          ]
         },
         "layout": {
          "annotationdefaults": {
           "arrowcolor": "#2a3f5f",
           "arrowhead": 0,
           "arrowwidth": 1
          },
          "autotypenumbers": "strict",
          "coloraxis": {
           "colorbar": {
            "outlinewidth": 0,
            "ticks": ""
           }
          },
          "colorscale": {
           "diverging": [
            [
             0,
             "#8e0152"
            ],
            [
             0.1,
             "#c51b7d"
            ],
            [
             0.2,
             "#de77ae"
            ],
            [
             0.3,
             "#f1b6da"
            ],
            [
             0.4,
             "#fde0ef"
            ],
            [
             0.5,
             "#f7f7f7"
            ],
            [
             0.6,
             "#e6f5d0"
            ],
            [
             0.7,
             "#b8e186"
            ],
            [
             0.8,
             "#7fbc41"
            ],
            [
             0.9,
             "#4d9221"
            ],
            [
             1,
             "#276419"
            ]
           ],
           "sequential": [
            [
             0,
             "#0d0887"
            ],
            [
             0.1111111111111111,
             "#46039f"
            ],
            [
             0.2222222222222222,
             "#7201a8"
            ],
            [
             0.3333333333333333,
             "#9c179e"
            ],
            [
             0.4444444444444444,
             "#bd3786"
            ],
            [
             0.5555555555555556,
             "#d8576b"
            ],
            [
             0.6666666666666666,
             "#ed7953"
            ],
            [
             0.7777777777777778,
             "#fb9f3a"
            ],
            [
             0.8888888888888888,
             "#fdca26"
            ],
            [
             1,
             "#f0f921"
            ]
           ],
           "sequentialminus": [
            [
             0,
             "#0d0887"
            ],
            [
             0.1111111111111111,
             "#46039f"
            ],
            [
             0.2222222222222222,
             "#7201a8"
            ],
            [
             0.3333333333333333,
             "#9c179e"
            ],
            [
             0.4444444444444444,
             "#bd3786"
            ],
            [
             0.5555555555555556,
             "#d8576b"
            ],
            [
             0.6666666666666666,
             "#ed7953"
            ],
            [
             0.7777777777777778,
             "#fb9f3a"
            ],
            [
             0.8888888888888888,
             "#fdca26"
            ],
            [
             1,
             "#f0f921"
            ]
           ]
          },
          "colorway": [
           "#636efa",
           "#EF553B",
           "#00cc96",
           "#ab63fa",
           "#FFA15A",
           "#19d3f3",
           "#FF6692",
           "#B6E880",
           "#FF97FF",
           "#FECB52"
          ],
          "font": {
           "color": "#2a3f5f"
          },
          "geo": {
           "bgcolor": "white",
           "lakecolor": "white",
           "landcolor": "#E5ECF6",
           "showlakes": true,
           "showland": true,
           "subunitcolor": "white"
          },
          "hoverlabel": {
           "align": "left"
          },
          "hovermode": "closest",
          "mapbox": {
           "style": "light"
          },
          "paper_bgcolor": "white",
          "plot_bgcolor": "#E5ECF6",
          "polar": {
           "angularaxis": {
            "gridcolor": "white",
            "linecolor": "white",
            "ticks": ""
           },
           "bgcolor": "#E5ECF6",
           "radialaxis": {
            "gridcolor": "white",
            "linecolor": "white",
            "ticks": ""
           }
          },
          "scene": {
           "xaxis": {
            "backgroundcolor": "#E5ECF6",
            "gridcolor": "white",
            "gridwidth": 2,
            "linecolor": "white",
            "showbackground": true,
            "ticks": "",
            "zerolinecolor": "white"
           },
           "yaxis": {
            "backgroundcolor": "#E5ECF6",
            "gridcolor": "white",
            "gridwidth": 2,
            "linecolor": "white",
            "showbackground": true,
            "ticks": "",
            "zerolinecolor": "white"
           },
           "zaxis": {
            "backgroundcolor": "#E5ECF6",
            "gridcolor": "white",
            "gridwidth": 2,
            "linecolor": "white",
            "showbackground": true,
            "ticks": "",
            "zerolinecolor": "white"
           }
          },
          "shapedefaults": {
           "line": {
            "color": "#2a3f5f"
           }
          },
          "ternary": {
           "aaxis": {
            "gridcolor": "white",
            "linecolor": "white",
            "ticks": ""
           },
           "baxis": {
            "gridcolor": "white",
            "linecolor": "white",
            "ticks": ""
           },
           "bgcolor": "#E5ECF6",
           "caxis": {
            "gridcolor": "white",
            "linecolor": "white",
            "ticks": ""
           }
          },
          "title": {
           "x": 0.05
          },
          "xaxis": {
           "automargin": true,
           "gridcolor": "white",
           "linecolor": "white",
           "ticks": "",
           "title": {
            "standoff": 15
           },
           "zerolinecolor": "white",
           "zerolinewidth": 2
          },
          "yaxis": {
           "automargin": true,
           "gridcolor": "white",
           "linecolor": "white",
           "ticks": "",
           "title": {
            "standoff": 15
           },
           "zerolinecolor": "white",
           "zerolinewidth": 2
          }
         }
        },
        "title": {
         "text": "Distribution of OCD Severity Across Age Groups"
        },
        "xaxis": {
         "anchor": "y",
         "categoryarray": [
          "0-18",
          "19-30",
          "31-50",
          "51-70",
          "71+"
         ],
         "categoryorder": "array",
         "domain": [
          0,
          1
         ],
         "title": {
          "text": "Age Group"
         }
        },
        "yaxis": {
         "anchor": "x",
         "domain": [
          0,
          1
         ],
         "title": {
          "text": "OCD Severity (Y-BOCS Total Score)"
         }
        }
       }
      }
     },
     "metadata": {},
     "output_type": "display_data"
    }
   ],
   "source": [
    "# Box plot to show distribution\n",
    "fig = px.box(filtered_df, x='Age Group', y='Total_Score', title='Distribution of OCD Severity Across Age Groups',\n",
    "             labels={'Age Group': 'Age Group', 'Total_Score': 'OCD Severity (Y-BOCS Total Score)'},\n",
    "             category_orders={'Age Group': ['0-18', '19-30', '31-50', '51-70', '71+']})  # Ensure proper order\n",
    "\n",
    "fig.show()"
   ]
  },
  {
   "cell_type": "markdown",
   "metadata": {},
   "source": [
    "2. Is there a significant difference in OCD severity based on gender?  \n",
    "Literature does not clearly indicate a relation between gender and OCD. Gender-based analysis can uncover any significant differences between males and females in terms of OCD severity. This could help in targeting gender-specific interventions."
   ]
  },
  {
   "cell_type": "code",
   "execution_count": 16,
   "metadata": {},
   "outputs": [
    {
     "name": "stdout",
     "output_type": "stream",
     "text": [
      "Gender\n",
      "Female    224\n",
      "Male      195\n",
      "Name: count, dtype: int64\n"
     ]
    },
    {
     "data": {
      "application/vnd.plotly.v1+json": {
       "config": {
        "plotlyServerURL": "https://plot.ly"
       },
       "data": [
        {
         "alignmentgroup": "True",
         "hovertemplate": "Gender=%{x}<br>Count=%{y}<extra></extra>",
         "legendgroup": "Female",
         "marker": {
          "color": "#636efa",
          "pattern": {
           "shape": ""
          }
         },
         "name": "Female",
         "offsetgroup": "Female",
         "orientation": "v",
         "showlegend": true,
         "textposition": "auto",
         "type": "bar",
         "x": [
          "Female"
         ],
         "xaxis": "x",
         "y": [
          224
         ],
         "yaxis": "y"
        },
        {
         "alignmentgroup": "True",
         "hovertemplate": "Gender=%{x}<br>Count=%{y}<extra></extra>",
         "legendgroup": "Male",
         "marker": {
          "color": "#EF553B",
          "pattern": {
           "shape": ""
          }
         },
         "name": "Male",
         "offsetgroup": "Male",
         "orientation": "v",
         "showlegend": true,
         "textposition": "auto",
         "type": "bar",
         "x": [
          "Male"
         ],
         "xaxis": "x",
         "y": [
          195
         ],
         "yaxis": "y"
        }
       ],
       "layout": {
        "barmode": "relative",
        "legend": {
         "title": {
          "text": "Gender"
         },
         "tracegroupgap": 0
        },
        "template": {
         "data": {
          "bar": [
           {
            "error_x": {
             "color": "#2a3f5f"
            },
            "error_y": {
             "color": "#2a3f5f"
            },
            "marker": {
             "line": {
              "color": "#E5ECF6",
              "width": 0.5
             },
             "pattern": {
              "fillmode": "overlay",
              "size": 10,
              "solidity": 0.2
             }
            },
            "type": "bar"
           }
          ],
          "barpolar": [
           {
            "marker": {
             "line": {
              "color": "#E5ECF6",
              "width": 0.5
             },
             "pattern": {
              "fillmode": "overlay",
              "size": 10,
              "solidity": 0.2
             }
            },
            "type": "barpolar"
           }
          ],
          "carpet": [
           {
            "aaxis": {
             "endlinecolor": "#2a3f5f",
             "gridcolor": "white",
             "linecolor": "white",
             "minorgridcolor": "white",
             "startlinecolor": "#2a3f5f"
            },
            "baxis": {
             "endlinecolor": "#2a3f5f",
             "gridcolor": "white",
             "linecolor": "white",
             "minorgridcolor": "white",
             "startlinecolor": "#2a3f5f"
            },
            "type": "carpet"
           }
          ],
          "choropleth": [
           {
            "colorbar": {
             "outlinewidth": 0,
             "ticks": ""
            },
            "type": "choropleth"
           }
          ],
          "contour": [
           {
            "colorbar": {
             "outlinewidth": 0,
             "ticks": ""
            },
            "colorscale": [
             [
              0,
              "#0d0887"
             ],
             [
              0.1111111111111111,
              "#46039f"
             ],
             [
              0.2222222222222222,
              "#7201a8"
             ],
             [
              0.3333333333333333,
              "#9c179e"
             ],
             [
              0.4444444444444444,
              "#bd3786"
             ],
             [
              0.5555555555555556,
              "#d8576b"
             ],
             [
              0.6666666666666666,
              "#ed7953"
             ],
             [
              0.7777777777777778,
              "#fb9f3a"
             ],
             [
              0.8888888888888888,
              "#fdca26"
             ],
             [
              1,
              "#f0f921"
             ]
            ],
            "type": "contour"
           }
          ],
          "contourcarpet": [
           {
            "colorbar": {
             "outlinewidth": 0,
             "ticks": ""
            },
            "type": "contourcarpet"
           }
          ],
          "heatmap": [
           {
            "colorbar": {
             "outlinewidth": 0,
             "ticks": ""
            },
            "colorscale": [
             [
              0,
              "#0d0887"
             ],
             [
              0.1111111111111111,
              "#46039f"
             ],
             [
              0.2222222222222222,
              "#7201a8"
             ],
             [
              0.3333333333333333,
              "#9c179e"
             ],
             [
              0.4444444444444444,
              "#bd3786"
             ],
             [
              0.5555555555555556,
              "#d8576b"
             ],
             [
              0.6666666666666666,
              "#ed7953"
             ],
             [
              0.7777777777777778,
              "#fb9f3a"
             ],
             [
              0.8888888888888888,
              "#fdca26"
             ],
             [
              1,
              "#f0f921"
             ]
            ],
            "type": "heatmap"
           }
          ],
          "heatmapgl": [
           {
            "colorbar": {
             "outlinewidth": 0,
             "ticks": ""
            },
            "colorscale": [
             [
              0,
              "#0d0887"
             ],
             [
              0.1111111111111111,
              "#46039f"
             ],
             [
              0.2222222222222222,
              "#7201a8"
             ],
             [
              0.3333333333333333,
              "#9c179e"
             ],
             [
              0.4444444444444444,
              "#bd3786"
             ],
             [
              0.5555555555555556,
              "#d8576b"
             ],
             [
              0.6666666666666666,
              "#ed7953"
             ],
             [
              0.7777777777777778,
              "#fb9f3a"
             ],
             [
              0.8888888888888888,
              "#fdca26"
             ],
             [
              1,
              "#f0f921"
             ]
            ],
            "type": "heatmapgl"
           }
          ],
          "histogram": [
           {
            "marker": {
             "pattern": {
              "fillmode": "overlay",
              "size": 10,
              "solidity": 0.2
             }
            },
            "type": "histogram"
           }
          ],
          "histogram2d": [
           {
            "colorbar": {
             "outlinewidth": 0,
             "ticks": ""
            },
            "colorscale": [
             [
              0,
              "#0d0887"
             ],
             [
              0.1111111111111111,
              "#46039f"
             ],
             [
              0.2222222222222222,
              "#7201a8"
             ],
             [
              0.3333333333333333,
              "#9c179e"
             ],
             [
              0.4444444444444444,
              "#bd3786"
             ],
             [
              0.5555555555555556,
              "#d8576b"
             ],
             [
              0.6666666666666666,
              "#ed7953"
             ],
             [
              0.7777777777777778,
              "#fb9f3a"
             ],
             [
              0.8888888888888888,
              "#fdca26"
             ],
             [
              1,
              "#f0f921"
             ]
            ],
            "type": "histogram2d"
           }
          ],
          "histogram2dcontour": [
           {
            "colorbar": {
             "outlinewidth": 0,
             "ticks": ""
            },
            "colorscale": [
             [
              0,
              "#0d0887"
             ],
             [
              0.1111111111111111,
              "#46039f"
             ],
             [
              0.2222222222222222,
              "#7201a8"
             ],
             [
              0.3333333333333333,
              "#9c179e"
             ],
             [
              0.4444444444444444,
              "#bd3786"
             ],
             [
              0.5555555555555556,
              "#d8576b"
             ],
             [
              0.6666666666666666,
              "#ed7953"
             ],
             [
              0.7777777777777778,
              "#fb9f3a"
             ],
             [
              0.8888888888888888,
              "#fdca26"
             ],
             [
              1,
              "#f0f921"
             ]
            ],
            "type": "histogram2dcontour"
           }
          ],
          "mesh3d": [
           {
            "colorbar": {
             "outlinewidth": 0,
             "ticks": ""
            },
            "type": "mesh3d"
           }
          ],
          "parcoords": [
           {
            "line": {
             "colorbar": {
              "outlinewidth": 0,
              "ticks": ""
             }
            },
            "type": "parcoords"
           }
          ],
          "pie": [
           {
            "automargin": true,
            "type": "pie"
           }
          ],
          "scatter": [
           {
            "fillpattern": {
             "fillmode": "overlay",
             "size": 10,
             "solidity": 0.2
            },
            "type": "scatter"
           }
          ],
          "scatter3d": [
           {
            "line": {
             "colorbar": {
              "outlinewidth": 0,
              "ticks": ""
             }
            },
            "marker": {
             "colorbar": {
              "outlinewidth": 0,
              "ticks": ""
             }
            },
            "type": "scatter3d"
           }
          ],
          "scattercarpet": [
           {
            "marker": {
             "colorbar": {
              "outlinewidth": 0,
              "ticks": ""
             }
            },
            "type": "scattercarpet"
           }
          ],
          "scattergeo": [
           {
            "marker": {
             "colorbar": {
              "outlinewidth": 0,
              "ticks": ""
             }
            },
            "type": "scattergeo"
           }
          ],
          "scattergl": [
           {
            "marker": {
             "colorbar": {
              "outlinewidth": 0,
              "ticks": ""
             }
            },
            "type": "scattergl"
           }
          ],
          "scattermapbox": [
           {
            "marker": {
             "colorbar": {
              "outlinewidth": 0,
              "ticks": ""
             }
            },
            "type": "scattermapbox"
           }
          ],
          "scatterpolar": [
           {
            "marker": {
             "colorbar": {
              "outlinewidth": 0,
              "ticks": ""
             }
            },
            "type": "scatterpolar"
           }
          ],
          "scatterpolargl": [
           {
            "marker": {
             "colorbar": {
              "outlinewidth": 0,
              "ticks": ""
             }
            },
            "type": "scatterpolargl"
           }
          ],
          "scatterternary": [
           {
            "marker": {
             "colorbar": {
              "outlinewidth": 0,
              "ticks": ""
             }
            },
            "type": "scatterternary"
           }
          ],
          "surface": [
           {
            "colorbar": {
             "outlinewidth": 0,
             "ticks": ""
            },
            "colorscale": [
             [
              0,
              "#0d0887"
             ],
             [
              0.1111111111111111,
              "#46039f"
             ],
             [
              0.2222222222222222,
              "#7201a8"
             ],
             [
              0.3333333333333333,
              "#9c179e"
             ],
             [
              0.4444444444444444,
              "#bd3786"
             ],
             [
              0.5555555555555556,
              "#d8576b"
             ],
             [
              0.6666666666666666,
              "#ed7953"
             ],
             [
              0.7777777777777778,
              "#fb9f3a"
             ],
             [
              0.8888888888888888,
              "#fdca26"
             ],
             [
              1,
              "#f0f921"
             ]
            ],
            "type": "surface"
           }
          ],
          "table": [
           {
            "cells": {
             "fill": {
              "color": "#EBF0F8"
             },
             "line": {
              "color": "white"
             }
            },
            "header": {
             "fill": {
              "color": "#C8D4E3"
             },
             "line": {
              "color": "white"
             }
            },
            "type": "table"
           }
          ]
         },
         "layout": {
          "annotationdefaults": {
           "arrowcolor": "#2a3f5f",
           "arrowhead": 0,
           "arrowwidth": 1
          },
          "autotypenumbers": "strict",
          "coloraxis": {
           "colorbar": {
            "outlinewidth": 0,
            "ticks": ""
           }
          },
          "colorscale": {
           "diverging": [
            [
             0,
             "#8e0152"
            ],
            [
             0.1,
             "#c51b7d"
            ],
            [
             0.2,
             "#de77ae"
            ],
            [
             0.3,
             "#f1b6da"
            ],
            [
             0.4,
             "#fde0ef"
            ],
            [
             0.5,
             "#f7f7f7"
            ],
            [
             0.6,
             "#e6f5d0"
            ],
            [
             0.7,
             "#b8e186"
            ],
            [
             0.8,
             "#7fbc41"
            ],
            [
             0.9,
             "#4d9221"
            ],
            [
             1,
             "#276419"
            ]
           ],
           "sequential": [
            [
             0,
             "#0d0887"
            ],
            [
             0.1111111111111111,
             "#46039f"
            ],
            [
             0.2222222222222222,
             "#7201a8"
            ],
            [
             0.3333333333333333,
             "#9c179e"
            ],
            [
             0.4444444444444444,
             "#bd3786"
            ],
            [
             0.5555555555555556,
             "#d8576b"
            ],
            [
             0.6666666666666666,
             "#ed7953"
            ],
            [
             0.7777777777777778,
             "#fb9f3a"
            ],
            [
             0.8888888888888888,
             "#fdca26"
            ],
            [
             1,
             "#f0f921"
            ]
           ],
           "sequentialminus": [
            [
             0,
             "#0d0887"
            ],
            [
             0.1111111111111111,
             "#46039f"
            ],
            [
             0.2222222222222222,
             "#7201a8"
            ],
            [
             0.3333333333333333,
             "#9c179e"
            ],
            [
             0.4444444444444444,
             "#bd3786"
            ],
            [
             0.5555555555555556,
             "#d8576b"
            ],
            [
             0.6666666666666666,
             "#ed7953"
            ],
            [
             0.7777777777777778,
             "#fb9f3a"
            ],
            [
             0.8888888888888888,
             "#fdca26"
            ],
            [
             1,
             "#f0f921"
            ]
           ]
          },
          "colorway": [
           "#636efa",
           "#EF553B",
           "#00cc96",
           "#ab63fa",
           "#FFA15A",
           "#19d3f3",
           "#FF6692",
           "#B6E880",
           "#FF97FF",
           "#FECB52"
          ],
          "font": {
           "color": "#2a3f5f"
          },
          "geo": {
           "bgcolor": "white",
           "lakecolor": "white",
           "landcolor": "#E5ECF6",
           "showlakes": true,
           "showland": true,
           "subunitcolor": "white"
          },
          "hoverlabel": {
           "align": "left"
          },
          "hovermode": "closest",
          "mapbox": {
           "style": "light"
          },
          "paper_bgcolor": "white",
          "plot_bgcolor": "#E5ECF6",
          "polar": {
           "angularaxis": {
            "gridcolor": "white",
            "linecolor": "white",
            "ticks": ""
           },
           "bgcolor": "#E5ECF6",
           "radialaxis": {
            "gridcolor": "white",
            "linecolor": "white",
            "ticks": ""
           }
          },
          "scene": {
           "xaxis": {
            "backgroundcolor": "#E5ECF6",
            "gridcolor": "white",
            "gridwidth": 2,
            "linecolor": "white",
            "showbackground": true,
            "ticks": "",
            "zerolinecolor": "white"
           },
           "yaxis": {
            "backgroundcolor": "#E5ECF6",
            "gridcolor": "white",
            "gridwidth": 2,
            "linecolor": "white",
            "showbackground": true,
            "ticks": "",
            "zerolinecolor": "white"
           },
           "zaxis": {
            "backgroundcolor": "#E5ECF6",
            "gridcolor": "white",
            "gridwidth": 2,
            "linecolor": "white",
            "showbackground": true,
            "ticks": "",
            "zerolinecolor": "white"
           }
          },
          "shapedefaults": {
           "line": {
            "color": "#2a3f5f"
           }
          },
          "ternary": {
           "aaxis": {
            "gridcolor": "white",
            "linecolor": "white",
            "ticks": ""
           },
           "baxis": {
            "gridcolor": "white",
            "linecolor": "white",
            "ticks": ""
           },
           "bgcolor": "#E5ECF6",
           "caxis": {
            "gridcolor": "white",
            "linecolor": "white",
            "ticks": ""
           }
          },
          "title": {
           "x": 0.05
          },
          "xaxis": {
           "automargin": true,
           "gridcolor": "white",
           "linecolor": "white",
           "ticks": "",
           "title": {
            "standoff": 15
           },
           "zerolinecolor": "white",
           "zerolinewidth": 2
          },
          "yaxis": {
           "automargin": true,
           "gridcolor": "white",
           "linecolor": "white",
           "ticks": "",
           "title": {
            "standoff": 15
           },
           "zerolinecolor": "white",
           "zerolinewidth": 2
          }
         }
        },
        "title": {
         "text": "Gender Distribution"
        },
        "xaxis": {
         "anchor": "y",
         "categoryarray": [
          "Female",
          "Male"
         ],
         "categoryorder": "array",
         "domain": [
          0,
          1
         ],
         "title": {
          "text": "Gender"
         }
        },
        "yaxis": {
         "anchor": "x",
         "domain": [
          0,
          1
         ],
         "title": {
          "text": "Count"
         }
        }
       }
      }
     },
     "metadata": {},
     "output_type": "display_data"
    }
   ],
   "source": [
    "# checking for gender distribution in the dataset\n",
    "gender_counts = filtered_df['Gender'].value_counts()\n",
    "print(gender_counts)\n",
    "\n",
    "fig2 = px.bar(gender_counts, \n",
    "             x=gender_counts.index, \n",
    "             y=gender_counts.values, \n",
    "             title='Gender Distribution',\n",
    "             labels={'x': 'Gender', 'y': 'Count'},\n",
    "             color=gender_counts.index)\n",
    "\n",
    "# Show the figure\n",
    "fig2.show()"
   ]
  },
  {
   "cell_type": "code",
   "execution_count": 17,
   "metadata": {},
   "outputs": [
    {
     "data": {
      "application/vnd.plotly.v1+json": {
       "config": {
        "plotlyServerURL": "https://plot.ly"
       },
       "data": [
        {
         "alignmentgroup": "True",
         "hovertemplate": "Gender=%{x}<br>OCD Severity (Y-BOCS Total Score)=%{y}<extra></extra>",
         "legendgroup": "",
         "marker": {
          "color": "#636efa"
         },
         "name": "",
         "notched": false,
         "offsetgroup": "",
         "orientation": "v",
         "showlegend": false,
         "type": "box",
         "x": [
          "Female",
          "Male",
          "Male",
          "Female",
          "Female",
          "Female",
          "Female",
          "Male",
          "Male",
          "Female",
          "Female",
          "Female",
          "Female",
          "Female",
          "Female",
          "Male",
          "Male",
          "Female",
          "Female",
          "Female",
          "Male",
          "Male",
          "Male",
          "Male",
          "Female",
          "Female",
          "Male",
          "Male",
          "Male",
          "Male",
          "Female",
          "Male",
          "Male",
          "Male",
          "Male",
          "Female",
          "Female",
          "Male",
          "Female",
          "Female",
          "Female",
          "Male",
          "Female",
          "Female",
          "Male",
          "Male",
          "Male",
          "Female",
          "Female",
          "Male",
          "Female",
          "Female",
          "Male",
          "Female",
          "Male",
          "Female",
          "Female",
          "Male",
          "Female",
          "Male",
          "Male",
          "Female",
          "Male",
          "Male",
          "Male",
          "Male",
          "Male",
          "Male",
          "Female",
          "Female",
          "Female",
          "Female",
          "Male",
          "Female",
          "Male",
          "Female",
          "Female",
          "Female",
          "Male",
          "Female",
          "Male",
          "Female",
          "Male",
          "Female",
          "Male",
          "Male",
          "Female",
          "Female",
          "Male",
          "Male",
          "Male",
          "Male",
          "Female",
          "Female",
          "Male",
          "Female",
          "Male",
          "Female",
          "Male",
          "Male",
          "Male",
          "Male",
          "Male",
          "Male",
          "Male",
          "Male",
          "Female",
          "Female",
          "Female",
          "Female",
          "Male",
          "Female",
          "Male",
          "Male",
          "Male",
          "Male",
          "Female",
          "Female",
          "Male",
          "Male",
          "Female",
          "Male",
          "Female",
          "Male",
          "Female",
          "Female",
          "Female",
          "Male",
          "Male",
          "Male",
          "Male",
          "Female",
          "Male",
          "Female",
          "Female",
          "Female",
          "Male",
          "Male",
          "Female",
          "Male",
          "Male",
          "Male",
          "Male",
          "Female",
          "Female",
          "Male",
          "Male",
          "Male",
          "Female",
          "Female",
          "Male",
          "Female",
          "Female",
          "Male",
          "Female",
          "Female",
          "Male",
          "Female",
          "Male",
          "Female",
          "Male",
          "Male",
          "Male",
          "Male",
          "Female",
          "Male",
          "Female",
          "Female",
          "Male",
          "Male",
          "Male",
          "Male",
          "Male",
          "Male",
          "Male",
          "Male",
          "Male",
          "Male",
          "Female",
          "Male",
          "Female",
          "Female",
          "Male",
          "Male",
          "Female",
          "Female",
          "Male",
          "Male",
          "Female",
          "Male",
          "Female",
          "Male",
          "Male",
          "Female",
          "Female",
          "Female",
          "Male",
          "Male",
          "Female",
          "Male",
          "Male",
          "Male",
          "Male",
          "Male",
          "Female",
          "Female",
          "Male",
          "Male",
          "Female",
          "Female",
          "Female",
          "Male",
          "Male",
          "Male",
          "Female",
          "Female",
          "Female",
          "Male",
          "Female",
          "Male",
          "Male",
          "Male",
          "Female",
          "Male",
          "Female",
          "Female",
          "Male",
          "Male",
          "Female",
          "Male",
          "Male",
          "Female",
          "Male",
          "Male",
          "Male",
          "Female",
          "Male",
          "Female",
          "Female",
          "Male",
          "Male",
          "Female",
          "Female",
          "Male",
          "Female",
          "Male",
          "Female",
          "Female",
          "Female",
          "Female",
          "Female",
          "Male",
          "Male",
          "Female",
          "Female",
          "Female",
          "Female",
          "Male",
          "Female",
          "Female",
          "Female",
          "Female",
          "Male",
          "Male",
          "Female",
          "Male",
          "Male",
          "Female",
          "Female",
          "Female",
          "Female",
          "Female",
          "Female",
          "Female",
          "Female",
          "Male",
          "Male",
          "Female",
          "Female",
          "Female",
          "Female",
          "Female",
          "Male",
          "Male",
          "Male",
          "Female",
          "Male",
          "Female",
          "Male",
          "Male",
          "Female",
          "Male",
          "Female",
          "Female",
          "Male",
          "Male",
          "Female",
          "Female",
          "Male",
          "Male",
          "Female",
          "Female",
          "Female",
          "Female",
          "Female",
          "Male",
          "Female",
          "Female",
          "Female",
          "Female",
          "Male",
          "Male",
          "Female",
          "Male",
          "Male",
          "Male",
          "Female",
          "Male",
          "Female",
          "Female",
          "Male",
          "Male",
          "Male",
          "Male",
          "Female",
          "Female",
          "Male",
          "Male",
          "Male",
          "Female",
          "Female",
          "Female",
          "Male",
          "Female",
          "Male",
          "Female",
          "Male",
          "Male",
          "Male",
          "Female",
          "Male",
          "Male",
          "Female",
          "Male",
          "Male",
          "Male",
          "Male",
          "Female",
          "Female",
          "Female",
          "Female",
          "Male",
          "Female",
          "Female",
          "Female",
          "Female",
          "Male",
          "Female",
          "Female",
          "Female",
          "Female",
          "Female",
          "Male",
          "Female",
          "Male",
          "Male",
          "Female",
          "Male",
          "Male",
          "Male",
          "Male",
          "Male",
          "Male",
          "Male",
          "Female",
          "Female",
          "Male",
          "Female",
          "Female",
          "Male",
          "Female",
          "Female",
          "Female",
          "Male",
          "Male",
          "Male",
          "Female",
          "Female",
          "Female",
          "Female",
          "Female",
          "Male",
          "Male",
          "Male",
          "Female",
          "Female",
          "Female",
          "Male",
          "Male",
          "Male",
          "Female",
          "Female",
          "Male",
          "Female",
          "Female",
          "Male",
          "Female",
          "Male",
          "Female",
          "Male",
          "Male",
          "Male",
          "Female",
          "Female",
          "Female",
          "Female",
          "Male",
          "Female",
          "Male",
          "Male",
          "Female",
          "Male",
          "Female",
          "Male",
          "Female",
          "Female",
          "Male",
          "Male",
          "Male",
          "Male",
          "Male",
          "Female",
          "Female",
          "Male",
          "Female",
          "Male",
          "Male",
          "Male",
          "Female",
          "Male",
          "Male",
          "Female",
          "Female",
          "Male",
          "Female",
          "Male",
          "Male",
          "Female",
          "Female",
          "Female",
          "Male",
          "Female",
          "Female",
          "Female",
          "Male",
          "Male",
          "Female",
          "Female",
          "Female",
          "Female",
          "Male",
          "Male",
          "Female",
          "Female",
          "Male",
          "Male",
          "Male",
          "Female",
          "Male",
          "Female",
          "Male",
          "Female",
          "Male",
          "Male",
          "Male",
          "Male",
          "Female",
          "Female",
          "Male",
          "Female",
          "Male",
          "Female",
          "Male",
          "Male",
          "Female",
          "Female",
          "Female",
          "Male",
          "Male",
          "Female",
          "Female",
          "Female",
          "Female",
          "Female",
          "Female",
          "Male",
          "Male",
          "Female",
          "Male",
          "Female",
          "Female",
          "Female",
          "Female",
          "Female",
          "Female",
          "Male",
          "Female",
          "Male",
          "Female",
          "Female",
          "Male",
          "Female",
          "Male",
          "Female",
          "Female",
          "Female",
          "Female",
          "Female",
          "Male",
          "Male",
          "Female",
          "Female",
          "Female",
          "Female",
          "Male",
          "Female",
          "Male",
          "Female",
          "Male",
          "Male",
          "Female",
          "Female",
          "Female",
          "Female",
          "Female",
          "Female",
          "Female",
          "Male",
          "Female",
          "Female",
          "Female",
          "Female",
          "Female",
          "Male",
          "Female",
          "Male",
          "Female",
          "Male",
          "Female",
          "Male",
          "Male",
          "Female",
          "Female",
          "Female",
          "Male",
          "Female",
          "Female",
          "Female",
          "Male",
          "Female",
          "Male",
          "Male",
          "Male",
          "Male",
          "Male",
          "Female",
          "Male",
          "Female",
          "Male",
          "Female",
          "Female",
          "Male",
          "Male",
          "Male",
          "Female",
          "Male",
          "Male",
          "Male",
          "Female",
          "Male",
          "Male",
          "Male",
          "Male",
          "Male",
          "Female",
          "Male",
          "Male",
          "Male",
          "Female",
          "Male",
          "Female",
          "Female",
          "Female",
          "Male",
          "Female",
          "Female",
          "Female",
          "Female",
          "Male",
          "Male",
          "Male",
          "Female",
          "Male",
          "Female",
          "Male",
          "Male",
          "Female",
          "Male",
          "Male",
          "Female",
          "Male",
          "Female",
          "Male",
          "Male",
          "Male",
          "Male",
          "Female",
          "Female",
          "Female",
          "Male",
          "Male",
          "Female",
          "Male",
          "Female",
          "Male",
          "Female",
          "Male",
          "Male",
          "Female",
          "Male",
          "Female",
          "Female",
          "Female",
          "Female",
          "Female",
          "Female",
          "Male",
          "Female",
          "Male",
          "Male",
          "Female",
          "Male",
          "Female",
          "Male",
          "Female",
          "Male",
          "Female",
          "Female",
          "Male",
          "Male",
          "Male",
          "Male",
          "Female",
          "Female",
          "Male",
          "Male",
          "Male",
          "Male",
          "Female",
          "Female",
          "Male",
          "Female",
          "Female",
          "Female",
          "Male",
          "Female",
          "Male",
          "Male",
          "Female",
          "Male",
          "Male",
          "Male",
          "Female",
          "Male",
          "Male",
          "Male",
          "Male",
          "Female",
          "Male",
          "Male",
          "Male",
          "Female",
          "Male",
          "Male",
          "Male",
          "Female",
          "Female",
          "Female",
          "Female",
          "Male",
          "Female",
          "Female",
          "Female",
          "Male",
          "Male",
          "Female",
          "Female",
          "Male",
          "Male",
          "Female",
          "Male",
          "Female",
          "Male",
          "Male",
          "Male",
          "Male",
          "Female",
          "Female",
          "Male",
          "Female",
          "Male",
          "Male",
          "Male",
          "Male",
          "Female",
          "Female",
          "Female",
          "Female",
          "Male",
          "Male",
          "Male",
          "Male",
          "Female",
          "Male",
          "Male",
          "Female",
          "Female",
          "Male",
          "Male",
          "Female",
          "Male",
          "Female",
          "Female",
          "Male",
          "Female",
          "Female",
          "Female",
          "Female",
          "Male",
          "Male",
          "Female",
          "Female",
          "Male",
          "Female",
          "Female",
          "Male",
          "Male",
          "Female",
          "Female",
          "Male",
          "Male",
          "Female",
          "Male",
          "Male",
          "Male",
          "Male",
          "Female",
          "Male",
          "Male",
          "Female",
          "Female",
          "Female",
          "Female",
          "Female",
          "Female",
          "Female",
          "Male",
          "Male",
          "Female",
          "Male",
          "Male",
          "Female",
          "Male",
          "Male",
          "Female",
          "Male",
          "Male",
          "Female",
          "Male",
          "Female",
          "Male",
          "Female",
          "Male",
          "Female",
          "Male",
          "Male",
          "Male",
          "Female",
          "Male",
          "Female",
          "Male",
          "Male",
          "Female",
          "Female",
          "Female",
          "Male",
          "Female",
          "Male",
          "Female",
          "Male",
          "Female",
          "Male",
          "Female",
          "Male",
          "Male",
          "Female",
          "Female",
          "Female",
          "Female",
          "Female",
          "Female",
          "Female",
          "Male",
          "Male",
          "Female",
          "Male",
          "Female",
          "Female",
          "Male",
          "Female",
          "Female",
          "Male",
          "Female",
          "Female",
          "Male",
          "Male",
          "Male",
          "Male",
          "Male",
          "Female",
          "Male",
          "Male",
          "Female",
          "Female",
          "Female",
          "Male",
          "Male",
          "Male",
          "Female",
          "Male",
          "Female",
          "Male",
          "Female",
          "Female",
          "Female",
          "Female",
          "Male",
          "Male",
          "Female",
          "Male",
          "Female",
          "Female",
          "Male",
          "Female",
          "Male",
          "Male",
          "Female",
          "Female",
          "Female",
          "Male",
          "Male",
          "Female",
          "Female",
          "Male",
          "Male",
          "Male",
          "Male",
          "Female",
          "Female",
          "Male",
          "Female",
          "Male",
          "Female",
          "Male",
          "Male",
          "Female",
          "Female",
          "Male",
          "Female",
          "Female",
          "Female",
          "Male",
          "Male",
          "Male",
          "Female",
          "Male",
          "Female",
          "Male",
          "Male",
          "Female",
          "Female",
          "Female",
          "Male",
          "Male",
          "Male",
          "Male",
          "Male",
          "Female",
          "Male",
          "Male",
          "Male",
          "Male",
          "Male",
          "Female",
          "Female",
          "Male",
          "Male",
          "Female",
          "Male",
          "Male",
          "Male",
          "Male",
          "Male",
          "Male",
          "Male",
          "Female",
          "Female",
          "Male",
          "Female",
          "Female",
          "Male",
          "Male",
          "Male",
          "Male",
          "Male",
          "Female",
          "Male",
          "Male",
          "Male",
          "Male",
          "Female",
          "Male",
          "Male",
          "Male",
          "Male",
          "Female",
          "Male",
          "Male",
          "Female",
          "Female",
          "Male",
          "Male",
          "Male",
          "Male",
          "Male",
          "Male",
          "Female",
          "Male",
          "Female",
          "Male",
          "Female",
          "Female",
          "Male",
          "Female",
          "Female",
          "Female",
          "Female",
          "Female",
          "Male",
          "Male",
          "Female",
          "Male",
          "Female",
          "Male",
          "Female",
          "Male",
          "Female",
          "Female",
          "Male",
          "Male",
          "Female",
          "Female",
          "Male",
          "Male",
          "Male",
          "Male",
          "Female",
          "Male",
          "Male",
          "Female",
          "Male",
          "Female",
          "Male",
          "Female",
          "Male",
          "Male",
          "Male",
          "Female",
          "Male",
          "Female",
          "Female",
          "Female",
          "Male",
          "Male",
          "Male",
          "Male",
          "Male",
          "Male",
          "Male",
          "Female",
          "Female",
          "Female",
          "Female",
          "Female",
          "Male",
          "Male",
          "Male",
          "Female",
          "Male",
          "Male",
          "Male",
          "Male",
          "Male",
          "Male",
          "Male",
          "Male",
          "Male",
          "Female",
          "Male",
          "Male",
          "Female",
          "Female",
          "Male",
          "Female",
          "Male",
          "Male",
          "Male",
          "Male",
          "Female",
          "Female",
          "Male",
          "Female",
          "Female",
          "Female",
          "Female",
          "Female",
          "Male",
          "Female",
          "Female",
          "Female",
          "Male",
          "Male",
          "Female",
          "Male",
          "Female",
          "Female",
          "Female",
          "Male",
          "Female",
          "Female",
          "Male",
          "Male",
          "Male",
          "Female",
          "Female",
          "Female",
          "Male",
          "Male",
          "Male",
          "Female",
          "Female",
          "Male",
          "Male",
          "Male",
          "Female",
          "Male",
          "Male",
          "Female",
          "Male",
          "Female",
          "Male",
          "Female",
          "Male",
          "Male",
          "Female",
          "Female",
          "Female",
          "Female",
          "Male",
          "Male",
          "Male",
          "Female",
          "Male",
          "Male",
          "Female",
          "Male",
          "Female",
          "Female",
          "Male",
          "Female",
          "Female",
          "Female",
          "Female",
          "Female",
          "Female",
          "Female",
          "Female",
          "Male",
          "Male",
          "Female",
          "Male",
          "Female",
          "Female",
          "Female",
          "Male",
          "Female",
          "Female",
          "Male",
          "Female",
          "Female",
          "Male",
          "Male",
          "Female",
          "Male",
          "Male",
          "Male",
          "Male",
          "Male",
          "Female",
          "Male",
          "Male",
          "Male",
          "Male",
          "Male",
          "Male",
          "Male",
          "Female",
          "Male",
          "Female",
          "Female",
          "Male",
          "Female",
          "Female",
          "Female",
          "Female",
          "Female",
          "Female",
          "Male",
          "Female",
          "Female",
          "Female",
          "Female",
          "Male",
          "Male",
          "Male",
          "Female",
          "Male",
          "Female",
          "Male",
          "Female",
          "Female",
          "Male",
          "Female",
          "Male",
          "Male",
          "Male",
          "Male",
          "Male",
          "Female",
          "Male",
          "Female",
          "Female",
          "Female",
          "Female",
          "Male",
          "Female",
          "Female",
          "Male",
          "Male",
          "Female",
          "Female",
          "Male",
          "Female",
          "Male",
          "Male",
          "Female",
          "Male",
          "Male",
          "Male",
          "Female",
          "Female",
          "Male",
          "Male",
          "Male",
          "Female",
          "Male",
          "Female",
          "Male",
          "Female",
          "Female",
          "Female",
          "Female",
          "Female",
          "Male",
          "Male",
          "Male",
          "Male",
          "Female",
          "Male",
          "Female",
          "Male",
          "Female",
          "Female",
          "Female",
          "Female",
          "Male",
          "Male",
          "Male",
          "Female",
          "Male",
          "Male",
          "Female",
          "Male",
          "Male",
          "Female",
          "Male",
          "Male",
          "Female",
          "Female",
          "Female",
          "Male",
          "Female",
          "Female",
          "Male",
          "Female",
          "Female",
          "Male",
          "Female",
          "Female",
          "Female",
          "Male",
          "Male",
          "Male",
          "Male",
          "Male",
          "Male",
          "Male",
          "Female",
          "Female",
          "Female",
          "Female",
          "Female",
          "Male",
          "Male",
          "Male",
          "Female",
          "Male",
          "Female",
          "Male",
          "Female",
          "Female",
          "Female",
          "Male",
          "Female",
          "Female",
          "Male",
          "Female",
          "Male",
          "Male",
          "Male",
          "Male",
          "Male",
          "Female",
          "Male",
          "Female",
          "Male",
          "Male",
          "Female",
          "Male",
          "Female",
          "Female",
          "Female",
          "Female",
          "Male",
          "Female",
          "Female",
          "Male",
          "Female",
          "Male",
          "Female",
          "Female",
          "Male",
          "Male",
          "Female",
          "Male",
          "Male",
          "Male",
          "Male",
          "Female",
          "Male",
          "Male",
          "Female",
          "Male",
          "Female",
          "Female",
          "Female",
          "Male",
          "Female",
          "Female",
          "Male",
          "Female",
          "Male",
          "Male",
          "Female",
          "Male",
          "Male",
          "Male",
          "Female",
          "Female",
          "Female",
          "Female",
          "Male",
          "Male",
          "Female",
          "Male",
          "Male",
          "Female",
          "Female",
          "Female",
          "Female",
          "Female",
          "Male",
          "Female",
          "Female",
          "Male",
          "Male",
          "Female",
          "Male",
          "Female",
          "Male",
          "Male",
          "Male",
          "Male",
          "Male",
          "Female",
          "Female",
          "Male",
          "Male",
          "Female",
          "Female",
          "Male",
          "Female",
          "Male",
          "Female",
          "Male",
          "Female",
          "Female",
          "Male",
          "Female",
          "Female",
          "Female",
          "Male",
          "Female",
          "Male",
          "Male",
          "Female",
          "Female",
          "Male",
          "Male",
          "Female",
          "Female",
          "Male",
          "Male",
          "Male",
          "Female",
          "Female",
          "Female",
          "Male",
          "Male",
          "Male",
          "Female",
          "Male",
          "Female",
          "Male",
          "Male",
          "Male",
          "Male",
          "Female",
          "Male",
          "Male",
          "Male",
          "Male",
          "Female",
          "Female",
          "Female",
          "Male",
          "Female",
          "Male",
          "Female",
          "Female",
          "Female",
          "Female",
          "Female",
          "Male",
          "Female",
          "Male",
          "Male",
          "Female",
          "Female",
          "Female",
          "Male",
          "Female",
          "Female",
          "Female",
          "Female",
          "Male",
          "Male",
          "Male",
          "Male",
          "Female",
          "Female",
          "Female",
          "Female",
          "Female",
          "Female",
          "Female",
          "Male",
          "Male",
          "Male",
          "Male",
          "Male",
          "Male",
          "Female",
          "Female",
          "Female",
          "Male",
          "Male",
          "Female",
          "Female",
          "Male",
          "Female",
          "Female",
          "Male",
          "Female",
          "Male",
          "Female",
          "Female",
          "Female",
          "Male",
          "Male",
          "Female",
          "Female",
          "Male",
          "Male",
          "Male",
          "Female",
          "Female",
          "Female",
          "Female",
          "Male",
          "Female",
          "Female",
          "Female",
          "Female",
          "Female",
          "Male",
          "Male",
          "Female",
          "Male",
          "Female",
          "Female",
          "Male",
          "Male",
          "Male",
          "Female",
          "Male",
          "Male",
          "Female",
          "Female",
          "Female",
          "Male",
          "Female",
          "Female",
          "Male",
          "Male",
          "Male",
          "Male",
          "Female",
          "Female",
          "Female",
          "Female",
          "Female",
          "Female",
          "Female",
          "Female",
          "Female",
          "Female",
          "Female",
          "Female",
          "Male",
          "Female",
          "Female",
          "Female",
          "Female",
          "Male",
          "Male",
          "Female",
          "Male",
          "Female",
          "Male"
         ],
         "x0": " ",
         "xaxis": "x",
         "y": [
          27,
          46,
          7,
          42,
          57,
          37,
          28,
          35,
          61,
          64,
          66,
          20,
          41,
          49,
          62,
          42,
          28,
          58,
          44,
          12,
          34,
          41,
          48,
          18,
          34,
          44,
          45,
          12,
          18,
          44,
          40,
          31,
          34,
          35,
          42,
          55,
          62,
          59,
          39,
          40,
          7,
          51,
          33,
          65,
          77,
          26,
          28,
          41,
          72,
          33,
          26,
          61,
          64,
          76,
          20,
          66,
          49,
          32,
          65,
          23,
          67,
          57,
          38,
          34,
          22,
          21,
          37,
          46,
          38,
          25,
          71,
          38,
          35,
          25,
          62,
          24,
          37,
          59,
          34,
          45,
          51,
          63,
          14,
          52,
          31,
          50,
          63,
          49,
          37,
          28,
          56,
          25,
          40,
          8,
          51,
          54,
          29,
          40,
          18,
          34,
          60,
          51,
          66,
          42,
          25,
          38,
          37,
          77,
          51,
          3,
          43,
          32,
          16,
          46,
          28,
          60,
          5,
          44,
          65,
          70,
          24,
          40,
          28,
          32,
          41,
          22,
          38,
          5,
          26,
          58,
          19,
          15,
          31,
          22,
          37,
          52,
          44,
          65,
          54,
          29,
          37,
          31,
          2,
          9,
          57,
          61,
          45,
          43,
          35,
          38,
          6,
          34,
          32,
          51,
          24,
          61,
          54,
          27,
          52,
          20,
          50,
          47,
          27,
          30,
          29,
          27,
          47,
          49,
          36,
          42,
          55,
          54,
          30,
          52,
          53,
          17,
          60,
          49,
          42,
          37,
          45,
          66,
          59,
          50,
          8,
          51,
          70,
          65,
          62,
          38,
          35,
          44,
          25,
          24,
          23,
          39,
          30,
          17,
          23,
          5,
          48,
          62,
          13,
          36,
          36,
          60,
          52,
          49,
          33,
          24,
          72,
          39,
          33,
          40,
          65,
          13,
          54,
          79,
          22,
          41,
          55,
          16,
          40,
          23,
          37,
          18,
          13,
          50,
          42,
          59,
          55,
          31,
          51,
          49,
          43,
          19,
          18,
          67,
          47,
          9,
          68,
          52,
          21,
          27,
          53,
          57,
          47,
          42,
          33,
          50,
          28,
          44,
          33,
          31,
          44,
          44,
          69,
          44,
          40,
          58,
          69,
          64,
          41,
          26,
          36,
          36,
          21,
          54,
          46,
          23,
          70,
          53,
          70,
          7,
          65,
          20,
          33,
          45,
          65,
          39,
          78,
          49,
          33,
          52,
          33,
          36,
          19,
          40,
          21,
          42,
          48,
          12,
          68,
          60,
          16,
          47,
          57,
          60,
          39,
          41,
          20,
          51,
          41,
          28,
          33,
          44,
          20,
          34,
          68,
          51,
          31,
          61,
          9,
          15,
          39,
          40,
          66,
          62,
          38,
          62,
          28,
          20,
          56,
          41,
          38,
          29,
          8,
          34,
          4,
          49,
          1,
          46,
          47,
          16,
          26,
          13,
          22,
          40,
          32,
          52,
          59,
          23,
          25,
          50,
          47,
          6,
          71,
          27,
          59,
          39,
          61,
          7,
          21,
          38,
          53,
          44,
          24,
          28,
          55,
          59,
          30,
          20,
          21,
          39,
          60,
          62,
          62,
          39,
          29,
          45,
          24,
          13,
          50,
          62,
          33,
          18,
          34,
          35,
          48,
          41,
          61,
          31,
          26,
          75,
          22,
          17,
          20,
          26,
          61,
          25,
          71,
          52,
          31,
          31,
          48,
          48,
          26,
          43,
          66,
          4,
          38,
          54,
          50,
          45,
          52,
          50,
          34,
          45,
          20,
          38,
          31,
          32,
          30,
          36,
          72,
          62,
          47,
          44,
          72,
          55,
          5,
          27,
          41,
          64,
          16,
          20,
          18,
          68,
          5,
          22,
          29,
          27,
          24,
          40,
          22,
          31,
          13,
          31,
          34,
          12,
          51,
          14,
          67,
          22,
          32,
          47,
          48,
          54,
          36,
          35,
          62,
          48,
          2,
          52,
          13,
          31,
          31,
          63,
          51,
          61,
          58,
          36,
          55,
          40,
          38,
          38,
          57,
          28,
          34,
          58,
          36,
          52,
          30,
          29,
          32,
          25,
          43,
          40,
          16,
          34,
          26,
          56,
          55,
          66,
          42,
          46,
          54,
          51,
          20,
          31,
          46,
          23,
          55,
          32,
          40,
          16,
          5,
          24,
          64,
          45,
          43,
          63,
          45,
          35,
          41,
          54,
          35,
          53,
          14,
          35,
          57,
          30,
          71,
          41,
          44,
          11,
          36,
          11,
          52,
          12,
          34,
          51,
          41,
          58,
          49,
          48,
          43,
          55,
          14,
          37,
          52,
          51,
          30,
          43,
          16,
          41,
          56,
          29,
          6,
          67,
          41,
          45,
          26,
          40,
          7,
          52,
          17,
          57,
          15,
          23,
          54,
          20,
          24,
          46,
          29,
          38,
          57,
          73,
          69,
          61,
          41,
          20,
          20,
          54,
          36,
          24,
          64,
          22,
          55,
          40,
          27,
          12,
          27,
          10,
          53,
          55,
          33,
          57,
          31,
          9,
          45,
          50,
          43,
          16,
          40,
          53,
          55,
          44,
          35,
          58,
          51,
          18,
          29,
          57,
          30,
          23,
          38,
          32,
          26,
          47,
          75,
          20,
          58,
          28,
          13,
          58,
          48,
          76,
          40,
          32,
          49,
          50,
          64,
          50,
          45,
          39,
          55,
          24,
          36,
          41,
          61,
          34,
          42,
          44,
          57,
          29,
          35,
          7,
          46,
          75,
          39,
          62,
          27,
          37,
          34,
          44,
          37,
          48,
          18,
          26,
          24,
          27,
          47,
          30,
          38,
          31,
          70,
          22,
          43,
          60,
          22,
          35,
          34,
          61,
          33,
          45,
          38,
          57,
          72,
          15,
          21,
          57,
          32,
          29,
          17,
          72,
          29,
          45,
          29,
          64,
          11,
          34,
          61,
          69,
          39,
          37,
          9,
          33,
          54,
          44,
          39,
          53,
          42,
          52,
          40,
          21,
          67,
          9,
          45,
          42,
          53,
          31,
          32,
          35,
          62,
          36,
          53,
          28,
          30,
          10,
          64,
          34,
          18,
          14,
          38,
          45,
          72,
          55,
          44,
          35,
          31,
          45,
          48,
          24,
          21,
          34,
          47,
          38,
          60,
          63,
          15,
          54,
          36,
          29,
          10,
          54,
          53,
          19,
          22,
          39,
          61,
          40,
          35,
          24,
          67,
          24,
          21,
          44,
          20,
          59,
          35,
          18,
          66,
          59,
          60,
          12,
          7,
          34,
          6,
          50,
          35,
          70,
          40,
          42,
          18,
          62,
          48,
          35,
          33,
          37,
          20,
          52,
          63,
          40,
          50,
          47,
          16,
          51,
          46,
          58,
          45,
          50,
          56,
          39,
          54,
          53,
          38,
          18,
          38,
          41,
          44,
          23,
          57,
          27,
          44,
          51,
          79,
          20,
          57,
          28,
          41,
          52,
          35,
          56,
          55,
          36,
          26,
          37,
          60,
          68,
          30,
          8,
          68,
          36,
          24,
          24,
          73,
          36,
          37,
          14,
          22,
          33,
          12,
          8,
          64,
          61,
          45,
          33,
          30,
          38,
          45,
          46,
          54,
          69,
          55,
          32,
          51,
          11,
          57,
          33,
          10,
          72,
          47,
          28,
          70,
          57,
          47,
          23,
          25,
          32,
          41,
          41,
          57,
          43,
          30,
          11,
          42,
          50,
          43,
          39,
          17,
          18,
          48,
          37,
          68,
          45,
          28,
          47,
          39,
          52,
          56,
          58,
          56,
          19,
          42,
          23,
          34,
          30,
          51,
          32,
          58,
          45,
          56,
          29,
          33,
          57,
          54,
          59,
          30,
          26,
          44,
          29,
          72,
          73,
          12,
          42,
          47,
          8,
          19,
          29,
          48,
          65,
          7,
          71,
          45,
          46,
          25,
          39,
          60,
          4,
          60,
          60,
          24,
          6,
          30,
          48,
          43,
          38,
          40,
          42,
          54,
          38,
          45,
          18,
          54,
          25,
          45,
          59,
          56,
          41,
          42,
          57,
          54,
          48,
          47,
          40,
          42,
          27,
          63,
          12,
          28,
          61,
          40,
          43,
          7,
          56,
          31,
          57,
          31,
          38,
          42,
          62,
          69,
          43,
          32,
          38,
          34,
          50,
          40,
          61,
          17,
          32,
          34,
          33,
          49,
          35,
          14,
          25,
          53,
          47,
          44,
          27,
          30,
          7,
          54,
          58,
          25,
          39,
          26,
          56,
          22,
          11,
          47,
          33,
          64,
          45,
          75,
          9,
          28,
          44,
          20,
          53,
          8,
          30,
          33,
          34,
          36,
          67,
          51,
          66,
          59,
          49,
          23,
          41,
          18,
          22,
          70,
          49,
          18,
          34,
          41,
          12,
          65,
          43,
          25,
          76,
          48,
          66,
          67,
          56,
          49,
          22,
          76,
          75,
          49,
          20,
          48,
          60,
          62,
          53,
          74,
          13,
          73,
          16,
          52,
          32,
          38,
          29,
          10,
          45,
          46,
          43,
          5,
          21,
          69,
          9,
          46,
          35,
          42,
          71,
          75,
          56,
          36,
          39,
          27,
          35,
          53,
          57,
          8,
          22,
          41,
          58,
          8,
          20,
          68,
          15,
          50,
          36,
          2,
          20,
          4,
          18,
          41,
          32,
          61,
          50,
          24,
          26,
          16,
          55,
          10,
          9,
          18,
          43,
          68,
          62,
          39,
          29,
          54,
          36,
          51,
          21,
          35,
          45,
          28,
          52,
          25,
          62,
          37,
          30,
          41,
          45,
          36,
          28,
          29,
          67,
          65,
          54,
          42,
          14,
          46,
          31,
          39,
          41,
          17,
          59,
          16,
          31,
          45,
          23,
          12,
          35,
          28,
          22,
          32,
          37,
          39,
          39,
          30,
          27,
          47,
          33,
          19,
          31,
          64,
          15,
          43,
          27,
          62,
          14,
          44,
          65,
          43,
          33,
          32,
          52,
          44,
          64,
          43,
          38,
          65,
          44,
          34,
          34,
          71,
          41,
          3,
          27,
          38,
          34,
          28,
          44,
          16,
          32,
          65,
          59,
          32,
          74,
          50,
          50,
          40,
          30,
          42,
          39,
          53,
          33,
          39,
          47,
          53,
          12,
          43,
          59,
          63,
          32,
          31,
          44,
          22,
          39,
          38,
          56,
          33,
          31,
          29,
          59,
          47,
          23,
          40,
          14,
          60,
          19,
          19,
          56,
          45,
          28,
          24,
          29,
          63,
          32,
          54,
          43,
          36,
          39,
          75,
          29,
          52,
          28,
          34,
          41,
          44,
          25,
          50,
          72,
          27,
          46,
          65,
          43,
          70,
          34,
          42,
          17,
          30,
          36,
          37,
          14,
          56,
          24,
          5,
          21,
          13,
          16,
          57,
          47,
          69,
          65,
          21,
          61,
          23,
          47,
          64,
          63,
          29,
          33,
          45,
          39,
          42,
          29,
          66,
          33,
          33,
          32,
          66,
          30,
          11,
          63,
          13,
          51,
          52,
          56,
          56,
          35,
          56,
          51,
          22,
          53,
          38,
          15,
          16,
          34,
          42,
          43,
          29,
          36,
          25,
          39,
          18,
          36,
          41,
          37,
          50,
          39,
          35,
          62,
          44,
          39,
          39,
          44,
          44,
          51,
          49,
          5,
          39,
          50,
          29,
          39,
          58,
          38,
          11,
          23,
          7,
          45,
          36,
          63,
          8,
          41,
          70,
          40,
          47,
          31,
          45,
          73,
          27,
          42,
          62,
          11,
          35,
          36,
          51,
          68,
          61,
          17,
          17,
          37,
          12,
          13,
          28,
          58,
          74,
          46,
          28,
          46,
          46,
          38,
          10,
          14,
          44,
          43,
          31,
          35,
          34,
          20,
          66,
          26,
          24,
          41,
          43,
          32,
          43,
          20,
          61,
          5,
          57,
          54,
          57,
          79,
          57,
          16,
          64,
          43,
          69,
          6,
          51,
          13,
          19,
          52,
          24,
          63,
          49,
          62,
          48,
          23,
          9,
          30,
          36,
          68,
          54,
          51,
          27,
          58,
          45,
          60,
          36,
          43,
          22,
          35,
          8,
          5,
          51,
          16,
          29,
          42,
          34,
          25,
          55,
          61,
          65,
          47,
          62,
          64,
          29,
          42,
          26,
          50,
          35,
          17,
          38,
          14,
          25,
          9,
          28,
          40,
          24,
          55,
          34,
          65,
          12,
          22,
          24,
          40,
          25,
          21,
          38,
          34,
          67,
          49,
          55,
          22,
          24,
          37,
          60,
          51,
          59,
          39,
          45,
          44,
          24,
          44,
          47,
          47,
          49,
          31,
          25,
          20,
          61,
          66,
          46,
          55,
          11,
          33,
          11,
          27,
          57,
          46,
          65,
          34,
          38,
          39,
          22,
          47,
          63,
          47,
          31,
          28,
          73,
          44,
          59,
          53,
          2,
          30,
          35,
          45,
          15,
          31,
          47,
          41,
          45,
          46,
          32,
          30,
          67,
          46,
          60,
          25,
          13,
          21,
          24,
          35,
          72,
          57,
          52,
          24,
          37,
          47,
          48,
          11,
          39,
          54,
          41,
          17,
          23,
          56
         ],
         "y0": " ",
         "yaxis": "y"
        }
       ],
       "layout": {
        "boxmode": "group",
        "legend": {
         "tracegroupgap": 0
        },
        "template": {
         "data": {
          "bar": [
           {
            "error_x": {
             "color": "#2a3f5f"
            },
            "error_y": {
             "color": "#2a3f5f"
            },
            "marker": {
             "line": {
              "color": "#E5ECF6",
              "width": 0.5
             },
             "pattern": {
              "fillmode": "overlay",
              "size": 10,
              "solidity": 0.2
             }
            },
            "type": "bar"
           }
          ],
          "barpolar": [
           {
            "marker": {
             "line": {
              "color": "#E5ECF6",
              "width": 0.5
             },
             "pattern": {
              "fillmode": "overlay",
              "size": 10,
              "solidity": 0.2
             }
            },
            "type": "barpolar"
           }
          ],
          "carpet": [
           {
            "aaxis": {
             "endlinecolor": "#2a3f5f",
             "gridcolor": "white",
             "linecolor": "white",
             "minorgridcolor": "white",
             "startlinecolor": "#2a3f5f"
            },
            "baxis": {
             "endlinecolor": "#2a3f5f",
             "gridcolor": "white",
             "linecolor": "white",
             "minorgridcolor": "white",
             "startlinecolor": "#2a3f5f"
            },
            "type": "carpet"
           }
          ],
          "choropleth": [
           {
            "colorbar": {
             "outlinewidth": 0,
             "ticks": ""
            },
            "type": "choropleth"
           }
          ],
          "contour": [
           {
            "colorbar": {
             "outlinewidth": 0,
             "ticks": ""
            },
            "colorscale": [
             [
              0,
              "#0d0887"
             ],
             [
              0.1111111111111111,
              "#46039f"
             ],
             [
              0.2222222222222222,
              "#7201a8"
             ],
             [
              0.3333333333333333,
              "#9c179e"
             ],
             [
              0.4444444444444444,
              "#bd3786"
             ],
             [
              0.5555555555555556,
              "#d8576b"
             ],
             [
              0.6666666666666666,
              "#ed7953"
             ],
             [
              0.7777777777777778,
              "#fb9f3a"
             ],
             [
              0.8888888888888888,
              "#fdca26"
             ],
             [
              1,
              "#f0f921"
             ]
            ],
            "type": "contour"
           }
          ],
          "contourcarpet": [
           {
            "colorbar": {
             "outlinewidth": 0,
             "ticks": ""
            },
            "type": "contourcarpet"
           }
          ],
          "heatmap": [
           {
            "colorbar": {
             "outlinewidth": 0,
             "ticks": ""
            },
            "colorscale": [
             [
              0,
              "#0d0887"
             ],
             [
              0.1111111111111111,
              "#46039f"
             ],
             [
              0.2222222222222222,
              "#7201a8"
             ],
             [
              0.3333333333333333,
              "#9c179e"
             ],
             [
              0.4444444444444444,
              "#bd3786"
             ],
             [
              0.5555555555555556,
              "#d8576b"
             ],
             [
              0.6666666666666666,
              "#ed7953"
             ],
             [
              0.7777777777777778,
              "#fb9f3a"
             ],
             [
              0.8888888888888888,
              "#fdca26"
             ],
             [
              1,
              "#f0f921"
             ]
            ],
            "type": "heatmap"
           }
          ],
          "heatmapgl": [
           {
            "colorbar": {
             "outlinewidth": 0,
             "ticks": ""
            },
            "colorscale": [
             [
              0,
              "#0d0887"
             ],
             [
              0.1111111111111111,
              "#46039f"
             ],
             [
              0.2222222222222222,
              "#7201a8"
             ],
             [
              0.3333333333333333,
              "#9c179e"
             ],
             [
              0.4444444444444444,
              "#bd3786"
             ],
             [
              0.5555555555555556,
              "#d8576b"
             ],
             [
              0.6666666666666666,
              "#ed7953"
             ],
             [
              0.7777777777777778,
              "#fb9f3a"
             ],
             [
              0.8888888888888888,
              "#fdca26"
             ],
             [
              1,
              "#f0f921"
             ]
            ],
            "type": "heatmapgl"
           }
          ],
          "histogram": [
           {
            "marker": {
             "pattern": {
              "fillmode": "overlay",
              "size": 10,
              "solidity": 0.2
             }
            },
            "type": "histogram"
           }
          ],
          "histogram2d": [
           {
            "colorbar": {
             "outlinewidth": 0,
             "ticks": ""
            },
            "colorscale": [
             [
              0,
              "#0d0887"
             ],
             [
              0.1111111111111111,
              "#46039f"
             ],
             [
              0.2222222222222222,
              "#7201a8"
             ],
             [
              0.3333333333333333,
              "#9c179e"
             ],
             [
              0.4444444444444444,
              "#bd3786"
             ],
             [
              0.5555555555555556,
              "#d8576b"
             ],
             [
              0.6666666666666666,
              "#ed7953"
             ],
             [
              0.7777777777777778,
              "#fb9f3a"
             ],
             [
              0.8888888888888888,
              "#fdca26"
             ],
             [
              1,
              "#f0f921"
             ]
            ],
            "type": "histogram2d"
           }
          ],
          "histogram2dcontour": [
           {
            "colorbar": {
             "outlinewidth": 0,
             "ticks": ""
            },
            "colorscale": [
             [
              0,
              "#0d0887"
             ],
             [
              0.1111111111111111,
              "#46039f"
             ],
             [
              0.2222222222222222,
              "#7201a8"
             ],
             [
              0.3333333333333333,
              "#9c179e"
             ],
             [
              0.4444444444444444,
              "#bd3786"
             ],
             [
              0.5555555555555556,
              "#d8576b"
             ],
             [
              0.6666666666666666,
              "#ed7953"
             ],
             [
              0.7777777777777778,
              "#fb9f3a"
             ],
             [
              0.8888888888888888,
              "#fdca26"
             ],
             [
              1,
              "#f0f921"
             ]
            ],
            "type": "histogram2dcontour"
           }
          ],
          "mesh3d": [
           {
            "colorbar": {
             "outlinewidth": 0,
             "ticks": ""
            },
            "type": "mesh3d"
           }
          ],
          "parcoords": [
           {
            "line": {
             "colorbar": {
              "outlinewidth": 0,
              "ticks": ""
             }
            },
            "type": "parcoords"
           }
          ],
          "pie": [
           {
            "automargin": true,
            "type": "pie"
           }
          ],
          "scatter": [
           {
            "fillpattern": {
             "fillmode": "overlay",
             "size": 10,
             "solidity": 0.2
            },
            "type": "scatter"
           }
          ],
          "scatter3d": [
           {
            "line": {
             "colorbar": {
              "outlinewidth": 0,
              "ticks": ""
             }
            },
            "marker": {
             "colorbar": {
              "outlinewidth": 0,
              "ticks": ""
             }
            },
            "type": "scatter3d"
           }
          ],
          "scattercarpet": [
           {
            "marker": {
             "colorbar": {
              "outlinewidth": 0,
              "ticks": ""
             }
            },
            "type": "scattercarpet"
           }
          ],
          "scattergeo": [
           {
            "marker": {
             "colorbar": {
              "outlinewidth": 0,
              "ticks": ""
             }
            },
            "type": "scattergeo"
           }
          ],
          "scattergl": [
           {
            "marker": {
             "colorbar": {
              "outlinewidth": 0,
              "ticks": ""
             }
            },
            "type": "scattergl"
           }
          ],
          "scattermapbox": [
           {
            "marker": {
             "colorbar": {
              "outlinewidth": 0,
              "ticks": ""
             }
            },
            "type": "scattermapbox"
           }
          ],
          "scatterpolar": [
           {
            "marker": {
             "colorbar": {
              "outlinewidth": 0,
              "ticks": ""
             }
            },
            "type": "scatterpolar"
           }
          ],
          "scatterpolargl": [
           {
            "marker": {
             "colorbar": {
              "outlinewidth": 0,
              "ticks": ""
             }
            },
            "type": "scatterpolargl"
           }
          ],
          "scatterternary": [
           {
            "marker": {
             "colorbar": {
              "outlinewidth": 0,
              "ticks": ""
             }
            },
            "type": "scatterternary"
           }
          ],
          "surface": [
           {
            "colorbar": {
             "outlinewidth": 0,
             "ticks": ""
            },
            "colorscale": [
             [
              0,
              "#0d0887"
             ],
             [
              0.1111111111111111,
              "#46039f"
             ],
             [
              0.2222222222222222,
              "#7201a8"
             ],
             [
              0.3333333333333333,
              "#9c179e"
             ],
             [
              0.4444444444444444,
              "#bd3786"
             ],
             [
              0.5555555555555556,
              "#d8576b"
             ],
             [
              0.6666666666666666,
              "#ed7953"
             ],
             [
              0.7777777777777778,
              "#fb9f3a"
             ],
             [
              0.8888888888888888,
              "#fdca26"
             ],
             [
              1,
              "#f0f921"
             ]
            ],
            "type": "surface"
           }
          ],
          "table": [
           {
            "cells": {
             "fill": {
              "color": "#EBF0F8"
             },
             "line": {
              "color": "white"
             }
            },
            "header": {
             "fill": {
              "color": "#C8D4E3"
             },
             "line": {
              "color": "white"
             }
            },
            "type": "table"
           }
          ]
         },
         "layout": {
          "annotationdefaults": {
           "arrowcolor": "#2a3f5f",
           "arrowhead": 0,
           "arrowwidth": 1
          },
          "autotypenumbers": "strict",
          "coloraxis": {
           "colorbar": {
            "outlinewidth": 0,
            "ticks": ""
           }
          },
          "colorscale": {
           "diverging": [
            [
             0,
             "#8e0152"
            ],
            [
             0.1,
             "#c51b7d"
            ],
            [
             0.2,
             "#de77ae"
            ],
            [
             0.3,
             "#f1b6da"
            ],
            [
             0.4,
             "#fde0ef"
            ],
            [
             0.5,
             "#f7f7f7"
            ],
            [
             0.6,
             "#e6f5d0"
            ],
            [
             0.7,
             "#b8e186"
            ],
            [
             0.8,
             "#7fbc41"
            ],
            [
             0.9,
             "#4d9221"
            ],
            [
             1,
             "#276419"
            ]
           ],
           "sequential": [
            [
             0,
             "#0d0887"
            ],
            [
             0.1111111111111111,
             "#46039f"
            ],
            [
             0.2222222222222222,
             "#7201a8"
            ],
            [
             0.3333333333333333,
             "#9c179e"
            ],
            [
             0.4444444444444444,
             "#bd3786"
            ],
            [
             0.5555555555555556,
             "#d8576b"
            ],
            [
             0.6666666666666666,
             "#ed7953"
            ],
            [
             0.7777777777777778,
             "#fb9f3a"
            ],
            [
             0.8888888888888888,
             "#fdca26"
            ],
            [
             1,
             "#f0f921"
            ]
           ],
           "sequentialminus": [
            [
             0,
             "#0d0887"
            ],
            [
             0.1111111111111111,
             "#46039f"
            ],
            [
             0.2222222222222222,
             "#7201a8"
            ],
            [
             0.3333333333333333,
             "#9c179e"
            ],
            [
             0.4444444444444444,
             "#bd3786"
            ],
            [
             0.5555555555555556,
             "#d8576b"
            ],
            [
             0.6666666666666666,
             "#ed7953"
            ],
            [
             0.7777777777777778,
             "#fb9f3a"
            ],
            [
             0.8888888888888888,
             "#fdca26"
            ],
            [
             1,
             "#f0f921"
            ]
           ]
          },
          "colorway": [
           "#636efa",
           "#EF553B",
           "#00cc96",
           "#ab63fa",
           "#FFA15A",
           "#19d3f3",
           "#FF6692",
           "#B6E880",
           "#FF97FF",
           "#FECB52"
          ],
          "font": {
           "color": "#2a3f5f"
          },
          "geo": {
           "bgcolor": "white",
           "lakecolor": "white",
           "landcolor": "#E5ECF6",
           "showlakes": true,
           "showland": true,
           "subunitcolor": "white"
          },
          "hoverlabel": {
           "align": "left"
          },
          "hovermode": "closest",
          "mapbox": {
           "style": "light"
          },
          "paper_bgcolor": "white",
          "plot_bgcolor": "#E5ECF6",
          "polar": {
           "angularaxis": {
            "gridcolor": "white",
            "linecolor": "white",
            "ticks": ""
           },
           "bgcolor": "#E5ECF6",
           "radialaxis": {
            "gridcolor": "white",
            "linecolor": "white",
            "ticks": ""
           }
          },
          "scene": {
           "xaxis": {
            "backgroundcolor": "#E5ECF6",
            "gridcolor": "white",
            "gridwidth": 2,
            "linecolor": "white",
            "showbackground": true,
            "ticks": "",
            "zerolinecolor": "white"
           },
           "yaxis": {
            "backgroundcolor": "#E5ECF6",
            "gridcolor": "white",
            "gridwidth": 2,
            "linecolor": "white",
            "showbackground": true,
            "ticks": "",
            "zerolinecolor": "white"
           },
           "zaxis": {
            "backgroundcolor": "#E5ECF6",
            "gridcolor": "white",
            "gridwidth": 2,
            "linecolor": "white",
            "showbackground": true,
            "ticks": "",
            "zerolinecolor": "white"
           }
          },
          "shapedefaults": {
           "line": {
            "color": "#2a3f5f"
           }
          },
          "ternary": {
           "aaxis": {
            "gridcolor": "white",
            "linecolor": "white",
            "ticks": ""
           },
           "baxis": {
            "gridcolor": "white",
            "linecolor": "white",
            "ticks": ""
           },
           "bgcolor": "#E5ECF6",
           "caxis": {
            "gridcolor": "white",
            "linecolor": "white",
            "ticks": ""
           }
          },
          "title": {
           "x": 0.05
          },
          "xaxis": {
           "automargin": true,
           "gridcolor": "white",
           "linecolor": "white",
           "ticks": "",
           "title": {
            "standoff": 15
           },
           "zerolinecolor": "white",
           "zerolinewidth": 2
          },
          "yaxis": {
           "automargin": true,
           "gridcolor": "white",
           "linecolor": "white",
           "ticks": "",
           "title": {
            "standoff": 15
           },
           "zerolinecolor": "white",
           "zerolinewidth": 2
          }
         }
        },
        "title": {
         "text": "Distribution of OCD Severity by Gender"
        },
        "xaxis": {
         "anchor": "y",
         "domain": [
          0,
          1
         ],
         "title": {
          "text": "Gender"
         }
        },
        "yaxis": {
         "anchor": "x",
         "domain": [
          0,
          1
         ],
         "title": {
          "text": "OCD Severity (Y-BOCS Total Score)"
         }
        }
       }
      }
     },
     "metadata": {},
     "output_type": "display_data"
    }
   ],
   "source": [
    "# Box plot for OCD severity (Total_Score) by Gender\n",
    "fig3 = px.box(df, x='Gender', y='Total_Score', title='Distribution of OCD Severity by Gender',\n",
    "              labels={'Total_Score': 'OCD Severity (Y-BOCS Total Score)', 'Gender': 'Gender'})\n",
    "fig3.show()"
   ]
  },
  {
   "cell_type": "markdown",
   "metadata": {},
   "source": [
    "3. How does family history of OCD influence the Total_Score?  \n",
    "We try to examine whether individuals with a family history of OCD are more likely to have severe symptoms, potentially highlighting genetic or environmental influences."
   ]
  },
  {
   "cell_type": "code",
   "execution_count": 18,
   "metadata": {},
   "outputs": [],
   "source": [
    "import plotly.io as pio"
   ]
  },
  {
   "cell_type": "code",
   "execution_count": 19,
   "metadata": {},
   "outputs": [
    {
     "data": {
      "application/vnd.plotly.v1+json": {
       "config": {
        "plotlyServerURL": "https://plot.ly"
       },
       "data": [
        {
         "marker": {
          "color": "lightblue"
         },
         "name": "Number of People",
         "type": "bar",
         "x": [
          true,
          false
         ],
         "y": [
          213,
          206
         ],
         "yaxis": "y"
        },
        {
         "marker": {
          "color": "orange"
         },
         "name": "Distribution of Total Score",
         "type": "box",
         "x": [
          false,
          false,
          false,
          false,
          false,
          false,
          true,
          false,
          false,
          true,
          true,
          false,
          true,
          true,
          true,
          true,
          true,
          false,
          false,
          true,
          false,
          false,
          true,
          false,
          false,
          false,
          true,
          false,
          false,
          false,
          true,
          false,
          true,
          true,
          true,
          false,
          false,
          true,
          true,
          false,
          false,
          true,
          false,
          true,
          false,
          true,
          true,
          true,
          false,
          true,
          false,
          true,
          false,
          true,
          false,
          true,
          true,
          true,
          true,
          false,
          true,
          false,
          false,
          true,
          false,
          false,
          false,
          false,
          true,
          false,
          false,
          true,
          false,
          false,
          false,
          false,
          false,
          true,
          false,
          true,
          true,
          false,
          false,
          false,
          false,
          false,
          true,
          true,
          true,
          false,
          false,
          false,
          true,
          true,
          true,
          false,
          true,
          true,
          false,
          true,
          false,
          true,
          true,
          false,
          true,
          true,
          false,
          false,
          true,
          true,
          true,
          false,
          true,
          false,
          true,
          false,
          false,
          false,
          false,
          true,
          false,
          false,
          true,
          true,
          false,
          true,
          true,
          false,
          false,
          false,
          false,
          true,
          true,
          true,
          true,
          true,
          false,
          true,
          false,
          true,
          true,
          true,
          false,
          false,
          true,
          false,
          true,
          true,
          false,
          false,
          false,
          false,
          false,
          false,
          false,
          false,
          true,
          false,
          true,
          true,
          false,
          false,
          true,
          false,
          false,
          true,
          false,
          true,
          true,
          false,
          true,
          true,
          true,
          true,
          false,
          false,
          true,
          true,
          false,
          true,
          false,
          true,
          false,
          false,
          false,
          true,
          true,
          true,
          true,
          true,
          true,
          false,
          false,
          false,
          true,
          false,
          true,
          false,
          true,
          false,
          false,
          false,
          false,
          true,
          false,
          false,
          true,
          false,
          false,
          false,
          false,
          true,
          false,
          false,
          false,
          false,
          true,
          true,
          false,
          true,
          false,
          true,
          false,
          false,
          true,
          true,
          true,
          false,
          true,
          true,
          false,
          true,
          false,
          true,
          true,
          false,
          true,
          false,
          true,
          false,
          true,
          true,
          true,
          true,
          true,
          true,
          false,
          false,
          true,
          true,
          true,
          true,
          false,
          false,
          true,
          true,
          true,
          true,
          true,
          true,
          true,
          true,
          false,
          true,
          true,
          false,
          false,
          true,
          false,
          true,
          false,
          true,
          true,
          false,
          true,
          true,
          false,
          false,
          false,
          true,
          true,
          true,
          true,
          true,
          true,
          true,
          false,
          false,
          false,
          false,
          false,
          false,
          false,
          false,
          true,
          false,
          true,
          true,
          true,
          true,
          false,
          false,
          true,
          false,
          true,
          true,
          true,
          false,
          true,
          true,
          false,
          true,
          false,
          false,
          true,
          false,
          false,
          true,
          true,
          true,
          false,
          false,
          false,
          false,
          true,
          false,
          true,
          false,
          true,
          true,
          true,
          false,
          false,
          true,
          true,
          false,
          false,
          true,
          false,
          true,
          false,
          true,
          false,
          true,
          false,
          false,
          true,
          false,
          true,
          true,
          true,
          true,
          true,
          false,
          false,
          true,
          true,
          true,
          false,
          false,
          true,
          true,
          true,
          false,
          true,
          true,
          false,
          true,
          true,
          false,
          true,
          false,
          true,
          true,
          true,
          true,
          false,
          true,
          true,
          false,
          true,
          true,
          false,
          true,
          false,
          false,
          true,
          true,
          true,
          true,
          false,
          false,
          true,
          false,
          false,
          true,
          false,
          true,
          false,
          true,
          false,
          false,
          true,
          false,
          false,
          false,
          false,
          false,
          false,
          false,
          false,
          true,
          true,
          false,
          true,
          false,
          true,
          true,
          true
         ],
         "y": [
          27,
          7,
          28,
          20,
          12,
          18,
          12,
          18,
          40,
          7,
          26,
          28,
          20,
          23,
          38,
          22,
          21,
          25,
          34,
          14,
          28,
          25,
          8,
          18,
          3,
          16,
          5,
          24,
          28,
          22,
          5,
          26,
          19,
          15,
          22,
          2,
          9,
          35,
          6,
          24,
          20,
          27,
          30,
          29,
          30,
          17,
          37,
          8,
          24,
          23,
          17,
          23,
          5,
          13,
          36,
          24,
          13,
          16,
          18,
          13,
          19,
          18,
          9,
          21,
          21,
          23,
          7,
          20,
          36,
          19,
          21,
          12,
          16,
          20,
          28,
          33,
          20,
          9,
          15,
          20,
          8,
          4,
          1,
          16,
          26,
          13,
          22,
          23,
          25,
          6,
          7,
          21,
          28,
          20,
          21,
          24,
          13,
          18,
          22,
          17,
          20,
          25,
          26,
          4,
          20,
          36,
          5,
          27,
          16,
          20,
          18,
          5,
          22,
          22,
          31,
          13,
          12,
          14,
          2,
          13,
          31,
          34,
          25,
          16,
          34,
          26,
          20,
          23,
          32,
          16,
          5,
          14,
          35,
          30,
          11,
          11,
          12,
          14,
          30,
          16,
          29,
          6,
          26,
          7,
          17,
          15,
          23,
          20,
          38,
          20,
          20,
          24,
          22,
          27,
          12,
          27,
          10,
          9,
          16,
          18,
          29,
          23,
          32,
          20,
          13,
          39,
          24,
          36,
          7,
          27,
          18,
          27,
          38,
          22,
          22,
          34,
          15,
          21,
          32,
          17,
          29,
          11,
          9,
          33,
          9,
          32,
          10,
          18,
          14,
          24,
          21,
          15,
          10,
          19,
          22,
          24,
          24,
          21,
          20,
          35,
          18,
          12,
          7,
          6,
          18,
          20,
          16,
          18,
          23,
          27,
          20,
          26,
          30,
          8,
          24,
          24,
          14,
          22,
          12,
          8,
          11,
          10,
          25,
          32,
          30,
          11,
          17,
          18,
          37,
          19,
          23,
          29,
          12,
          8,
          19,
          29,
          7,
          4,
          24,
          6,
          18,
          12,
          7,
          17,
          35,
          14,
          25,
          7,
          25,
          26,
          22,
          11,
          9,
          28,
          20,
          8,
          30,
          23,
          18,
          22,
          18,
          12,
          25,
          22,
          20,
          13,
          16,
          10,
          5,
          21,
          9,
          36,
          39,
          35,
          8,
          22,
          8,
          20,
          15,
          2,
          20,
          4,
          18,
          24,
          26,
          16,
          10,
          9,
          18,
          29,
          21,
          28,
          25,
          37,
          30,
          29,
          14,
          17,
          16,
          23,
          12,
          28,
          22,
          37,
          19,
          31,
          15,
          27,
          14,
          33,
          38,
          3,
          27,
          28,
          16,
          30,
          39,
          12,
          22,
          31,
          23,
          14,
          19,
          19,
          24,
          29,
          39,
          28,
          25,
          34,
          17,
          37,
          14,
          24,
          5,
          21,
          13,
          16,
          21,
          23,
          29,
          33,
          33,
          11,
          13,
          38,
          15,
          16,
          29,
          25,
          18,
          5,
          11,
          23,
          7,
          8,
          31,
          27,
          11,
          17,
          17,
          12,
          13,
          28,
          10,
          14,
          20,
          24,
          20,
          5,
          16,
          6,
          13,
          19,
          24,
          23,
          9,
          22,
          35,
          8,
          5,
          16,
          29,
          34,
          17,
          14,
          9,
          24,
          12,
          22,
          24,
          25,
          21,
          22,
          24,
          31,
          25,
          20,
          11,
          33,
          11,
          27,
          34,
          38,
          22,
          28,
          2,
          30,
          35,
          15,
          30,
          25,
          13,
          21,
          24,
          35,
          11,
          17,
          23
         ],
         "yaxis": "y2"
        }
       ],
       "layout": {
        "legend": {
         "x": 0.1,
         "y": 1.1
        },
        "template": {
         "data": {
          "bar": [
           {
            "error_x": {
             "color": "#2a3f5f"
            },
            "error_y": {
             "color": "#2a3f5f"
            },
            "marker": {
             "line": {
              "color": "#E5ECF6",
              "width": 0.5
             },
             "pattern": {
              "fillmode": "overlay",
              "size": 10,
              "solidity": 0.2
             }
            },
            "type": "bar"
           }
          ],
          "barpolar": [
           {
            "marker": {
             "line": {
              "color": "#E5ECF6",
              "width": 0.5
             },
             "pattern": {
              "fillmode": "overlay",
              "size": 10,
              "solidity": 0.2
             }
            },
            "type": "barpolar"
           }
          ],
          "carpet": [
           {
            "aaxis": {
             "endlinecolor": "#2a3f5f",
             "gridcolor": "white",
             "linecolor": "white",
             "minorgridcolor": "white",
             "startlinecolor": "#2a3f5f"
            },
            "baxis": {
             "endlinecolor": "#2a3f5f",
             "gridcolor": "white",
             "linecolor": "white",
             "minorgridcolor": "white",
             "startlinecolor": "#2a3f5f"
            },
            "type": "carpet"
           }
          ],
          "choropleth": [
           {
            "colorbar": {
             "outlinewidth": 0,
             "ticks": ""
            },
            "type": "choropleth"
           }
          ],
          "contour": [
           {
            "colorbar": {
             "outlinewidth": 0,
             "ticks": ""
            },
            "colorscale": [
             [
              0,
              "#0d0887"
             ],
             [
              0.1111111111111111,
              "#46039f"
             ],
             [
              0.2222222222222222,
              "#7201a8"
             ],
             [
              0.3333333333333333,
              "#9c179e"
             ],
             [
              0.4444444444444444,
              "#bd3786"
             ],
             [
              0.5555555555555556,
              "#d8576b"
             ],
             [
              0.6666666666666666,
              "#ed7953"
             ],
             [
              0.7777777777777778,
              "#fb9f3a"
             ],
             [
              0.8888888888888888,
              "#fdca26"
             ],
             [
              1,
              "#f0f921"
             ]
            ],
            "type": "contour"
           }
          ],
          "contourcarpet": [
           {
            "colorbar": {
             "outlinewidth": 0,
             "ticks": ""
            },
            "type": "contourcarpet"
           }
          ],
          "heatmap": [
           {
            "colorbar": {
             "outlinewidth": 0,
             "ticks": ""
            },
            "colorscale": [
             [
              0,
              "#0d0887"
             ],
             [
              0.1111111111111111,
              "#46039f"
             ],
             [
              0.2222222222222222,
              "#7201a8"
             ],
             [
              0.3333333333333333,
              "#9c179e"
             ],
             [
              0.4444444444444444,
              "#bd3786"
             ],
             [
              0.5555555555555556,
              "#d8576b"
             ],
             [
              0.6666666666666666,
              "#ed7953"
             ],
             [
              0.7777777777777778,
              "#fb9f3a"
             ],
             [
              0.8888888888888888,
              "#fdca26"
             ],
             [
              1,
              "#f0f921"
             ]
            ],
            "type": "heatmap"
           }
          ],
          "heatmapgl": [
           {
            "colorbar": {
             "outlinewidth": 0,
             "ticks": ""
            },
            "colorscale": [
             [
              0,
              "#0d0887"
             ],
             [
              0.1111111111111111,
              "#46039f"
             ],
             [
              0.2222222222222222,
              "#7201a8"
             ],
             [
              0.3333333333333333,
              "#9c179e"
             ],
             [
              0.4444444444444444,
              "#bd3786"
             ],
             [
              0.5555555555555556,
              "#d8576b"
             ],
             [
              0.6666666666666666,
              "#ed7953"
             ],
             [
              0.7777777777777778,
              "#fb9f3a"
             ],
             [
              0.8888888888888888,
              "#fdca26"
             ],
             [
              1,
              "#f0f921"
             ]
            ],
            "type": "heatmapgl"
           }
          ],
          "histogram": [
           {
            "marker": {
             "pattern": {
              "fillmode": "overlay",
              "size": 10,
              "solidity": 0.2
             }
            },
            "type": "histogram"
           }
          ],
          "histogram2d": [
           {
            "colorbar": {
             "outlinewidth": 0,
             "ticks": ""
            },
            "colorscale": [
             [
              0,
              "#0d0887"
             ],
             [
              0.1111111111111111,
              "#46039f"
             ],
             [
              0.2222222222222222,
              "#7201a8"
             ],
             [
              0.3333333333333333,
              "#9c179e"
             ],
             [
              0.4444444444444444,
              "#bd3786"
             ],
             [
              0.5555555555555556,
              "#d8576b"
             ],
             [
              0.6666666666666666,
              "#ed7953"
             ],
             [
              0.7777777777777778,
              "#fb9f3a"
             ],
             [
              0.8888888888888888,
              "#fdca26"
             ],
             [
              1,
              "#f0f921"
             ]
            ],
            "type": "histogram2d"
           }
          ],
          "histogram2dcontour": [
           {
            "colorbar": {
             "outlinewidth": 0,
             "ticks": ""
            },
            "colorscale": [
             [
              0,
              "#0d0887"
             ],
             [
              0.1111111111111111,
              "#46039f"
             ],
             [
              0.2222222222222222,
              "#7201a8"
             ],
             [
              0.3333333333333333,
              "#9c179e"
             ],
             [
              0.4444444444444444,
              "#bd3786"
             ],
             [
              0.5555555555555556,
              "#d8576b"
             ],
             [
              0.6666666666666666,
              "#ed7953"
             ],
             [
              0.7777777777777778,
              "#fb9f3a"
             ],
             [
              0.8888888888888888,
              "#fdca26"
             ],
             [
              1,
              "#f0f921"
             ]
            ],
            "type": "histogram2dcontour"
           }
          ],
          "mesh3d": [
           {
            "colorbar": {
             "outlinewidth": 0,
             "ticks": ""
            },
            "type": "mesh3d"
           }
          ],
          "parcoords": [
           {
            "line": {
             "colorbar": {
              "outlinewidth": 0,
              "ticks": ""
             }
            },
            "type": "parcoords"
           }
          ],
          "pie": [
           {
            "automargin": true,
            "type": "pie"
           }
          ],
          "scatter": [
           {
            "fillpattern": {
             "fillmode": "overlay",
             "size": 10,
             "solidity": 0.2
            },
            "type": "scatter"
           }
          ],
          "scatter3d": [
           {
            "line": {
             "colorbar": {
              "outlinewidth": 0,
              "ticks": ""
             }
            },
            "marker": {
             "colorbar": {
              "outlinewidth": 0,
              "ticks": ""
             }
            },
            "type": "scatter3d"
           }
          ],
          "scattercarpet": [
           {
            "marker": {
             "colorbar": {
              "outlinewidth": 0,
              "ticks": ""
             }
            },
            "type": "scattercarpet"
           }
          ],
          "scattergeo": [
           {
            "marker": {
             "colorbar": {
              "outlinewidth": 0,
              "ticks": ""
             }
            },
            "type": "scattergeo"
           }
          ],
          "scattergl": [
           {
            "marker": {
             "colorbar": {
              "outlinewidth": 0,
              "ticks": ""
             }
            },
            "type": "scattergl"
           }
          ],
          "scattermapbox": [
           {
            "marker": {
             "colorbar": {
              "outlinewidth": 0,
              "ticks": ""
             }
            },
            "type": "scattermapbox"
           }
          ],
          "scatterpolar": [
           {
            "marker": {
             "colorbar": {
              "outlinewidth": 0,
              "ticks": ""
             }
            },
            "type": "scatterpolar"
           }
          ],
          "scatterpolargl": [
           {
            "marker": {
             "colorbar": {
              "outlinewidth": 0,
              "ticks": ""
             }
            },
            "type": "scatterpolargl"
           }
          ],
          "scatterternary": [
           {
            "marker": {
             "colorbar": {
              "outlinewidth": 0,
              "ticks": ""
             }
            },
            "type": "scatterternary"
           }
          ],
          "surface": [
           {
            "colorbar": {
             "outlinewidth": 0,
             "ticks": ""
            },
            "colorscale": [
             [
              0,
              "#0d0887"
             ],
             [
              0.1111111111111111,
              "#46039f"
             ],
             [
              0.2222222222222222,
              "#7201a8"
             ],
             [
              0.3333333333333333,
              "#9c179e"
             ],
             [
              0.4444444444444444,
              "#bd3786"
             ],
             [
              0.5555555555555556,
              "#d8576b"
             ],
             [
              0.6666666666666666,
              "#ed7953"
             ],
             [
              0.7777777777777778,
              "#fb9f3a"
             ],
             [
              0.8888888888888888,
              "#fdca26"
             ],
             [
              1,
              "#f0f921"
             ]
            ],
            "type": "surface"
           }
          ],
          "table": [
           {
            "cells": {
             "fill": {
              "color": "#EBF0F8"
             },
             "line": {
              "color": "white"
             }
            },
            "header": {
             "fill": {
              "color": "#C8D4E3"
             },
             "line": {
              "color": "white"
             }
            },
            "type": "table"
           }
          ]
         },
         "layout": {
          "annotationdefaults": {
           "arrowcolor": "#2a3f5f",
           "arrowhead": 0,
           "arrowwidth": 1
          },
          "autotypenumbers": "strict",
          "coloraxis": {
           "colorbar": {
            "outlinewidth": 0,
            "ticks": ""
           }
          },
          "colorscale": {
           "diverging": [
            [
             0,
             "#8e0152"
            ],
            [
             0.1,
             "#c51b7d"
            ],
            [
             0.2,
             "#de77ae"
            ],
            [
             0.3,
             "#f1b6da"
            ],
            [
             0.4,
             "#fde0ef"
            ],
            [
             0.5,
             "#f7f7f7"
            ],
            [
             0.6,
             "#e6f5d0"
            ],
            [
             0.7,
             "#b8e186"
            ],
            [
             0.8,
             "#7fbc41"
            ],
            [
             0.9,
             "#4d9221"
            ],
            [
             1,
             "#276419"
            ]
           ],
           "sequential": [
            [
             0,
             "#0d0887"
            ],
            [
             0.1111111111111111,
             "#46039f"
            ],
            [
             0.2222222222222222,
             "#7201a8"
            ],
            [
             0.3333333333333333,
             "#9c179e"
            ],
            [
             0.4444444444444444,
             "#bd3786"
            ],
            [
             0.5555555555555556,
             "#d8576b"
            ],
            [
             0.6666666666666666,
             "#ed7953"
            ],
            [
             0.7777777777777778,
             "#fb9f3a"
            ],
            [
             0.8888888888888888,
             "#fdca26"
            ],
            [
             1,
             "#f0f921"
            ]
           ],
           "sequentialminus": [
            [
             0,
             "#0d0887"
            ],
            [
             0.1111111111111111,
             "#46039f"
            ],
            [
             0.2222222222222222,
             "#7201a8"
            ],
            [
             0.3333333333333333,
             "#9c179e"
            ],
            [
             0.4444444444444444,
             "#bd3786"
            ],
            [
             0.5555555555555556,
             "#d8576b"
            ],
            [
             0.6666666666666666,
             "#ed7953"
            ],
            [
             0.7777777777777778,
             "#fb9f3a"
            ],
            [
             0.8888888888888888,
             "#fdca26"
            ],
            [
             1,
             "#f0f921"
            ]
           ]
          },
          "colorway": [
           "#636efa",
           "#EF553B",
           "#00cc96",
           "#ab63fa",
           "#FFA15A",
           "#19d3f3",
           "#FF6692",
           "#B6E880",
           "#FF97FF",
           "#FECB52"
          ],
          "font": {
           "color": "#2a3f5f"
          },
          "geo": {
           "bgcolor": "white",
           "lakecolor": "white",
           "landcolor": "#E5ECF6",
           "showlakes": true,
           "showland": true,
           "subunitcolor": "white"
          },
          "hoverlabel": {
           "align": "left"
          },
          "hovermode": "closest",
          "mapbox": {
           "style": "light"
          },
          "paper_bgcolor": "white",
          "plot_bgcolor": "#E5ECF6",
          "polar": {
           "angularaxis": {
            "gridcolor": "white",
            "linecolor": "white",
            "ticks": ""
           },
           "bgcolor": "#E5ECF6",
           "radialaxis": {
            "gridcolor": "white",
            "linecolor": "white",
            "ticks": ""
           }
          },
          "scene": {
           "xaxis": {
            "backgroundcolor": "#E5ECF6",
            "gridcolor": "white",
            "gridwidth": 2,
            "linecolor": "white",
            "showbackground": true,
            "ticks": "",
            "zerolinecolor": "white"
           },
           "yaxis": {
            "backgroundcolor": "#E5ECF6",
            "gridcolor": "white",
            "gridwidth": 2,
            "linecolor": "white",
            "showbackground": true,
            "ticks": "",
            "zerolinecolor": "white"
           },
           "zaxis": {
            "backgroundcolor": "#E5ECF6",
            "gridcolor": "white",
            "gridwidth": 2,
            "linecolor": "white",
            "showbackground": true,
            "ticks": "",
            "zerolinecolor": "white"
           }
          },
          "shapedefaults": {
           "line": {
            "color": "#2a3f5f"
           }
          },
          "ternary": {
           "aaxis": {
            "gridcolor": "white",
            "linecolor": "white",
            "ticks": ""
           },
           "baxis": {
            "gridcolor": "white",
            "linecolor": "white",
            "ticks": ""
           },
           "bgcolor": "#E5ECF6",
           "caxis": {
            "gridcolor": "white",
            "linecolor": "white",
            "ticks": ""
           }
          },
          "title": {
           "x": 0.05
          },
          "xaxis": {
           "automargin": true,
           "gridcolor": "white",
           "linecolor": "white",
           "ticks": "",
           "title": {
            "standoff": 15
           },
           "zerolinecolor": "white",
           "zerolinewidth": 2
          },
          "yaxis": {
           "automargin": true,
           "gridcolor": "white",
           "linecolor": "white",
           "ticks": "",
           "title": {
            "standoff": 15
           },
           "zerolinecolor": "white",
           "zerolinewidth": 2
          }
         }
        },
        "title": {
         "text": "Number of People with Family History of OCD and Distribution of Their Scores"
        },
        "xaxis": {
         "title": {
          "text": "Family History of OCD"
         }
        },
        "yaxis": {
         "showgrid": false,
         "title": {
          "text": "Number of People"
         }
        },
        "yaxis2": {
         "overlaying": "y",
         "side": "right",
         "title": {
          "text": "Distribution of Total Score"
         }
        }
       }
      }
     },
     "metadata": {},
     "output_type": "display_data"
    }
   ],
   "source": [
    "# Count the number of people with and without family history of OCD\n",
    "family_history_counts = filtered_df['Family History of OCD'].value_counts()\n",
    "\n",
    "# Create a bar plot for the number of people with and without family history of OCD\n",
    "bar_trace = go.Bar(\n",
    "    x=family_history_counts.index, \n",
    "    y=family_history_counts.values, \n",
    "    name='Number of People',\n",
    "    yaxis='y1',\n",
    "    marker_color='lightblue'\n",
    ")\n",
    "\n",
    "# Create a box plot for the distribution of Total_Score for each category\n",
    "box_trace = go.Box(\n",
    "    x=filtered_df['Family History of OCD'], \n",
    "    y=filtered_df['Total_Score'], \n",
    "    name='Distribution of Total Score',\n",
    "    yaxis='y2',\n",
    "    marker_color='orange'\n",
    ")\n",
    "\n",
    "# Combine the bar and box plot using secondary y-axes\n",
    "fig4 = go.Figure(data=[bar_trace, box_trace])\n",
    "\n",
    "# Update layout for dual y-axes\n",
    "fig4.update_layout(\n",
    "    title='Number of People with Family History of OCD and Distribution of Their Scores',\n",
    "    xaxis_title='Family History of OCD',\n",
    "    yaxis=dict(\n",
    "        title='Number of People',\n",
    "        showgrid=False\n",
    "    ),\n",
    "    yaxis2=dict(\n",
    "        title='Distribution of Total Score',\n",
    "        overlaying='y',  # Overlay on the same plot\n",
    "        side='right'\n",
    "    ),\n",
    "    legend=dict(x=0.1, y=1.1)\n",
    ")\n",
    "\n",
    "# Show the figure\n",
    "fig4.show()"
   ]
  },
  {
   "cell_type": "markdown",
   "metadata": {},
   "source": [
    "4. How does diagnosis of Anxiety or Depression affect Total_Score?"
   ]
  },
  {
   "cell_type": "code",
   "execution_count": 20,
   "metadata": {},
   "outputs": [
    {
     "name": "stderr",
     "output_type": "stream",
     "text": [
      "C:\\Users\\shwet\\AppData\\Local\\Temp\\ipykernel_35864\\2529381889.py:2: SettingWithCopyWarning:\n",
      "\n",
      "\n",
      "A value is trying to be set on a copy of a slice from a DataFrame.\n",
      "Try using .loc[row_indexer,col_indexer] = value instead\n",
      "\n",
      "See the caveats in the documentation: https://pandas.pydata.org/pandas-docs/stable/user_guide/indexing.html#returning-a-view-versus-a-copy\n",
      "\n"
     ]
    },
    {
     "data": {
      "application/vnd.plotly.v1+json": {
       "config": {
        "plotlyServerURL": "https://plot.ly"
       },
       "data": [
        {
         "alignmentgroup": "True",
         "hovertemplate": "Anxiety and Depression Conditions=%{x}<br>Total Score=%{y}<extra></extra>",
         "legendgroup": "",
         "marker": {
          "color": "#636efa"
         },
         "name": "",
         "notched": false,
         "offsetgroup": "",
         "orientation": "v",
         "showlegend": false,
         "type": "box",
         "x": [
          "Anxiety T, Depression T",
          "Anxiety F, Depression F",
          "Anxiety F, Depression T",
          "Anxiety T, Depression T",
          "Anxiety T, Depression F",
          "Anxiety T, Depression T",
          "Anxiety F, Depression T",
          "Anxiety F, Depression T",
          "Anxiety T, Depression F",
          "Anxiety F, Depression T",
          "Anxiety F, Depression T",
          "Anxiety F, Depression F",
          "Anxiety F, Depression F",
          "Anxiety F, Depression T",
          "Anxiety T, Depression F",
          "Anxiety T, Depression F",
          "Anxiety T, Depression T",
          "Anxiety T, Depression F",
          "Anxiety F, Depression F",
          "Anxiety T, Depression F",
          "Anxiety T, Depression F",
          "Anxiety F, Depression F",
          "Anxiety F, Depression T",
          "Anxiety F, Depression F",
          "Anxiety T, Depression T",
          "Anxiety T, Depression T",
          "Anxiety F, Depression T",
          "Anxiety F, Depression T",
          "Anxiety F, Depression T",
          "Anxiety F, Depression F",
          "Anxiety F, Depression T",
          "Anxiety F, Depression T",
          "Anxiety F, Depression F",
          "Anxiety F, Depression T",
          "Anxiety F, Depression F",
          "Anxiety F, Depression T",
          "Anxiety T, Depression T",
          "Anxiety F, Depression F",
          "Anxiety T, Depression T",
          "Anxiety F, Depression T",
          "Anxiety T, Depression F",
          "Anxiety T, Depression F",
          "Anxiety F, Depression T",
          "Anxiety F, Depression F",
          "Anxiety T, Depression F",
          "Anxiety F, Depression T",
          "Anxiety F, Depression F",
          "Anxiety T, Depression T",
          "Anxiety F, Depression T",
          "Anxiety F, Depression T",
          "Anxiety T, Depression F",
          "Anxiety F, Depression T",
          "Anxiety T, Depression F",
          "Anxiety T, Depression F",
          "Anxiety T, Depression F",
          "Anxiety F, Depression F",
          "Anxiety T, Depression F",
          "Anxiety T, Depression T",
          "Anxiety T, Depression F",
          "Anxiety T, Depression F",
          "Anxiety T, Depression F",
          "Anxiety T, Depression F",
          "Anxiety F, Depression F",
          "Anxiety T, Depression T",
          "Anxiety F, Depression T",
          "Anxiety T, Depression F",
          "Anxiety F, Depression F",
          "Anxiety F, Depression T",
          "Anxiety T, Depression T",
          "Anxiety F, Depression F",
          "Anxiety T, Depression T",
          "Anxiety T, Depression T",
          "Anxiety F, Depression F",
          "Anxiety T, Depression F",
          "Anxiety F, Depression T",
          "Anxiety F, Depression F",
          "Anxiety F, Depression T",
          "Anxiety F, Depression F",
          "Anxiety T, Depression F",
          "Anxiety F, Depression T",
          "Anxiety T, Depression T",
          "Anxiety F, Depression F",
          "Anxiety T, Depression T",
          "Anxiety F, Depression F",
          "Anxiety F, Depression F",
          "Anxiety T, Depression F",
          "Anxiety T, Depression T",
          "Anxiety T, Depression T",
          "Anxiety T, Depression F",
          "Anxiety T, Depression F",
          "Anxiety T, Depression T",
          "Anxiety F, Depression F",
          "Anxiety F, Depression T",
          "Anxiety T, Depression F",
          "Anxiety F, Depression F",
          "Anxiety T, Depression F",
          "Anxiety F, Depression F",
          "Anxiety F, Depression F",
          "Anxiety F, Depression T",
          "Anxiety T, Depression T",
          "Anxiety F, Depression F",
          "Anxiety F, Depression F",
          "Anxiety F, Depression F",
          "Anxiety T, Depression F",
          "Anxiety F, Depression F",
          "Anxiety F, Depression F",
          "Anxiety F, Depression T",
          "Anxiety F, Depression T",
          "Anxiety T, Depression T",
          "Anxiety T, Depression T",
          "Anxiety F, Depression T",
          "Anxiety F, Depression F",
          "Anxiety F, Depression T",
          "Anxiety F, Depression T",
          "Anxiety F, Depression F",
          "Anxiety T, Depression T",
          "Anxiety T, Depression F",
          "Anxiety T, Depression T",
          "Anxiety T, Depression T",
          "Anxiety F, Depression F",
          "Anxiety T, Depression F",
          "Anxiety F, Depression T",
          "Anxiety T, Depression T",
          "Anxiety T, Depression T",
          "Anxiety F, Depression T",
          "Anxiety F, Depression F",
          "Anxiety F, Depression F",
          "Anxiety T, Depression T",
          "Anxiety F, Depression F",
          "Anxiety F, Depression T",
          "Anxiety F, Depression T",
          "Anxiety T, Depression T",
          "Anxiety T, Depression F",
          "Anxiety F, Depression T",
          "Anxiety T, Depression F",
          "Anxiety T, Depression T",
          "Anxiety T, Depression T",
          "Anxiety F, Depression F",
          "Anxiety F, Depression F",
          "Anxiety F, Depression T",
          "Anxiety F, Depression T",
          "Anxiety T, Depression F",
          "Anxiety T, Depression T",
          "Anxiety T, Depression T",
          "Anxiety F, Depression T",
          "Anxiety F, Depression F",
          "Anxiety T, Depression F",
          "Anxiety T, Depression T",
          "Anxiety T, Depression T",
          "Anxiety T, Depression F",
          "Anxiety T, Depression F",
          "Anxiety T, Depression T",
          "Anxiety F, Depression F",
          "Anxiety T, Depression F",
          "Anxiety F, Depression T",
          "Anxiety F, Depression T",
          "Anxiety F, Depression F",
          "Anxiety F, Depression F",
          "Anxiety F, Depression T",
          "Anxiety F, Depression T",
          "Anxiety F, Depression T",
          "Anxiety T, Depression T",
          "Anxiety T, Depression F",
          "Anxiety F, Depression T",
          "Anxiety T, Depression T",
          "Anxiety T, Depression F",
          "Anxiety T, Depression F",
          "Anxiety F, Depression T",
          "Anxiety T, Depression T",
          "Anxiety T, Depression F",
          "Anxiety T, Depression T",
          "Anxiety F, Depression F",
          "Anxiety T, Depression F",
          "Anxiety T, Depression F",
          "Anxiety T, Depression F",
          "Anxiety F, Depression T",
          "Anxiety F, Depression T",
          "Anxiety T, Depression T",
          "Anxiety F, Depression F",
          "Anxiety T, Depression T",
          "Anxiety F, Depression T",
          "Anxiety T, Depression T",
          "Anxiety F, Depression T",
          "Anxiety T, Depression F",
          "Anxiety T, Depression F",
          "Anxiety F, Depression T",
          "Anxiety F, Depression T",
          "Anxiety T, Depression F",
          "Anxiety T, Depression F",
          "Anxiety F, Depression F",
          "Anxiety F, Depression T",
          "Anxiety T, Depression T",
          "Anxiety F, Depression F",
          "Anxiety T, Depression F",
          "Anxiety T, Depression F",
          "Anxiety F, Depression F",
          "Anxiety T, Depression F",
          "Anxiety F, Depression F",
          "Anxiety F, Depression F",
          "Anxiety F, Depression T",
          "Anxiety T, Depression F",
          "Anxiety T, Depression F",
          "Anxiety F, Depression T",
          "Anxiety T, Depression F",
          "Anxiety T, Depression T",
          "Anxiety F, Depression F",
          "Anxiety F, Depression F",
          "Anxiety F, Depression F",
          "Anxiety F, Depression T",
          "Anxiety T, Depression F",
          "Anxiety T, Depression F",
          "Anxiety F, Depression T",
          "Anxiety T, Depression T",
          "Anxiety F, Depression F",
          "Anxiety T, Depression T",
          "Anxiety F, Depression F",
          "Anxiety F, Depression F",
          "Anxiety F, Depression F",
          "Anxiety T, Depression T",
          "Anxiety F, Depression T",
          "Anxiety F, Depression T",
          "Anxiety T, Depression T",
          "Anxiety F, Depression T",
          "Anxiety F, Depression T",
          "Anxiety T, Depression F",
          "Anxiety T, Depression F",
          "Anxiety T, Depression T",
          "Anxiety T, Depression T",
          "Anxiety T, Depression F",
          "Anxiety F, Depression F",
          "Anxiety F, Depression T",
          "Anxiety F, Depression T",
          "Anxiety T, Depression F",
          "Anxiety F, Depression F",
          "Anxiety T, Depression T",
          "Anxiety T, Depression T",
          "Anxiety T, Depression T",
          "Anxiety T, Depression F",
          "Anxiety T, Depression F",
          "Anxiety T, Depression T",
          "Anxiety F, Depression F",
          "Anxiety T, Depression T",
          "Anxiety T, Depression F",
          "Anxiety T, Depression T",
          "Anxiety F, Depression T",
          "Anxiety F, Depression F",
          "Anxiety F, Depression T",
          "Anxiety T, Depression T",
          "Anxiety T, Depression T",
          "Anxiety T, Depression T",
          "Anxiety T, Depression F",
          "Anxiety T, Depression F",
          "Anxiety T, Depression T",
          "Anxiety F, Depression F",
          "Anxiety F, Depression T",
          "Anxiety F, Depression F",
          "Anxiety T, Depression T",
          "Anxiety F, Depression T",
          "Anxiety T, Depression T",
          "Anxiety F, Depression F",
          "Anxiety T, Depression F",
          "Anxiety F, Depression T",
          "Anxiety F, Depression T",
          "Anxiety T, Depression T",
          "Anxiety T, Depression F",
          "Anxiety T, Depression T",
          "Anxiety F, Depression T",
          "Anxiety T, Depression T",
          "Anxiety F, Depression T",
          "Anxiety F, Depression T",
          "Anxiety F, Depression F",
          "Anxiety F, Depression T",
          "Anxiety T, Depression F",
          "Anxiety F, Depression F",
          "Anxiety T, Depression T",
          "Anxiety T, Depression F",
          "Anxiety F, Depression F",
          "Anxiety T, Depression T",
          "Anxiety T, Depression T",
          "Anxiety F, Depression F",
          "Anxiety F, Depression T",
          "Anxiety T, Depression T",
          "Anxiety T, Depression F",
          "Anxiety F, Depression T",
          "Anxiety T, Depression F",
          "Anxiety F, Depression F",
          "Anxiety T, Depression T",
          "Anxiety F, Depression F",
          "Anxiety F, Depression T",
          "Anxiety T, Depression T",
          "Anxiety F, Depression T",
          "Anxiety F, Depression T",
          "Anxiety F, Depression F",
          "Anxiety F, Depression T",
          "Anxiety T, Depression T",
          "Anxiety F, Depression T",
          "Anxiety T, Depression F",
          "Anxiety F, Depression F",
          "Anxiety F, Depression F",
          "Anxiety T, Depression F",
          "Anxiety T, Depression F",
          "Anxiety F, Depression T",
          "Anxiety T, Depression T",
          "Anxiety T, Depression T",
          "Anxiety T, Depression F",
          "Anxiety F, Depression T",
          "Anxiety T, Depression F",
          "Anxiety F, Depression F",
          "Anxiety F, Depression F",
          "Anxiety F, Depression F",
          "Anxiety T, Depression T",
          "Anxiety T, Depression F",
          "Anxiety T, Depression T",
          "Anxiety F, Depression F",
          "Anxiety F, Depression F",
          "Anxiety T, Depression T",
          "Anxiety F, Depression F",
          "Anxiety T, Depression F",
          "Anxiety F, Depression T",
          "Anxiety T, Depression F",
          "Anxiety F, Depression T",
          "Anxiety T, Depression T",
          "Anxiety F, Depression F",
          "Anxiety T, Depression F",
          "Anxiety T, Depression T",
          "Anxiety T, Depression F",
          "Anxiety T, Depression F",
          "Anxiety F, Depression F",
          "Anxiety T, Depression T",
          "Anxiety T, Depression F",
          "Anxiety T, Depression F",
          "Anxiety T, Depression T",
          "Anxiety F, Depression T",
          "Anxiety F, Depression T",
          "Anxiety T, Depression T",
          "Anxiety T, Depression T",
          "Anxiety T, Depression F",
          "Anxiety T, Depression F",
          "Anxiety T, Depression T",
          "Anxiety F, Depression T",
          "Anxiety F, Depression F",
          "Anxiety F, Depression T",
          "Anxiety F, Depression T",
          "Anxiety F, Depression T",
          "Anxiety F, Depression T",
          "Anxiety F, Depression F",
          "Anxiety T, Depression F",
          "Anxiety F, Depression T",
          "Anxiety F, Depression T",
          "Anxiety F, Depression F",
          "Anxiety F, Depression T",
          "Anxiety T, Depression T",
          "Anxiety F, Depression F",
          "Anxiety F, Depression T",
          "Anxiety T, Depression T",
          "Anxiety F, Depression F",
          "Anxiety T, Depression T",
          "Anxiety T, Depression F",
          "Anxiety F, Depression T",
          "Anxiety T, Depression T",
          "Anxiety T, Depression T",
          "Anxiety T, Depression T",
          "Anxiety T, Depression F",
          "Anxiety T, Depression F",
          "Anxiety T, Depression F",
          "Anxiety F, Depression T",
          "Anxiety T, Depression F",
          "Anxiety F, Depression F",
          "Anxiety F, Depression T",
          "Anxiety T, Depression F",
          "Anxiety T, Depression F",
          "Anxiety F, Depression T",
          "Anxiety T, Depression T",
          "Anxiety T, Depression F",
          "Anxiety T, Depression T",
          "Anxiety T, Depression T",
          "Anxiety T, Depression F",
          "Anxiety F, Depression F",
          "Anxiety T, Depression T",
          "Anxiety T, Depression F",
          "Anxiety F, Depression T",
          "Anxiety F, Depression T",
          "Anxiety T, Depression T",
          "Anxiety T, Depression T",
          "Anxiety T, Depression F",
          "Anxiety T, Depression F",
          "Anxiety T, Depression T",
          "Anxiety F, Depression F",
          "Anxiety F, Depression T",
          "Anxiety F, Depression F",
          "Anxiety T, Depression F",
          "Anxiety T, Depression T",
          "Anxiety T, Depression T",
          "Anxiety T, Depression F",
          "Anxiety T, Depression F",
          "Anxiety T, Depression F",
          "Anxiety T, Depression F",
          "Anxiety T, Depression F",
          "Anxiety T, Depression T",
          "Anxiety F, Depression F",
          "Anxiety F, Depression F",
          "Anxiety F, Depression T",
          "Anxiety T, Depression F",
          "Anxiety T, Depression F",
          "Anxiety T, Depression T",
          "Anxiety F, Depression F",
          "Anxiety T, Depression T",
          "Anxiety F, Depression T",
          "Anxiety T, Depression T",
          "Anxiety T, Depression T",
          "Anxiety F, Depression F",
          "Anxiety T, Depression T",
          "Anxiety F, Depression F",
          "Anxiety F, Depression F",
          "Anxiety T, Depression F",
          "Anxiety T, Depression F",
          "Anxiety T, Depression F",
          "Anxiety T, Depression T",
          "Anxiety F, Depression T"
         ],
         "x0": " ",
         "xaxis": "x",
         "y": [
          27,
          7,
          28,
          20,
          12,
          18,
          12,
          18,
          40,
          7,
          26,
          28,
          20,
          23,
          38,
          22,
          21,
          25,
          34,
          14,
          28,
          25,
          8,
          18,
          3,
          16,
          5,
          24,
          28,
          22,
          5,
          26,
          19,
          15,
          22,
          2,
          9,
          35,
          6,
          24,
          20,
          27,
          30,
          29,
          30,
          17,
          37,
          8,
          24,
          23,
          17,
          23,
          5,
          13,
          36,
          24,
          13,
          16,
          18,
          13,
          19,
          18,
          9,
          21,
          21,
          23,
          7,
          20,
          36,
          19,
          21,
          12,
          16,
          20,
          28,
          33,
          20,
          9,
          15,
          20,
          8,
          4,
          1,
          16,
          26,
          13,
          22,
          23,
          25,
          6,
          7,
          21,
          28,
          20,
          21,
          24,
          13,
          18,
          22,
          17,
          20,
          25,
          26,
          4,
          20,
          36,
          5,
          27,
          16,
          20,
          18,
          5,
          22,
          22,
          31,
          13,
          12,
          14,
          2,
          13,
          31,
          34,
          25,
          16,
          34,
          26,
          20,
          23,
          32,
          16,
          5,
          14,
          35,
          30,
          11,
          11,
          12,
          14,
          30,
          16,
          29,
          6,
          26,
          7,
          17,
          15,
          23,
          20,
          38,
          20,
          20,
          24,
          22,
          27,
          12,
          27,
          10,
          9,
          16,
          18,
          29,
          23,
          32,
          20,
          13,
          39,
          24,
          36,
          7,
          27,
          18,
          27,
          38,
          22,
          22,
          34,
          15,
          21,
          32,
          17,
          29,
          11,
          9,
          33,
          9,
          32,
          10,
          18,
          14,
          24,
          21,
          15,
          10,
          19,
          22,
          24,
          24,
          21,
          20,
          35,
          18,
          12,
          7,
          6,
          18,
          20,
          16,
          18,
          23,
          27,
          20,
          26,
          30,
          8,
          24,
          24,
          14,
          22,
          12,
          8,
          11,
          10,
          25,
          32,
          30,
          11,
          17,
          18,
          37,
          19,
          23,
          29,
          12,
          8,
          19,
          29,
          7,
          4,
          24,
          6,
          18,
          12,
          7,
          17,
          35,
          14,
          25,
          7,
          25,
          26,
          22,
          11,
          9,
          28,
          20,
          8,
          30,
          23,
          18,
          22,
          18,
          12,
          25,
          22,
          20,
          13,
          16,
          10,
          5,
          21,
          9,
          36,
          39,
          35,
          8,
          22,
          8,
          20,
          15,
          2,
          20,
          4,
          18,
          24,
          26,
          16,
          10,
          9,
          18,
          29,
          21,
          28,
          25,
          37,
          30,
          29,
          14,
          17,
          16,
          23,
          12,
          28,
          22,
          37,
          19,
          31,
          15,
          27,
          14,
          33,
          38,
          3,
          27,
          28,
          16,
          30,
          39,
          12,
          22,
          31,
          23,
          14,
          19,
          19,
          24,
          29,
          39,
          28,
          25,
          34,
          17,
          37,
          14,
          24,
          5,
          21,
          13,
          16,
          21,
          23,
          29,
          33,
          33,
          11,
          13,
          38,
          15,
          16,
          29,
          25,
          18,
          5,
          11,
          23,
          7,
          8,
          31,
          27,
          11,
          17,
          17,
          12,
          13,
          28,
          10,
          14,
          20,
          24,
          20,
          5,
          16,
          6,
          13,
          19,
          24,
          23,
          9,
          22,
          35,
          8,
          5,
          16,
          29,
          34,
          17,
          14,
          9,
          24,
          12,
          22,
          24,
          25,
          21,
          22,
          24,
          31,
          25,
          20,
          11,
          33,
          11,
          27,
          34,
          38,
          22,
          28,
          2,
          30,
          35,
          15,
          30,
          25,
          13,
          21,
          24,
          35,
          11,
          17,
          23
         ],
         "y0": " ",
         "yaxis": "y"
        }
       ],
       "layout": {
        "boxmode": "group",
        "legend": {
         "tracegroupgap": 0
        },
        "template": {
         "data": {
          "bar": [
           {
            "error_x": {
             "color": "#2a3f5f"
            },
            "error_y": {
             "color": "#2a3f5f"
            },
            "marker": {
             "line": {
              "color": "#E5ECF6",
              "width": 0.5
             },
             "pattern": {
              "fillmode": "overlay",
              "size": 10,
              "solidity": 0.2
             }
            },
            "type": "bar"
           }
          ],
          "barpolar": [
           {
            "marker": {
             "line": {
              "color": "#E5ECF6",
              "width": 0.5
             },
             "pattern": {
              "fillmode": "overlay",
              "size": 10,
              "solidity": 0.2
             }
            },
            "type": "barpolar"
           }
          ],
          "carpet": [
           {
            "aaxis": {
             "endlinecolor": "#2a3f5f",
             "gridcolor": "white",
             "linecolor": "white",
             "minorgridcolor": "white",
             "startlinecolor": "#2a3f5f"
            },
            "baxis": {
             "endlinecolor": "#2a3f5f",
             "gridcolor": "white",
             "linecolor": "white",
             "minorgridcolor": "white",
             "startlinecolor": "#2a3f5f"
            },
            "type": "carpet"
           }
          ],
          "choropleth": [
           {
            "colorbar": {
             "outlinewidth": 0,
             "ticks": ""
            },
            "type": "choropleth"
           }
          ],
          "contour": [
           {
            "colorbar": {
             "outlinewidth": 0,
             "ticks": ""
            },
            "colorscale": [
             [
              0,
              "#0d0887"
             ],
             [
              0.1111111111111111,
              "#46039f"
             ],
             [
              0.2222222222222222,
              "#7201a8"
             ],
             [
              0.3333333333333333,
              "#9c179e"
             ],
             [
              0.4444444444444444,
              "#bd3786"
             ],
             [
              0.5555555555555556,
              "#d8576b"
             ],
             [
              0.6666666666666666,
              "#ed7953"
             ],
             [
              0.7777777777777778,
              "#fb9f3a"
             ],
             [
              0.8888888888888888,
              "#fdca26"
             ],
             [
              1,
              "#f0f921"
             ]
            ],
            "type": "contour"
           }
          ],
          "contourcarpet": [
           {
            "colorbar": {
             "outlinewidth": 0,
             "ticks": ""
            },
            "type": "contourcarpet"
           }
          ],
          "heatmap": [
           {
            "colorbar": {
             "outlinewidth": 0,
             "ticks": ""
            },
            "colorscale": [
             [
              0,
              "#0d0887"
             ],
             [
              0.1111111111111111,
              "#46039f"
             ],
             [
              0.2222222222222222,
              "#7201a8"
             ],
             [
              0.3333333333333333,
              "#9c179e"
             ],
             [
              0.4444444444444444,
              "#bd3786"
             ],
             [
              0.5555555555555556,
              "#d8576b"
             ],
             [
              0.6666666666666666,
              "#ed7953"
             ],
             [
              0.7777777777777778,
              "#fb9f3a"
             ],
             [
              0.8888888888888888,
              "#fdca26"
             ],
             [
              1,
              "#f0f921"
             ]
            ],
            "type": "heatmap"
           }
          ],
          "heatmapgl": [
           {
            "colorbar": {
             "outlinewidth": 0,
             "ticks": ""
            },
            "colorscale": [
             [
              0,
              "#0d0887"
             ],
             [
              0.1111111111111111,
              "#46039f"
             ],
             [
              0.2222222222222222,
              "#7201a8"
             ],
             [
              0.3333333333333333,
              "#9c179e"
             ],
             [
              0.4444444444444444,
              "#bd3786"
             ],
             [
              0.5555555555555556,
              "#d8576b"
             ],
             [
              0.6666666666666666,
              "#ed7953"
             ],
             [
              0.7777777777777778,
              "#fb9f3a"
             ],
             [
              0.8888888888888888,
              "#fdca26"
             ],
             [
              1,
              "#f0f921"
             ]
            ],
            "type": "heatmapgl"
           }
          ],
          "histogram": [
           {
            "marker": {
             "pattern": {
              "fillmode": "overlay",
              "size": 10,
              "solidity": 0.2
             }
            },
            "type": "histogram"
           }
          ],
          "histogram2d": [
           {
            "colorbar": {
             "outlinewidth": 0,
             "ticks": ""
            },
            "colorscale": [
             [
              0,
              "#0d0887"
             ],
             [
              0.1111111111111111,
              "#46039f"
             ],
             [
              0.2222222222222222,
              "#7201a8"
             ],
             [
              0.3333333333333333,
              "#9c179e"
             ],
             [
              0.4444444444444444,
              "#bd3786"
             ],
             [
              0.5555555555555556,
              "#d8576b"
             ],
             [
              0.6666666666666666,
              "#ed7953"
             ],
             [
              0.7777777777777778,
              "#fb9f3a"
             ],
             [
              0.8888888888888888,
              "#fdca26"
             ],
             [
              1,
              "#f0f921"
             ]
            ],
            "type": "histogram2d"
           }
          ],
          "histogram2dcontour": [
           {
            "colorbar": {
             "outlinewidth": 0,
             "ticks": ""
            },
            "colorscale": [
             [
              0,
              "#0d0887"
             ],
             [
              0.1111111111111111,
              "#46039f"
             ],
             [
              0.2222222222222222,
              "#7201a8"
             ],
             [
              0.3333333333333333,
              "#9c179e"
             ],
             [
              0.4444444444444444,
              "#bd3786"
             ],
             [
              0.5555555555555556,
              "#d8576b"
             ],
             [
              0.6666666666666666,
              "#ed7953"
             ],
             [
              0.7777777777777778,
              "#fb9f3a"
             ],
             [
              0.8888888888888888,
              "#fdca26"
             ],
             [
              1,
              "#f0f921"
             ]
            ],
            "type": "histogram2dcontour"
           }
          ],
          "mesh3d": [
           {
            "colorbar": {
             "outlinewidth": 0,
             "ticks": ""
            },
            "type": "mesh3d"
           }
          ],
          "parcoords": [
           {
            "line": {
             "colorbar": {
              "outlinewidth": 0,
              "ticks": ""
             }
            },
            "type": "parcoords"
           }
          ],
          "pie": [
           {
            "automargin": true,
            "type": "pie"
           }
          ],
          "scatter": [
           {
            "fillpattern": {
             "fillmode": "overlay",
             "size": 10,
             "solidity": 0.2
            },
            "type": "scatter"
           }
          ],
          "scatter3d": [
           {
            "line": {
             "colorbar": {
              "outlinewidth": 0,
              "ticks": ""
             }
            },
            "marker": {
             "colorbar": {
              "outlinewidth": 0,
              "ticks": ""
             }
            },
            "type": "scatter3d"
           }
          ],
          "scattercarpet": [
           {
            "marker": {
             "colorbar": {
              "outlinewidth": 0,
              "ticks": ""
             }
            },
            "type": "scattercarpet"
           }
          ],
          "scattergeo": [
           {
            "marker": {
             "colorbar": {
              "outlinewidth": 0,
              "ticks": ""
             }
            },
            "type": "scattergeo"
           }
          ],
          "scattergl": [
           {
            "marker": {
             "colorbar": {
              "outlinewidth": 0,
              "ticks": ""
             }
            },
            "type": "scattergl"
           }
          ],
          "scattermapbox": [
           {
            "marker": {
             "colorbar": {
              "outlinewidth": 0,
              "ticks": ""
             }
            },
            "type": "scattermapbox"
           }
          ],
          "scatterpolar": [
           {
            "marker": {
             "colorbar": {
              "outlinewidth": 0,
              "ticks": ""
             }
            },
            "type": "scatterpolar"
           }
          ],
          "scatterpolargl": [
           {
            "marker": {
             "colorbar": {
              "outlinewidth": 0,
              "ticks": ""
             }
            },
            "type": "scatterpolargl"
           }
          ],
          "scatterternary": [
           {
            "marker": {
             "colorbar": {
              "outlinewidth": 0,
              "ticks": ""
             }
            },
            "type": "scatterternary"
           }
          ],
          "surface": [
           {
            "colorbar": {
             "outlinewidth": 0,
             "ticks": ""
            },
            "colorscale": [
             [
              0,
              "#0d0887"
             ],
             [
              0.1111111111111111,
              "#46039f"
             ],
             [
              0.2222222222222222,
              "#7201a8"
             ],
             [
              0.3333333333333333,
              "#9c179e"
             ],
             [
              0.4444444444444444,
              "#bd3786"
             ],
             [
              0.5555555555555556,
              "#d8576b"
             ],
             [
              0.6666666666666666,
              "#ed7953"
             ],
             [
              0.7777777777777778,
              "#fb9f3a"
             ],
             [
              0.8888888888888888,
              "#fdca26"
             ],
             [
              1,
              "#f0f921"
             ]
            ],
            "type": "surface"
           }
          ],
          "table": [
           {
            "cells": {
             "fill": {
              "color": "#EBF0F8"
             },
             "line": {
              "color": "white"
             }
            },
            "header": {
             "fill": {
              "color": "#C8D4E3"
             },
             "line": {
              "color": "white"
             }
            },
            "type": "table"
           }
          ]
         },
         "layout": {
          "annotationdefaults": {
           "arrowcolor": "#2a3f5f",
           "arrowhead": 0,
           "arrowwidth": 1
          },
          "autotypenumbers": "strict",
          "coloraxis": {
           "colorbar": {
            "outlinewidth": 0,
            "ticks": ""
           }
          },
          "colorscale": {
           "diverging": [
            [
             0,
             "#8e0152"
            ],
            [
             0.1,
             "#c51b7d"
            ],
            [
             0.2,
             "#de77ae"
            ],
            [
             0.3,
             "#f1b6da"
            ],
            [
             0.4,
             "#fde0ef"
            ],
            [
             0.5,
             "#f7f7f7"
            ],
            [
             0.6,
             "#e6f5d0"
            ],
            [
             0.7,
             "#b8e186"
            ],
            [
             0.8,
             "#7fbc41"
            ],
            [
             0.9,
             "#4d9221"
            ],
            [
             1,
             "#276419"
            ]
           ],
           "sequential": [
            [
             0,
             "#0d0887"
            ],
            [
             0.1111111111111111,
             "#46039f"
            ],
            [
             0.2222222222222222,
             "#7201a8"
            ],
            [
             0.3333333333333333,
             "#9c179e"
            ],
            [
             0.4444444444444444,
             "#bd3786"
            ],
            [
             0.5555555555555556,
             "#d8576b"
            ],
            [
             0.6666666666666666,
             "#ed7953"
            ],
            [
             0.7777777777777778,
             "#fb9f3a"
            ],
            [
             0.8888888888888888,
             "#fdca26"
            ],
            [
             1,
             "#f0f921"
            ]
           ],
           "sequentialminus": [
            [
             0,
             "#0d0887"
            ],
            [
             0.1111111111111111,
             "#46039f"
            ],
            [
             0.2222222222222222,
             "#7201a8"
            ],
            [
             0.3333333333333333,
             "#9c179e"
            ],
            [
             0.4444444444444444,
             "#bd3786"
            ],
            [
             0.5555555555555556,
             "#d8576b"
            ],
            [
             0.6666666666666666,
             "#ed7953"
            ],
            [
             0.7777777777777778,
             "#fb9f3a"
            ],
            [
             0.8888888888888888,
             "#fdca26"
            ],
            [
             1,
             "#f0f921"
            ]
           ]
          },
          "colorway": [
           "#636efa",
           "#EF553B",
           "#00cc96",
           "#ab63fa",
           "#FFA15A",
           "#19d3f3",
           "#FF6692",
           "#B6E880",
           "#FF97FF",
           "#FECB52"
          ],
          "font": {
           "color": "#2a3f5f"
          },
          "geo": {
           "bgcolor": "white",
           "lakecolor": "white",
           "landcolor": "#E5ECF6",
           "showlakes": true,
           "showland": true,
           "subunitcolor": "white"
          },
          "hoverlabel": {
           "align": "left"
          },
          "hovermode": "closest",
          "mapbox": {
           "style": "light"
          },
          "paper_bgcolor": "white",
          "plot_bgcolor": "#E5ECF6",
          "polar": {
           "angularaxis": {
            "gridcolor": "white",
            "linecolor": "white",
            "ticks": ""
           },
           "bgcolor": "#E5ECF6",
           "radialaxis": {
            "gridcolor": "white",
            "linecolor": "white",
            "ticks": ""
           }
          },
          "scene": {
           "xaxis": {
            "backgroundcolor": "#E5ECF6",
            "gridcolor": "white",
            "gridwidth": 2,
            "linecolor": "white",
            "showbackground": true,
            "ticks": "",
            "zerolinecolor": "white"
           },
           "yaxis": {
            "backgroundcolor": "#E5ECF6",
            "gridcolor": "white",
            "gridwidth": 2,
            "linecolor": "white",
            "showbackground": true,
            "ticks": "",
            "zerolinecolor": "white"
           },
           "zaxis": {
            "backgroundcolor": "#E5ECF6",
            "gridcolor": "white",
            "gridwidth": 2,
            "linecolor": "white",
            "showbackground": true,
            "ticks": "",
            "zerolinecolor": "white"
           }
          },
          "shapedefaults": {
           "line": {
            "color": "#2a3f5f"
           }
          },
          "ternary": {
           "aaxis": {
            "gridcolor": "white",
            "linecolor": "white",
            "ticks": ""
           },
           "baxis": {
            "gridcolor": "white",
            "linecolor": "white",
            "ticks": ""
           },
           "bgcolor": "#E5ECF6",
           "caxis": {
            "gridcolor": "white",
            "linecolor": "white",
            "ticks": ""
           }
          },
          "title": {
           "x": 0.05
          },
          "xaxis": {
           "automargin": true,
           "gridcolor": "white",
           "linecolor": "white",
           "ticks": "",
           "title": {
            "standoff": 15
           },
           "zerolinecolor": "white",
           "zerolinewidth": 2
          },
          "yaxis": {
           "automargin": true,
           "gridcolor": "white",
           "linecolor": "white",
           "ticks": "",
           "title": {
            "standoff": 15
           },
           "zerolinecolor": "white",
           "zerolinewidth": 2
          }
         }
        },
        "title": {
         "text": "Total Score Distribution by Anxiety and Depression Conditions"
        },
        "xaxis": {
         "anchor": "y",
         "categoryarray": [
          "Anxiety T, Depression T",
          "Anxiety T, Depression F",
          "Anxiety F, Depression T",
          "Anxiety F, Depression F"
         ],
         "categoryorder": "array",
         "domain": [
          0,
          1
         ],
         "tickangle": 45,
         "title": {
          "text": "Condition"
         }
        },
        "yaxis": {
         "anchor": "x",
         "domain": [
          0,
          1
         ],
         "showgrid": true,
         "title": {
          "text": "Total Score"
         }
        }
       }
      }
     },
     "metadata": {},
     "output_type": "display_data"
    }
   ],
   "source": [
    "# Add a 'Condition' column for easy visualization\n",
    "filtered_df['Condition'] = filtered_df.apply(lambda row: \n",
    "                            'Anxiety T, Depression T' if row['Anxiety Diagnosis'] and row['Depression Diagnosis'] else\n",
    "                            'Anxiety T, Depression F' if row['Anxiety Diagnosis'] and not row['Depression Diagnosis'] else\n",
    "                            'Anxiety F, Depression T' if not row['Anxiety Diagnosis'] and row['Depression Diagnosis'] else\n",
    "                            'Anxiety F, Depression F', axis=1)\n",
    "\n",
    "# Create a boxplot to visualize the total score distribution across different conditions using Plotly\n",
    "fig6 = px.box(filtered_df, \n",
    "             x='Condition', \n",
    "             y='Total_Score', \n",
    "             title='Total Score Distribution by Anxiety and Depression Conditions',\n",
    "             labels={'Condition': 'Anxiety and Depression Conditions', 'Total_Score': 'Total Score'},\n",
    "             category_orders={'Condition': ['Anxiety T, Depression T', 'Anxiety T, Depression F', \n",
    "                                            'Anxiety F, Depression T', 'Anxiety F, Depression F']}\n",
    "            )\n",
    "\n",
    "# Update layout to rotate the x-axis labels and add gridlines\n",
    "fig6.update_layout(\n",
    "    xaxis_title='Condition',\n",
    "    yaxis_title='Total Score',\n",
    "    xaxis_tickangle=45,\n",
    "    yaxis=dict(showgrid=True)\n",
    ")\n",
    "\n",
    "# Show the plot\n",
    "fig6.show()"
   ]
  },
  {
   "cell_type": "markdown",
   "metadata": {},
   "source": [
    "5. Are the Obsession types represented equally in this dataset? What is the average Total_Score for each type?"
   ]
  },
  {
   "cell_type": "code",
   "execution_count": 21,
   "metadata": {},
   "outputs": [
    {
     "data": {
      "application/vnd.plotly.v1+json": {
       "config": {
        "plotlyServerURL": "https://plot.ly"
       },
       "data": [
        {
         "marker": {
          "color": "lightblue"
         },
         "name": "Number of Instances",
         "text": [
          89,
          88,
          83,
          82,
          77
         ],
         "textposition": "auto",
         "type": "bar",
         "x": [
          "Contamination",
          "Harm-related",
          "Hoarding",
          "Symmetry",
          "Religious"
         ],
         "y": [
          89,
          88,
          83,
          82,
          77
         ]
        },
        {
         "line": {
          "color": "orange",
          "width": 3
         },
         "marker": {
          "size": 8
         },
         "mode": "lines+markers",
         "name": "Average Total Score",
         "text": [
          20,
          20.71590909090909,
          20.10843373493976,
          19.77922077922078,
          19.451219512195124
         ],
         "textposition": "top center",
         "type": "scatter",
         "x": [
          "Contamination",
          "Harm-related",
          "Hoarding",
          "Religious",
          "Symmetry"
         ],
         "y": [
          20,
          20.71590909090909,
          20.10843373493976,
          19.77922077922078,
          19.451219512195124
         ],
         "yaxis": "y2"
        }
       ],
       "layout": {
        "legend": {
         "x": 0.1,
         "y": 1.1
        },
        "template": {
         "data": {
          "bar": [
           {
            "error_x": {
             "color": "#2a3f5f"
            },
            "error_y": {
             "color": "#2a3f5f"
            },
            "marker": {
             "line": {
              "color": "#E5ECF6",
              "width": 0.5
             },
             "pattern": {
              "fillmode": "overlay",
              "size": 10,
              "solidity": 0.2
             }
            },
            "type": "bar"
           }
          ],
          "barpolar": [
           {
            "marker": {
             "line": {
              "color": "#E5ECF6",
              "width": 0.5
             },
             "pattern": {
              "fillmode": "overlay",
              "size": 10,
              "solidity": 0.2
             }
            },
            "type": "barpolar"
           }
          ],
          "carpet": [
           {
            "aaxis": {
             "endlinecolor": "#2a3f5f",
             "gridcolor": "white",
             "linecolor": "white",
             "minorgridcolor": "white",
             "startlinecolor": "#2a3f5f"
            },
            "baxis": {
             "endlinecolor": "#2a3f5f",
             "gridcolor": "white",
             "linecolor": "white",
             "minorgridcolor": "white",
             "startlinecolor": "#2a3f5f"
            },
            "type": "carpet"
           }
          ],
          "choropleth": [
           {
            "colorbar": {
             "outlinewidth": 0,
             "ticks": ""
            },
            "type": "choropleth"
           }
          ],
          "contour": [
           {
            "colorbar": {
             "outlinewidth": 0,
             "ticks": ""
            },
            "colorscale": [
             [
              0,
              "#0d0887"
             ],
             [
              0.1111111111111111,
              "#46039f"
             ],
             [
              0.2222222222222222,
              "#7201a8"
             ],
             [
              0.3333333333333333,
              "#9c179e"
             ],
             [
              0.4444444444444444,
              "#bd3786"
             ],
             [
              0.5555555555555556,
              "#d8576b"
             ],
             [
              0.6666666666666666,
              "#ed7953"
             ],
             [
              0.7777777777777778,
              "#fb9f3a"
             ],
             [
              0.8888888888888888,
              "#fdca26"
             ],
             [
              1,
              "#f0f921"
             ]
            ],
            "type": "contour"
           }
          ],
          "contourcarpet": [
           {
            "colorbar": {
             "outlinewidth": 0,
             "ticks": ""
            },
            "type": "contourcarpet"
           }
          ],
          "heatmap": [
           {
            "colorbar": {
             "outlinewidth": 0,
             "ticks": ""
            },
            "colorscale": [
             [
              0,
              "#0d0887"
             ],
             [
              0.1111111111111111,
              "#46039f"
             ],
             [
              0.2222222222222222,
              "#7201a8"
             ],
             [
              0.3333333333333333,
              "#9c179e"
             ],
             [
              0.4444444444444444,
              "#bd3786"
             ],
             [
              0.5555555555555556,
              "#d8576b"
             ],
             [
              0.6666666666666666,
              "#ed7953"
             ],
             [
              0.7777777777777778,
              "#fb9f3a"
             ],
             [
              0.8888888888888888,
              "#fdca26"
             ],
             [
              1,
              "#f0f921"
             ]
            ],
            "type": "heatmap"
           }
          ],
          "heatmapgl": [
           {
            "colorbar": {
             "outlinewidth": 0,
             "ticks": ""
            },
            "colorscale": [
             [
              0,
              "#0d0887"
             ],
             [
              0.1111111111111111,
              "#46039f"
             ],
             [
              0.2222222222222222,
              "#7201a8"
             ],
             [
              0.3333333333333333,
              "#9c179e"
             ],
             [
              0.4444444444444444,
              "#bd3786"
             ],
             [
              0.5555555555555556,
              "#d8576b"
             ],
             [
              0.6666666666666666,
              "#ed7953"
             ],
             [
              0.7777777777777778,
              "#fb9f3a"
             ],
             [
              0.8888888888888888,
              "#fdca26"
             ],
             [
              1,
              "#f0f921"
             ]
            ],
            "type": "heatmapgl"
           }
          ],
          "histogram": [
           {
            "marker": {
             "pattern": {
              "fillmode": "overlay",
              "size": 10,
              "solidity": 0.2
             }
            },
            "type": "histogram"
           }
          ],
          "histogram2d": [
           {
            "colorbar": {
             "outlinewidth": 0,
             "ticks": ""
            },
            "colorscale": [
             [
              0,
              "#0d0887"
             ],
             [
              0.1111111111111111,
              "#46039f"
             ],
             [
              0.2222222222222222,
              "#7201a8"
             ],
             [
              0.3333333333333333,
              "#9c179e"
             ],
             [
              0.4444444444444444,
              "#bd3786"
             ],
             [
              0.5555555555555556,
              "#d8576b"
             ],
             [
              0.6666666666666666,
              "#ed7953"
             ],
             [
              0.7777777777777778,
              "#fb9f3a"
             ],
             [
              0.8888888888888888,
              "#fdca26"
             ],
             [
              1,
              "#f0f921"
             ]
            ],
            "type": "histogram2d"
           }
          ],
          "histogram2dcontour": [
           {
            "colorbar": {
             "outlinewidth": 0,
             "ticks": ""
            },
            "colorscale": [
             [
              0,
              "#0d0887"
             ],
             [
              0.1111111111111111,
              "#46039f"
             ],
             [
              0.2222222222222222,
              "#7201a8"
             ],
             [
              0.3333333333333333,
              "#9c179e"
             ],
             [
              0.4444444444444444,
              "#bd3786"
             ],
             [
              0.5555555555555556,
              "#d8576b"
             ],
             [
              0.6666666666666666,
              "#ed7953"
             ],
             [
              0.7777777777777778,
              "#fb9f3a"
             ],
             [
              0.8888888888888888,
              "#fdca26"
             ],
             [
              1,
              "#f0f921"
             ]
            ],
            "type": "histogram2dcontour"
           }
          ],
          "mesh3d": [
           {
            "colorbar": {
             "outlinewidth": 0,
             "ticks": ""
            },
            "type": "mesh3d"
           }
          ],
          "parcoords": [
           {
            "line": {
             "colorbar": {
              "outlinewidth": 0,
              "ticks": ""
             }
            },
            "type": "parcoords"
           }
          ],
          "pie": [
           {
            "automargin": true,
            "type": "pie"
           }
          ],
          "scatter": [
           {
            "fillpattern": {
             "fillmode": "overlay",
             "size": 10,
             "solidity": 0.2
            },
            "type": "scatter"
           }
          ],
          "scatter3d": [
           {
            "line": {
             "colorbar": {
              "outlinewidth": 0,
              "ticks": ""
             }
            },
            "marker": {
             "colorbar": {
              "outlinewidth": 0,
              "ticks": ""
             }
            },
            "type": "scatter3d"
           }
          ],
          "scattercarpet": [
           {
            "marker": {
             "colorbar": {
              "outlinewidth": 0,
              "ticks": ""
             }
            },
            "type": "scattercarpet"
           }
          ],
          "scattergeo": [
           {
            "marker": {
             "colorbar": {
              "outlinewidth": 0,
              "ticks": ""
             }
            },
            "type": "scattergeo"
           }
          ],
          "scattergl": [
           {
            "marker": {
             "colorbar": {
              "outlinewidth": 0,
              "ticks": ""
             }
            },
            "type": "scattergl"
           }
          ],
          "scattermapbox": [
           {
            "marker": {
             "colorbar": {
              "outlinewidth": 0,
              "ticks": ""
             }
            },
            "type": "scattermapbox"
           }
          ],
          "scatterpolar": [
           {
            "marker": {
             "colorbar": {
              "outlinewidth": 0,
              "ticks": ""
             }
            },
            "type": "scatterpolar"
           }
          ],
          "scatterpolargl": [
           {
            "marker": {
             "colorbar": {
              "outlinewidth": 0,
              "ticks": ""
             }
            },
            "type": "scatterpolargl"
           }
          ],
          "scatterternary": [
           {
            "marker": {
             "colorbar": {
              "outlinewidth": 0,
              "ticks": ""
             }
            },
            "type": "scatterternary"
           }
          ],
          "surface": [
           {
            "colorbar": {
             "outlinewidth": 0,
             "ticks": ""
            },
            "colorscale": [
             [
              0,
              "#0d0887"
             ],
             [
              0.1111111111111111,
              "#46039f"
             ],
             [
              0.2222222222222222,
              "#7201a8"
             ],
             [
              0.3333333333333333,
              "#9c179e"
             ],
             [
              0.4444444444444444,
              "#bd3786"
             ],
             [
              0.5555555555555556,
              "#d8576b"
             ],
             [
              0.6666666666666666,
              "#ed7953"
             ],
             [
              0.7777777777777778,
              "#fb9f3a"
             ],
             [
              0.8888888888888888,
              "#fdca26"
             ],
             [
              1,
              "#f0f921"
             ]
            ],
            "type": "surface"
           }
          ],
          "table": [
           {
            "cells": {
             "fill": {
              "color": "#EBF0F8"
             },
             "line": {
              "color": "white"
             }
            },
            "header": {
             "fill": {
              "color": "#C8D4E3"
             },
             "line": {
              "color": "white"
             }
            },
            "type": "table"
           }
          ]
         },
         "layout": {
          "annotationdefaults": {
           "arrowcolor": "#2a3f5f",
           "arrowhead": 0,
           "arrowwidth": 1
          },
          "autotypenumbers": "strict",
          "coloraxis": {
           "colorbar": {
            "outlinewidth": 0,
            "ticks": ""
           }
          },
          "colorscale": {
           "diverging": [
            [
             0,
             "#8e0152"
            ],
            [
             0.1,
             "#c51b7d"
            ],
            [
             0.2,
             "#de77ae"
            ],
            [
             0.3,
             "#f1b6da"
            ],
            [
             0.4,
             "#fde0ef"
            ],
            [
             0.5,
             "#f7f7f7"
            ],
            [
             0.6,
             "#e6f5d0"
            ],
            [
             0.7,
             "#b8e186"
            ],
            [
             0.8,
             "#7fbc41"
            ],
            [
             0.9,
             "#4d9221"
            ],
            [
             1,
             "#276419"
            ]
           ],
           "sequential": [
            [
             0,
             "#0d0887"
            ],
            [
             0.1111111111111111,
             "#46039f"
            ],
            [
             0.2222222222222222,
             "#7201a8"
            ],
            [
             0.3333333333333333,
             "#9c179e"
            ],
            [
             0.4444444444444444,
             "#bd3786"
            ],
            [
             0.5555555555555556,
             "#d8576b"
            ],
            [
             0.6666666666666666,
             "#ed7953"
            ],
            [
             0.7777777777777778,
             "#fb9f3a"
            ],
            [
             0.8888888888888888,
             "#fdca26"
            ],
            [
             1,
             "#f0f921"
            ]
           ],
           "sequentialminus": [
            [
             0,
             "#0d0887"
            ],
            [
             0.1111111111111111,
             "#46039f"
            ],
            [
             0.2222222222222222,
             "#7201a8"
            ],
            [
             0.3333333333333333,
             "#9c179e"
            ],
            [
             0.4444444444444444,
             "#bd3786"
            ],
            [
             0.5555555555555556,
             "#d8576b"
            ],
            [
             0.6666666666666666,
             "#ed7953"
            ],
            [
             0.7777777777777778,
             "#fb9f3a"
            ],
            [
             0.8888888888888888,
             "#fdca26"
            ],
            [
             1,
             "#f0f921"
            ]
           ]
          },
          "colorway": [
           "#636efa",
           "#EF553B",
           "#00cc96",
           "#ab63fa",
           "#FFA15A",
           "#19d3f3",
           "#FF6692",
           "#B6E880",
           "#FF97FF",
           "#FECB52"
          ],
          "font": {
           "color": "#2a3f5f"
          },
          "geo": {
           "bgcolor": "white",
           "lakecolor": "white",
           "landcolor": "#E5ECF6",
           "showlakes": true,
           "showland": true,
           "subunitcolor": "white"
          },
          "hoverlabel": {
           "align": "left"
          },
          "hovermode": "closest",
          "mapbox": {
           "style": "light"
          },
          "paper_bgcolor": "white",
          "plot_bgcolor": "#E5ECF6",
          "polar": {
           "angularaxis": {
            "gridcolor": "white",
            "linecolor": "white",
            "ticks": ""
           },
           "bgcolor": "#E5ECF6",
           "radialaxis": {
            "gridcolor": "white",
            "linecolor": "white",
            "ticks": ""
           }
          },
          "scene": {
           "xaxis": {
            "backgroundcolor": "#E5ECF6",
            "gridcolor": "white",
            "gridwidth": 2,
            "linecolor": "white",
            "showbackground": true,
            "ticks": "",
            "zerolinecolor": "white"
           },
           "yaxis": {
            "backgroundcolor": "#E5ECF6",
            "gridcolor": "white",
            "gridwidth": 2,
            "linecolor": "white",
            "showbackground": true,
            "ticks": "",
            "zerolinecolor": "white"
           },
           "zaxis": {
            "backgroundcolor": "#E5ECF6",
            "gridcolor": "white",
            "gridwidth": 2,
            "linecolor": "white",
            "showbackground": true,
            "ticks": "",
            "zerolinecolor": "white"
           }
          },
          "shapedefaults": {
           "line": {
            "color": "#2a3f5f"
           }
          },
          "ternary": {
           "aaxis": {
            "gridcolor": "white",
            "linecolor": "white",
            "ticks": ""
           },
           "baxis": {
            "gridcolor": "white",
            "linecolor": "white",
            "ticks": ""
           },
           "bgcolor": "#E5ECF6",
           "caxis": {
            "gridcolor": "white",
            "linecolor": "white",
            "ticks": ""
           }
          },
          "title": {
           "x": 0.05
          },
          "xaxis": {
           "automargin": true,
           "gridcolor": "white",
           "linecolor": "white",
           "ticks": "",
           "title": {
            "standoff": 15
           },
           "zerolinecolor": "white",
           "zerolinewidth": 2
          },
          "yaxis": {
           "automargin": true,
           "gridcolor": "white",
           "linecolor": "white",
           "ticks": "",
           "title": {
            "standoff": 15
           },
           "zerolinecolor": "white",
           "zerolinewidth": 2
          }
         }
        },
        "title": {
         "text": "Number of Instances and Average Total Score by Obsession Type"
        },
        "xaxis": {
         "tickangle": 45,
         "title": {
          "text": "Obsession Type"
         }
        },
        "yaxis": {
         "showgrid": true,
         "title": {
          "text": "Number of Instances"
         }
        },
        "yaxis2": {
         "overlaying": "y",
         "side": "right",
         "title": {
          "text": "Average Total Score"
         }
        }
       }
      }
     },
     "metadata": {},
     "output_type": "display_data"
    }
   ],
   "source": [
    "# Count the number of instances for each obsession type\n",
    "obsession_counts = filtered_df['Obsession Type'].value_counts()\n",
    "\n",
    "# Calculate the average Total Score for each obsession type\n",
    "obsession_avg_scores = filtered_df.groupby('Obsession Type')['Total_Score'].mean()\n",
    "\n",
    "# Create a figure\n",
    "fig7 = go.Figure()\n",
    "\n",
    "# Add bar plot for the number of instances (left y-axis)\n",
    "fig7.add_trace(\n",
    "    go.Bar(\n",
    "        x=obsession_counts.index,\n",
    "        y=obsession_counts.values,\n",
    "        name='Number of Instances',\n",
    "        marker_color='lightblue',\n",
    "        text=obsession_counts.values,  # Show count on the bars\n",
    "        textposition='auto'\n",
    "    )\n",
    ")\n",
    "\n",
    "# Add line plot for the average total score (right y-axis)\n",
    "fig7.add_trace(\n",
    "    go.Scatter(\n",
    "        x=obsession_avg_scores.index,\n",
    "        y=obsession_avg_scores.values,\n",
    "        name='Average Total Score',\n",
    "        yaxis='y2',  # Associate this with the second y-axis\n",
    "        mode='lines+markers',\n",
    "        line=dict(color='orange', width=3),\n",
    "        marker=dict(size=8),\n",
    "        text=obsession_avg_scores.values,  # Show average scores on the points\n",
    "        textposition='top center'\n",
    "    )\n",
    ")\n",
    "\n",
    "# Update layout to include a second y-axis\n",
    "fig7.update_layout(\n",
    "    title='Number of Instances and Average Total Score by Obsession Type',\n",
    "    xaxis_title='Obsession Type',\n",
    "    yaxis_title='Number of Instances',\n",
    "    yaxis2=dict(\n",
    "        title='Average Total Score',\n",
    "        overlaying='y',  # Overlay y-axis 2 on the same plot as y-axis 1\n",
    "        side='right'\n",
    "    ),\n",
    "    legend=dict(x=0.1, y=1.1),\n",
    "    xaxis_tickangle=45,\n",
    "    yaxis=dict(showgrid=True)\n",
    ")\n",
    "\n",
    "# Show the plot\n",
    "fig7.show()"
   ]
  },
  {
   "cell_type": "markdown",
   "metadata": {},
   "source": [
    "6. Are the Compulsion types represented equally in this dataset? What is the average Total_Score for each type?"
   ]
  },
  {
   "cell_type": "code",
   "execution_count": 22,
   "metadata": {},
   "outputs": [
    {
     "data": {
      "application/vnd.plotly.v1+json": {
       "config": {
        "plotlyServerURL": "https://plot.ly"
       },
       "data": [
        {
         "marker": {
          "color": "lightblue"
         },
         "name": "Number of Instances",
         "text": [
          90,
          89,
          83,
          79,
          78
         ],
         "textposition": "auto",
         "type": "bar",
         "x": [
          "Checking",
          "Washing",
          "Counting",
          "Ordering",
          "Praying"
         ],
         "y": [
          90,
          89,
          83,
          79,
          78
         ]
        },
        {
         "line": {
          "color": "orange",
          "width": 3
         },
         "marker": {
          "size": 8
         },
         "mode": "lines+markers",
         "name": "Average Total Score",
         "text": [
          20.522222222222222,
          19.6144578313253,
          20.265822784810126,
          22.23076923076923,
          17.752808988764045
         ],
         "textposition": "top center",
         "type": "scatter",
         "x": [
          "Checking",
          "Counting",
          "Ordering",
          "Praying",
          "Washing"
         ],
         "y": [
          20.522222222222222,
          19.6144578313253,
          20.265822784810126,
          22.23076923076923,
          17.752808988764045
         ],
         "yaxis": "y2"
        }
       ],
       "layout": {
        "legend": {
         "x": 0.1,
         "y": 1.1
        },
        "template": {
         "data": {
          "bar": [
           {
            "error_x": {
             "color": "#2a3f5f"
            },
            "error_y": {
             "color": "#2a3f5f"
            },
            "marker": {
             "line": {
              "color": "#E5ECF6",
              "width": 0.5
             },
             "pattern": {
              "fillmode": "overlay",
              "size": 10,
              "solidity": 0.2
             }
            },
            "type": "bar"
           }
          ],
          "barpolar": [
           {
            "marker": {
             "line": {
              "color": "#E5ECF6",
              "width": 0.5
             },
             "pattern": {
              "fillmode": "overlay",
              "size": 10,
              "solidity": 0.2
             }
            },
            "type": "barpolar"
           }
          ],
          "carpet": [
           {
            "aaxis": {
             "endlinecolor": "#2a3f5f",
             "gridcolor": "white",
             "linecolor": "white",
             "minorgridcolor": "white",
             "startlinecolor": "#2a3f5f"
            },
            "baxis": {
             "endlinecolor": "#2a3f5f",
             "gridcolor": "white",
             "linecolor": "white",
             "minorgridcolor": "white",
             "startlinecolor": "#2a3f5f"
            },
            "type": "carpet"
           }
          ],
          "choropleth": [
           {
            "colorbar": {
             "outlinewidth": 0,
             "ticks": ""
            },
            "type": "choropleth"
           }
          ],
          "contour": [
           {
            "colorbar": {
             "outlinewidth": 0,
             "ticks": ""
            },
            "colorscale": [
             [
              0,
              "#0d0887"
             ],
             [
              0.1111111111111111,
              "#46039f"
             ],
             [
              0.2222222222222222,
              "#7201a8"
             ],
             [
              0.3333333333333333,
              "#9c179e"
             ],
             [
              0.4444444444444444,
              "#bd3786"
             ],
             [
              0.5555555555555556,
              "#d8576b"
             ],
             [
              0.6666666666666666,
              "#ed7953"
             ],
             [
              0.7777777777777778,
              "#fb9f3a"
             ],
             [
              0.8888888888888888,
              "#fdca26"
             ],
             [
              1,
              "#f0f921"
             ]
            ],
            "type": "contour"
           }
          ],
          "contourcarpet": [
           {
            "colorbar": {
             "outlinewidth": 0,
             "ticks": ""
            },
            "type": "contourcarpet"
           }
          ],
          "heatmap": [
           {
            "colorbar": {
             "outlinewidth": 0,
             "ticks": ""
            },
            "colorscale": [
             [
              0,
              "#0d0887"
             ],
             [
              0.1111111111111111,
              "#46039f"
             ],
             [
              0.2222222222222222,
              "#7201a8"
             ],
             [
              0.3333333333333333,
              "#9c179e"
             ],
             [
              0.4444444444444444,
              "#bd3786"
             ],
             [
              0.5555555555555556,
              "#d8576b"
             ],
             [
              0.6666666666666666,
              "#ed7953"
             ],
             [
              0.7777777777777778,
              "#fb9f3a"
             ],
             [
              0.8888888888888888,
              "#fdca26"
             ],
             [
              1,
              "#f0f921"
             ]
            ],
            "type": "heatmap"
           }
          ],
          "heatmapgl": [
           {
            "colorbar": {
             "outlinewidth": 0,
             "ticks": ""
            },
            "colorscale": [
             [
              0,
              "#0d0887"
             ],
             [
              0.1111111111111111,
              "#46039f"
             ],
             [
              0.2222222222222222,
              "#7201a8"
             ],
             [
              0.3333333333333333,
              "#9c179e"
             ],
             [
              0.4444444444444444,
              "#bd3786"
             ],
             [
              0.5555555555555556,
              "#d8576b"
             ],
             [
              0.6666666666666666,
              "#ed7953"
             ],
             [
              0.7777777777777778,
              "#fb9f3a"
             ],
             [
              0.8888888888888888,
              "#fdca26"
             ],
             [
              1,
              "#f0f921"
             ]
            ],
            "type": "heatmapgl"
           }
          ],
          "histogram": [
           {
            "marker": {
             "pattern": {
              "fillmode": "overlay",
              "size": 10,
              "solidity": 0.2
             }
            },
            "type": "histogram"
           }
          ],
          "histogram2d": [
           {
            "colorbar": {
             "outlinewidth": 0,
             "ticks": ""
            },
            "colorscale": [
             [
              0,
              "#0d0887"
             ],
             [
              0.1111111111111111,
              "#46039f"
             ],
             [
              0.2222222222222222,
              "#7201a8"
             ],
             [
              0.3333333333333333,
              "#9c179e"
             ],
             [
              0.4444444444444444,
              "#bd3786"
             ],
             [
              0.5555555555555556,
              "#d8576b"
             ],
             [
              0.6666666666666666,
              "#ed7953"
             ],
             [
              0.7777777777777778,
              "#fb9f3a"
             ],
             [
              0.8888888888888888,
              "#fdca26"
             ],
             [
              1,
              "#f0f921"
             ]
            ],
            "type": "histogram2d"
           }
          ],
          "histogram2dcontour": [
           {
            "colorbar": {
             "outlinewidth": 0,
             "ticks": ""
            },
            "colorscale": [
             [
              0,
              "#0d0887"
             ],
             [
              0.1111111111111111,
              "#46039f"
             ],
             [
              0.2222222222222222,
              "#7201a8"
             ],
             [
              0.3333333333333333,
              "#9c179e"
             ],
             [
              0.4444444444444444,
              "#bd3786"
             ],
             [
              0.5555555555555556,
              "#d8576b"
             ],
             [
              0.6666666666666666,
              "#ed7953"
             ],
             [
              0.7777777777777778,
              "#fb9f3a"
             ],
             [
              0.8888888888888888,
              "#fdca26"
             ],
             [
              1,
              "#f0f921"
             ]
            ],
            "type": "histogram2dcontour"
           }
          ],
          "mesh3d": [
           {
            "colorbar": {
             "outlinewidth": 0,
             "ticks": ""
            },
            "type": "mesh3d"
           }
          ],
          "parcoords": [
           {
            "line": {
             "colorbar": {
              "outlinewidth": 0,
              "ticks": ""
             }
            },
            "type": "parcoords"
           }
          ],
          "pie": [
           {
            "automargin": true,
            "type": "pie"
           }
          ],
          "scatter": [
           {
            "fillpattern": {
             "fillmode": "overlay",
             "size": 10,
             "solidity": 0.2
            },
            "type": "scatter"
           }
          ],
          "scatter3d": [
           {
            "line": {
             "colorbar": {
              "outlinewidth": 0,
              "ticks": ""
             }
            },
            "marker": {
             "colorbar": {
              "outlinewidth": 0,
              "ticks": ""
             }
            },
            "type": "scatter3d"
           }
          ],
          "scattercarpet": [
           {
            "marker": {
             "colorbar": {
              "outlinewidth": 0,
              "ticks": ""
             }
            },
            "type": "scattercarpet"
           }
          ],
          "scattergeo": [
           {
            "marker": {
             "colorbar": {
              "outlinewidth": 0,
              "ticks": ""
             }
            },
            "type": "scattergeo"
           }
          ],
          "scattergl": [
           {
            "marker": {
             "colorbar": {
              "outlinewidth": 0,
              "ticks": ""
             }
            },
            "type": "scattergl"
           }
          ],
          "scattermapbox": [
           {
            "marker": {
             "colorbar": {
              "outlinewidth": 0,
              "ticks": ""
             }
            },
            "type": "scattermapbox"
           }
          ],
          "scatterpolar": [
           {
            "marker": {
             "colorbar": {
              "outlinewidth": 0,
              "ticks": ""
             }
            },
            "type": "scatterpolar"
           }
          ],
          "scatterpolargl": [
           {
            "marker": {
             "colorbar": {
              "outlinewidth": 0,
              "ticks": ""
             }
            },
            "type": "scatterpolargl"
           }
          ],
          "scatterternary": [
           {
            "marker": {
             "colorbar": {
              "outlinewidth": 0,
              "ticks": ""
             }
            },
            "type": "scatterternary"
           }
          ],
          "surface": [
           {
            "colorbar": {
             "outlinewidth": 0,
             "ticks": ""
            },
            "colorscale": [
             [
              0,
              "#0d0887"
             ],
             [
              0.1111111111111111,
              "#46039f"
             ],
             [
              0.2222222222222222,
              "#7201a8"
             ],
             [
              0.3333333333333333,
              "#9c179e"
             ],
             [
              0.4444444444444444,
              "#bd3786"
             ],
             [
              0.5555555555555556,
              "#d8576b"
             ],
             [
              0.6666666666666666,
              "#ed7953"
             ],
             [
              0.7777777777777778,
              "#fb9f3a"
             ],
             [
              0.8888888888888888,
              "#fdca26"
             ],
             [
              1,
              "#f0f921"
             ]
            ],
            "type": "surface"
           }
          ],
          "table": [
           {
            "cells": {
             "fill": {
              "color": "#EBF0F8"
             },
             "line": {
              "color": "white"
             }
            },
            "header": {
             "fill": {
              "color": "#C8D4E3"
             },
             "line": {
              "color": "white"
             }
            },
            "type": "table"
           }
          ]
         },
         "layout": {
          "annotationdefaults": {
           "arrowcolor": "#2a3f5f",
           "arrowhead": 0,
           "arrowwidth": 1
          },
          "autotypenumbers": "strict",
          "coloraxis": {
           "colorbar": {
            "outlinewidth": 0,
            "ticks": ""
           }
          },
          "colorscale": {
           "diverging": [
            [
             0,
             "#8e0152"
            ],
            [
             0.1,
             "#c51b7d"
            ],
            [
             0.2,
             "#de77ae"
            ],
            [
             0.3,
             "#f1b6da"
            ],
            [
             0.4,
             "#fde0ef"
            ],
            [
             0.5,
             "#f7f7f7"
            ],
            [
             0.6,
             "#e6f5d0"
            ],
            [
             0.7,
             "#b8e186"
            ],
            [
             0.8,
             "#7fbc41"
            ],
            [
             0.9,
             "#4d9221"
            ],
            [
             1,
             "#276419"
            ]
           ],
           "sequential": [
            [
             0,
             "#0d0887"
            ],
            [
             0.1111111111111111,
             "#46039f"
            ],
            [
             0.2222222222222222,
             "#7201a8"
            ],
            [
             0.3333333333333333,
             "#9c179e"
            ],
            [
             0.4444444444444444,
             "#bd3786"
            ],
            [
             0.5555555555555556,
             "#d8576b"
            ],
            [
             0.6666666666666666,
             "#ed7953"
            ],
            [
             0.7777777777777778,
             "#fb9f3a"
            ],
            [
             0.8888888888888888,
             "#fdca26"
            ],
            [
             1,
             "#f0f921"
            ]
           ],
           "sequentialminus": [
            [
             0,
             "#0d0887"
            ],
            [
             0.1111111111111111,
             "#46039f"
            ],
            [
             0.2222222222222222,
             "#7201a8"
            ],
            [
             0.3333333333333333,
             "#9c179e"
            ],
            [
             0.4444444444444444,
             "#bd3786"
            ],
            [
             0.5555555555555556,
             "#d8576b"
            ],
            [
             0.6666666666666666,
             "#ed7953"
            ],
            [
             0.7777777777777778,
             "#fb9f3a"
            ],
            [
             0.8888888888888888,
             "#fdca26"
            ],
            [
             1,
             "#f0f921"
            ]
           ]
          },
          "colorway": [
           "#636efa",
           "#EF553B",
           "#00cc96",
           "#ab63fa",
           "#FFA15A",
           "#19d3f3",
           "#FF6692",
           "#B6E880",
           "#FF97FF",
           "#FECB52"
          ],
          "font": {
           "color": "#2a3f5f"
          },
          "geo": {
           "bgcolor": "white",
           "lakecolor": "white",
           "landcolor": "#E5ECF6",
           "showlakes": true,
           "showland": true,
           "subunitcolor": "white"
          },
          "hoverlabel": {
           "align": "left"
          },
          "hovermode": "closest",
          "mapbox": {
           "style": "light"
          },
          "paper_bgcolor": "white",
          "plot_bgcolor": "#E5ECF6",
          "polar": {
           "angularaxis": {
            "gridcolor": "white",
            "linecolor": "white",
            "ticks": ""
           },
           "bgcolor": "#E5ECF6",
           "radialaxis": {
            "gridcolor": "white",
            "linecolor": "white",
            "ticks": ""
           }
          },
          "scene": {
           "xaxis": {
            "backgroundcolor": "#E5ECF6",
            "gridcolor": "white",
            "gridwidth": 2,
            "linecolor": "white",
            "showbackground": true,
            "ticks": "",
            "zerolinecolor": "white"
           },
           "yaxis": {
            "backgroundcolor": "#E5ECF6",
            "gridcolor": "white",
            "gridwidth": 2,
            "linecolor": "white",
            "showbackground": true,
            "ticks": "",
            "zerolinecolor": "white"
           },
           "zaxis": {
            "backgroundcolor": "#E5ECF6",
            "gridcolor": "white",
            "gridwidth": 2,
            "linecolor": "white",
            "showbackground": true,
            "ticks": "",
            "zerolinecolor": "white"
           }
          },
          "shapedefaults": {
           "line": {
            "color": "#2a3f5f"
           }
          },
          "ternary": {
           "aaxis": {
            "gridcolor": "white",
            "linecolor": "white",
            "ticks": ""
           },
           "baxis": {
            "gridcolor": "white",
            "linecolor": "white",
            "ticks": ""
           },
           "bgcolor": "#E5ECF6",
           "caxis": {
            "gridcolor": "white",
            "linecolor": "white",
            "ticks": ""
           }
          },
          "title": {
           "x": 0.05
          },
          "xaxis": {
           "automargin": true,
           "gridcolor": "white",
           "linecolor": "white",
           "ticks": "",
           "title": {
            "standoff": 15
           },
           "zerolinecolor": "white",
           "zerolinewidth": 2
          },
          "yaxis": {
           "automargin": true,
           "gridcolor": "white",
           "linecolor": "white",
           "ticks": "",
           "title": {
            "standoff": 15
           },
           "zerolinecolor": "white",
           "zerolinewidth": 2
          }
         }
        },
        "title": {
         "text": "Number of Instances and Average Total Score by Compulsion Type"
        },
        "xaxis": {
         "tickangle": 45,
         "title": {
          "text": "Compulsion Type"
         }
        },
        "yaxis": {
         "showgrid": true,
         "title": {
          "text": "Number of Instances"
         }
        },
        "yaxis2": {
         "overlaying": "y",
         "side": "right",
         "title": {
          "text": "Average Total Score"
         }
        }
       }
      }
     },
     "metadata": {},
     "output_type": "display_data"
    }
   ],
   "source": [
    "# Count the number of instances for each compulsion type\n",
    "compulsion_counts = filtered_df['Compulsion Type'].value_counts()\n",
    "\n",
    "# Calculate the average Total Score for each compulsion type\n",
    "compulsion_avg_scores = filtered_df.groupby('Compulsion Type')['Total_Score'].mean()\n",
    "\n",
    "# Create a figure\n",
    "fig8 = go.Figure()\n",
    "\n",
    "# Add bar plot for the number of instances (left y-axis)\n",
    "fig8.add_trace(\n",
    "    go.Bar(\n",
    "        x=compulsion_counts.index,\n",
    "        y=compulsion_counts.values,\n",
    "        name='Number of Instances',\n",
    "        marker_color='lightblue',\n",
    "        text=compulsion_counts.values,  # Show count on the bars\n",
    "        textposition='auto'\n",
    "    )\n",
    ")\n",
    "\n",
    "# Add line plot for the average total score (right y-axis)\n",
    "fig8.add_trace(\n",
    "    go.Scatter(\n",
    "        x=compulsion_avg_scores.index,\n",
    "        y=compulsion_avg_scores.values,\n",
    "        name='Average Total Score',\n",
    "        yaxis='y2',  # Associate this with the second y-axis\n",
    "        mode='lines+markers',\n",
    "        line=dict(color='orange', width=3),\n",
    "        marker=dict(size=8),\n",
    "        text=compulsion_avg_scores.values,  # Show average scores on the points\n",
    "        textposition='top center'\n",
    "    )\n",
    ")\n",
    "\n",
    "# Update layout to include a second y-axis\n",
    "fig8.update_layout(\n",
    "    title='Number of Instances and Average Total Score by Compulsion Type',\n",
    "    xaxis_title='Compulsion Type',\n",
    "    yaxis_title='Number of Instances',\n",
    "    yaxis2=dict(\n",
    "        title='Average Total Score',\n",
    "        overlaying='y',  # Overlay y-axis 2 on the same plot as y-axis 1\n",
    "        side='right'\n",
    "    ),\n",
    "    legend=dict(x=0.1, y=1.1),\n",
    "    xaxis_tickangle=45,\n",
    "    yaxis=dict(showgrid=True)\n",
    ")\n",
    "\n",
    "# Show the plot\n",
    "fig8.show()"
   ]
  },
  {
   "cell_type": "markdown",
   "metadata": {},
   "source": [
    "To prepare the dataframe for diagnosis and prediction, over the next few codes, the following has been done:\n",
    "1. Conversion of boolean values to integers\n",
    "2. Normalisation of numerical features\n",
    "3. Conversion of categorical features to numerical by one hot encoding\n",
    "4. Using Label encoding on Score_Category"
   ]
  },
  {
   "cell_type": "code",
   "execution_count": 23,
   "metadata": {},
   "outputs": [
    {
     "name": "stderr",
     "output_type": "stream",
     "text": [
      "C:\\Users\\shwet\\AppData\\Local\\Temp\\ipykernel_35864\\3589368649.py:2: SettingWithCopyWarning:\n",
      "\n",
      "\n",
      "A value is trying to be set on a copy of a slice from a DataFrame.\n",
      "Try using .loc[row_indexer,col_indexer] = value instead\n",
      "\n",
      "See the caveats in the documentation: https://pandas.pydata.org/pandas-docs/stable/user_guide/indexing.html#returning-a-view-versus-a-copy\n",
      "\n",
      "C:\\Users\\shwet\\AppData\\Local\\Temp\\ipykernel_35864\\3589368649.py:6: SettingWithCopyWarning:\n",
      "\n",
      "\n",
      "A value is trying to be set on a copy of a slice from a DataFrame.\n",
      "Try using .loc[row_indexer,col_indexer] = value instead\n",
      "\n",
      "See the caveats in the documentation: https://pandas.pydata.org/pandas-docs/stable/user_guide/indexing.html#returning-a-view-versus-a-copy\n",
      "\n",
      "C:\\Users\\shwet\\AppData\\Local\\Temp\\ipykernel_35864\\3589368649.py:9: SettingWithCopyWarning:\n",
      "\n",
      "\n",
      "A value is trying to be set on a copy of a slice from a DataFrame.\n",
      "Try using .loc[row_indexer,col_indexer] = value instead\n",
      "\n",
      "See the caveats in the documentation: https://pandas.pydata.org/pandas-docs/stable/user_guide/indexing.html#returning-a-view-versus-a-copy\n",
      "\n",
      "C:\\Users\\shwet\\AppData\\Local\\Temp\\ipykernel_35864\\3589368649.py:12: SettingWithCopyWarning:\n",
      "\n",
      "\n",
      "A value is trying to be set on a copy of a slice from a DataFrame.\n",
      "Try using .loc[row_indexer,col_indexer] = value instead\n",
      "\n",
      "See the caveats in the documentation: https://pandas.pydata.org/pandas-docs/stable/user_guide/indexing.html#returning-a-view-versus-a-copy\n",
      "\n",
      "C:\\Users\\shwet\\AppData\\Local\\Temp\\ipykernel_35864\\3589368649.py:15: SettingWithCopyWarning:\n",
      "\n",
      "\n",
      "A value is trying to be set on a copy of a slice from a DataFrame.\n",
      "Try using .loc[row_indexer,col_indexer] = value instead\n",
      "\n",
      "See the caveats in the documentation: https://pandas.pydata.org/pandas-docs/stable/user_guide/indexing.html#returning-a-view-versus-a-copy\n",
      "\n"
     ]
    }
   ],
   "source": [
    "# Convert boolean values to integers (0 for False, 1 for True) for Family history of OCD\n",
    "filtered_df['Family History of OCD'] = filtered_df['Family History of OCD'].astype(int)\n",
    "\n",
    "\n",
    "# Convert boolean values to integers (0 for False, 1 for True) for Depression Diagnosis\n",
    "filtered_df['Depression Diagnosis'] = filtered_df['Depression Diagnosis'].astype(int)\n",
    "\n",
    "# Convert boolean values to integers (0 for False, 1 for True) for Anxiety Diagnosis\n",
    "filtered_df['Anxiety Diagnosis'] = filtered_df['Anxiety Diagnosis'].astype(int)\n",
    "\n",
    "# Convert Gender to Boolean: Male as True, Female as False\n",
    "filtered_df['Gender_Boolean'] = filtered_df['Gender'].map({'Male': True, 'Female': False})\n",
    "\n",
    "# Convert Boolean to Integers (True -> 1, False -> 0)\n",
    "filtered_df['Gender_Boolean'] = filtered_df['Gender_Boolean'].astype(int)"
   ]
  },
  {
   "cell_type": "code",
   "execution_count": 24,
   "metadata": {},
   "outputs": [
    {
     "name": "stderr",
     "output_type": "stream",
     "text": [
      "C:\\Users\\shwet\\AppData\\Local\\Temp\\ipykernel_35864\\178548370.py:11: SettingWithCopyWarning:\n",
      "\n",
      "\n",
      "A value is trying to be set on a copy of a slice from a DataFrame.\n",
      "Try using .loc[row_indexer,col_indexer] = value instead\n",
      "\n",
      "See the caveats in the documentation: https://pandas.pydata.org/pandas-docs/stable/user_guide/indexing.html#returning-a-view-versus-a-copy\n",
      "\n"
     ]
    }
   ],
   "source": [
    "# Normalisation of numerical features\n",
    "from sklearn.preprocessing import MinMaxScaler\n",
    "\n",
    "# Initialize Min-Max Scaler\n",
    "scaler = MinMaxScaler()\n",
    "\n",
    "# Select the columns you want to normalize\n",
    "columns_to_normalize = ['Age', 'Duration of Symptoms (months)']\n",
    "\n",
    "# Apply the Min-Max scaling\n",
    "filtered_df[columns_to_normalize] = scaler.fit_transform(filtered_df[columns_to_normalize])"
   ]
  },
  {
   "cell_type": "code",
   "execution_count": 25,
   "metadata": {},
   "outputs": [],
   "source": [
    "# One ot encoding for Obsession Type and Compulsion Type\n",
    "\n",
    "from sklearn.preprocessing import OneHotEncoder\n",
    "\n",
    "# Initialize OneHotEncoder with sparse_output=False to return dense array\n",
    "encoder = OneHotEncoder(sparse_output=False)\n",
    "\n",
    "# Apply One-Hot Encoding to the 'Obsession Type' column\n",
    "one_hot_encoded = encoder.fit_transform(filtered_df[[\"Obsession Type\"]])\n",
    "\n",
    "# Get the feature names for the encoded columns\n",
    "encoded_feature_names = encoder.get_feature_names_out([\"Obsession Type\"])\n",
    "\n",
    "# Convert the encoded data into a DataFrame\n",
    "df_one_hot_O = pd.DataFrame(one_hot_encoded, columns=encoded_feature_names)\n",
    "\n",
    "# Reset the index to avoid row misalignment during concatenation\n",
    "df_one_hot_O.reset_index(drop=True, inplace=True)\n",
    "\n",
    "# Concatenate the original dataframe with the new one-hot encoded columns\n",
    "filtered_df.reset_index(drop=True, inplace=True)  # Reset index in original dataframe too\n",
    "filtered_df = pd.concat([filtered_df, df_one_hot_O], axis=1)\n",
    "\n",
    "# Drop the original 'Obsession Type' column if you no longer need it\n",
    "filtered_df.drop(columns=['Obsession Type'], inplace=True)\n",
    "\n",
    "# Apply One-Hot Encoding to the 'Compulsion Type' column\n",
    "one_hot_encoded = encoder.fit_transform(filtered_df[[\"Compulsion Type\"]])\n",
    "\n",
    "# Get the feature names for the encoded columns\n",
    "encoded_feature_names = encoder.get_feature_names_out([\"Compulsion Type\"])\n",
    "\n",
    "# Convert the encoded data into a DataFrame\n",
    "df_one_hot_C = pd.DataFrame(one_hot_encoded, columns=encoded_feature_names)\n",
    "\n",
    "# Reset the index to avoid row misalignment during concatenation\n",
    "df_one_hot_C.reset_index(drop=True, inplace=True)\n",
    "\n",
    "# Concatenate the original dataframe with the new one-hot encoded columns\n",
    "filtered_df.reset_index(drop=True, inplace=True)  # Reset index in original dataframe too\n",
    "filtered_df = pd.concat([filtered_df, df_one_hot_C], axis=1)\n",
    "\n",
    "# Drop the original 'Compulsion Type' column if you no longer need it\n",
    "filtered_df.drop(columns=['Compulsion Type'], inplace=True)\n"
   ]
  },
  {
   "cell_type": "code",
   "execution_count": 26,
   "metadata": {},
   "outputs": [],
   "source": [
    "# Using Label Encoding on Score_Category\n",
    "from sklearn.preprocessing import LabelEncoder\n",
    "\n",
    "# Initialize the LabelEncoder\n",
    "label_encoder = LabelEncoder()\n",
    "\n",
    "# Apply the label encoder to the 'Score_Category' column\n",
    "filtered_df['Score_Category_Encoded'] = label_encoder.fit_transform(filtered_df['Score_Category'])"
   ]
  },
  {
   "cell_type": "code",
   "execution_count": 27,
   "metadata": {},
   "outputs": [
    {
     "data": {
      "text/html": [
       "<div>\n",
       "<style scoped>\n",
       "    .dataframe tbody tr th:only-of-type {\n",
       "        vertical-align: middle;\n",
       "    }\n",
       "\n",
       "    .dataframe tbody tr th {\n",
       "        vertical-align: top;\n",
       "    }\n",
       "\n",
       "    .dataframe thead th {\n",
       "        text-align: right;\n",
       "    }\n",
       "</style>\n",
       "<table border=\"1\" class=\"dataframe\">\n",
       "  <thead>\n",
       "    <tr style=\"text-align: right;\">\n",
       "      <th></th>\n",
       "      <th>Age</th>\n",
       "      <th>Gender</th>\n",
       "      <th>Family History of OCD</th>\n",
       "      <th>Duration of Symptoms (months)</th>\n",
       "      <th>Total_Score</th>\n",
       "      <th>Depression Diagnosis</th>\n",
       "      <th>Anxiety Diagnosis</th>\n",
       "      <th>Score_Category</th>\n",
       "      <th>Age Group</th>\n",
       "      <th>Condition</th>\n",
       "      <th>...</th>\n",
       "      <th>Obsession Type_Harm-related</th>\n",
       "      <th>Obsession Type_Hoarding</th>\n",
       "      <th>Obsession Type_Religious</th>\n",
       "      <th>Obsession Type_Symmetry</th>\n",
       "      <th>Compulsion Type_Checking</th>\n",
       "      <th>Compulsion Type_Counting</th>\n",
       "      <th>Compulsion Type_Ordering</th>\n",
       "      <th>Compulsion Type_Praying</th>\n",
       "      <th>Compulsion Type_Washing</th>\n",
       "      <th>Score_Category_Encoded</th>\n",
       "    </tr>\n",
       "  </thead>\n",
       "  <tbody>\n",
       "    <tr>\n",
       "      <th>0</th>\n",
       "      <td>0.245614</td>\n",
       "      <td>Female</td>\n",
       "      <td>0</td>\n",
       "      <td>0.841880</td>\n",
       "      <td>27</td>\n",
       "      <td>1</td>\n",
       "      <td>1</td>\n",
       "      <td>High</td>\n",
       "      <td>31-50</td>\n",
       "      <td>Anxiety T, Depression T</td>\n",
       "      <td>...</td>\n",
       "      <td>1.0</td>\n",
       "      <td>0.0</td>\n",
       "      <td>0.0</td>\n",
       "      <td>0.0</td>\n",
       "      <td>1.0</td>\n",
       "      <td>0.0</td>\n",
       "      <td>0.0</td>\n",
       "      <td>0.0</td>\n",
       "      <td>0.0</td>\n",
       "      <td>0</td>\n",
       "    </tr>\n",
       "    <tr>\n",
       "      <th>1</th>\n",
       "      <td>0.684211</td>\n",
       "      <td>Male</td>\n",
       "      <td>0</td>\n",
       "      <td>0.713675</td>\n",
       "      <td>7</td>\n",
       "      <td>0</td>\n",
       "      <td>0</td>\n",
       "      <td>Low</td>\n",
       "      <td>51-70</td>\n",
       "      <td>Anxiety F, Depression F</td>\n",
       "      <td>...</td>\n",
       "      <td>0.0</td>\n",
       "      <td>0.0</td>\n",
       "      <td>0.0</td>\n",
       "      <td>0.0</td>\n",
       "      <td>1.0</td>\n",
       "      <td>0.0</td>\n",
       "      <td>0.0</td>\n",
       "      <td>0.0</td>\n",
       "      <td>0.0</td>\n",
       "      <td>1</td>\n",
       "    </tr>\n",
       "    <tr>\n",
       "      <th>2</th>\n",
       "      <td>0.350877</td>\n",
       "      <td>Female</td>\n",
       "      <td>0</td>\n",
       "      <td>0.444444</td>\n",
       "      <td>28</td>\n",
       "      <td>1</td>\n",
       "      <td>0</td>\n",
       "      <td>High</td>\n",
       "      <td>31-50</td>\n",
       "      <td>Anxiety F, Depression T</td>\n",
       "      <td>...</td>\n",
       "      <td>0.0</td>\n",
       "      <td>0.0</td>\n",
       "      <td>0.0</td>\n",
       "      <td>0.0</td>\n",
       "      <td>0.0</td>\n",
       "      <td>0.0</td>\n",
       "      <td>0.0</td>\n",
       "      <td>1.0</td>\n",
       "      <td>0.0</td>\n",
       "      <td>0</td>\n",
       "    </tr>\n",
       "    <tr>\n",
       "      <th>3</th>\n",
       "      <td>0.964912</td>\n",
       "      <td>Female</td>\n",
       "      <td>0</td>\n",
       "      <td>0.970085</td>\n",
       "      <td>20</td>\n",
       "      <td>1</td>\n",
       "      <td>1</td>\n",
       "      <td>Low</td>\n",
       "      <td>71+</td>\n",
       "      <td>Anxiety T, Depression T</td>\n",
       "      <td>...</td>\n",
       "      <td>0.0</td>\n",
       "      <td>0.0</td>\n",
       "      <td>1.0</td>\n",
       "      <td>0.0</td>\n",
       "      <td>0.0</td>\n",
       "      <td>1.0</td>\n",
       "      <td>0.0</td>\n",
       "      <td>0.0</td>\n",
       "      <td>0.0</td>\n",
       "      <td>1</td>\n",
       "    </tr>\n",
       "    <tr>\n",
       "      <th>4</th>\n",
       "      <td>0.842105</td>\n",
       "      <td>Female</td>\n",
       "      <td>0</td>\n",
       "      <td>0.286325</td>\n",
       "      <td>12</td>\n",
       "      <td>0</td>\n",
       "      <td>1</td>\n",
       "      <td>Low</td>\n",
       "      <td>51-70</td>\n",
       "      <td>Anxiety T, Depression F</td>\n",
       "      <td>...</td>\n",
       "      <td>1.0</td>\n",
       "      <td>0.0</td>\n",
       "      <td>0.0</td>\n",
       "      <td>0.0</td>\n",
       "      <td>0.0</td>\n",
       "      <td>0.0</td>\n",
       "      <td>0.0</td>\n",
       "      <td>0.0</td>\n",
       "      <td>1.0</td>\n",
       "      <td>1</td>\n",
       "    </tr>\n",
       "  </tbody>\n",
       "</table>\n",
       "<p>5 rows × 22 columns</p>\n",
       "</div>"
      ],
      "text/plain": [
       "        Age  Gender  Family History of OCD  Duration of Symptoms (months)  \\\n",
       "0  0.245614  Female                      0                       0.841880   \n",
       "1  0.684211    Male                      0                       0.713675   \n",
       "2  0.350877  Female                      0                       0.444444   \n",
       "3  0.964912  Female                      0                       0.970085   \n",
       "4  0.842105  Female                      0                       0.286325   \n",
       "\n",
       "   Total_Score  Depression Diagnosis  Anxiety Diagnosis Score_Category  \\\n",
       "0           27                     1                  1           High   \n",
       "1            7                     0                  0            Low   \n",
       "2           28                     1                  0           High   \n",
       "3           20                     1                  1            Low   \n",
       "4           12                     0                  1            Low   \n",
       "\n",
       "  Age Group                Condition  ...  Obsession Type_Harm-related  \\\n",
       "0     31-50  Anxiety T, Depression T  ...                          1.0   \n",
       "1     51-70  Anxiety F, Depression F  ...                          0.0   \n",
       "2     31-50  Anxiety F, Depression T  ...                          0.0   \n",
       "3       71+  Anxiety T, Depression T  ...                          0.0   \n",
       "4     51-70  Anxiety T, Depression F  ...                          1.0   \n",
       "\n",
       "   Obsession Type_Hoarding  Obsession Type_Religious  Obsession Type_Symmetry  \\\n",
       "0                      0.0                       0.0                      0.0   \n",
       "1                      0.0                       0.0                      0.0   \n",
       "2                      0.0                       0.0                      0.0   \n",
       "3                      0.0                       1.0                      0.0   \n",
       "4                      0.0                       0.0                      0.0   \n",
       "\n",
       "   Compulsion Type_Checking  Compulsion Type_Counting  \\\n",
       "0                       1.0                       0.0   \n",
       "1                       1.0                       0.0   \n",
       "2                       0.0                       0.0   \n",
       "3                       0.0                       1.0   \n",
       "4                       0.0                       0.0   \n",
       "\n",
       "   Compulsion Type_Ordering  Compulsion Type_Praying  Compulsion Type_Washing  \\\n",
       "0                       0.0                      0.0                      0.0   \n",
       "1                       0.0                      0.0                      0.0   \n",
       "2                       0.0                      1.0                      0.0   \n",
       "3                       0.0                      0.0                      0.0   \n",
       "4                       0.0                      0.0                      1.0   \n",
       "\n",
       "   Score_Category_Encoded  \n",
       "0                       0  \n",
       "1                       1  \n",
       "2                       0  \n",
       "3                       1  \n",
       "4                       1  \n",
       "\n",
       "[5 rows x 22 columns]"
      ]
     },
     "execution_count": 27,
     "metadata": {},
     "output_type": "execute_result"
    }
   ],
   "source": [
    "# Display the updated dataframe\n",
    "filtered_df.head()"
   ]
  },
  {
   "cell_type": "markdown",
   "metadata": {},
   "source": [
    "### Diagnostic Analytics"
   ]
  },
  {
   "cell_type": "markdown",
   "metadata": {},
   "source": [
    "1. Can we cluster patients based on their symptom severity, anxiety, and depression diagnoses?"
   ]
  },
  {
   "cell_type": "code",
   "execution_count": 28,
   "metadata": {},
   "outputs": [
    {
     "data": {
      "application/vnd.plotly.v1+json": {
       "config": {
        "plotlyServerURL": "https://plot.ly"
       },
       "data": [
        {
         "hovertemplate": "Anxiety Diagnosis=%{x}<br>Depression Diagnosis=%{y}<br>Symptom Severity (Encoded)=%{z}<br>Cluster=%{marker.color}<extra></extra>",
         "legendgroup": "",
         "marker": {
          "color": [
           1,
           0,
           1,
           2,
           0,
           2,
           0,
           0,
           1,
           0,
           1,
           0,
           0,
           1,
           1,
           1,
           1,
           1,
           0,
           0,
           1,
           0,
           0,
           0,
           2,
           2,
           0,
           1,
           1,
           0,
           0,
           1,
           0,
           0,
           0,
           0,
           2,
           0,
           2,
           1,
           0,
           1,
           1,
           0,
           1,
           0,
           0,
           2,
           1,
           1,
           0,
           1,
           0,
           0,
           1,
           0,
           0,
           2,
           0,
           0,
           0,
           0,
           0,
           1,
           1,
           1,
           0,
           0,
           1,
           0,
           1,
           2,
           0,
           0,
           1,
           0,
           0,
           0,
           0,
           0,
           2,
           0,
           2,
           0,
           0,
           0,
           1,
           1,
           1,
           0,
           2,
           0,
           1,
           0,
           0,
           1,
           0,
           0,
           1,
           2,
           0,
           0,
           0,
           0,
           0,
           0,
           0,
           1,
           2,
           2,
           0,
           0,
           1,
           1,
           0,
           2,
           0,
           2,
           2,
           0,
           1,
           1,
           1,
           2,
           1,
           0,
           0,
           1,
           0,
           0,
           0,
           2,
           1,
           1,
           0,
           2,
           2,
           0,
           0,
           0,
           1,
           0,
           1,
           2,
           0,
           0,
           1,
           2,
           1,
           0,
           0,
           1,
           0,
           1,
           0,
           1,
           0,
           0,
           0,
           0,
           1,
           1,
           1,
           0,
           2,
           1,
           1,
           1,
           2,
           1,
           2,
           0,
           1,
           1,
           1,
           1,
           0,
           1,
           0,
           2,
           1,
           2,
           0,
           1,
           0,
           1,
           0,
           0,
           0,
           0,
           1,
           2,
           0,
           0,
           1,
           0,
           1,
           0,
           0,
           1,
           0,
           0,
           0,
           0,
           2,
           0,
           0,
           0,
           1,
           1,
           0,
           1,
           1,
           0,
           1,
           0,
           0,
           0,
           2,
           0,
           0,
           2,
           1,
           1,
           1,
           0,
           2,
           2,
           1,
           0,
           1,
           1,
           0,
           0,
           2,
           1,
           2,
           0,
           1,
           2,
           0,
           2,
           0,
           2,
           1,
           0,
           1,
           2,
           1,
           1,
           1,
           0,
           2,
           0,
           0,
           0,
           1,
           1,
           2,
           0,
           0,
           0,
           1,
           1,
           0,
           2,
           0,
           2,
           0,
           1,
           0,
           1,
           1,
           0,
           2,
           1,
           0,
           2,
           2,
           0,
           0,
           2,
           0,
           1,
           1,
           0,
           2,
           0,
           0,
           1,
           1,
           1,
           0,
           1,
           1,
           1,
           0,
           0,
           0,
           1,
           0,
           1,
           1,
           1,
           0,
           1,
           0,
           0,
           0,
           0,
           1,
           0,
           1,
           0,
           0,
           1,
           0,
           0,
           1,
           1,
           1,
           2,
           0,
           0,
           1,
           1,
           1,
           0,
           1,
           1,
           0,
           1,
           0,
           1,
           2,
           1,
           0,
           0,
           1,
           1,
           0,
           1,
           1,
           0,
           0,
           0,
           0,
           0,
           1,
           0,
           0,
           2,
           0,
           1,
           2,
           0,
           1,
           1,
           0,
           2,
           2,
           2,
           0,
           1,
           0,
           0,
           0,
           0,
           0,
           0,
           0,
           0,
           2,
           0,
           1,
           1,
           0,
           0,
           1,
           0,
           0,
           0,
           1,
           1,
           0,
           0,
           2,
           0,
           0,
           0,
           1,
           1,
           1,
           1,
           1,
           1,
           1,
           0,
           2,
           0,
           0,
           1,
           1,
           1,
           1,
           0,
           2,
           1,
           1,
           2,
           0,
           1,
           0,
           0,
           1,
           1,
           0,
           2,
           1
          ],
          "coloraxis": "coloraxis",
          "symbol": "circle"
         },
         "mode": "markers",
         "name": "",
         "scene": "scene",
         "showlegend": false,
         "type": "scatter3d",
         "x": [
          1,
          0,
          0,
          1,
          1,
          1,
          0,
          0,
          1,
          0,
          0,
          0,
          0,
          0,
          1,
          1,
          1,
          1,
          0,
          1,
          1,
          0,
          0,
          0,
          1,
          1,
          0,
          0,
          0,
          0,
          0,
          0,
          0,
          0,
          0,
          0,
          1,
          0,
          1,
          0,
          1,
          1,
          0,
          0,
          1,
          0,
          0,
          1,
          0,
          0,
          1,
          0,
          1,
          1,
          1,
          0,
          1,
          1,
          1,
          1,
          1,
          1,
          0,
          1,
          0,
          1,
          0,
          0,
          1,
          0,
          1,
          1,
          0,
          1,
          0,
          0,
          0,
          0,
          1,
          0,
          1,
          0,
          1,
          0,
          0,
          1,
          1,
          1,
          1,
          1,
          1,
          0,
          0,
          1,
          0,
          1,
          0,
          0,
          0,
          1,
          0,
          0,
          0,
          1,
          0,
          0,
          0,
          0,
          1,
          1,
          0,
          0,
          0,
          0,
          0,
          1,
          1,
          1,
          1,
          0,
          1,
          0,
          1,
          1,
          0,
          0,
          0,
          1,
          0,
          0,
          0,
          1,
          1,
          0,
          1,
          1,
          1,
          0,
          0,
          0,
          0,
          1,
          1,
          1,
          0,
          0,
          1,
          1,
          1,
          1,
          1,
          1,
          0,
          1,
          0,
          0,
          0,
          0,
          0,
          0,
          0,
          1,
          1,
          0,
          1,
          1,
          1,
          0,
          1,
          1,
          1,
          0,
          1,
          1,
          1,
          0,
          0,
          1,
          0,
          1,
          0,
          1,
          0,
          1,
          1,
          0,
          0,
          1,
          1,
          0,
          0,
          1,
          0,
          1,
          1,
          0,
          1,
          0,
          0,
          0,
          1,
          1,
          0,
          1,
          1,
          0,
          0,
          0,
          0,
          1,
          1,
          0,
          1,
          0,
          1,
          0,
          0,
          0,
          1,
          0,
          0,
          1,
          0,
          0,
          1,
          1,
          1,
          1,
          1,
          0,
          0,
          0,
          1,
          0,
          1,
          1,
          1,
          1,
          1,
          1,
          0,
          1,
          1,
          1,
          0,
          0,
          0,
          1,
          1,
          1,
          1,
          1,
          1,
          0,
          0,
          0,
          1,
          0,
          1,
          0,
          1,
          0,
          0,
          1,
          1,
          1,
          0,
          1,
          0,
          0,
          0,
          0,
          1,
          0,
          1,
          1,
          0,
          1,
          1,
          0,
          0,
          1,
          1,
          0,
          1,
          0,
          1,
          0,
          0,
          1,
          0,
          0,
          0,
          0,
          1,
          0,
          1,
          0,
          0,
          1,
          1,
          0,
          1,
          1,
          1,
          0,
          1,
          0,
          0,
          0,
          1,
          1,
          1,
          0,
          0,
          1,
          0,
          1,
          0,
          1,
          0,
          1,
          0,
          1,
          1,
          1,
          1,
          0,
          1,
          1,
          1,
          1,
          0,
          0,
          1,
          1,
          1,
          1,
          1,
          0,
          0,
          0,
          0,
          0,
          0,
          0,
          1,
          0,
          0,
          0,
          0,
          1,
          0,
          0,
          1,
          0,
          1,
          1,
          0,
          1,
          1,
          1,
          1,
          1,
          1,
          0,
          1,
          0,
          0,
          1,
          1,
          0,
          1,
          1,
          1,
          1,
          1,
          0,
          1,
          1,
          0,
          0,
          1,
          1,
          1,
          1,
          1,
          0,
          0,
          0,
          1,
          1,
          1,
          1,
          1,
          1,
          1,
          1,
          1,
          0,
          0,
          0,
          1,
          1,
          1,
          0,
          1,
          0,
          1,
          1,
          0,
          1,
          0,
          0,
          1,
          1,
          1,
          1,
          0
         ],
         "y": [
          1,
          0,
          1,
          1,
          0,
          1,
          1,
          1,
          0,
          1,
          1,
          0,
          0,
          1,
          0,
          0,
          1,
          0,
          0,
          0,
          0,
          0,
          1,
          0,
          1,
          1,
          1,
          1,
          1,
          0,
          1,
          1,
          0,
          1,
          0,
          1,
          1,
          0,
          1,
          1,
          0,
          0,
          1,
          0,
          0,
          1,
          0,
          1,
          1,
          1,
          0,
          1,
          0,
          0,
          0,
          0,
          0,
          1,
          0,
          0,
          0,
          0,
          0,
          1,
          1,
          0,
          0,
          1,
          1,
          0,
          1,
          1,
          0,
          0,
          1,
          0,
          1,
          0,
          0,
          1,
          1,
          0,
          1,
          0,
          0,
          0,
          1,
          1,
          0,
          0,
          1,
          0,
          1,
          0,
          0,
          0,
          0,
          0,
          1,
          1,
          0,
          0,
          0,
          0,
          0,
          0,
          1,
          1,
          1,
          1,
          1,
          0,
          1,
          1,
          0,
          1,
          0,
          1,
          1,
          0,
          0,
          1,
          1,
          1,
          1,
          0,
          0,
          1,
          0,
          1,
          1,
          1,
          0,
          1,
          0,
          1,
          1,
          0,
          0,
          1,
          1,
          0,
          1,
          1,
          1,
          0,
          0,
          1,
          1,
          0,
          0,
          1,
          0,
          0,
          1,
          1,
          0,
          0,
          1,
          1,
          1,
          1,
          0,
          1,
          1,
          0,
          0,
          1,
          1,
          0,
          1,
          0,
          0,
          0,
          0,
          1,
          1,
          1,
          0,
          1,
          1,
          1,
          1,
          0,
          0,
          1,
          1,
          0,
          0,
          0,
          1,
          1,
          0,
          0,
          0,
          0,
          0,
          0,
          0,
          1,
          0,
          0,
          1,
          0,
          1,
          0,
          0,
          0,
          1,
          0,
          0,
          1,
          1,
          0,
          1,
          0,
          0,
          0,
          1,
          1,
          1,
          1,
          1,
          1,
          0,
          0,
          1,
          1,
          0,
          0,
          1,
          1,
          0,
          0,
          1,
          1,
          1,
          0,
          0,
          1,
          0,
          1,
          0,
          1,
          1,
          0,
          1,
          1,
          1,
          1,
          0,
          0,
          1,
          0,
          1,
          0,
          1,
          1,
          1,
          0,
          0,
          1,
          1,
          1,
          0,
          1,
          1,
          1,
          1,
          1,
          0,
          1,
          0,
          0,
          1,
          0,
          0,
          1,
          1,
          0,
          1,
          1,
          0,
          1,
          0,
          0,
          1,
          0,
          1,
          1,
          1,
          1,
          0,
          1,
          1,
          1,
          0,
          0,
          0,
          0,
          0,
          1,
          1,
          1,
          0,
          1,
          0,
          0,
          0,
          0,
          1,
          0,
          1,
          0,
          0,
          1,
          0,
          0,
          1,
          0,
          1,
          1,
          0,
          0,
          1,
          0,
          0,
          0,
          1,
          0,
          0,
          1,
          1,
          1,
          1,
          1,
          0,
          0,
          1,
          1,
          0,
          1,
          1,
          1,
          1,
          0,
          0,
          1,
          1,
          0,
          1,
          1,
          0,
          1,
          1,
          0,
          1,
          0,
          1,
          1,
          1,
          1,
          0,
          0,
          0,
          1,
          0,
          0,
          1,
          0,
          0,
          1,
          1,
          0,
          1,
          1,
          0,
          0,
          1,
          0,
          1,
          1,
          1,
          1,
          0,
          0,
          1,
          0,
          1,
          0,
          0,
          1,
          1,
          0,
          0,
          0,
          0,
          0,
          1,
          0,
          0,
          1,
          0,
          0,
          1,
          0,
          1,
          1,
          1,
          1,
          0,
          1,
          0,
          0,
          0,
          0,
          0,
          1,
          1
         ],
         "z": [
          0,
          1,
          0,
          1,
          1,
          1,
          1,
          1,
          0,
          1,
          0,
          0,
          1,
          0,
          0,
          0,
          0,
          0,
          0,
          1,
          0,
          0,
          1,
          1,
          1,
          1,
          1,
          0,
          0,
          0,
          1,
          0,
          1,
          1,
          0,
          1,
          1,
          0,
          1,
          0,
          1,
          0,
          0,
          0,
          0,
          1,
          0,
          1,
          0,
          0,
          1,
          0,
          1,
          1,
          0,
          0,
          1,
          1,
          1,
          1,
          1,
          1,
          1,
          0,
          0,
          0,
          1,
          1,
          0,
          1,
          0,
          1,
          1,
          1,
          0,
          0,
          1,
          1,
          1,
          1,
          1,
          1,
          1,
          1,
          0,
          1,
          0,
          0,
          0,
          1,
          1,
          0,
          0,
          1,
          0,
          0,
          1,
          1,
          0,
          1,
          1,
          0,
          0,
          1,
          1,
          0,
          1,
          0,
          1,
          1,
          1,
          1,
          0,
          0,
          0,
          1,
          1,
          1,
          1,
          1,
          0,
          0,
          0,
          1,
          0,
          0,
          1,
          0,
          0,
          1,
          1,
          1,
          0,
          0,
          1,
          1,
          1,
          1,
          0,
          1,
          0,
          1,
          0,
          1,
          1,
          1,
          0,
          1,
          0,
          1,
          1,
          0,
          0,
          0,
          1,
          0,
          1,
          1,
          1,
          1,
          0,
          0,
          0,
          1,
          1,
          0,
          0,
          0,
          1,
          0,
          1,
          0,
          0,
          0,
          0,
          0,
          1,
          0,
          0,
          1,
          0,
          1,
          1,
          0,
          1,
          0,
          1,
          1,
          1,
          0,
          0,
          1,
          1,
          1,
          0,
          0,
          0,
          0,
          1,
          0,
          1,
          1,
          1,
          1,
          1,
          1,
          1,
          1,
          0,
          0,
          1,
          0,
          0,
          1,
          0,
          0,
          1,
          0,
          1,
          1,
          1,
          1,
          0,
          0,
          0,
          1,
          1,
          1,
          0,
          1,
          0,
          0,
          1,
          1,
          1,
          0,
          1,
          1,
          0,
          1,
          1,
          1,
          1,
          1,
          0,
          1,
          0,
          1,
          0,
          0,
          0,
          1,
          1,
          0,
          1,
          1,
          0,
          0,
          1,
          0,
          1,
          1,
          0,
          0,
          1,
          1,
          1,
          1,
          1,
          0,
          1,
          0,
          0,
          0,
          1,
          0,
          1,
          1,
          1,
          1,
          1,
          1,
          1,
          0,
          0,
          1,
          1,
          1,
          1,
          0,
          0,
          0,
          0,
          0,
          0,
          0,
          1,
          1,
          1,
          0,
          1,
          0,
          0,
          0,
          1,
          0,
          1,
          0,
          1,
          0,
          0,
          1,
          0,
          0,
          1,
          0,
          0,
          1,
          0,
          0,
          0,
          1,
          1,
          1,
          0,
          0,
          0,
          0,
          0,
          0,
          1,
          0,
          1,
          0,
          1,
          0,
          1,
          1,
          0,
          0,
          0,
          0,
          0,
          1,
          1,
          0,
          1,
          1,
          0,
          0,
          1,
          1,
          1,
          0,
          1,
          1,
          0,
          0,
          1,
          1,
          1,
          1,
          1,
          0,
          1,
          1,
          1,
          0,
          1,
          1,
          1,
          1,
          1,
          1,
          0,
          0,
          1,
          0,
          0,
          1,
          1,
          1,
          0,
          0,
          1,
          1,
          1,
          0,
          1,
          0,
          0,
          0,
          0,
          0,
          0,
          0,
          0,
          1,
          1,
          0,
          1,
          0,
          0,
          0,
          0,
          0,
          1,
          0,
          0,
          1,
          0,
          0,
          1,
          0,
          0,
          0,
          1,
          1,
          0
         ]
        }
       ],
       "layout": {
        "coloraxis": {
         "colorbar": {
          "title": {
           "text": "Cluster"
          }
         },
         "colorscale": [
          [
           0,
           "#0d0887"
          ],
          [
           0.1111111111111111,
           "#46039f"
          ],
          [
           0.2222222222222222,
           "#7201a8"
          ],
          [
           0.3333333333333333,
           "#9c179e"
          ],
          [
           0.4444444444444444,
           "#bd3786"
          ],
          [
           0.5555555555555556,
           "#d8576b"
          ],
          [
           0.6666666666666666,
           "#ed7953"
          ],
          [
           0.7777777777777778,
           "#fb9f3a"
          ],
          [
           0.8888888888888888,
           "#fdca26"
          ],
          [
           1,
           "#f0f921"
          ]
         ]
        },
        "legend": {
         "tracegroupgap": 0
        },
        "scene": {
         "domain": {
          "x": [
           0,
           1
          ],
          "y": [
           0,
           1
          ]
         },
         "xaxis": {
          "title": {
           "text": "Anxiety Diagnosis"
          }
         },
         "yaxis": {
          "title": {
           "text": "Depression Diagnosis"
          }
         },
         "zaxis": {
          "title": {
           "text": "Symptom Severity (Encoded)"
          }
         }
        },
        "template": {
         "data": {
          "bar": [
           {
            "error_x": {
             "color": "#2a3f5f"
            },
            "error_y": {
             "color": "#2a3f5f"
            },
            "marker": {
             "line": {
              "color": "#E5ECF6",
              "width": 0.5
             },
             "pattern": {
              "fillmode": "overlay",
              "size": 10,
              "solidity": 0.2
             }
            },
            "type": "bar"
           }
          ],
          "barpolar": [
           {
            "marker": {
             "line": {
              "color": "#E5ECF6",
              "width": 0.5
             },
             "pattern": {
              "fillmode": "overlay",
              "size": 10,
              "solidity": 0.2
             }
            },
            "type": "barpolar"
           }
          ],
          "carpet": [
           {
            "aaxis": {
             "endlinecolor": "#2a3f5f",
             "gridcolor": "white",
             "linecolor": "white",
             "minorgridcolor": "white",
             "startlinecolor": "#2a3f5f"
            },
            "baxis": {
             "endlinecolor": "#2a3f5f",
             "gridcolor": "white",
             "linecolor": "white",
             "minorgridcolor": "white",
             "startlinecolor": "#2a3f5f"
            },
            "type": "carpet"
           }
          ],
          "choropleth": [
           {
            "colorbar": {
             "outlinewidth": 0,
             "ticks": ""
            },
            "type": "choropleth"
           }
          ],
          "contour": [
           {
            "colorbar": {
             "outlinewidth": 0,
             "ticks": ""
            },
            "colorscale": [
             [
              0,
              "#0d0887"
             ],
             [
              0.1111111111111111,
              "#46039f"
             ],
             [
              0.2222222222222222,
              "#7201a8"
             ],
             [
              0.3333333333333333,
              "#9c179e"
             ],
             [
              0.4444444444444444,
              "#bd3786"
             ],
             [
              0.5555555555555556,
              "#d8576b"
             ],
             [
              0.6666666666666666,
              "#ed7953"
             ],
             [
              0.7777777777777778,
              "#fb9f3a"
             ],
             [
              0.8888888888888888,
              "#fdca26"
             ],
             [
              1,
              "#f0f921"
             ]
            ],
            "type": "contour"
           }
          ],
          "contourcarpet": [
           {
            "colorbar": {
             "outlinewidth": 0,
             "ticks": ""
            },
            "type": "contourcarpet"
           }
          ],
          "heatmap": [
           {
            "colorbar": {
             "outlinewidth": 0,
             "ticks": ""
            },
            "colorscale": [
             [
              0,
              "#0d0887"
             ],
             [
              0.1111111111111111,
              "#46039f"
             ],
             [
              0.2222222222222222,
              "#7201a8"
             ],
             [
              0.3333333333333333,
              "#9c179e"
             ],
             [
              0.4444444444444444,
              "#bd3786"
             ],
             [
              0.5555555555555556,
              "#d8576b"
             ],
             [
              0.6666666666666666,
              "#ed7953"
             ],
             [
              0.7777777777777778,
              "#fb9f3a"
             ],
             [
              0.8888888888888888,
              "#fdca26"
             ],
             [
              1,
              "#f0f921"
             ]
            ],
            "type": "heatmap"
           }
          ],
          "heatmapgl": [
           {
            "colorbar": {
             "outlinewidth": 0,
             "ticks": ""
            },
            "colorscale": [
             [
              0,
              "#0d0887"
             ],
             [
              0.1111111111111111,
              "#46039f"
             ],
             [
              0.2222222222222222,
              "#7201a8"
             ],
             [
              0.3333333333333333,
              "#9c179e"
             ],
             [
              0.4444444444444444,
              "#bd3786"
             ],
             [
              0.5555555555555556,
              "#d8576b"
             ],
             [
              0.6666666666666666,
              "#ed7953"
             ],
             [
              0.7777777777777778,
              "#fb9f3a"
             ],
             [
              0.8888888888888888,
              "#fdca26"
             ],
             [
              1,
              "#f0f921"
             ]
            ],
            "type": "heatmapgl"
           }
          ],
          "histogram": [
           {
            "marker": {
             "pattern": {
              "fillmode": "overlay",
              "size": 10,
              "solidity": 0.2
             }
            },
            "type": "histogram"
           }
          ],
          "histogram2d": [
           {
            "colorbar": {
             "outlinewidth": 0,
             "ticks": ""
            },
            "colorscale": [
             [
              0,
              "#0d0887"
             ],
             [
              0.1111111111111111,
              "#46039f"
             ],
             [
              0.2222222222222222,
              "#7201a8"
             ],
             [
              0.3333333333333333,
              "#9c179e"
             ],
             [
              0.4444444444444444,
              "#bd3786"
             ],
             [
              0.5555555555555556,
              "#d8576b"
             ],
             [
              0.6666666666666666,
              "#ed7953"
             ],
             [
              0.7777777777777778,
              "#fb9f3a"
             ],
             [
              0.8888888888888888,
              "#fdca26"
             ],
             [
              1,
              "#f0f921"
             ]
            ],
            "type": "histogram2d"
           }
          ],
          "histogram2dcontour": [
           {
            "colorbar": {
             "outlinewidth": 0,
             "ticks": ""
            },
            "colorscale": [
             [
              0,
              "#0d0887"
             ],
             [
              0.1111111111111111,
              "#46039f"
             ],
             [
              0.2222222222222222,
              "#7201a8"
             ],
             [
              0.3333333333333333,
              "#9c179e"
             ],
             [
              0.4444444444444444,
              "#bd3786"
             ],
             [
              0.5555555555555556,
              "#d8576b"
             ],
             [
              0.6666666666666666,
              "#ed7953"
             ],
             [
              0.7777777777777778,
              "#fb9f3a"
             ],
             [
              0.8888888888888888,
              "#fdca26"
             ],
             [
              1,
              "#f0f921"
             ]
            ],
            "type": "histogram2dcontour"
           }
          ],
          "mesh3d": [
           {
            "colorbar": {
             "outlinewidth": 0,
             "ticks": ""
            },
            "type": "mesh3d"
           }
          ],
          "parcoords": [
           {
            "line": {
             "colorbar": {
              "outlinewidth": 0,
              "ticks": ""
             }
            },
            "type": "parcoords"
           }
          ],
          "pie": [
           {
            "automargin": true,
            "type": "pie"
           }
          ],
          "scatter": [
           {
            "fillpattern": {
             "fillmode": "overlay",
             "size": 10,
             "solidity": 0.2
            },
            "type": "scatter"
           }
          ],
          "scatter3d": [
           {
            "line": {
             "colorbar": {
              "outlinewidth": 0,
              "ticks": ""
             }
            },
            "marker": {
             "colorbar": {
              "outlinewidth": 0,
              "ticks": ""
             }
            },
            "type": "scatter3d"
           }
          ],
          "scattercarpet": [
           {
            "marker": {
             "colorbar": {
              "outlinewidth": 0,
              "ticks": ""
             }
            },
            "type": "scattercarpet"
           }
          ],
          "scattergeo": [
           {
            "marker": {
             "colorbar": {
              "outlinewidth": 0,
              "ticks": ""
             }
            },
            "type": "scattergeo"
           }
          ],
          "scattergl": [
           {
            "marker": {
             "colorbar": {
              "outlinewidth": 0,
              "ticks": ""
             }
            },
            "type": "scattergl"
           }
          ],
          "scattermapbox": [
           {
            "marker": {
             "colorbar": {
              "outlinewidth": 0,
              "ticks": ""
             }
            },
            "type": "scattermapbox"
           }
          ],
          "scatterpolar": [
           {
            "marker": {
             "colorbar": {
              "outlinewidth": 0,
              "ticks": ""
             }
            },
            "type": "scatterpolar"
           }
          ],
          "scatterpolargl": [
           {
            "marker": {
             "colorbar": {
              "outlinewidth": 0,
              "ticks": ""
             }
            },
            "type": "scatterpolargl"
           }
          ],
          "scatterternary": [
           {
            "marker": {
             "colorbar": {
              "outlinewidth": 0,
              "ticks": ""
             }
            },
            "type": "scatterternary"
           }
          ],
          "surface": [
           {
            "colorbar": {
             "outlinewidth": 0,
             "ticks": ""
            },
            "colorscale": [
             [
              0,
              "#0d0887"
             ],
             [
              0.1111111111111111,
              "#46039f"
             ],
             [
              0.2222222222222222,
              "#7201a8"
             ],
             [
              0.3333333333333333,
              "#9c179e"
             ],
             [
              0.4444444444444444,
              "#bd3786"
             ],
             [
              0.5555555555555556,
              "#d8576b"
             ],
             [
              0.6666666666666666,
              "#ed7953"
             ],
             [
              0.7777777777777778,
              "#fb9f3a"
             ],
             [
              0.8888888888888888,
              "#fdca26"
             ],
             [
              1,
              "#f0f921"
             ]
            ],
            "type": "surface"
           }
          ],
          "table": [
           {
            "cells": {
             "fill": {
              "color": "#EBF0F8"
             },
             "line": {
              "color": "white"
             }
            },
            "header": {
             "fill": {
              "color": "#C8D4E3"
             },
             "line": {
              "color": "white"
             }
            },
            "type": "table"
           }
          ]
         },
         "layout": {
          "annotationdefaults": {
           "arrowcolor": "#2a3f5f",
           "arrowhead": 0,
           "arrowwidth": 1
          },
          "autotypenumbers": "strict",
          "coloraxis": {
           "colorbar": {
            "outlinewidth": 0,
            "ticks": ""
           }
          },
          "colorscale": {
           "diverging": [
            [
             0,
             "#8e0152"
            ],
            [
             0.1,
             "#c51b7d"
            ],
            [
             0.2,
             "#de77ae"
            ],
            [
             0.3,
             "#f1b6da"
            ],
            [
             0.4,
             "#fde0ef"
            ],
            [
             0.5,
             "#f7f7f7"
            ],
            [
             0.6,
             "#e6f5d0"
            ],
            [
             0.7,
             "#b8e186"
            ],
            [
             0.8,
             "#7fbc41"
            ],
            [
             0.9,
             "#4d9221"
            ],
            [
             1,
             "#276419"
            ]
           ],
           "sequential": [
            [
             0,
             "#0d0887"
            ],
            [
             0.1111111111111111,
             "#46039f"
            ],
            [
             0.2222222222222222,
             "#7201a8"
            ],
            [
             0.3333333333333333,
             "#9c179e"
            ],
            [
             0.4444444444444444,
             "#bd3786"
            ],
            [
             0.5555555555555556,
             "#d8576b"
            ],
            [
             0.6666666666666666,
             "#ed7953"
            ],
            [
             0.7777777777777778,
             "#fb9f3a"
            ],
            [
             0.8888888888888888,
             "#fdca26"
            ],
            [
             1,
             "#f0f921"
            ]
           ],
           "sequentialminus": [
            [
             0,
             "#0d0887"
            ],
            [
             0.1111111111111111,
             "#46039f"
            ],
            [
             0.2222222222222222,
             "#7201a8"
            ],
            [
             0.3333333333333333,
             "#9c179e"
            ],
            [
             0.4444444444444444,
             "#bd3786"
            ],
            [
             0.5555555555555556,
             "#d8576b"
            ],
            [
             0.6666666666666666,
             "#ed7953"
            ],
            [
             0.7777777777777778,
             "#fb9f3a"
            ],
            [
             0.8888888888888888,
             "#fdca26"
            ],
            [
             1,
             "#f0f921"
            ]
           ]
          },
          "colorway": [
           "#636efa",
           "#EF553B",
           "#00cc96",
           "#ab63fa",
           "#FFA15A",
           "#19d3f3",
           "#FF6692",
           "#B6E880",
           "#FF97FF",
           "#FECB52"
          ],
          "font": {
           "color": "#2a3f5f"
          },
          "geo": {
           "bgcolor": "white",
           "lakecolor": "white",
           "landcolor": "#E5ECF6",
           "showlakes": true,
           "showland": true,
           "subunitcolor": "white"
          },
          "hoverlabel": {
           "align": "left"
          },
          "hovermode": "closest",
          "mapbox": {
           "style": "light"
          },
          "paper_bgcolor": "white",
          "plot_bgcolor": "#E5ECF6",
          "polar": {
           "angularaxis": {
            "gridcolor": "white",
            "linecolor": "white",
            "ticks": ""
           },
           "bgcolor": "#E5ECF6",
           "radialaxis": {
            "gridcolor": "white",
            "linecolor": "white",
            "ticks": ""
           }
          },
          "scene": {
           "xaxis": {
            "backgroundcolor": "#E5ECF6",
            "gridcolor": "white",
            "gridwidth": 2,
            "linecolor": "white",
            "showbackground": true,
            "ticks": "",
            "zerolinecolor": "white"
           },
           "yaxis": {
            "backgroundcolor": "#E5ECF6",
            "gridcolor": "white",
            "gridwidth": 2,
            "linecolor": "white",
            "showbackground": true,
            "ticks": "",
            "zerolinecolor": "white"
           },
           "zaxis": {
            "backgroundcolor": "#E5ECF6",
            "gridcolor": "white",
            "gridwidth": 2,
            "linecolor": "white",
            "showbackground": true,
            "ticks": "",
            "zerolinecolor": "white"
           }
          },
          "shapedefaults": {
           "line": {
            "color": "#2a3f5f"
           }
          },
          "ternary": {
           "aaxis": {
            "gridcolor": "white",
            "linecolor": "white",
            "ticks": ""
           },
           "baxis": {
            "gridcolor": "white",
            "linecolor": "white",
            "ticks": ""
           },
           "bgcolor": "#E5ECF6",
           "caxis": {
            "gridcolor": "white",
            "linecolor": "white",
            "ticks": ""
           }
          },
          "title": {
           "x": 0.05
          },
          "xaxis": {
           "automargin": true,
           "gridcolor": "white",
           "linecolor": "white",
           "ticks": "",
           "title": {
            "standoff": 15
           },
           "zerolinecolor": "white",
           "zerolinewidth": 2
          },
          "yaxis": {
           "automargin": true,
           "gridcolor": "white",
           "linecolor": "white",
           "ticks": "",
           "title": {
            "standoff": 15
           },
           "zerolinecolor": "white",
           "zerolinewidth": 2
          }
         }
        },
        "title": {
         "text": "Patient Clusters based on Symptom Severity, Anxiety, and Depression"
        }
       }
      }
     },
     "metadata": {},
     "output_type": "display_data"
    },
    {
     "name": "stdout",
     "output_type": "stream",
     "text": [
      "Cluster Centers:\n",
      "[[3.00492611e-01 2.26600985e-01 7.63546798e-01]\n",
      " [6.07843137e-01 6.79738562e-01 4.44089210e-16]\n",
      " [1.00000000e+00 1.00000000e+00 1.00000000e+00]]\n"
     ]
    }
   ],
   "source": [
    "from sklearn.cluster import KMeans\n",
    "\n",
    "# Select the features for clustering\n",
    "clustering_features = filtered_df[['Anxiety Diagnosis', 'Depression Diagnosis', 'Score_Category_Encoded']]\n",
    "\n",
    "# Initialize and apply K-Means clustering (3 clusters)\n",
    "kmeans = KMeans(n_clusters=3, random_state=42)\n",
    "filtered_df['Cluster'] = kmeans.fit_predict(clustering_features)\n",
    "\n",
    "# Visualize the clusters\n",
    "fig = px.scatter_3d(\n",
    "    filtered_df, x='Anxiety Diagnosis', y='Depression Diagnosis', z='Score_Category_Encoded', \n",
    "    color='Cluster', title='Patient Clusters based on Symptom Severity, Anxiety, and Depression',\n",
    "    labels={'Anxiety Diagnosis': 'Anxiety Diagnosis', 'Depression Diagnosis': 'Depression Diagnosis', \n",
    "            'Score_Category_Encoded': 'Symptom Severity (Encoded)', 'Cluster': 'Cluster'}\n",
    ")\n",
    "\n",
    "fig.show()\n",
    "\n",
    "# To analyze the cluster centers\n",
    "print(\"Cluster Centers:\")\n",
    "print(kmeans.cluster_centers_)"
   ]
  },
  {
   "cell_type": "markdown",
   "metadata": {},
   "source": [
    "Cluster 0:  \n",
    "Anxiety Diagnosis: 0.30 (~30% of patients in this cluster have a positive anxiety diagnosis).  \n",
    "Depression Diagnosis: 0.23 (~23% of patients in this cluster have a positive depression diagnosis).  \n",
    "Score_Category_Encoded: 0.76 (Most patients in this cluster have a High symptom severity category, as 0.76 is closer to 1, which is the encoding for High).  \n",
    "\n",
    "Interpretation: This cluster likely represents patients with mild to moderate anxiety and depression diagnoses, but they tend to have a High symptom severity. These patients may have other significant symptoms contributing to their overall severity, despite less frequent diagnoses of anxiety or depression.\n",
    "\n",
    "Cluster 1:  \n",
    "Anxiety Diagnosis: 0.61 (~61% of patients have a positive anxiety diagnosis).  \n",
    "Depression Diagnosis: 0.68 (~68% of patients have a positive depression diagnosis).  \n",
    "Score_Category_Encoded: 0.00 (Most patients in this cluster have a Low symptom severity category).  \n",
    "\n",
    "Interpretation: This cluster represents patients with moderate to high anxiety and depression diagnoses, but their symptom severity is generally low. This could indicate that while they have anxiety or depression diagnoses, their overall symptom burden (as measured by other factors) is not severe.\n",
    "\n",
    "Cluster 2:  \n",
    "Anxiety Diagnosis: 1.00 (All patients in this cluster have a positive anxiety diagnosis).  \n",
    "Depression Diagnosis: 1.00 (All patients in this cluster have a positive depression diagnosis).  \n",
    "Score_Category_Encoded: 1.00 (All patients in this cluster have a High symptom severity).  \n",
    "\n",
    "Interpretation: This cluster represents patients with the most severe conditions. All patients in this group are diagnosed with both anxiety and depression, and they also have high symptom severity. This cluster likely represents patients who are the most clinically severe, requiring more attention and possibly more intensive treatment."
   ]
  },
  {
   "cell_type": "markdown",
   "metadata": {},
   "source": [
    "2. Is there a relationship between a family history of OCD and the severity of symptoms?"
   ]
  },
  {
   "cell_type": "code",
   "execution_count": 29,
   "metadata": {},
   "outputs": [
    {
     "name": "stdout",
     "output_type": "stream",
     "text": [
      "Chi-Square Test Statistic: 1.2339173373730072, p-value: 0.26664655970072854\n"
     ]
    },
    {
     "data": {
      "image/png": "[encoded data removed]",
      "text/plain": [
       "<Figure size 640x480 with 2 Axes>"
      ]
     },
     "metadata": {},
     "output_type": "display_data"
    }
   ],
   "source": [
    "import scipy.stats as stats\n",
    "import seaborn as sns\n",
    "import matplotlib.pyplot as plt\n",
    "\n",
    "# Contingency table for Family History vs Symptom Severity\n",
    "contingency_table = pd.crosstab(filtered_df['Family History of OCD'], filtered_df['Score_Category'])\n",
    "\n",
    "# Perform chi-square test\n",
    "chi2, p, dof, expected = stats.chi2_contingency(contingency_table)\n",
    "\n",
    "# Print the chi-square test result\n",
    "print(f\"Chi-Square Test Statistic: {chi2}, p-value: {p}\")\n",
    "\n",
    "# Visualize the relationship using a heatmap\n",
    "sns.heatmap(contingency_table, annot=True, cmap=\"YlGnBu\")\n",
    "plt.title('Family History vs Symptom Severity')\n",
    "plt.show()"
   ]
  },
  {
   "cell_type": "markdown",
   "metadata": {},
   "source": [
    "The Chi-Square test statistic (1.23) is relatively low indicating a weaker association.  \n",
    "Since the p-value is greater than 0.05, there is no statistically significant association between having a family history of OCD and the severity of symptoms (whether low or high)."
   ]
  },
  {
   "cell_type": "markdown",
   "metadata": {},
   "source": [
    "3. Below, we try to evaluate the corelation between Age and Total_Score."
   ]
  },
  {
   "cell_type": "code",
   "execution_count": 30,
   "metadata": {},
   "outputs": [
    {
     "name": "stdout",
     "output_type": "stream",
     "text": [
      "Pearson correlation coefficient between Age and Total_Score: 0.07\n"
     ]
    },
    {
     "data": {
      "application/vnd.plotly.v1+json": {
       "config": {
        "plotlyServerURL": "https://plot.ly"
       },
       "data": [
        {
         "hovertemplate": "Age=%{x}<br>OCD Severity (Y-BOCS Total Score)=%{y}<extra></extra>",
         "legendgroup": "",
         "marker": {
          "color": "#636efa",
          "symbol": "circle"
         },
         "mode": "markers",
         "name": "",
         "orientation": "v",
         "showlegend": false,
         "type": "scatter",
         "x": [
          0.24561403508771928,
          0.6842105263157895,
          0.3508771929824561,
          0.9649122807017544,
          0.8421052631578948,
          0.4385964912280701,
          0.9824561403508772,
          0.7368421052631579,
          0.07017543859649122,
          0.8245614035087719,
          0.07017543859649122,
          0.7894736842105262,
          0.543859649122807,
          0.017543859649122806,
          0.08771929824561403,
          0.6491228070175438,
          0.22807017543859642,
          0.08771929824561403,
          0.6666666666666666,
          0.6666666666666666,
          0.38596491228070173,
          0.5087719298245613,
          0.9649122807017544,
          0.07017543859649122,
          0.08771929824561403,
          0.9122807017543858,
          0.19298245614035092,
          0.8947368421052632,
          0.07017543859649122,
          0.9473684210526315,
          0.19298245614035092,
          0.3508771929824561,
          0.24561403508771928,
          0.6842105263157895,
          0.4385964912280701,
          0,
          0.05263157894736842,
          0.719298245614035,
          0.5087719298245613,
          0.9122807017543858,
          0.9999999999999999,
          0.08771929824561403,
          0.7543859649122807,
          0.6842105263157895,
          0.4385964912280701,
          0.543859649122807,
          0.6140350877192983,
          0.33333333333333337,
          0.26315789473684215,
          0.29824561403508765,
          0.3157894736842105,
          0.9122807017543858,
          0.07017543859649122,
          0.8421052631578948,
          0.9649122807017544,
          0.9649122807017544,
          0.719298245614035,
          0.7543859649122807,
          0.8596491228070174,
          0.36842105263157887,
          0.8421052631578948,
          0.3157894736842105,
          0.4385964912280701,
          0.15789473684210525,
          0.38596491228070173,
          0.7543859649122807,
          0.3508771929824561,
          0.9298245614035087,
          0.7368421052631579,
          0.21052631578947367,
          0.5614035087719298,
          0.33333333333333337,
          0.543859649122807,
          0.6491228070175438,
          0.49122807017543857,
          0.24561403508771928,
          0.15789473684210525,
          0.9649122807017544,
          0.7894736842105262,
          0.5614035087719298,
          0.10526315789473684,
          0.17543859649122806,
          0.49122807017543857,
          0.4385964912280701,
          0.7719298245614034,
          0.8947368421052632,
          0.4385964912280701,
          0.9999999999999999,
          0.4385964912280701,
          0.22807017543859642,
          0.631578947368421,
          0.9473684210526315,
          0.8771929824561403,
          0.9473684210526315,
          0.6140350877192983,
          0.8947368421052632,
          0.29824561403508765,
          0.29824561403508765,
          0.8596491228070174,
          0.5614035087719298,
          0.4385964912280701,
          0.543859649122807,
          0.6140350877192983,
          0.15789473684210525,
          0.8947368421052632,
          0.4385964912280701,
          0.719298245614035,
          0.6842105263157895,
          0.17543859649122806,
          0.3157894736842105,
          0.26315789473684215,
          0.6140350877192983,
          0.9473684210526315,
          0.6491228070175438,
          0.719298245614035,
          0.08771929824561403,
          0.3508771929824561,
          0.7543859649122807,
          0.9122807017543858,
          0.12280701754385964,
          0.49122807017543857,
          0.07017543859649122,
          0.8421052631578948,
          0.22807017543859642,
          0.5087719298245613,
          0.017543859649122806,
          0.5964912280701754,
          0.9298245614035087,
          0.5263157894736842,
          0.6842105263157895,
          0.8070175438596491,
          0.9473684210526315,
          0.21052631578947367,
          0.42105263157894735,
          0.6842105263157895,
          0.24561403508771928,
          0.9999999999999999,
          0.22807017543859642,
          0.8596491228070174,
          0.05263157894736842,
          0.9824561403508772,
          0.9122807017543858,
          0.5614035087719298,
          0.14035087719298245,
          0.33333333333333337,
          0.8070175438596491,
          0.33333333333333337,
          0.4736842105263158,
          0.45614035087719296,
          0.14035087719298245,
          0.7543859649122807,
          0.9473684210526315,
          0.10526315789473684,
          0.9824561403508772,
          0.5614035087719298,
          0.7017543859649124,
          0.719298245614035,
          0.6140350877192983,
          0.5789473684210525,
          0.4035087719298246,
          0.29824561403508765,
          0.7719298245614034,
          0.19298245614035092,
          0.12280701754385964,
          0.5087719298245613,
          0.6491228070175438,
          0.12280701754385964,
          0.8947368421052632,
          0.15789473684210525,
          0.4385964912280701,
          0.3157894736842105,
          0,
          0.15789473684210525,
          0.8070175438596491,
          0.14035087719298245,
          0.26315789473684215,
          0.3157894736842105,
          0.24561403508771928,
          0.5614035087719298,
          0.12280701754385964,
          0.9649122807017544,
          0,
          0.21052631578947367,
          0.21052631578947367,
          0.719298245614035,
          0.4385964912280701,
          0.017543859649122806,
          0.719298245614035,
          0.9298245614035087,
          0.9999999999999999,
          0.3157894736842105,
          0.6666666666666666,
          0.5614035087719298,
          0.38596491228070173,
          0.29824561403508765,
          0.36842105263157887,
          0.4385964912280701,
          0.5789473684210525,
          0.33333333333333337,
          0.8596491228070174,
          0.4385964912280701,
          0.9649122807017544,
          0.24561403508771928,
          0.15789473684210525,
          0.45614035087719296,
          0.03508771929824561,
          0.10526315789473684,
          0.08771929824561403,
          0.17543859649122806,
          0.26315789473684215,
          0.5964912280701754,
          0.9298245614035087,
          0.9999999999999999,
          0.2807017543859649,
          0.4035087719298246,
          0.6666666666666666,
          0.7543859649122807,
          0.9122807017543858,
          0.8421052631578948,
          0.21052631578947367,
          0.45614035087719296,
          0.4736842105263158,
          0.8070175438596491,
          0.9649122807017544,
          0.8245614035087719,
          0.4035087719298246,
          0.05263157894736842,
          0.8421052631578948,
          0.9824561403508772,
          0.45614035087719296,
          0.7894736842105262,
          0.8947368421052632,
          0.6842105263157895,
          0.9649122807017544,
          0.08771929824561403,
          0.5087719298245613,
          0.5789473684210525,
          0.719298245614035,
          0.8421052631578948,
          0.6140350877192983,
          0.26315789473684215,
          0.14035087719298245,
          0.45614035087719296,
          0.9473684210526315,
          0.6842105263157895,
          0.9298245614035087,
          0.8771929824561403,
          0.07017543859649122,
          0.017543859649122806,
          0.08771929824561403,
          0.7017543859649124,
          0.7719298245614034,
          0.3508771929824561,
          0.22807017543859642,
          0.22807017543859642,
          0.9999999999999999,
          0.17543859649122806,
          0.5087719298245613,
          0.9122807017543858,
          0.9298245614035087,
          0.26315789473684215,
          0.9999999999999999,
          0.9298245614035087,
          0.21052631578947367,
          0.42105263157894735,
          0.05263157894736842,
          0.017543859649122806,
          0.33333333333333337,
          0.4736842105263158,
          0.8421052631578948,
          0.03508771929824561,
          0.6491228070175438,
          0.8947368421052632,
          0.8245614035087719,
          0.38596491228070173,
          0.5789473684210525,
          0.7719298245614034,
          0.7368421052631579,
          0.2807017543859649,
          0.03508771929824561,
          0.719298245614035,
          0.21052631578947367,
          0.3508771929824561,
          0.5614035087719298,
          0.8070175438596491,
          0.9649122807017544,
          0.9298245614035087,
          0.05263157894736842,
          0.29824561403508765,
          0.5964912280701754,
          0.05263157894736842,
          0.543859649122807,
          0.7017543859649124,
          0.45614035087719296,
          0.38596491228070173,
          0.5964912280701754,
          0.29824561403508765,
          0.24561403508771928,
          0.21052631578947367,
          0.631578947368421,
          0.3508771929824561,
          0.15789473684210525,
          0.5263157894736842,
          0.10526315789473684,
          0.7894736842105262,
          0.17543859649122806,
          0.42105263157894735,
          0.5263157894736842,
          0.6666666666666666,
          0.5789473684210525,
          0.7368421052631579,
          0.22807017543859642,
          0.5087719298245613,
          0.03508771929824561,
          0.5789473684210525,
          0.9473684210526315,
          0.5614035087719298,
          0.9473684210526315,
          0.26315789473684215,
          0.29824561403508765,
          0.5087719298245613,
          0.49122807017543857,
          0.29824561403508765,
          0.17543859649122806,
          0.5614035087719298,
          0,
          0.6491228070175438,
          0.631578947368421,
          0.6842105263157895,
          0.4736842105263158,
          0.36842105263157887,
          0.49122807017543857,
          0.3157894736842105,
          0.38596491228070173,
          0.719298245614035,
          0.19298245614035092,
          0.03508771929824561,
          0.7543859649122807,
          0.9298245614035087,
          0.03508771929824561,
          0.8596491228070174,
          0.543859649122807,
          0.9122807017543858,
          0.14035087719298245,
          0.6140350877192983,
          0.29824561403508765,
          0.45614035087719296,
          0.7368421052631579,
          0.05263157894736842,
          0.9824561403508772,
          0.5263157894736842,
          0.9999999999999999,
          0.22807017543859642,
          0.5964912280701754,
          0.8070175438596491,
          0.2807017543859649,
          0.3508771929824561,
          0.10526315789473684,
          0.5263157894736842,
          0.631578947368421,
          0.4035087719298246,
          0.6666666666666666,
          0.8596491228070174,
          0.5614035087719298,
          0.5087719298245613,
          0.9824561403508772,
          0.42105263157894735,
          0.7368421052631579,
          0.631578947368421,
          0.543859649122807,
          0.4035087719298246,
          0.49122807017543857,
          0.5964912280701754,
          0.24561403508771928,
          0.8070175438596491,
          0.5263157894736842,
          0.9122807017543858,
          0,
          0.36842105263157887,
          0.9122807017543858,
          0.49122807017543857,
          0.8070175438596491,
          0.14035087719298245,
          0.9824561403508772,
          0.7017543859649124,
          0.9649122807017544,
          0.17543859649122806,
          0.19298245614035092,
          0.15789473684210525,
          0.29824561403508765,
          0.3508771929824561,
          0.7543859649122807,
          0.8596491228070174,
          0.9473684210526315,
          0.5789473684210525,
          0.15789473684210525,
          0.8070175438596491,
          0.6842105263157895,
          0,
          0.9122807017543858,
          0.4035087719298246,
          0.07017543859649122,
          0.7017543859649124,
          0.3157894736842105,
          0.8070175438596491,
          0.24561403508771928,
          0.7719298245614034,
          0.24561403508771928,
          0.8245614035087719,
          0.6491228070175438,
          0.9824561403508772,
          0.03508771929824561,
          0.017543859649122806,
          0.08771929824561403,
          0.10526315789473684,
          0.7719298245614034,
          0.7017543859649124,
          0.38596491228070173,
          0.33333333333333337
         ],
         "xaxis": "x",
         "y": [
          27,
          7,
          28,
          20,
          12,
          18,
          12,
          18,
          40,
          7,
          26,
          28,
          20,
          23,
          38,
          22,
          21,
          25,
          34,
          14,
          28,
          25,
          8,
          18,
          3,
          16,
          5,
          24,
          28,
          22,
          5,
          26,
          19,
          15,
          22,
          2,
          9,
          35,
          6,
          24,
          20,
          27,
          30,
          29,
          30,
          17,
          37,
          8,
          24,
          23,
          17,
          23,
          5,
          13,
          36,
          24,
          13,
          16,
          18,
          13,
          19,
          18,
          9,
          21,
          21,
          23,
          7,
          20,
          36,
          19,
          21,
          12,
          16,
          20,
          28,
          33,
          20,
          9,
          15,
          20,
          8,
          4,
          1,
          16,
          26,
          13,
          22,
          23,
          25,
          6,
          7,
          21,
          28,
          20,
          21,
          24,
          13,
          18,
          22,
          17,
          20,
          25,
          26,
          4,
          20,
          36,
          5,
          27,
          16,
          20,
          18,
          5,
          22,
          22,
          31,
          13,
          12,
          14,
          2,
          13,
          31,
          34,
          25,
          16,
          34,
          26,
          20,
          23,
          32,
          16,
          5,
          14,
          35,
          30,
          11,
          11,
          12,
          14,
          30,
          16,
          29,
          6,
          26,
          7,
          17,
          15,
          23,
          20,
          38,
          20,
          20,
          24,
          22,
          27,
          12,
          27,
          10,
          9,
          16,
          18,
          29,
          23,
          32,
          20,
          13,
          39,
          24,
          36,
          7,
          27,
          18,
          27,
          38,
          22,
          22,
          34,
          15,
          21,
          32,
          17,
          29,
          11,
          9,
          33,
          9,
          32,
          10,
          18,
          14,
          24,
          21,
          15,
          10,
          19,
          22,
          24,
          24,
          21,
          20,
          35,
          18,
          12,
          7,
          6,
          18,
          20,
          16,
          18,
          23,
          27,
          20,
          26,
          30,
          8,
          24,
          24,
          14,
          22,
          12,
          8,
          11,
          10,
          25,
          32,
          30,
          11,
          17,
          18,
          37,
          19,
          23,
          29,
          12,
          8,
          19,
          29,
          7,
          4,
          24,
          6,
          18,
          12,
          7,
          17,
          35,
          14,
          25,
          7,
          25,
          26,
          22,
          11,
          9,
          28,
          20,
          8,
          30,
          23,
          18,
          22,
          18,
          12,
          25,
          22,
          20,
          13,
          16,
          10,
          5,
          21,
          9,
          36,
          39,
          35,
          8,
          22,
          8,
          20,
          15,
          2,
          20,
          4,
          18,
          24,
          26,
          16,
          10,
          9,
          18,
          29,
          21,
          28,
          25,
          37,
          30,
          29,
          14,
          17,
          16,
          23,
          12,
          28,
          22,
          37,
          19,
          31,
          15,
          27,
          14,
          33,
          38,
          3,
          27,
          28,
          16,
          30,
          39,
          12,
          22,
          31,
          23,
          14,
          19,
          19,
          24,
          29,
          39,
          28,
          25,
          34,
          17,
          37,
          14,
          24,
          5,
          21,
          13,
          16,
          21,
          23,
          29,
          33,
          33,
          11,
          13,
          38,
          15,
          16,
          29,
          25,
          18,
          5,
          11,
          23,
          7,
          8,
          31,
          27,
          11,
          17,
          17,
          12,
          13,
          28,
          10,
          14,
          20,
          24,
          20,
          5,
          16,
          6,
          13,
          19,
          24,
          23,
          9,
          22,
          35,
          8,
          5,
          16,
          29,
          34,
          17,
          14,
          9,
          24,
          12,
          22,
          24,
          25,
          21,
          22,
          24,
          31,
          25,
          20,
          11,
          33,
          11,
          27,
          34,
          38,
          22,
          28,
          2,
          30,
          35,
          15,
          30,
          25,
          13,
          21,
          24,
          35,
          11,
          17,
          23
         ],
         "yaxis": "y"
        },
        {
         "hovertemplate": "<b>OLS trendline</b><br>Total_Score = 2.00616 * Age + 18.9971<br>R<sup>2</sup>=0.004480<br><br>Age=%{x}<br>OCD Severity (Y-BOCS Total Score)=%{y} <b>(trend)</b><extra></extra>",
         "legendgroup": "",
         "marker": {
          "color": "#636efa",
          "symbol": "circle"
         },
         "mode": "lines",
         "name": "",
         "showlegend": false,
         "type": "scatter",
         "x": [
          0,
          0,
          0,
          0,
          0,
          0,
          0.017543859649122806,
          0.017543859649122806,
          0.017543859649122806,
          0.017543859649122806,
          0.017543859649122806,
          0.017543859649122806,
          0.03508771929824561,
          0.03508771929824561,
          0.03508771929824561,
          0.03508771929824561,
          0.03508771929824561,
          0.03508771929824561,
          0.03508771929824561,
          0.05263157894736842,
          0.05263157894736842,
          0.05263157894736842,
          0.05263157894736842,
          0.05263157894736842,
          0.05263157894736842,
          0.05263157894736842,
          0.07017543859649122,
          0.07017543859649122,
          0.07017543859649122,
          0.07017543859649122,
          0.07017543859649122,
          0.07017543859649122,
          0.07017543859649122,
          0.07017543859649122,
          0.08771929824561403,
          0.08771929824561403,
          0.08771929824561403,
          0.08771929824561403,
          0.08771929824561403,
          0.08771929824561403,
          0.08771929824561403,
          0.08771929824561403,
          0.08771929824561403,
          0.10526315789473684,
          0.10526315789473684,
          0.10526315789473684,
          0.10526315789473684,
          0.10526315789473684,
          0.10526315789473684,
          0.12280701754385964,
          0.12280701754385964,
          0.12280701754385964,
          0.12280701754385964,
          0.14035087719298245,
          0.14035087719298245,
          0.14035087719298245,
          0.14035087719298245,
          0.14035087719298245,
          0.14035087719298245,
          0.15789473684210525,
          0.15789473684210525,
          0.15789473684210525,
          0.15789473684210525,
          0.15789473684210525,
          0.15789473684210525,
          0.15789473684210525,
          0.15789473684210525,
          0.15789473684210525,
          0.17543859649122806,
          0.17543859649122806,
          0.17543859649122806,
          0.17543859649122806,
          0.17543859649122806,
          0.17543859649122806,
          0.17543859649122806,
          0.19298245614035092,
          0.19298245614035092,
          0.19298245614035092,
          0.19298245614035092,
          0.19298245614035092,
          0.21052631578947367,
          0.21052631578947367,
          0.21052631578947367,
          0.21052631578947367,
          0.21052631578947367,
          0.21052631578947367,
          0.21052631578947367,
          0.21052631578947367,
          0.22807017543859642,
          0.22807017543859642,
          0.22807017543859642,
          0.22807017543859642,
          0.22807017543859642,
          0.22807017543859642,
          0.22807017543859642,
          0.22807017543859642,
          0.24561403508771928,
          0.24561403508771928,
          0.24561403508771928,
          0.24561403508771928,
          0.24561403508771928,
          0.24561403508771928,
          0.24561403508771928,
          0.24561403508771928,
          0.24561403508771928,
          0.24561403508771928,
          0.26315789473684215,
          0.26315789473684215,
          0.26315789473684215,
          0.26315789473684215,
          0.26315789473684215,
          0.26315789473684215,
          0.26315789473684215,
          0.2807017543859649,
          0.2807017543859649,
          0.2807017543859649,
          0.29824561403508765,
          0.29824561403508765,
          0.29824561403508765,
          0.29824561403508765,
          0.29824561403508765,
          0.29824561403508765,
          0.29824561403508765,
          0.29824561403508765,
          0.29824561403508765,
          0.29824561403508765,
          0.29824561403508765,
          0.3157894736842105,
          0.3157894736842105,
          0.3157894736842105,
          0.3157894736842105,
          0.3157894736842105,
          0.3157894736842105,
          0.3157894736842105,
          0.3157894736842105,
          0.33333333333333337,
          0.33333333333333337,
          0.33333333333333337,
          0.33333333333333337,
          0.33333333333333337,
          0.33333333333333337,
          0.33333333333333337,
          0.3508771929824561,
          0.3508771929824561,
          0.3508771929824561,
          0.3508771929824561,
          0.3508771929824561,
          0.3508771929824561,
          0.3508771929824561,
          0.3508771929824561,
          0.3508771929824561,
          0.36842105263157887,
          0.36842105263157887,
          0.36842105263157887,
          0.36842105263157887,
          0.38596491228070173,
          0.38596491228070173,
          0.38596491228070173,
          0.38596491228070173,
          0.38596491228070173,
          0.38596491228070173,
          0.38596491228070173,
          0.4035087719298246,
          0.4035087719298246,
          0.4035087719298246,
          0.4035087719298246,
          0.4035087719298246,
          0.4035087719298246,
          0.42105263157894735,
          0.42105263157894735,
          0.42105263157894735,
          0.42105263157894735,
          0.4385964912280701,
          0.4385964912280701,
          0.4385964912280701,
          0.4385964912280701,
          0.4385964912280701,
          0.4385964912280701,
          0.4385964912280701,
          0.4385964912280701,
          0.4385964912280701,
          0.4385964912280701,
          0.4385964912280701,
          0.4385964912280701,
          0.4385964912280701,
          0.45614035087719296,
          0.45614035087719296,
          0.45614035087719296,
          0.45614035087719296,
          0.45614035087719296,
          0.45614035087719296,
          0.45614035087719296,
          0.4736842105263158,
          0.4736842105263158,
          0.4736842105263158,
          0.4736842105263158,
          0.49122807017543857,
          0.49122807017543857,
          0.49122807017543857,
          0.49122807017543857,
          0.49122807017543857,
          0.49122807017543857,
          0.49122807017543857,
          0.5087719298245613,
          0.5087719298245613,
          0.5087719298245613,
          0.5087719298245613,
          0.5087719298245613,
          0.5087719298245613,
          0.5087719298245613,
          0.5087719298245613,
          0.5087719298245613,
          0.5263157894736842,
          0.5263157894736842,
          0.5263157894736842,
          0.5263157894736842,
          0.5263157894736842,
          0.5263157894736842,
          0.543859649122807,
          0.543859649122807,
          0.543859649122807,
          0.543859649122807,
          0.543859649122807,
          0.543859649122807,
          0.543859649122807,
          0.5614035087719298,
          0.5614035087719298,
          0.5614035087719298,
          0.5614035087719298,
          0.5614035087719298,
          0.5614035087719298,
          0.5614035087719298,
          0.5614035087719298,
          0.5614035087719298,
          0.5614035087719298,
          0.5614035087719298,
          0.5789473684210525,
          0.5789473684210525,
          0.5789473684210525,
          0.5789473684210525,
          0.5789473684210525,
          0.5789473684210525,
          0.5789473684210525,
          0.5964912280701754,
          0.5964912280701754,
          0.5964912280701754,
          0.5964912280701754,
          0.5964912280701754,
          0.5964912280701754,
          0.6140350877192983,
          0.6140350877192983,
          0.6140350877192983,
          0.6140350877192983,
          0.6140350877192983,
          0.6140350877192983,
          0.6140350877192983,
          0.631578947368421,
          0.631578947368421,
          0.631578947368421,
          0.631578947368421,
          0.631578947368421,
          0.6491228070175438,
          0.6491228070175438,
          0.6491228070175438,
          0.6491228070175438,
          0.6491228070175438,
          0.6491228070175438,
          0.6491228070175438,
          0.6666666666666666,
          0.6666666666666666,
          0.6666666666666666,
          0.6666666666666666,
          0.6666666666666666,
          0.6666666666666666,
          0.6842105263157895,
          0.6842105263157895,
          0.6842105263157895,
          0.6842105263157895,
          0.6842105263157895,
          0.6842105263157895,
          0.6842105263157895,
          0.6842105263157895,
          0.6842105263157895,
          0.6842105263157895,
          0.7017543859649124,
          0.7017543859649124,
          0.7017543859649124,
          0.7017543859649124,
          0.7017543859649124,
          0.7017543859649124,
          0.719298245614035,
          0.719298245614035,
          0.719298245614035,
          0.719298245614035,
          0.719298245614035,
          0.719298245614035,
          0.719298245614035,
          0.719298245614035,
          0.719298245614035,
          0.719298245614035,
          0.7368421052631579,
          0.7368421052631579,
          0.7368421052631579,
          0.7368421052631579,
          0.7368421052631579,
          0.7368421052631579,
          0.7543859649122807,
          0.7543859649122807,
          0.7543859649122807,
          0.7543859649122807,
          0.7543859649122807,
          0.7543859649122807,
          0.7543859649122807,
          0.7543859649122807,
          0.7719298245614034,
          0.7719298245614034,
          0.7719298245614034,
          0.7719298245614034,
          0.7719298245614034,
          0.7719298245614034,
          0.7894736842105262,
          0.7894736842105262,
          0.7894736842105262,
          0.7894736842105262,
          0.8070175438596491,
          0.8070175438596491,
          0.8070175438596491,
          0.8070175438596491,
          0.8070175438596491,
          0.8070175438596491,
          0.8070175438596491,
          0.8070175438596491,
          0.8070175438596491,
          0.8070175438596491,
          0.8245614035087719,
          0.8245614035087719,
          0.8245614035087719,
          0.8245614035087719,
          0.8421052631578948,
          0.8421052631578948,
          0.8421052631578948,
          0.8421052631578948,
          0.8421052631578948,
          0.8421052631578948,
          0.8421052631578948,
          0.8421052631578948,
          0.8596491228070174,
          0.8596491228070174,
          0.8596491228070174,
          0.8596491228070174,
          0.8596491228070174,
          0.8596491228070174,
          0.8596491228070174,
          0.8771929824561403,
          0.8771929824561403,
          0.8947368421052632,
          0.8947368421052632,
          0.8947368421052632,
          0.8947368421052632,
          0.8947368421052632,
          0.8947368421052632,
          0.8947368421052632,
          0.9122807017543858,
          0.9122807017543858,
          0.9122807017543858,
          0.9122807017543858,
          0.9122807017543858,
          0.9122807017543858,
          0.9122807017543858,
          0.9122807017543858,
          0.9122807017543858,
          0.9122807017543858,
          0.9122807017543858,
          0.9298245614035087,
          0.9298245614035087,
          0.9298245614035087,
          0.9298245614035087,
          0.9298245614035087,
          0.9298245614035087,
          0.9298245614035087,
          0.9298245614035087,
          0.9298245614035087,
          0.9473684210526315,
          0.9473684210526315,
          0.9473684210526315,
          0.9473684210526315,
          0.9473684210526315,
          0.9473684210526315,
          0.9473684210526315,
          0.9473684210526315,
          0.9473684210526315,
          0.9473684210526315,
          0.9649122807017544,
          0.9649122807017544,
          0.9649122807017544,
          0.9649122807017544,
          0.9649122807017544,
          0.9649122807017544,
          0.9649122807017544,
          0.9649122807017544,
          0.9649122807017544,
          0.9649122807017544,
          0.9649122807017544,
          0.9824561403508772,
          0.9824561403508772,
          0.9824561403508772,
          0.9824561403508772,
          0.9824561403508772,
          0.9824561403508772,
          0.9824561403508772,
          0.9824561403508772,
          0.9999999999999999,
          0.9999999999999999,
          0.9999999999999999,
          0.9999999999999999,
          0.9999999999999999,
          0.9999999999999999,
          0.9999999999999999,
          0.9999999999999999
         ],
         "xaxis": "x",
         "y": [
          18.997141841330034,
          18.997141841330034,
          18.997141841330034,
          18.997141841330034,
          18.997141841330034,
          18.997141841330034,
          19.03233758447678,
          19.03233758447678,
          19.03233758447678,
          19.03233758447678,
          19.03233758447678,
          19.03233758447678,
          19.067533327623533,
          19.067533327623533,
          19.067533327623533,
          19.067533327623533,
          19.067533327623533,
          19.067533327623533,
          19.067533327623533,
          19.10272907077028,
          19.10272907077028,
          19.10272907077028,
          19.10272907077028,
          19.10272907077028,
          19.10272907077028,
          19.10272907077028,
          19.13792481391703,
          19.13792481391703,
          19.13792481391703,
          19.13792481391703,
          19.13792481391703,
          19.13792481391703,
          19.13792481391703,
          19.13792481391703,
          19.17312055706378,
          19.17312055706378,
          19.17312055706378,
          19.17312055706378,
          19.17312055706378,
          19.17312055706378,
          19.17312055706378,
          19.17312055706378,
          19.17312055706378,
          19.20831630021053,
          19.20831630021053,
          19.20831630021053,
          19.20831630021053,
          19.20831630021053,
          19.20831630021053,
          19.243512043357278,
          19.243512043357278,
          19.243512043357278,
          19.243512043357278,
          19.27870778650403,
          19.27870778650403,
          19.27870778650403,
          19.27870778650403,
          19.27870778650403,
          19.27870778650403,
          19.313903529650776,
          19.313903529650776,
          19.313903529650776,
          19.313903529650776,
          19.313903529650776,
          19.313903529650776,
          19.313903529650776,
          19.313903529650776,
          19.313903529650776,
          19.349099272797528,
          19.349099272797528,
          19.349099272797528,
          19.349099272797528,
          19.349099272797528,
          19.349099272797528,
          19.349099272797528,
          19.384295015944275,
          19.384295015944275,
          19.384295015944275,
          19.384295015944275,
          19.384295015944275,
          19.419490759091026,
          19.419490759091026,
          19.419490759091026,
          19.419490759091026,
          19.419490759091026,
          19.419490759091026,
          19.419490759091026,
          19.419490759091026,
          19.454686502237774,
          19.454686502237774,
          19.454686502237774,
          19.454686502237774,
          19.454686502237774,
          19.454686502237774,
          19.454686502237774,
          19.454686502237774,
          19.489882245384525,
          19.489882245384525,
          19.489882245384525,
          19.489882245384525,
          19.489882245384525,
          19.489882245384525,
          19.489882245384525,
          19.489882245384525,
          19.489882245384525,
          19.489882245384525,
          19.525077988531272,
          19.525077988531272,
          19.525077988531272,
          19.525077988531272,
          19.525077988531272,
          19.525077988531272,
          19.525077988531272,
          19.56027373167802,
          19.56027373167802,
          19.56027373167802,
          19.59546947482477,
          19.59546947482477,
          19.59546947482477,
          19.59546947482477,
          19.59546947482477,
          19.59546947482477,
          19.59546947482477,
          19.59546947482477,
          19.59546947482477,
          19.59546947482477,
          19.59546947482477,
          19.63066521797152,
          19.63066521797152,
          19.63066521797152,
          19.63066521797152,
          19.63066521797152,
          19.63066521797152,
          19.63066521797152,
          19.63066521797152,
          19.66586096111827,
          19.66586096111827,
          19.66586096111827,
          19.66586096111827,
          19.66586096111827,
          19.66586096111827,
          19.66586096111827,
          19.701056704265017,
          19.701056704265017,
          19.701056704265017,
          19.701056704265017,
          19.701056704265017,
          19.701056704265017,
          19.701056704265017,
          19.701056704265017,
          19.701056704265017,
          19.73625244741177,
          19.73625244741177,
          19.73625244741177,
          19.73625244741177,
          19.771448190558516,
          19.771448190558516,
          19.771448190558516,
          19.771448190558516,
          19.771448190558516,
          19.771448190558516,
          19.771448190558516,
          19.806643933705267,
          19.806643933705267,
          19.806643933705267,
          19.806643933705267,
          19.806643933705267,
          19.806643933705267,
          19.841839676852015,
          19.841839676852015,
          19.841839676852015,
          19.841839676852015,
          19.877035419998766,
          19.877035419998766,
          19.877035419998766,
          19.877035419998766,
          19.877035419998766,
          19.877035419998766,
          19.877035419998766,
          19.877035419998766,
          19.877035419998766,
          19.877035419998766,
          19.877035419998766,
          19.877035419998766,
          19.877035419998766,
          19.912231163145513,
          19.912231163145513,
          19.912231163145513,
          19.912231163145513,
          19.912231163145513,
          19.912231163145513,
          19.912231163145513,
          19.947426906292264,
          19.947426906292264,
          19.947426906292264,
          19.947426906292264,
          19.982622649439012,
          19.982622649439012,
          19.982622649439012,
          19.982622649439012,
          19.982622649439012,
          19.982622649439012,
          19.982622649439012,
          20.01781839258576,
          20.01781839258576,
          20.01781839258576,
          20.01781839258576,
          20.01781839258576,
          20.01781839258576,
          20.01781839258576,
          20.01781839258576,
          20.01781839258576,
          20.05301413573251,
          20.05301413573251,
          20.05301413573251,
          20.05301413573251,
          20.05301413573251,
          20.05301413573251,
          20.088209878879262,
          20.088209878879262,
          20.088209878879262,
          20.088209878879262,
          20.088209878879262,
          20.088209878879262,
          20.088209878879262,
          20.12340562202601,
          20.12340562202601,
          20.12340562202601,
          20.12340562202601,
          20.12340562202601,
          20.12340562202601,
          20.12340562202601,
          20.12340562202601,
          20.12340562202601,
          20.12340562202601,
          20.12340562202601,
          20.158601365172757,
          20.158601365172757,
          20.158601365172757,
          20.158601365172757,
          20.158601365172757,
          20.158601365172757,
          20.158601365172757,
          20.193797108319508,
          20.193797108319508,
          20.193797108319508,
          20.193797108319508,
          20.193797108319508,
          20.193797108319508,
          20.228992851466256,
          20.228992851466256,
          20.228992851466256,
          20.228992851466256,
          20.228992851466256,
          20.228992851466256,
          20.228992851466256,
          20.264188594613007,
          20.264188594613007,
          20.264188594613007,
          20.264188594613007,
          20.264188594613007,
          20.299384337759754,
          20.299384337759754,
          20.299384337759754,
          20.299384337759754,
          20.299384337759754,
          20.299384337759754,
          20.299384337759754,
          20.334580080906505,
          20.334580080906505,
          20.334580080906505,
          20.334580080906505,
          20.334580080906505,
          20.334580080906505,
          20.369775824053253,
          20.369775824053253,
          20.369775824053253,
          20.369775824053253,
          20.369775824053253,
          20.369775824053253,
          20.369775824053253,
          20.369775824053253,
          20.369775824053253,
          20.369775824053253,
          20.404971567200004,
          20.404971567200004,
          20.404971567200004,
          20.404971567200004,
          20.404971567200004,
          20.404971567200004,
          20.44016731034675,
          20.44016731034675,
          20.44016731034675,
          20.44016731034675,
          20.44016731034675,
          20.44016731034675,
          20.44016731034675,
          20.44016731034675,
          20.44016731034675,
          20.44016731034675,
          20.475363053493503,
          20.475363053493503,
          20.475363053493503,
          20.475363053493503,
          20.475363053493503,
          20.475363053493503,
          20.51055879664025,
          20.51055879664025,
          20.51055879664025,
          20.51055879664025,
          20.51055879664025,
          20.51055879664025,
          20.51055879664025,
          20.51055879664025,
          20.545754539786998,
          20.545754539786998,
          20.545754539786998,
          20.545754539786998,
          20.545754539786998,
          20.545754539786998,
          20.58095028293375,
          20.58095028293375,
          20.58095028293375,
          20.58095028293375,
          20.616146026080497,
          20.616146026080497,
          20.616146026080497,
          20.616146026080497,
          20.616146026080497,
          20.616146026080497,
          20.616146026080497,
          20.616146026080497,
          20.616146026080497,
          20.616146026080497,
          20.651341769227248,
          20.651341769227248,
          20.651341769227248,
          20.651341769227248,
          20.686537512373995,
          20.686537512373995,
          20.686537512373995,
          20.686537512373995,
          20.686537512373995,
          20.686537512373995,
          20.686537512373995,
          20.686537512373995,
          20.721733255520746,
          20.721733255520746,
          20.721733255520746,
          20.721733255520746,
          20.721733255520746,
          20.721733255520746,
          20.721733255520746,
          20.756928998667494,
          20.756928998667494,
          20.792124741814245,
          20.792124741814245,
          20.792124741814245,
          20.792124741814245,
          20.792124741814245,
          20.792124741814245,
          20.792124741814245,
          20.827320484960993,
          20.827320484960993,
          20.827320484960993,
          20.827320484960993,
          20.827320484960993,
          20.827320484960993,
          20.827320484960993,
          20.827320484960993,
          20.827320484960993,
          20.827320484960993,
          20.827320484960993,
          20.862516228107744,
          20.862516228107744,
          20.862516228107744,
          20.862516228107744,
          20.862516228107744,
          20.862516228107744,
          20.862516228107744,
          20.862516228107744,
          20.862516228107744,
          20.89771197125449,
          20.89771197125449,
          20.89771197125449,
          20.89771197125449,
          20.89771197125449,
          20.89771197125449,
          20.89771197125449,
          20.89771197125449,
          20.89771197125449,
          20.89771197125449,
          20.932907714401242,
          20.932907714401242,
          20.932907714401242,
          20.932907714401242,
          20.932907714401242,
          20.932907714401242,
          20.932907714401242,
          20.932907714401242,
          20.932907714401242,
          20.932907714401242,
          20.932907714401242,
          20.96810345754799,
          20.96810345754799,
          20.96810345754799,
          20.96810345754799,
          20.96810345754799,
          20.96810345754799,
          20.96810345754799,
          20.96810345754799,
          21.00329920069474,
          21.00329920069474,
          21.00329920069474,
          21.00329920069474,
          21.00329920069474,
          21.00329920069474,
          21.00329920069474,
          21.00329920069474
         ],
         "yaxis": "y"
        }
       ],
       "layout": {
        "legend": {
         "tracegroupgap": 0
        },
        "template": {
         "data": {
          "bar": [
           {
            "error_x": {
             "color": "#2a3f5f"
            },
            "error_y": {
             "color": "#2a3f5f"
            },
            "marker": {
             "line": {
              "color": "#E5ECF6",
              "width": 0.5
             },
             "pattern": {
              "fillmode": "overlay",
              "size": 10,
              "solidity": 0.2
             }
            },
            "type": "bar"
           }
          ],
          "barpolar": [
           {
            "marker": {
             "line": {
              "color": "#E5ECF6",
              "width": 0.5
             },
             "pattern": {
              "fillmode": "overlay",
              "size": 10,
              "solidity": 0.2
             }
            },
            "type": "barpolar"
           }
          ],
          "carpet": [
           {
            "aaxis": {
             "endlinecolor": "#2a3f5f",
             "gridcolor": "white",
             "linecolor": "white",
             "minorgridcolor": "white",
             "startlinecolor": "#2a3f5f"
            },
            "baxis": {
             "endlinecolor": "#2a3f5f",
             "gridcolor": "white",
             "linecolor": "white",
             "minorgridcolor": "white",
             "startlinecolor": "#2a3f5f"
            },
            "type": "carpet"
           }
          ],
          "choropleth": [
           {
            "colorbar": {
             "outlinewidth": 0,
             "ticks": ""
            },
            "type": "choropleth"
           }
          ],
          "contour": [
           {
            "colorbar": {
             "outlinewidth": 0,
             "ticks": ""
            },
            "colorscale": [
             [
              0,
              "#0d0887"
             ],
             [
              0.1111111111111111,
              "#46039f"
             ],
             [
              0.2222222222222222,
              "#7201a8"
             ],
             [
              0.3333333333333333,
              "#9c179e"
             ],
             [
              0.4444444444444444,
              "#bd3786"
             ],
             [
              0.5555555555555556,
              "#d8576b"
             ],
             [
              0.6666666666666666,
              "#ed7953"
             ],
             [
              0.7777777777777778,
              "#fb9f3a"
             ],
             [
              0.8888888888888888,
              "#fdca26"
             ],
             [
              1,
              "#f0f921"
             ]
            ],
            "type": "contour"
           }
          ],
          "contourcarpet": [
           {
            "colorbar": {
             "outlinewidth": 0,
             "ticks": ""
            },
            "type": "contourcarpet"
           }
          ],
          "heatmap": [
           {
            "colorbar": {
             "outlinewidth": 0,
             "ticks": ""
            },
            "colorscale": [
             [
              0,
              "#0d0887"
             ],
             [
              0.1111111111111111,
              "#46039f"
             ],
             [
              0.2222222222222222,
              "#7201a8"
             ],
             [
              0.3333333333333333,
              "#9c179e"
             ],
             [
              0.4444444444444444,
              "#bd3786"
             ],
             [
              0.5555555555555556,
              "#d8576b"
             ],
             [
              0.6666666666666666,
              "#ed7953"
             ],
             [
              0.7777777777777778,
              "#fb9f3a"
             ],
             [
              0.8888888888888888,
              "#fdca26"
             ],
             [
              1,
              "#f0f921"
             ]
            ],
            "type": "heatmap"
           }
          ],
          "heatmapgl": [
           {
            "colorbar": {
             "outlinewidth": 0,
             "ticks": ""
            },
            "colorscale": [
             [
              0,
              "#0d0887"
             ],
             [
              0.1111111111111111,
              "#46039f"
             ],
             [
              0.2222222222222222,
              "#7201a8"
             ],
             [
              0.3333333333333333,
              "#9c179e"
             ],
             [
              0.4444444444444444,
              "#bd3786"
             ],
             [
              0.5555555555555556,
              "#d8576b"
             ],
             [
              0.6666666666666666,
              "#ed7953"
             ],
             [
              0.7777777777777778,
              "#fb9f3a"
             ],
             [
              0.8888888888888888,
              "#fdca26"
             ],
             [
              1,
              "#f0f921"
             ]
            ],
            "type": "heatmapgl"
           }
          ],
          "histogram": [
           {
            "marker": {
             "pattern": {
              "fillmode": "overlay",
              "size": 10,
              "solidity": 0.2
             }
            },
            "type": "histogram"
           }
          ],
          "histogram2d": [
           {
            "colorbar": {
             "outlinewidth": 0,
             "ticks": ""
            },
            "colorscale": [
             [
              0,
              "#0d0887"
             ],
             [
              0.1111111111111111,
              "#46039f"
             ],
             [
              0.2222222222222222,
              "#7201a8"
             ],
             [
              0.3333333333333333,
              "#9c179e"
             ],
             [
              0.4444444444444444,
              "#bd3786"
             ],
             [
              0.5555555555555556,
              "#d8576b"
             ],
             [
              0.6666666666666666,
              "#ed7953"
             ],
             [
              0.7777777777777778,
              "#fb9f3a"
             ],
             [
              0.8888888888888888,
              "#fdca26"
             ],
             [
              1,
              "#f0f921"
             ]
            ],
            "type": "histogram2d"
           }
          ],
          "histogram2dcontour": [
           {
            "colorbar": {
             "outlinewidth": 0,
             "ticks": ""
            },
            "colorscale": [
             [
              0,
              "#0d0887"
             ],
             [
              0.1111111111111111,
              "#46039f"
             ],
             [
              0.2222222222222222,
              "#7201a8"
             ],
             [
              0.3333333333333333,
              "#9c179e"
             ],
             [
              0.4444444444444444,
              "#bd3786"
             ],
             [
              0.5555555555555556,
              "#d8576b"
             ],
             [
              0.6666666666666666,
              "#ed7953"
             ],
             [
              0.7777777777777778,
              "#fb9f3a"
             ],
             [
              0.8888888888888888,
              "#fdca26"
             ],
             [
              1,
              "#f0f921"
             ]
            ],
            "type": "histogram2dcontour"
           }
          ],
          "mesh3d": [
           {
            "colorbar": {
             "outlinewidth": 0,
             "ticks": ""
            },
            "type": "mesh3d"
           }
          ],
          "parcoords": [
           {
            "line": {
             "colorbar": {
              "outlinewidth": 0,
              "ticks": ""
             }
            },
            "type": "parcoords"
           }
          ],
          "pie": [
           {
            "automargin": true,
            "type": "pie"
           }
          ],
          "scatter": [
           {
            "fillpattern": {
             "fillmode": "overlay",
             "size": 10,
             "solidity": 0.2
            },
            "type": "scatter"
           }
          ],
          "scatter3d": [
           {
            "line": {
             "colorbar": {
              "outlinewidth": 0,
              "ticks": ""
             }
            },
            "marker": {
             "colorbar": {
              "outlinewidth": 0,
              "ticks": ""
             }
            },
            "type": "scatter3d"
           }
          ],
          "scattercarpet": [
           {
            "marker": {
             "colorbar": {
              "outlinewidth": 0,
              "ticks": ""
             }
            },
            "type": "scattercarpet"
           }
          ],
          "scattergeo": [
           {
            "marker": {
             "colorbar": {
              "outlinewidth": 0,
              "ticks": ""
             }
            },
            "type": "scattergeo"
           }
          ],
          "scattergl": [
           {
            "marker": {
             "colorbar": {
              "outlinewidth": 0,
              "ticks": ""
             }
            },
            "type": "scattergl"
           }
          ],
          "scattermapbox": [
           {
            "marker": {
             "colorbar": {
              "outlinewidth": 0,
              "ticks": ""
             }
            },
            "type": "scattermapbox"
           }
          ],
          "scatterpolar": [
           {
            "marker": {
             "colorbar": {
              "outlinewidth": 0,
              "ticks": ""
             }
            },
            "type": "scatterpolar"
           }
          ],
          "scatterpolargl": [
           {
            "marker": {
             "colorbar": {
              "outlinewidth": 0,
              "ticks": ""
             }
            },
            "type": "scatterpolargl"
           }
          ],
          "scatterternary": [
           {
            "marker": {
             "colorbar": {
              "outlinewidth": 0,
              "ticks": ""
             }
            },
            "type": "scatterternary"
           }
          ],
          "surface": [
           {
            "colorbar": {
             "outlinewidth": 0,
             "ticks": ""
            },
            "colorscale": [
             [
              0,
              "#0d0887"
             ],
             [
              0.1111111111111111,
              "#46039f"
             ],
             [
              0.2222222222222222,
              "#7201a8"
             ],
             [
              0.3333333333333333,
              "#9c179e"
             ],
             [
              0.4444444444444444,
              "#bd3786"
             ],
             [
              0.5555555555555556,
              "#d8576b"
             ],
             [
              0.6666666666666666,
              "#ed7953"
             ],
             [
              0.7777777777777778,
              "#fb9f3a"
             ],
             [
              0.8888888888888888,
              "#fdca26"
             ],
             [
              1,
              "#f0f921"
             ]
            ],
            "type": "surface"
           }
          ],
          "table": [
           {
            "cells": {
             "fill": {
              "color": "#EBF0F8"
             },
             "line": {
              "color": "white"
             }
            },
            "header": {
             "fill": {
              "color": "#C8D4E3"
             },
             "line": {
              "color": "white"
             }
            },
            "type": "table"
           }
          ]
         },
         "layout": {
          "annotationdefaults": {
           "arrowcolor": "#2a3f5f",
           "arrowhead": 0,
           "arrowwidth": 1
          },
          "autotypenumbers": "strict",
          "coloraxis": {
           "colorbar": {
            "outlinewidth": 0,
            "ticks": ""
           }
          },
          "colorscale": {
           "diverging": [
            [
             0,
             "#8e0152"
            ],
            [
             0.1,
             "#c51b7d"
            ],
            [
             0.2,
             "#de77ae"
            ],
            [
             0.3,
             "#f1b6da"
            ],
            [
             0.4,
             "#fde0ef"
            ],
            [
             0.5,
             "#f7f7f7"
            ],
            [
             0.6,
             "#e6f5d0"
            ],
            [
             0.7,
             "#b8e186"
            ],
            [
             0.8,
             "#7fbc41"
            ],
            [
             0.9,
             "#4d9221"
            ],
            [
             1,
             "#276419"
            ]
           ],
           "sequential": [
            [
             0,
             "#0d0887"
            ],
            [
             0.1111111111111111,
             "#46039f"
            ],
            [
             0.2222222222222222,
             "#7201a8"
            ],
            [
             0.3333333333333333,
             "#9c179e"
            ],
            [
             0.4444444444444444,
             "#bd3786"
            ],
            [
             0.5555555555555556,
             "#d8576b"
            ],
            [
             0.6666666666666666,
             "#ed7953"
            ],
            [
             0.7777777777777778,
             "#fb9f3a"
            ],
            [
             0.8888888888888888,
             "#fdca26"
            ],
            [
             1,
             "#f0f921"
            ]
           ],
           "sequentialminus": [
            [
             0,
             "#0d0887"
            ],
            [
             0.1111111111111111,
             "#46039f"
            ],
            [
             0.2222222222222222,
             "#7201a8"
            ],
            [
             0.3333333333333333,
             "#9c179e"
            ],
            [
             0.4444444444444444,
             "#bd3786"
            ],
            [
             0.5555555555555556,
             "#d8576b"
            ],
            [
             0.6666666666666666,
             "#ed7953"
            ],
            [
             0.7777777777777778,
             "#fb9f3a"
            ],
            [
             0.8888888888888888,
             "#fdca26"
            ],
            [
             1,
             "#f0f921"
            ]
           ]
          },
          "colorway": [
           "#636efa",
           "#EF553B",
           "#00cc96",
           "#ab63fa",
           "#FFA15A",
           "#19d3f3",
           "#FF6692",
           "#B6E880",
           "#FF97FF",
           "#FECB52"
          ],
          "font": {
           "color": "#2a3f5f"
          },
          "geo": {
           "bgcolor": "white",
           "lakecolor": "white",
           "landcolor": "#E5ECF6",
           "showlakes": true,
           "showland": true,
           "subunitcolor": "white"
          },
          "hoverlabel": {
           "align": "left"
          },
          "hovermode": "closest",
          "mapbox": {
           "style": "light"
          },
          "paper_bgcolor": "white",
          "plot_bgcolor": "#E5ECF6",
          "polar": {
           "angularaxis": {
            "gridcolor": "white",
            "linecolor": "white",
            "ticks": ""
           },
           "bgcolor": "#E5ECF6",
           "radialaxis": {
            "gridcolor": "white",
            "linecolor": "white",
            "ticks": ""
           }
          },
          "scene": {
           "xaxis": {
            "backgroundcolor": "#E5ECF6",
            "gridcolor": "white",
            "gridwidth": 2,
            "linecolor": "white",
            "showbackground": true,
            "ticks": "",
            "zerolinecolor": "white"
           },
           "yaxis": {
            "backgroundcolor": "#E5ECF6",
            "gridcolor": "white",
            "gridwidth": 2,
            "linecolor": "white",
            "showbackground": true,
            "ticks": "",
            "zerolinecolor": "white"
           },
           "zaxis": {
            "backgroundcolor": "#E5ECF6",
            "gridcolor": "white",
            "gridwidth": 2,
            "linecolor": "white",
            "showbackground": true,
            "ticks": "",
            "zerolinecolor": "white"
           }
          },
          "shapedefaults": {
           "line": {
            "color": "#2a3f5f"
           }
          },
          "ternary": {
           "aaxis": {
            "gridcolor": "white",
            "linecolor": "white",
            "ticks": ""
           },
           "baxis": {
            "gridcolor": "white",
            "linecolor": "white",
            "ticks": ""
           },
           "bgcolor": "#E5ECF6",
           "caxis": {
            "gridcolor": "white",
            "linecolor": "white",
            "ticks": ""
           }
          },
          "title": {
           "x": 0.05
          },
          "xaxis": {
           "automargin": true,
           "gridcolor": "white",
           "linecolor": "white",
           "ticks": "",
           "title": {
            "standoff": 15
           },
           "zerolinecolor": "white",
           "zerolinewidth": 2
          },
          "yaxis": {
           "automargin": true,
           "gridcolor": "white",
           "linecolor": "white",
           "ticks": "",
           "title": {
            "standoff": 15
           },
           "zerolinecolor": "white",
           "zerolinewidth": 2
          }
         }
        },
        "title": {
         "text": "Scatter Plot of Age vs Total Score"
        },
        "xaxis": {
         "anchor": "y",
         "domain": [
          0,
          1
         ],
         "title": {
          "text": "Age"
         }
        },
        "yaxis": {
         "anchor": "x",
         "domain": [
          0,
          1
         ],
         "title": {
          "text": "OCD Severity (Y-BOCS Total Score)"
         }
        }
       }
      }
     },
     "metadata": {},
     "output_type": "display_data"
    }
   ],
   "source": [
    "# Calculate the Pearson correlation coefficient\n",
    "correlation_coefficient = filtered_df['Age'].corr(filtered_df['Total_Score'])\n",
    "print(f'Pearson correlation coefficient between Age and Total_Score: {correlation_coefficient:.2f}')\n",
    "\n",
    "# Create a scatter plot to show the relationship\n",
    "fig1 = px.scatter(filtered_df, x='Age', y='Total_Score', \n",
    "                 title='Scatter Plot of Age vs Total Score',\n",
    "                 labels={'Age': 'Age', 'Total_Score': 'OCD Severity (Y-BOCS Total Score)'},\n",
    "                 trendline='ols')  # Add a trendline to visualize the linear relationship\n",
    "\n",
    "# Show the figure\n",
    "fig1.show()"
   ]
  },
  {
   "cell_type": "markdown",
   "metadata": {},
   "source": [
    "4. What is the correlation between the duration of symptoms and OCD severity?"
   ]
  },
  {
   "cell_type": "code",
   "execution_count": 31,
   "metadata": {},
   "outputs": [
    {
     "name": "stdout",
     "output_type": "stream",
     "text": [
      "Pearson correlation coefficient between Duration of symptoms and Total_Score: 0.03\n"
     ]
    },
    {
     "data": {
      "application/vnd.plotly.v1+json": {
       "config": {
        "plotlyServerURL": "https://plot.ly"
       },
       "data": [
        {
         "hovertemplate": "Duration of Symptoms (months)=%{x}<br>OCD Severity (Y-BOCS Total Score)=%{y}<extra></extra>",
         "legendgroup": "",
         "marker": {
          "color": "#636efa",
          "symbol": "circle"
         },
         "mode": "markers",
         "name": "",
         "showlegend": false,
         "type": "scattergl",
         "x": [
          203,
          180,
          173,
          126,
          168,
          46,
          110,
          197,
          84,
          47,
          95,
          233,
          48,
          126,
          141,
          108,
          206,
          147,
          62,
          73,
          220,
          89,
          208,
          39,
          14,
          192,
          134,
          42,
          226,
          151,
          90,
          58,
          58,
          193,
          49,
          112,
          141,
          160,
          134,
          160,
          134,
          140,
          193,
          217,
          34,
          207,
          154,
          11,
          59,
          22,
          108,
          92,
          236,
          65,
          47,
          167,
          24,
          84,
          154,
          90,
          229,
          85,
          83,
          222,
          33,
          61,
          160,
          151,
          49,
          67,
          23,
          118,
          39,
          88,
          156,
          119,
          186,
          92,
          125,
          172,
          17,
          26,
          174,
          162,
          25,
          61,
          24,
          151,
          207,
          158,
          223,
          167,
          222,
          125,
          83,
          93,
          33,
          24,
          158,
          87,
          129,
          231,
          64,
          61,
          221,
          158,
          12,
          61,
          231,
          21,
          163,
          49,
          44,
          36,
          216,
          14,
          146,
          165,
          57,
          156,
          88,
          171,
          89,
          106,
          46,
          117,
          63,
          191,
          87,
          116,
          210,
          136,
          22,
          209,
          194,
          220,
          166,
          228,
          143,
          37,
          10,
          217,
          147,
          135,
          90,
          199,
          217,
          52,
          105,
          203,
          208,
          151,
          18,
          227,
          15,
          184,
          9,
          88,
          223,
          207,
          51,
          179,
          198,
          178,
          6,
          117,
          159,
          190,
          15,
          130,
          182,
          150,
          50,
          126,
          184,
          23,
          81,
          69,
          125,
          206,
          67,
          73,
          90,
          66,
          27,
          121,
          190,
          108,
          17,
          116,
          229,
          37,
          87,
          126,
          107,
          167,
          33,
          39,
          99,
          122,
          32,
          118,
          139,
          158,
          65,
          113,
          94,
          113,
          85,
          150,
          176,
          98,
          38,
          107,
          126,
          141,
          238,
          26,
          164,
          26,
          137,
          132,
          224,
          165,
          69,
          89,
          152,
          215,
          232,
          180,
          25,
          233,
          150,
          27,
          190,
          94,
          72,
          73,
          202,
          45,
          127,
          175,
          119,
          38,
          116,
          118,
          204,
          178,
          115,
          223,
          32,
          127,
          107,
          176,
          194,
          231,
          223,
          66,
          52,
          115,
          187,
          103,
          14,
          189,
          151,
          10,
          234,
          143,
          164,
          21,
          122,
          104,
          168,
          21,
          122,
          180,
          140,
          74,
          176,
          196,
          67,
          136,
          90,
          8,
          171,
          24,
          70,
          167,
          209,
          181,
          37,
          115,
          66,
          10,
          188,
          234,
          167,
          83,
          141,
          224,
          101,
          42,
          98,
          92,
          123,
          85,
          33,
          56,
          136,
          224,
          43,
          203,
          143,
          27,
          115,
          198,
          105,
          112,
          206,
          222,
          203,
          47,
          85,
          13,
          201,
          160,
          126,
          172,
          113,
          144,
          22,
          67,
          22,
          16,
          66,
          102,
          154,
          229,
          51,
          41,
          143,
          118,
          231,
          57,
          148,
          91,
          74,
          153,
          143,
          230,
          137,
          30,
          178,
          43,
          114,
          49,
          82,
          6,
          215,
          116,
          104,
          33,
          48,
          226,
          152,
          105,
          170,
          81,
          128,
          107,
          9,
          83,
          171,
          98,
          197,
          63,
          44,
          216,
          165,
          142,
          207,
          171,
          175,
          136,
          174,
          144,
          117,
          223,
          66,
          192,
          137,
          189,
          100,
          107,
          47,
          122,
          85,
          102,
          40,
          64,
          195,
          228,
          208,
          21,
          45,
          160,
          105,
          14,
          8,
          180,
          220,
          168,
          75,
          233,
          185,
          183,
          163,
          46,
          211,
          217,
          33,
          121,
          52,
          238,
          65,
          30,
          237,
          119,
          162,
          158,
          194,
          41,
          198,
          73,
          214,
          17,
          91,
          38,
          234,
          240,
          218,
          60,
          236,
          204,
          227,
          126,
          236,
          157,
          235,
          211,
          168,
          27,
          187,
          203,
          227,
          65,
          183,
          42,
          92,
          13,
          177,
          58,
          158,
          63,
          184,
          128,
          25,
          216,
          140,
          178,
          172,
          29,
          53,
          136,
          189,
          148,
          86,
          139,
          134,
          49,
          133,
          130,
          112,
          31,
          56,
          110,
          226,
          127,
          40,
          221,
          209,
          214,
          64,
          202,
          201,
          202,
          142,
          152,
          81,
          153,
          166,
          110,
          167,
          179,
          94,
          140,
          52,
          90,
          193,
          69,
          150,
          105,
          35,
          34,
          180,
          8,
          165,
          113,
          213,
          56,
          28,
          238,
          83,
          8,
          36,
          230,
          14,
          176,
          187,
          216,
          199,
          173,
          155,
          72,
          170,
          121,
          52,
          200,
          175,
          204,
          72,
          86,
          183,
          227,
          230,
          7,
          122,
          28,
          41,
          220,
          174,
          173,
          67,
          207,
          103,
          67,
          9,
          123,
          84,
          100,
          109,
          125,
          164,
          68,
          167,
          164,
          188,
          118,
          133,
          168,
          88,
          89,
          204,
          138,
          29,
          220,
          85,
          16,
          89,
          17,
          167,
          101,
          13,
          173,
          60,
          178,
          42,
          140,
          87,
          212,
          146,
          232,
          122,
          237,
          94,
          75,
          230,
          59,
          220,
          169,
          166,
          76,
          38,
          169,
          96,
          205,
          62,
          191,
          238,
          179,
          119,
          10,
          158,
          133,
          172,
          44,
          187,
          233,
          141,
          98,
          40,
          233,
          139,
          148,
          69,
          81,
          95,
          142,
          163,
          107,
          33,
          79,
          120,
          102,
          55,
          151,
          164,
          118,
          76,
          98,
          196,
          105,
          23,
          231,
          48,
          160,
          36,
          225,
          238,
          20,
          185,
          211,
          9,
          28,
          191,
          112,
          207,
          78,
          171,
          70,
          128,
          65,
          110,
          8,
          35,
          101,
          27,
          194,
          172,
          110,
          81,
          76,
          76,
          87,
          7,
          227,
          229,
          95,
          45,
          125,
          106,
          139,
          196,
          145,
          145,
          128,
          121,
          65,
          117,
          181,
          75,
          190,
          159,
          124,
          69,
          27,
          14,
          98,
          218,
          7,
          39,
          104,
          237,
          58,
          213,
          168,
          91,
          16,
          57,
          71,
          171,
          157,
          203,
          197,
          33,
          221,
          157,
          19,
          19,
          178,
          237,
          128,
          58,
          128,
          65,
          10,
          173,
          134,
          19,
          154,
          237,
          53,
          7,
          192,
          176,
          156,
          157,
          144,
          49,
          200,
          218,
          90,
          189,
          188,
          175,
          219,
          138,
          234,
          99,
          216,
          152,
          57,
          199,
          58,
          46,
          8,
          110,
          228,
          95,
          95,
          10,
          110,
          128,
          65,
          191,
          33,
          179,
          238,
          135,
          9,
          90,
          20,
          230,
          137,
          106,
          37,
          143,
          25,
          35,
          56,
          94,
          171,
          46,
          230,
          216,
          213,
          8,
          28,
          17,
          220,
          52,
          55,
          105,
          185,
          192,
          165,
          207,
          50,
          183,
          52,
          34,
          10,
          159,
          205,
          63,
          166,
          233,
          239,
          9,
          36,
          67,
          209,
          211,
          134,
          233,
          218,
          196,
          127,
          184,
          77,
          168,
          96,
          37,
          24,
          135,
          126,
          68,
          194,
          201,
          177,
          167,
          219,
          126,
          158,
          198,
          181,
          189,
          129,
          99,
          176,
          213,
          55,
          131,
          6,
          17,
          37,
          125,
          70,
          78,
          113,
          193,
          76,
          206,
          31,
          60,
          203,
          158,
          64,
          11,
          238,
          77,
          236,
          7,
          89,
          84,
          12,
          94,
          171,
          192,
          135,
          129,
          133,
          194,
          79,
          186,
          185,
          231,
          92,
          199,
          71,
          223,
          154,
          184,
          133,
          165,
          167,
          67,
          197,
          31,
          204,
          47,
          174,
          227,
          72,
          162,
          122,
          48,
          167,
          171,
          208,
          207,
          195,
          223,
          46,
          14,
          153,
          194,
          81,
          17,
          113,
          34,
          7,
          207,
          197,
          187,
          10,
          174,
          64,
          132,
          224,
          147,
          15,
          80,
          136,
          49,
          134,
          81,
          151,
          157,
          24,
          43,
          123,
          49,
          214,
          26,
          125,
          33,
          206,
          176,
          229,
          221,
          53,
          119,
          127,
          227,
          64,
          75,
          89,
          173,
          47,
          47,
          56,
          49,
          91,
          58,
          52,
          52,
          148,
          161,
          178,
          136,
          142,
          232,
          208,
          200,
          132,
          187,
          8,
          51,
          109,
          106,
          205,
          109,
          193,
          198,
          187,
          154,
          131,
          97,
          80,
          190,
          93,
          59,
          70,
          148,
          193,
          96,
          17,
          238,
          92,
          82,
          79,
          24,
          140,
          100,
          101,
          214,
          26,
          197,
          86,
          136,
          116,
          141,
          22,
          55,
          66,
          85,
          45,
          31,
          12,
          178,
          58,
          204,
          223,
          103,
          125,
          180,
          47,
          234,
          9,
          167,
          73,
          214,
          63,
          74,
          77,
          171,
          220,
          219,
          9,
          187,
          107,
          96,
          108,
          194,
          131,
          8,
          8,
          56,
          218,
          222,
          22,
          226,
          48,
          98,
          158,
          53,
          164,
          6,
          28,
          45,
          143,
          231,
          118,
          105,
          176,
          13,
          217,
          53,
          47,
          44,
          24,
          141,
          156,
          90,
          52,
          184,
          167,
          152,
          164,
          44,
          32,
          48,
          34,
          217,
          39,
          119,
          48,
          216,
          225,
          180,
          24,
          160,
          107,
          32,
          49,
          131,
          80,
          147,
          14,
          198,
          56,
          131,
          18,
          189,
          20,
          169,
          154,
          46,
          104,
          45,
          75,
          106,
          172,
          96,
          162,
          181,
          184,
          95,
          203,
          11,
          34,
          144,
          161,
          66,
          79,
          222,
          116,
          226,
          73,
          75,
          13,
          16,
          43,
          237,
          26,
          78,
          103,
          47,
          150,
          199,
          119,
          71,
          68,
          206,
          187,
          100,
          101,
          168,
          49,
          177,
          76,
          209,
          119,
          114,
          149,
          7,
          114,
          158,
          88,
          137,
          174,
          148,
          47,
          85,
          171,
          78,
          87,
          195,
          207,
          221,
          16,
          213,
          99,
          139,
          189,
          210,
          113,
          131,
          217,
          70,
          128,
          156,
          90,
          46,
          115,
          104,
          82,
          223,
          111,
          125,
          138,
          155,
          177,
          37,
          69,
          152,
          125,
          32,
          233,
          220,
          105,
          196,
          101,
          68,
          145,
          71,
          120,
          24,
          179,
          131,
          218,
          74,
          75,
          231,
          192,
          66,
          197,
          140,
          116,
          202,
          104,
          155,
          36,
          239,
          166,
          25,
          239,
          173,
          29,
          19,
          56,
          69,
          134,
          143,
          6,
          226,
          115,
          239,
          101,
          126,
          54,
          108,
          224,
          175,
          121,
          97,
          204,
          132,
          93,
          105,
          87,
          56,
          187,
          85,
          177,
          45,
          117,
          152,
          114,
          151,
          47,
          86,
          224,
          191,
          82,
          35,
          93,
          31,
          179,
          210,
          49,
          209,
          129,
          78,
          137,
          82,
          54,
          9,
          69,
          143,
          64,
          29,
          149,
          143,
          92,
          197,
          162,
          194,
          231,
          119,
          24,
          184,
          176,
          14,
          152,
          73,
          111,
          207,
          110,
          183,
          194,
          76,
          214,
          71,
          73,
          74,
          232,
          226,
          76,
          219,
          20,
          88,
          83,
          170,
          102,
          74,
          118,
          75,
          92,
          18,
          158,
          87,
          117,
          215,
          109,
          165,
          213,
          230,
          52,
          211,
          181,
          174,
          117,
          8,
          169,
          58,
          46,
          9,
          112,
          92,
          169,
          103,
          221,
          146,
          38,
          118,
          74,
          224,
          125,
          110,
          237,
          166,
          158,
          159,
          174,
          155,
          27,
          65,
          19,
          30,
          114,
          48,
          228,
          122,
          43,
          151,
          24,
          143,
          57,
          204,
          140,
          214,
          48,
          76,
          108,
          115,
          119,
          143,
          152,
          145,
          136,
          61,
          126,
          116,
          10,
          178,
          71,
          122,
          171,
          74,
          219,
          111,
          21,
          175,
          51,
          204,
          12,
          14,
          184,
          205,
          96,
          98,
          231,
          72,
          61,
          67,
          90,
          58,
          127,
          138,
          29,
          163,
          73,
          174,
          8,
          93,
          51,
          103,
          132,
          150,
          63,
          194,
          59,
          213,
          31,
          178,
          227,
          169,
          202,
          172,
          23,
          234,
          46,
          149,
          152,
          135,
          11,
          51,
          227,
          23,
          210,
          29,
          181,
          178,
          162,
          89,
          171,
          44,
          7,
          68,
          115,
          236,
          51,
          192,
          164,
          15,
          165,
          9,
          33,
          77,
          122,
          12,
          230,
          207,
          70,
          30,
          35,
          82,
          236,
          192,
          118,
          196,
          120,
          116,
          36,
          108,
          135,
          73,
          206,
          155,
          158,
          40,
          119,
          139,
          78,
          100,
          230,
          51,
          173,
          210,
          129,
          171,
          78,
          95,
          162,
          54,
          237,
          53,
          98,
          208,
          62,
          177,
          22,
          238,
          53,
          160,
          100,
          210,
          91
         ],
         "xaxis": "x",
         "y": [
          27,
          46,
          7,
          42,
          57,
          37,
          28,
          35,
          61,
          64,
          66,
          20,
          41,
          49,
          62,
          42,
          28,
          58,
          44,
          12,
          34,
          41,
          48,
          18,
          34,
          44,
          45,
          12,
          18,
          44,
          40,
          31,
          34,
          35,
          42,
          55,
          62,
          59,
          39,
          40,
          7,
          51,
          33,
          65,
          77,
          26,
          28,
          41,
          72,
          33,
          26,
          61,
          64,
          76,
          20,
          66,
          49,
          32,
          65,
          23,
          67,
          57,
          38,
          34,
          22,
          21,
          37,
          46,
          38,
          25,
          71,
          38,
          35,
          25,
          62,
          24,
          37,
          59,
          34,
          45,
          51,
          63,
          14,
          52,
          31,
          50,
          63,
          49,
          37,
          28,
          56,
          25,
          40,
          8,
          51,
          54,
          29,
          40,
          18,
          34,
          60,
          51,
          66,
          42,
          25,
          38,
          37,
          77,
          51,
          3,
          43,
          32,
          16,
          46,
          28,
          60,
          5,
          44,
          65,
          70,
          24,
          40,
          28,
          32,
          41,
          22,
          38,
          5,
          26,
          58,
          19,
          15,
          31,
          22,
          37,
          52,
          44,
          65,
          54,
          29,
          37,
          31,
          2,
          9,
          57,
          61,
          45,
          43,
          35,
          38,
          6,
          34,
          32,
          51,
          24,
          61,
          54,
          27,
          52,
          20,
          50,
          47,
          27,
          30,
          29,
          27,
          47,
          49,
          36,
          42,
          55,
          54,
          30,
          52,
          53,
          17,
          60,
          49,
          42,
          37,
          45,
          66,
          59,
          50,
          8,
          51,
          70,
          65,
          62,
          38,
          35,
          44,
          25,
          24,
          23,
          39,
          30,
          17,
          23,
          5,
          48,
          62,
          13,
          36,
          36,
          60,
          52,
          49,
          33,
          24,
          72,
          39,
          33,
          40,
          65,
          13,
          54,
          79,
          22,
          41,
          55,
          16,
          40,
          23,
          37,
          18,
          13,
          50,
          42,
          59,
          55,
          31,
          51,
          49,
          43,
          19,
          18,
          67,
          47,
          9,
          68,
          52,
          21,
          27,
          53,
          57,
          47,
          42,
          33,
          50,
          28,
          44,
          33,
          31,
          44,
          44,
          69,
          44,
          40,
          58,
          69,
          64,
          41,
          26,
          36,
          36,
          21,
          54,
          46,
          23,
          70,
          53,
          70,
          7,
          65,
          20,
          33,
          45,
          65,
          39,
          78,
          49,
          33,
          52,
          33,
          36,
          19,
          40,
          21,
          42,
          48,
          12,
          68,
          60,
          16,
          47,
          57,
          60,
          39,
          41,
          20,
          51,
          41,
          28,
          33,
          44,
          20,
          34,
          68,
          51,
          31,
          61,
          9,
          15,
          39,
          40,
          66,
          62,
          38,
          62,
          28,
          20,
          56,
          41,
          38,
          29,
          8,
          34,
          4,
          49,
          1,
          46,
          47,
          16,
          26,
          13,
          22,
          40,
          32,
          52,
          59,
          23,
          25,
          50,
          47,
          6,
          71,
          27,
          59,
          39,
          61,
          7,
          21,
          38,
          53,
          44,
          24,
          28,
          55,
          59,
          30,
          20,
          21,
          39,
          60,
          62,
          62,
          39,
          29,
          45,
          24,
          13,
          50,
          62,
          33,
          18,
          34,
          35,
          48,
          41,
          61,
          31,
          26,
          75,
          22,
          17,
          20,
          26,
          61,
          25,
          71,
          52,
          31,
          31,
          48,
          48,
          26,
          43,
          66,
          4,
          38,
          54,
          50,
          45,
          52,
          50,
          34,
          45,
          20,
          38,
          31,
          32,
          30,
          36,
          72,
          62,
          47,
          44,
          72,
          55,
          5,
          27,
          41,
          64,
          16,
          20,
          18,
          68,
          5,
          22,
          29,
          27,
          24,
          40,
          22,
          31,
          13,
          31,
          34,
          12,
          51,
          14,
          67,
          22,
          32,
          47,
          48,
          54,
          36,
          35,
          62,
          48,
          2,
          52,
          13,
          31,
          31,
          63,
          51,
          61,
          58,
          36,
          55,
          40,
          38,
          38,
          57,
          28,
          34,
          58,
          36,
          52,
          30,
          29,
          32,
          25,
          43,
          40,
          16,
          34,
          26,
          56,
          55,
          66,
          42,
          46,
          54,
          51,
          20,
          31,
          46,
          23,
          55,
          32,
          40,
          16,
          5,
          24,
          64,
          45,
          43,
          63,
          45,
          35,
          41,
          54,
          35,
          53,
          14,
          35,
          57,
          30,
          71,
          41,
          44,
          11,
          36,
          11,
          52,
          12,
          34,
          51,
          41,
          58,
          49,
          48,
          43,
          55,
          14,
          37,
          52,
          51,
          30,
          43,
          16,
          41,
          56,
          29,
          6,
          67,
          41,
          45,
          26,
          40,
          7,
          52,
          17,
          57,
          15,
          23,
          54,
          20,
          24,
          46,
          29,
          38,
          57,
          73,
          69,
          61,
          41,
          20,
          20,
          54,
          36,
          24,
          64,
          22,
          55,
          40,
          27,
          12,
          27,
          10,
          53,
          55,
          33,
          57,
          31,
          9,
          45,
          50,
          43,
          16,
          40,
          53,
          55,
          44,
          35,
          58,
          51,
          18,
          29,
          57,
          30,
          23,
          38,
          32,
          26,
          47,
          75,
          20,
          58,
          28,
          13,
          58,
          48,
          76,
          40,
          32,
          49,
          50,
          64,
          50,
          45,
          39,
          55,
          24,
          36,
          41,
          61,
          34,
          42,
          44,
          57,
          29,
          35,
          7,
          46,
          75,
          39,
          62,
          27,
          37,
          34,
          44,
          37,
          48,
          18,
          26,
          24,
          27,
          47,
          30,
          38,
          31,
          70,
          22,
          43,
          60,
          22,
          35,
          34,
          61,
          33,
          45,
          38,
          57,
          72,
          15,
          21,
          57,
          32,
          29,
          17,
          72,
          29,
          45,
          29,
          64,
          11,
          34,
          61,
          69,
          39,
          37,
          9,
          33,
          54,
          44,
          39,
          53,
          42,
          52,
          40,
          21,
          67,
          9,
          45,
          42,
          53,
          31,
          32,
          35,
          62,
          36,
          53,
          28,
          30,
          10,
          64,
          34,
          18,
          14,
          38,
          45,
          72,
          55,
          44,
          35,
          31,
          45,
          48,
          24,
          21,
          34,
          47,
          38,
          60,
          63,
          15,
          54,
          36,
          29,
          10,
          54,
          53,
          19,
          22,
          39,
          61,
          40,
          35,
          24,
          67,
          24,
          21,
          44,
          20,
          59,
          35,
          18,
          66,
          59,
          60,
          12,
          7,
          34,
          6,
          50,
          35,
          70,
          40,
          42,
          18,
          62,
          48,
          35,
          33,
          37,
          20,
          52,
          63,
          40,
          50,
          47,
          16,
          51,
          46,
          58,
          45,
          50,
          56,
          39,
          54,
          53,
          38,
          18,
          38,
          41,
          44,
          23,
          57,
          27,
          44,
          51,
          79,
          20,
          57,
          28,
          41,
          52,
          35,
          56,
          55,
          36,
          26,
          37,
          60,
          68,
          30,
          8,
          68,
          36,
          24,
          24,
          73,
          36,
          37,
          14,
          22,
          33,
          12,
          8,
          64,
          61,
          45,
          33,
          30,
          38,
          45,
          46,
          54,
          69,
          55,
          32,
          51,
          11,
          57,
          33,
          10,
          72,
          47,
          28,
          70,
          57,
          47,
          23,
          25,
          32,
          41,
          41,
          57,
          43,
          30,
          11,
          42,
          50,
          43,
          39,
          17,
          18,
          48,
          37,
          68,
          45,
          28,
          47,
          39,
          52,
          56,
          58,
          56,
          19,
          42,
          23,
          34,
          30,
          51,
          32,
          58,
          45,
          56,
          29,
          33,
          57,
          54,
          59,
          30,
          26,
          44,
          29,
          72,
          73,
          12,
          42,
          47,
          8,
          19,
          29,
          48,
          65,
          7,
          71,
          45,
          46,
          25,
          39,
          60,
          4,
          60,
          60,
          24,
          6,
          30,
          48,
          43,
          38,
          40,
          42,
          54,
          38,
          45,
          18,
          54,
          25,
          45,
          59,
          56,
          41,
          42,
          57,
          54,
          48,
          47,
          40,
          42,
          27,
          63,
          12,
          28,
          61,
          40,
          43,
          7,
          56,
          31,
          57,
          31,
          38,
          42,
          62,
          69,
          43,
          32,
          38,
          34,
          50,
          40,
          61,
          17,
          32,
          34,
          33,
          49,
          35,
          14,
          25,
          53,
          47,
          44,
          27,
          30,
          7,
          54,
          58,
          25,
          39,
          26,
          56,
          22,
          11,
          47,
          33,
          64,
          45,
          75,
          9,
          28,
          44,
          20,
          53,
          8,
          30,
          33,
          34,
          36,
          67,
          51,
          66,
          59,
          49,
          23,
          41,
          18,
          22,
          70,
          49,
          18,
          34,
          41,
          12,
          65,
          43,
          25,
          76,
          48,
          66,
          67,
          56,
          49,
          22,
          76,
          75,
          49,
          20,
          48,
          60,
          62,
          53,
          74,
          13,
          73,
          16,
          52,
          32,
          38,
          29,
          10,
          45,
          46,
          43,
          5,
          21,
          69,
          9,
          46,
          35,
          42,
          71,
          75,
          56,
          36,
          39,
          27,
          35,
          53,
          57,
          8,
          22,
          41,
          58,
          8,
          20,
          68,
          15,
          50,
          36,
          2,
          20,
          4,
          18,
          41,
          32,
          61,
          50,
          24,
          26,
          16,
          55,
          10,
          9,
          18,
          43,
          68,
          62,
          39,
          29,
          54,
          36,
          51,
          21,
          35,
          45,
          28,
          52,
          25,
          62,
          37,
          30,
          41,
          45,
          36,
          28,
          29,
          67,
          65,
          54,
          42,
          14,
          46,
          31,
          39,
          41,
          17,
          59,
          16,
          31,
          45,
          23,
          12,
          35,
          28,
          22,
          32,
          37,
          39,
          39,
          30,
          27,
          47,
          33,
          19,
          31,
          64,
          15,
          43,
          27,
          62,
          14,
          44,
          65,
          43,
          33,
          32,
          52,
          44,
          64,
          43,
          38,
          65,
          44,
          34,
          34,
          71,
          41,
          3,
          27,
          38,
          34,
          28,
          44,
          16,
          32,
          65,
          59,
          32,
          74,
          50,
          50,
          40,
          30,
          42,
          39,
          53,
          33,
          39,
          47,
          53,
          12,
          43,
          59,
          63,
          32,
          31,
          44,
          22,
          39,
          38,
          56,
          33,
          31,
          29,
          59,
          47,
          23,
          40,
          14,
          60,
          19,
          19,
          56,
          45,
          28,
          24,
          29,
          63,
          32,
          54,
          43,
          36,
          39,
          75,
          29,
          52,
          28,
          34,
          41,
          44,
          25,
          50,
          72,
          27,
          46,
          65,
          43,
          70,
          34,
          42,
          17,
          30,
          36,
          37,
          14,
          56,
          24,
          5,
          21,
          13,
          16,
          57,
          47,
          69,
          65,
          21,
          61,
          23,
          47,
          64,
          63,
          29,
          33,
          45,
          39,
          42,
          29,
          66,
          33,
          33,
          32,
          66,
          30,
          11,
          63,
          13,
          51,
          52,
          56,
          56,
          35,
          56,
          51,
          22,
          53,
          38,
          15,
          16,
          34,
          42,
          43,
          29,
          36,
          25,
          39,
          18,
          36,
          41,
          37,
          50,
          39,
          35,
          62,
          44,
          39,
          39,
          44,
          44,
          51,
          49,
          5,
          39,
          50,
          29,
          39,
          58,
          38,
          11,
          23,
          7,
          45,
          36,
          63,
          8,
          41,
          70,
          40,
          47,
          31,
          45,
          73,
          27,
          42,
          62,
          11,
          35,
          36,
          51,
          68,
          61,
          17,
          17,
          37,
          12,
          13,
          28,
          58,
          74,
          46,
          28,
          46,
          46,
          38,
          10,
          14,
          44,
          43,
          31,
          35,
          34,
          20,
          66,
          26,
          24,
          41,
          43,
          32,
          43,
          20,
          61,
          5,
          57,
          54,
          57,
          79,
          57,
          16,
          64,
          43,
          69,
          6,
          51,
          13,
          19,
          52,
          24,
          63,
          49,
          62,
          48,
          23,
          9,
          30,
          36,
          68,
          54,
          51,
          27,
          58,
          45,
          60,
          36,
          43,
          22,
          35,
          8,
          5,
          51,
          16,
          29,
          42,
          34,
          25,
          55,
          61,
          65,
          47,
          62,
          64,
          29,
          42,
          26,
          50,
          35,
          17,
          38,
          14,
          25,
          9,
          28,
          40,
          24,
          55,
          34,
          65,
          12,
          22,
          24,
          40,
          25,
          21,
          38,
          34,
          67,
          49,
          55,
          22,
          24,
          37,
          60,
          51,
          59,
          39,
          45,
          44,
          24,
          44,
          47,
          47,
          49,
          31,
          25,
          20,
          61,
          66,
          46,
          55,
          11,
          33,
          11,
          27,
          57,
          46,
          65,
          34,
          38,
          39,
          22,
          47,
          63,
          47,
          31,
          28,
          73,
          44,
          59,
          53,
          2,
          30,
          35,
          45,
          15,
          31,
          47,
          41,
          45,
          46,
          32,
          30,
          67,
          46,
          60,
          25,
          13,
          21,
          24,
          35,
          72,
          57,
          52,
          24,
          37,
          47,
          48,
          11,
          39,
          54,
          41,
          17,
          23,
          56
         ],
         "yaxis": "y"
        },
        {
         "hovertemplate": "<b>OLS trendline</b><br>Total_Score = 0.00838268 * Duration of Symptoms (months) + 38.6534<br>R<sup>2</sup>=0.001112<br><br>Duration of Symptoms (months)=%{x}<br>OCD Severity (Y-BOCS Total Score)=%{y} <b>(trend)</b><extra></extra>",
         "legendgroup": "",
         "marker": {
          "color": "#636efa",
          "symbol": "circle"
         },
         "mode": "lines",
         "name": "",
         "showlegend": false,
         "type": "scattergl",
         "x": [
          6,
          6,
          6,
          6,
          6,
          7,
          7,
          7,
          7,
          7,
          7,
          7,
          7,
          8,
          8,
          8,
          8,
          8,
          8,
          8,
          8,
          8,
          8,
          8,
          8,
          9,
          9,
          9,
          9,
          9,
          9,
          9,
          9,
          9,
          9,
          9,
          10,
          10,
          10,
          10,
          10,
          10,
          10,
          10,
          10,
          11,
          11,
          11,
          11,
          12,
          12,
          12,
          12,
          12,
          13,
          13,
          13,
          13,
          13,
          14,
          14,
          14,
          14,
          14,
          14,
          14,
          14,
          14,
          14,
          15,
          15,
          15,
          15,
          16,
          16,
          16,
          16,
          16,
          17,
          17,
          17,
          17,
          17,
          17,
          17,
          17,
          18,
          18,
          18,
          19,
          19,
          19,
          19,
          19,
          20,
          20,
          20,
          20,
          21,
          21,
          21,
          21,
          21,
          22,
          22,
          22,
          22,
          22,
          22,
          22,
          23,
          23,
          23,
          23,
          23,
          24,
          24,
          24,
          24,
          24,
          24,
          24,
          24,
          24,
          24,
          24,
          24,
          25,
          25,
          25,
          25,
          25,
          26,
          26,
          26,
          26,
          26,
          26,
          27,
          27,
          27,
          27,
          27,
          27,
          27,
          28,
          28,
          28,
          28,
          28,
          29,
          29,
          29,
          29,
          29,
          29,
          30,
          30,
          30,
          30,
          31,
          31,
          31,
          31,
          31,
          31,
          32,
          32,
          32,
          32,
          32,
          33,
          33,
          33,
          33,
          33,
          33,
          33,
          33,
          33,
          33,
          33,
          34,
          34,
          34,
          34,
          34,
          34,
          35,
          35,
          35,
          35,
          35,
          36,
          36,
          36,
          36,
          36,
          36,
          37,
          37,
          37,
          37,
          37,
          37,
          37,
          38,
          38,
          38,
          38,
          38,
          39,
          39,
          39,
          39,
          39,
          40,
          40,
          40,
          40,
          41,
          41,
          41,
          42,
          42,
          42,
          42,
          43,
          43,
          43,
          43,
          43,
          44,
          44,
          44,
          44,
          44,
          44,
          45,
          45,
          45,
          45,
          45,
          45,
          45,
          46,
          46,
          46,
          46,
          46,
          46,
          46,
          46,
          46,
          46,
          47,
          47,
          47,
          47,
          47,
          47,
          47,
          47,
          47,
          47,
          47,
          47,
          48,
          48,
          48,
          48,
          48,
          48,
          48,
          48,
          48,
          49,
          49,
          49,
          49,
          49,
          49,
          49,
          49,
          49,
          49,
          49,
          49,
          50,
          50,
          51,
          51,
          51,
          51,
          51,
          51,
          51,
          51,
          52,
          52,
          52,
          52,
          52,
          52,
          52,
          52,
          52,
          52,
          52,
          53,
          53,
          53,
          53,
          53,
          53,
          53,
          54,
          54,
          54,
          55,
          55,
          55,
          55,
          56,
          56,
          56,
          56,
          56,
          56,
          56,
          56,
          56,
          57,
          57,
          57,
          57,
          57,
          58,
          58,
          58,
          58,
          58,
          58,
          58,
          58,
          58,
          58,
          59,
          59,
          59,
          59,
          60,
          60,
          60,
          61,
          61,
          61,
          61,
          61,
          61,
          62,
          62,
          62,
          63,
          63,
          63,
          63,
          63,
          63,
          64,
          64,
          64,
          64,
          64,
          64,
          64,
          65,
          65,
          65,
          65,
          65,
          65,
          65,
          65,
          65,
          66,
          66,
          66,
          66,
          66,
          66,
          66,
          66,
          67,
          67,
          67,
          67,
          67,
          67,
          67,
          67,
          67,
          68,
          68,
          68,
          68,
          68,
          69,
          69,
          69,
          69,
          69,
          69,
          69,
          69,
          70,
          70,
          70,
          70,
          70,
          70,
          71,
          71,
          71,
          71,
          71,
          71,
          72,
          72,
          72,
          72,
          72,
          73,
          73,
          73,
          73,
          73,
          73,
          73,
          73,
          73,
          73,
          74,
          74,
          74,
          74,
          74,
          74,
          74,
          74,
          75,
          75,
          75,
          75,
          75,
          75,
          75,
          75,
          76,
          76,
          76,
          76,
          76,
          76,
          76,
          76,
          76,
          77,
          77,
          77,
          77,
          78,
          78,
          78,
          78,
          78,
          78,
          78,
          79,
          79,
          79,
          79,
          80,
          80,
          80,
          81,
          81,
          81,
          81,
          81,
          81,
          81,
          82,
          82,
          82,
          82,
          82,
          82,
          83,
          83,
          83,
          83,
          83,
          83,
          84,
          84,
          84,
          84,
          85,
          85,
          85,
          85,
          85,
          85,
          85,
          85,
          85,
          86,
          86,
          86,
          86,
          87,
          87,
          87,
          87,
          87,
          87,
          87,
          87,
          88,
          88,
          88,
          88,
          88,
          88,
          89,
          89,
          89,
          89,
          89,
          89,
          89,
          89,
          90,
          90,
          90,
          90,
          90,
          90,
          90,
          90,
          90,
          90,
          90,
          91,
          91,
          91,
          91,
          91,
          92,
          92,
          92,
          92,
          92,
          92,
          92,
          92,
          92,
          93,
          93,
          93,
          93,
          93,
          94,
          94,
          94,
          94,
          94,
          94,
          95,
          95,
          95,
          95,
          95,
          95,
          95,
          96,
          96,
          96,
          96,
          96,
          96,
          97,
          97,
          98,
          98,
          98,
          98,
          98,
          98,
          98,
          98,
          98,
          99,
          99,
          99,
          99,
          100,
          100,
          100,
          100,
          100,
          100,
          101,
          101,
          101,
          101,
          101,
          101,
          101,
          102,
          102,
          102,
          102,
          103,
          103,
          103,
          103,
          103,
          103,
          104,
          104,
          104,
          104,
          104,
          104,
          105,
          105,
          105,
          105,
          105,
          105,
          105,
          105,
          105,
          105,
          106,
          106,
          106,
          106,
          106,
          107,
          107,
          107,
          107,
          107,
          107,
          107,
          107,
          108,
          108,
          108,
          108,
          108,
          108,
          108,
          109,
          109,
          109,
          109,
          110,
          110,
          110,
          110,
          110,
          110,
          110,
          110,
          110,
          111,
          111,
          111,
          112,
          112,
          112,
          112,
          112,
          113,
          113,
          113,
          113,
          113,
          113,
          113,
          114,
          114,
          114,
          114,
          114,
          115,
          115,
          115,
          115,
          115,
          115,
          115,
          115,
          116,
          116,
          116,
          116,
          116,
          116,
          116,
          116,
          116,
          117,
          117,
          117,
          117,
          117,
          117,
          117,
          118,
          118,
          118,
          118,
          118,
          118,
          118,
          118,
          118,
          118,
          119,
          119,
          119,
          119,
          119,
          119,
          119,
          119,
          119,
          119,
          119,
          120,
          120,
          120,
          121,
          121,
          121,
          121,
          121,
          122,
          122,
          122,
          122,
          122,
          122,
          122,
          122,
          122,
          122,
          123,
          123,
          123,
          124,
          125,
          125,
          125,
          125,
          125,
          125,
          125,
          125,
          125,
          125,
          125,
          126,
          126,
          126,
          126,
          126,
          126,
          126,
          126,
          126,
          126,
          126,
          127,
          127,
          127,
          127,
          127,
          127,
          128,
          128,
          128,
          128,
          128,
          128,
          128,
          128,
          129,
          129,
          129,
          129,
          129,
          130,
          130,
          131,
          131,
          131,
          131,
          131,
          131,
          131,
          132,
          132,
          132,
          132,
          132,
          133,
          133,
          133,
          133,
          133,
          134,
          134,
          134,
          134,
          134,
          134,
          134,
          134,
          135,
          135,
          135,
          135,
          135,
          135,
          136,
          136,
          136,
          136,
          136,
          136,
          136,
          136,
          136,
          137,
          137,
          137,
          137,
          137,
          137,
          138,
          138,
          138,
          138,
          139,
          139,
          139,
          139,
          139,
          139,
          140,
          140,
          140,
          140,
          140,
          140,
          140,
          140,
          141,
          141,
          141,
          141,
          141,
          141,
          141,
          142,
          142,
          142,
          142,
          143,
          143,
          143,
          143,
          143,
          143,
          143,
          143,
          143,
          143,
          143,
          143,
          144,
          144,
          144,
          144,
          145,
          145,
          145,
          145,
          146,
          146,
          146,
          147,
          147,
          147,
          147,
          148,
          148,
          148,
          148,
          148,
          148,
          149,
          149,
          149,
          150,
          150,
          150,
          150,
          150,
          150,
          151,
          151,
          151,
          151,
          151,
          151,
          151,
          151,
          151,
          152,
          152,
          152,
          152,
          152,
          152,
          152,
          152,
          152,
          152,
          153,
          153,
          153,
          154,
          154,
          154,
          154,
          154,
          154,
          154,
          155,
          155,
          155,
          155,
          155,
          156,
          156,
          156,
          156,
          156,
          157,
          157,
          157,
          157,
          157,
          158,
          158,
          158,
          158,
          158,
          158,
          158,
          158,
          158,
          158,
          158,
          158,
          158,
          158,
          159,
          159,
          159,
          159,
          160,
          160,
          160,
          160,
          160,
          160,
          160,
          160,
          161,
          161,
          162,
          162,
          162,
          162,
          162,
          162,
          162,
          163,
          163,
          163,
          163,
          164,
          164,
          164,
          164,
          164,
          164,
          164,
          164,
          165,
          165,
          165,
          165,
          165,
          165,
          165,
          165,
          166,
          166,
          166,
          166,
          166,
          166,
          167,
          167,
          167,
          167,
          167,
          167,
          167,
          167,
          167,
          167,
          167,
          167,
          167,
          168,
          168,
          168,
          168,
          168,
          168,
          168,
          168,
          169,
          169,
          169,
          169,
          169,
          169,
          170,
          170,
          170,
          171,
          171,
          171,
          171,
          171,
          171,
          171,
          171,
          171,
          171,
          171,
          171,
          171,
          171,
          172,
          172,
          172,
          172,
          172,
          172,
          172,
          173,
          173,
          173,
          173,
          173,
          173,
          173,
          173,
          174,
          174,
          174,
          174,
          174,
          174,
          174,
          174,
          174,
          175,
          175,
          175,
          175,
          175,
          175,
          176,
          176,
          176,
          176,
          176,
          176,
          176,
          176,
          176,
          177,
          177,
          177,
          177,
          177,
          177,
          178,
          178,
          178,
          178,
          178,
          178,
          178,
          178,
          178,
          178,
          178,
          179,
          179,
          179,
          179,
          179,
          179,
          180,
          180,
          180,
          180,
          180,
          180,
          180,
          181,
          181,
          181,
          181,
          181,
          181,
          182,
          183,
          183,
          183,
          183,
          183,
          184,
          184,
          184,
          184,
          184,
          184,
          184,
          184,
          184,
          185,
          185,
          185,
          185,
          186,
          186,
          187,
          187,
          187,
          187,
          187,
          187,
          187,
          187,
          187,
          187,
          188,
          188,
          188,
          189,
          189,
          189,
          189,
          189,
          189,
          189,
          190,
          190,
          190,
          190,
          190,
          191,
          191,
          191,
          191,
          191,
          192,
          192,
          192,
          192,
          192,
          192,
          192,
          192,
          193,
          193,
          193,
          193,
          193,
          193,
          194,
          194,
          194,
          194,
          194,
          194,
          194,
          194,
          194,
          194,
          194,
          195,
          195,
          195,
          196,
          196,
          196,
          196,
          196,
          196,
          197,
          197,
          197,
          197,
          197,
          197,
          197,
          197,
          198,
          198,
          198,
          198,
          198,
          198,
          199,
          199,
          199,
          199,
          199,
          200,
          200,
          200,
          201,
          201,
          201,
          202,
          202,
          202,
          202,
          202,
          203,
          203,
          203,
          203,
          203,
          203,
          203,
          203,
          204,
          204,
          204,
          204,
          204,
          204,
          204,
          204,
          204,
          205,
          205,
          205,
          205,
          206,
          206,
          206,
          206,
          206,
          206,
          206,
          207,
          207,
          207,
          207,
          207,
          207,
          207,
          207,
          207,
          207,
          207,
          207,
          208,
          208,
          208,
          208,
          208,
          208,
          209,
          209,
          209,
          209,
          209,
          209,
          210,
          210,
          210,
          210,
          210,
          210,
          211,
          211,
          211,
          211,
          211,
          212,
          213,
          213,
          213,
          213,
          213,
          213,
          213,
          214,
          214,
          214,
          214,
          214,
          214,
          214,
          215,
          215,
          215,
          216,
          216,
          216,
          216,
          216,
          216,
          216,
          217,
          217,
          217,
          217,
          217,
          217,
          217,
          218,
          218,
          218,
          218,
          218,
          218,
          219,
          219,
          219,
          219,
          219,
          220,
          220,
          220,
          220,
          220,
          220,
          220,
          220,
          220,
          221,
          221,
          221,
          221,
          221,
          221,
          222,
          222,
          222,
          222,
          222,
          223,
          223,
          223,
          223,
          223,
          223,
          223,
          223,
          223,
          224,
          224,
          224,
          224,
          224,
          224,
          224,
          225,
          225,
          226,
          226,
          226,
          226,
          226,
          226,
          226,
          227,
          227,
          227,
          227,
          227,
          227,
          227,
          227,
          227,
          228,
          228,
          228,
          228,
          229,
          229,
          229,
          229,
          229,
          230,
          230,
          230,
          230,
          230,
          230,
          230,
          230,
          230,
          231,
          231,
          231,
          231,
          231,
          231,
          231,
          231,
          231,
          231,
          232,
          232,
          232,
          232,
          233,
          233,
          233,
          233,
          233,
          233,
          233,
          233,
          234,
          234,
          234,
          234,
          234,
          234,
          235,
          236,
          236,
          236,
          236,
          236,
          236,
          237,
          237,
          237,
          237,
          237,
          237,
          237,
          237,
          238,
          238,
          238,
          238,
          238,
          238,
          238,
          238,
          238,
          239,
          239,
          239,
          239,
          240
         ],
         "xaxis": "x",
         "y": [
          38.703744161859504,
          38.703744161859504,
          38.703744161859504,
          38.703744161859504,
          38.703744161859504,
          38.71212683967638,
          38.71212683967638,
          38.71212683967638,
          38.71212683967638,
          38.71212683967638,
          38.71212683967638,
          38.71212683967638,
          38.71212683967638,
          38.720509517493255,
          38.720509517493255,
          38.720509517493255,
          38.720509517493255,
          38.720509517493255,
          38.720509517493255,
          38.720509517493255,
          38.720509517493255,
          38.720509517493255,
          38.720509517493255,
          38.720509517493255,
          38.720509517493255,
          38.72889219531014,
          38.72889219531014,
          38.72889219531014,
          38.72889219531014,
          38.72889219531014,
          38.72889219531014,
          38.72889219531014,
          38.72889219531014,
          38.72889219531014,
          38.72889219531014,
          38.72889219531014,
          38.737274873127014,
          38.737274873127014,
          38.737274873127014,
          38.737274873127014,
          38.737274873127014,
          38.737274873127014,
          38.737274873127014,
          38.737274873127014,
          38.737274873127014,
          38.74565755094389,
          38.74565755094389,
          38.74565755094389,
          38.74565755094389,
          38.75404022876077,
          38.75404022876077,
          38.75404022876077,
          38.75404022876077,
          38.75404022876077,
          38.76242290657765,
          38.76242290657765,
          38.76242290657765,
          38.76242290657765,
          38.76242290657765,
          38.77080558439452,
          38.77080558439452,
          38.77080558439452,
          38.77080558439452,
          38.77080558439452,
          38.77080558439452,
          38.77080558439452,
          38.77080558439452,
          38.77080558439452,
          38.77080558439452,
          38.7791882622114,
          38.7791882622114,
          38.7791882622114,
          38.7791882622114,
          38.78757094002828,
          38.78757094002828,
          38.78757094002828,
          38.78757094002828,
          38.78757094002828,
          38.79595361784516,
          38.79595361784516,
          38.79595361784516,
          38.79595361784516,
          38.79595361784516,
          38.79595361784516,
          38.79595361784516,
          38.79595361784516,
          38.80433629566203,
          38.80433629566203,
          38.80433629566203,
          38.812718973478916,
          38.812718973478916,
          38.812718973478916,
          38.812718973478916,
          38.812718973478916,
          38.82110165129579,
          38.82110165129579,
          38.82110165129579,
          38.82110165129579,
          38.82948432911267,
          38.82948432911267,
          38.82948432911267,
          38.82948432911267,
          38.82948432911267,
          38.83786700692955,
          38.83786700692955,
          38.83786700692955,
          38.83786700692955,
          38.83786700692955,
          38.83786700692955,
          38.83786700692955,
          38.846249684746425,
          38.846249684746425,
          38.846249684746425,
          38.846249684746425,
          38.846249684746425,
          38.8546323625633,
          38.8546323625633,
          38.8546323625633,
          38.8546323625633,
          38.8546323625633,
          38.8546323625633,
          38.8546323625633,
          38.8546323625633,
          38.8546323625633,
          38.8546323625633,
          38.8546323625633,
          38.8546323625633,
          38.863015040380176,
          38.863015040380176,
          38.863015040380176,
          38.863015040380176,
          38.863015040380176,
          38.87139771819706,
          38.87139771819706,
          38.87139771819706,
          38.87139771819706,
          38.87139771819706,
          38.87139771819706,
          38.879780396013935,
          38.879780396013935,
          38.879780396013935,
          38.879780396013935,
          38.879780396013935,
          38.879780396013935,
          38.879780396013935,
          38.88816307383081,
          38.88816307383081,
          38.88816307383081,
          38.88816307383081,
          38.88816307383081,
          38.89654575164769,
          38.89654575164769,
          38.89654575164769,
          38.89654575164769,
          38.89654575164769,
          38.89654575164769,
          38.90492842946457,
          38.90492842946457,
          38.90492842946457,
          38.90492842946457,
          38.913311107281444,
          38.913311107281444,
          38.913311107281444,
          38.913311107281444,
          38.913311107281444,
          38.913311107281444,
          38.92169378509833,
          38.92169378509833,
          38.92169378509833,
          38.92169378509833,
          38.92169378509833,
          38.9300764629152,
          38.9300764629152,
          38.9300764629152,
          38.9300764629152,
          38.9300764629152,
          38.9300764629152,
          38.9300764629152,
          38.9300764629152,
          38.9300764629152,
          38.9300764629152,
          38.9300764629152,
          38.93845914073208,
          38.93845914073208,
          38.93845914073208,
          38.93845914073208,
          38.93845914073208,
          38.93845914073208,
          38.946841818548954,
          38.946841818548954,
          38.946841818548954,
          38.946841818548954,
          38.946841818548954,
          38.95522449636584,
          38.95522449636584,
          38.95522449636584,
          38.95522449636584,
          38.95522449636584,
          38.95522449636584,
          38.96360717418271,
          38.96360717418271,
          38.96360717418271,
          38.96360717418271,
          38.96360717418271,
          38.96360717418271,
          38.96360717418271,
          38.97198985199959,
          38.97198985199959,
          38.97198985199959,
          38.97198985199959,
          38.97198985199959,
          38.98037252981647,
          38.98037252981647,
          38.98037252981647,
          38.98037252981647,
          38.98037252981647,
          38.988755207633346,
          38.988755207633346,
          38.988755207633346,
          38.988755207633346,
          38.99713788545022,
          38.99713788545022,
          38.99713788545022,
          39.005520563267105,
          39.005520563267105,
          39.005520563267105,
          39.005520563267105,
          39.01390324108398,
          39.01390324108398,
          39.01390324108398,
          39.01390324108398,
          39.01390324108398,
          39.022285918900856,
          39.022285918900856,
          39.022285918900856,
          39.022285918900856,
          39.022285918900856,
          39.022285918900856,
          39.03066859671773,
          39.03066859671773,
          39.03066859671773,
          39.03066859671773,
          39.03066859671773,
          39.03066859671773,
          39.03066859671773,
          39.039051274534614,
          39.039051274534614,
          39.039051274534614,
          39.039051274534614,
          39.039051274534614,
          39.039051274534614,
          39.039051274534614,
          39.039051274534614,
          39.039051274534614,
          39.039051274534614,
          39.04743395235149,
          39.04743395235149,
          39.04743395235149,
          39.04743395235149,
          39.04743395235149,
          39.04743395235149,
          39.04743395235149,
          39.04743395235149,
          39.04743395235149,
          39.04743395235149,
          39.04743395235149,
          39.04743395235149,
          39.055816630168366,
          39.055816630168366,
          39.055816630168366,
          39.055816630168366,
          39.055816630168366,
          39.055816630168366,
          39.055816630168366,
          39.055816630168366,
          39.055816630168366,
          39.06419930798525,
          39.06419930798525,
          39.06419930798525,
          39.06419930798525,
          39.06419930798525,
          39.06419930798525,
          39.06419930798525,
          39.06419930798525,
          39.06419930798525,
          39.06419930798525,
          39.06419930798525,
          39.06419930798525,
          39.072581985802124,
          39.072581985802124,
          39.080964663619,
          39.080964663619,
          39.080964663619,
          39.080964663619,
          39.080964663619,
          39.080964663619,
          39.080964663619,
          39.080964663619,
          39.08934734143588,
          39.08934734143588,
          39.08934734143588,
          39.08934734143588,
          39.08934734143588,
          39.08934734143588,
          39.08934734143588,
          39.08934734143588,
          39.08934734143588,
          39.08934734143588,
          39.08934734143588,
          39.09773001925276,
          39.09773001925276,
          39.09773001925276,
          39.09773001925276,
          39.09773001925276,
          39.09773001925276,
          39.09773001925276,
          39.106112697069634,
          39.106112697069634,
          39.106112697069634,
          39.11449537488651,
          39.11449537488651,
          39.11449537488651,
          39.11449537488651,
          39.12287805270339,
          39.12287805270339,
          39.12287805270339,
          39.12287805270339,
          39.12287805270339,
          39.12287805270339,
          39.12287805270339,
          39.12287805270339,
          39.12287805270339,
          39.13126073052027,
          39.13126073052027,
          39.13126073052027,
          39.13126073052027,
          39.13126073052027,
          39.13964340833714,
          39.13964340833714,
          39.13964340833714,
          39.13964340833714,
          39.13964340833714,
          39.13964340833714,
          39.13964340833714,
          39.13964340833714,
          39.13964340833714,
          39.13964340833714,
          39.148026086154026,
          39.148026086154026,
          39.148026086154026,
          39.148026086154026,
          39.1564087639709,
          39.1564087639709,
          39.1564087639709,
          39.16479144178778,
          39.16479144178778,
          39.16479144178778,
          39.16479144178778,
          39.16479144178778,
          39.16479144178778,
          39.17317411960465,
          39.17317411960465,
          39.17317411960465,
          39.181556797421536,
          39.181556797421536,
          39.181556797421536,
          39.181556797421536,
          39.181556797421536,
          39.181556797421536,
          39.18993947523841,
          39.18993947523841,
          39.18993947523841,
          39.18993947523841,
          39.18993947523841,
          39.18993947523841,
          39.18993947523841,
          39.19832215305529,
          39.19832215305529,
          39.19832215305529,
          39.19832215305529,
          39.19832215305529,
          39.19832215305529,
          39.19832215305529,
          39.19832215305529,
          39.19832215305529,
          39.20670483087217,
          39.20670483087217,
          39.20670483087217,
          39.20670483087217,
          39.20670483087217,
          39.20670483087217,
          39.20670483087217,
          39.20670483087217,
          39.215087508689045,
          39.215087508689045,
          39.215087508689045,
          39.215087508689045,
          39.215087508689045,
          39.215087508689045,
          39.215087508689045,
          39.215087508689045,
          39.215087508689045,
          39.22347018650592,
          39.22347018650592,
          39.22347018650592,
          39.22347018650592,
          39.22347018650592,
          39.2318528643228,
          39.2318528643228,
          39.2318528643228,
          39.2318528643228,
          39.2318528643228,
          39.2318528643228,
          39.2318528643228,
          39.2318528643228,
          39.24023554213968,
          39.24023554213968,
          39.24023554213968,
          39.24023554213968,
          39.24023554213968,
          39.24023554213968,
          39.248618219956555,
          39.248618219956555,
          39.248618219956555,
          39.248618219956555,
          39.248618219956555,
          39.248618219956555,
          39.25700089777343,
          39.25700089777343,
          39.25700089777343,
          39.25700089777343,
          39.25700089777343,
          39.26538357559031,
          39.26538357559031,
          39.26538357559031,
          39.26538357559031,
          39.26538357559031,
          39.26538357559031,
          39.26538357559031,
          39.26538357559031,
          39.26538357559031,
          39.26538357559031,
          39.27376625340719,
          39.27376625340719,
          39.27376625340719,
          39.27376625340719,
          39.27376625340719,
          39.27376625340719,
          39.27376625340719,
          39.27376625340719,
          39.282148931224064,
          39.282148931224064,
          39.282148931224064,
          39.282148931224064,
          39.282148931224064,
          39.282148931224064,
          39.282148931224064,
          39.282148931224064,
          39.29053160904095,
          39.29053160904095,
          39.29053160904095,
          39.29053160904095,
          39.29053160904095,
          39.29053160904095,
          39.29053160904095,
          39.29053160904095,
          39.29053160904095,
          39.29891428685782,
          39.29891428685782,
          39.29891428685782,
          39.29891428685782,
          39.3072969646747,
          39.3072969646747,
          39.3072969646747,
          39.3072969646747,
          39.3072969646747,
          39.3072969646747,
          39.3072969646747,
          39.31567964249158,
          39.31567964249158,
          39.31567964249158,
          39.31567964249158,
          39.32406232030846,
          39.32406232030846,
          39.32406232030846,
          39.33244499812533,
          39.33244499812533,
          39.33244499812533,
          39.33244499812533,
          39.33244499812533,
          39.33244499812533,
          39.33244499812533,
          39.34082767594221,
          39.34082767594221,
          39.34082767594221,
          39.34082767594221,
          39.34082767594221,
          39.34082767594221,
          39.34921035375909,
          39.34921035375909,
          39.34921035375909,
          39.34921035375909,
          39.34921035375909,
          39.34921035375909,
          39.357593031575966,
          39.357593031575966,
          39.357593031575966,
          39.357593031575966,
          39.36597570939284,
          39.36597570939284,
          39.36597570939284,
          39.36597570939284,
          39.36597570939284,
          39.36597570939284,
          39.36597570939284,
          39.36597570939284,
          39.36597570939284,
          39.374358387209725,
          39.374358387209725,
          39.374358387209725,
          39.374358387209725,
          39.3827410650266,
          39.3827410650266,
          39.3827410650266,
          39.3827410650266,
          39.3827410650266,
          39.3827410650266,
          39.3827410650266,
          39.3827410650266,
          39.391123742843476,
          39.391123742843476,
          39.391123742843476,
          39.391123742843476,
          39.391123742843476,
          39.391123742843476,
          39.39950642066036,
          39.39950642066036,
          39.39950642066036,
          39.39950642066036,
          39.39950642066036,
          39.39950642066036,
          39.39950642066036,
          39.39950642066036,
          39.407889098477234,
          39.407889098477234,
          39.407889098477234,
          39.407889098477234,
          39.407889098477234,
          39.407889098477234,
          39.407889098477234,
          39.407889098477234,
          39.407889098477234,
          39.407889098477234,
          39.407889098477234,
          39.41627177629411,
          39.41627177629411,
          39.41627177629411,
          39.41627177629411,
          39.41627177629411,
          39.424654454110986,
          39.424654454110986,
          39.424654454110986,
          39.424654454110986,
          39.424654454110986,
          39.424654454110986,
          39.424654454110986,
          39.424654454110986,
          39.424654454110986,
          39.43303713192787,
          39.43303713192787,
          39.43303713192787,
          39.43303713192787,
          39.43303713192787,
          39.441419809744744,
          39.441419809744744,
          39.441419809744744,
          39.441419809744744,
          39.441419809744744,
          39.441419809744744,
          39.44980248756162,
          39.44980248756162,
          39.44980248756162,
          39.44980248756162,
          39.44980248756162,
          39.44980248756162,
          39.44980248756162,
          39.4581851653785,
          39.4581851653785,
          39.4581851653785,
          39.4581851653785,
          39.4581851653785,
          39.4581851653785,
          39.46656784319538,
          39.46656784319538,
          39.47495052101225,
          39.47495052101225,
          39.47495052101225,
          39.47495052101225,
          39.47495052101225,
          39.47495052101225,
          39.47495052101225,
          39.47495052101225,
          39.47495052101225,
          39.483333198829136,
          39.483333198829136,
          39.483333198829136,
          39.483333198829136,
          39.49171587664601,
          39.49171587664601,
          39.49171587664601,
          39.49171587664601,
          39.49171587664601,
          39.49171587664601,
          39.50009855446289,
          39.50009855446289,
          39.50009855446289,
          39.50009855446289,
          39.50009855446289,
          39.50009855446289,
          39.50009855446289,
          39.50848123227976,
          39.50848123227976,
          39.50848123227976,
          39.50848123227976,
          39.516863910096646,
          39.516863910096646,
          39.516863910096646,
          39.516863910096646,
          39.516863910096646,
          39.516863910096646,
          39.52524658791352,
          39.52524658791352,
          39.52524658791352,
          39.52524658791352,
          39.52524658791352,
          39.52524658791352,
          39.5336292657304,
          39.5336292657304,
          39.5336292657304,
          39.5336292657304,
          39.5336292657304,
          39.5336292657304,
          39.5336292657304,
          39.5336292657304,
          39.5336292657304,
          39.5336292657304,
          39.54201194354728,
          39.54201194354728,
          39.54201194354728,
          39.54201194354728,
          39.54201194354728,
          39.550394621364156,
          39.550394621364156,
          39.550394621364156,
          39.550394621364156,
          39.550394621364156,
          39.550394621364156,
          39.550394621364156,
          39.550394621364156,
          39.55877729918103,
          39.55877729918103,
          39.55877729918103,
          39.55877729918103,
          39.55877729918103,
          39.55877729918103,
          39.55877729918103,
          39.567159976997914,
          39.567159976997914,
          39.567159976997914,
          39.567159976997914,
          39.57554265481479,
          39.57554265481479,
          39.57554265481479,
          39.57554265481479,
          39.57554265481479,
          39.57554265481479,
          39.57554265481479,
          39.57554265481479,
          39.57554265481479,
          39.583925332631665,
          39.583925332631665,
          39.583925332631665,
          39.59230801044854,
          39.59230801044854,
          39.59230801044854,
          39.59230801044854,
          39.59230801044854,
          39.60069068826542,
          39.60069068826542,
          39.60069068826542,
          39.60069068826542,
          39.60069068826542,
          39.60069068826542,
          39.60069068826542,
          39.6090733660823,
          39.6090733660823,
          39.6090733660823,
          39.6090733660823,
          39.6090733660823,
          39.617456043899175,
          39.617456043899175,
          39.617456043899175,
          39.617456043899175,
          39.617456043899175,
          39.617456043899175,
          39.617456043899175,
          39.617456043899175,
          39.62583872171606,
          39.62583872171606,
          39.62583872171606,
          39.62583872171606,
          39.62583872171606,
          39.62583872171606,
          39.62583872171606,
          39.62583872171606,
          39.62583872171606,
          39.63422139953293,
          39.63422139953293,
          39.63422139953293,
          39.63422139953293,
          39.63422139953293,
          39.63422139953293,
          39.63422139953293,
          39.64260407734981,
          39.64260407734981,
          39.64260407734981,
          39.64260407734981,
          39.64260407734981,
          39.64260407734981,
          39.64260407734981,
          39.64260407734981,
          39.64260407734981,
          39.64260407734981,
          39.650986755166684,
          39.650986755166684,
          39.650986755166684,
          39.650986755166684,
          39.650986755166684,
          39.650986755166684,
          39.650986755166684,
          39.650986755166684,
          39.650986755166684,
          39.650986755166684,
          39.650986755166684,
          39.65936943298357,
          39.65936943298357,
          39.65936943298357,
          39.66775211080044,
          39.66775211080044,
          39.66775211080044,
          39.66775211080044,
          39.66775211080044,
          39.67613478861732,
          39.67613478861732,
          39.67613478861732,
          39.67613478861732,
          39.67613478861732,
          39.67613478861732,
          39.67613478861732,
          39.67613478861732,
          39.67613478861732,
          39.67613478861732,
          39.6845174664342,
          39.6845174664342,
          39.6845174664342,
          39.69290014425108,
          39.70128282206795,
          39.70128282206795,
          39.70128282206795,
          39.70128282206795,
          39.70128282206795,
          39.70128282206795,
          39.70128282206795,
          39.70128282206795,
          39.70128282206795,
          39.70128282206795,
          39.70128282206795,
          39.709665499884835,
          39.709665499884835,
          39.709665499884835,
          39.709665499884835,
          39.709665499884835,
          39.709665499884835,
          39.709665499884835,
          39.709665499884835,
          39.709665499884835,
          39.709665499884835,
          39.709665499884835,
          39.71804817770171,
          39.71804817770171,
          39.71804817770171,
          39.71804817770171,
          39.71804817770171,
          39.71804817770171,
          39.726430855518586,
          39.726430855518586,
          39.726430855518586,
          39.726430855518586,
          39.726430855518586,
          39.726430855518586,
          39.726430855518586,
          39.726430855518586,
          39.73481353333547,
          39.73481353333547,
          39.73481353333547,
          39.73481353333547,
          39.73481353333547,
          39.743196211152345,
          39.743196211152345,
          39.75157888896922,
          39.75157888896922,
          39.75157888896922,
          39.75157888896922,
          39.75157888896922,
          39.75157888896922,
          39.75157888896922,
          39.759961566786096,
          39.759961566786096,
          39.759961566786096,
          39.759961566786096,
          39.759961566786096,
          39.76834424460298,
          39.76834424460298,
          39.76834424460298,
          39.76834424460298,
          39.76834424460298,
          39.776726922419854,
          39.776726922419854,
          39.776726922419854,
          39.776726922419854,
          39.776726922419854,
          39.776726922419854,
          39.776726922419854,
          39.776726922419854,
          39.78510960023673,
          39.78510960023673,
          39.78510960023673,
          39.78510960023673,
          39.78510960023673,
          39.78510960023673,
          39.79349227805361,
          39.79349227805361,
          39.79349227805361,
          39.79349227805361,
          39.79349227805361,
          39.79349227805361,
          39.79349227805361,
          39.79349227805361,
          39.79349227805361,
          39.80187495587049,
          39.80187495587049,
          39.80187495587049,
          39.80187495587049,
          39.80187495587049,
          39.80187495587049,
          39.810257633687364,
          39.810257633687364,
          39.810257633687364,
          39.810257633687364,
          39.81864031150424,
          39.81864031150424,
          39.81864031150424,
          39.81864031150424,
          39.81864031150424,
          39.81864031150424,
          39.82702298932112,
          39.82702298932112,
          39.82702298932112,
          39.82702298932112,
          39.82702298932112,
          39.82702298932112,
          39.82702298932112,
          39.82702298932112,
          39.835405667138,
          39.835405667138,
          39.835405667138,
          39.835405667138,
          39.835405667138,
          39.835405667138,
          39.835405667138,
          39.84378834495487,
          39.84378834495487,
          39.84378834495487,
          39.84378834495487,
          39.852171022771756,
          39.852171022771756,
          39.852171022771756,
          39.852171022771756,
          39.852171022771756,
          39.852171022771756,
          39.852171022771756,
          39.852171022771756,
          39.852171022771756,
          39.852171022771756,
          39.852171022771756,
          39.852171022771756,
          39.86055370058863,
          39.86055370058863,
          39.86055370058863,
          39.86055370058863,
          39.86893637840551,
          39.86893637840551,
          39.86893637840551,
          39.86893637840551,
          39.87731905622239,
          39.87731905622239,
          39.87731905622239,
          39.885701734039266,
          39.885701734039266,
          39.885701734039266,
          39.885701734039266,
          39.89408441185614,
          39.89408441185614,
          39.89408441185614,
          39.89408441185614,
          39.89408441185614,
          39.89408441185614,
          39.90246708967302,
          39.90246708967302,
          39.90246708967302,
          39.9108497674899,
          39.9108497674899,
          39.9108497674899,
          39.9108497674899,
          39.9108497674899,
          39.9108497674899,
          39.919232445306776,
          39.919232445306776,
          39.919232445306776,
          39.919232445306776,
          39.919232445306776,
          39.919232445306776,
          39.919232445306776,
          39.919232445306776,
          39.919232445306776,
          39.92761512312365,
          39.92761512312365,
          39.92761512312365,
          39.92761512312365,
          39.92761512312365,
          39.92761512312365,
          39.92761512312365,
          39.92761512312365,
          39.92761512312365,
          39.92761512312365,
          39.935997800940534,
          39.935997800940534,
          39.935997800940534,
          39.94438047875741,
          39.94438047875741,
          39.94438047875741,
          39.94438047875741,
          39.94438047875741,
          39.94438047875741,
          39.94438047875741,
          39.952763156574285,
          39.952763156574285,
          39.952763156574285,
          39.952763156574285,
          39.952763156574285,
          39.96114583439117,
          39.96114583439117,
          39.96114583439117,
          39.96114583439117,
          39.96114583439117,
          39.96952851220804,
          39.96952851220804,
          39.96952851220804,
          39.96952851220804,
          39.96952851220804,
          39.97791119002492,
          39.97791119002492,
          39.97791119002492,
          39.97791119002492,
          39.97791119002492,
          39.97791119002492,
          39.97791119002492,
          39.97791119002492,
          39.97791119002492,
          39.97791119002492,
          39.97791119002492,
          39.97791119002492,
          39.97791119002492,
          39.97791119002492,
          39.986293867841795,
          39.986293867841795,
          39.986293867841795,
          39.986293867841795,
          39.99467654565868,
          39.99467654565868,
          39.99467654565868,
          39.99467654565868,
          39.99467654565868,
          39.99467654565868,
          39.99467654565868,
          39.99467654565868,
          40.00305922347555,
          40.00305922347555,
          40.01144190129243,
          40.01144190129243,
          40.01144190129243,
          40.01144190129243,
          40.01144190129243,
          40.01144190129243,
          40.01144190129243,
          40.01982457910931,
          40.01982457910931,
          40.01982457910931,
          40.01982457910931,
          40.02820725692619,
          40.02820725692619,
          40.02820725692619,
          40.02820725692619,
          40.02820725692619,
          40.02820725692619,
          40.02820725692619,
          40.02820725692619,
          40.03658993474306,
          40.03658993474306,
          40.03658993474306,
          40.03658993474306,
          40.03658993474306,
          40.03658993474306,
          40.03658993474306,
          40.03658993474306,
          40.044972612559945,
          40.044972612559945,
          40.044972612559945,
          40.044972612559945,
          40.044972612559945,
          40.044972612559945,
          40.05335529037682,
          40.05335529037682,
          40.05335529037682,
          40.05335529037682,
          40.05335529037682,
          40.05335529037682,
          40.05335529037682,
          40.05335529037682,
          40.05335529037682,
          40.05335529037682,
          40.05335529037682,
          40.05335529037682,
          40.05335529037682,
          40.0617379681937,
          40.0617379681937,
          40.0617379681937,
          40.0617379681937,
          40.0617379681937,
          40.0617379681937,
          40.0617379681937,
          40.0617379681937,
          40.07012064601057,
          40.07012064601057,
          40.07012064601057,
          40.07012064601057,
          40.07012064601057,
          40.07012064601057,
          40.078503323827455,
          40.078503323827455,
          40.078503323827455,
          40.08688600164433,
          40.08688600164433,
          40.08688600164433,
          40.08688600164433,
          40.08688600164433,
          40.08688600164433,
          40.08688600164433,
          40.08688600164433,
          40.08688600164433,
          40.08688600164433,
          40.08688600164433,
          40.08688600164433,
          40.08688600164433,
          40.08688600164433,
          40.095268679461206,
          40.095268679461206,
          40.095268679461206,
          40.095268679461206,
          40.095268679461206,
          40.095268679461206,
          40.095268679461206,
          40.10365135727809,
          40.10365135727809,
          40.10365135727809,
          40.10365135727809,
          40.10365135727809,
          40.10365135727809,
          40.10365135727809,
          40.10365135727809,
          40.112034035094965,
          40.112034035094965,
          40.112034035094965,
          40.112034035094965,
          40.112034035094965,
          40.112034035094965,
          40.112034035094965,
          40.112034035094965,
          40.112034035094965,
          40.12041671291184,
          40.12041671291184,
          40.12041671291184,
          40.12041671291184,
          40.12041671291184,
          40.12041671291184,
          40.128799390728716,
          40.128799390728716,
          40.128799390728716,
          40.128799390728716,
          40.128799390728716,
          40.128799390728716,
          40.128799390728716,
          40.128799390728716,
          40.128799390728716,
          40.1371820685456,
          40.1371820685456,
          40.1371820685456,
          40.1371820685456,
          40.1371820685456,
          40.1371820685456,
          40.145564746362474,
          40.145564746362474,
          40.145564746362474,
          40.145564746362474,
          40.145564746362474,
          40.145564746362474,
          40.145564746362474,
          40.145564746362474,
          40.145564746362474,
          40.145564746362474,
          40.145564746362474,
          40.15394742417935,
          40.15394742417935,
          40.15394742417935,
          40.15394742417935,
          40.15394742417935,
          40.15394742417935,
          40.16233010199623,
          40.16233010199623,
          40.16233010199623,
          40.16233010199623,
          40.16233010199623,
          40.16233010199623,
          40.16233010199623,
          40.17071277981311,
          40.17071277981311,
          40.17071277981311,
          40.17071277981311,
          40.17071277981311,
          40.17071277981311,
          40.179095457629984,
          40.18747813544687,
          40.18747813544687,
          40.18747813544687,
          40.18747813544687,
          40.18747813544687,
          40.19586081326374,
          40.19586081326374,
          40.19586081326374,
          40.19586081326374,
          40.19586081326374,
          40.19586081326374,
          40.19586081326374,
          40.19586081326374,
          40.19586081326374,
          40.20424349108062,
          40.20424349108062,
          40.20424349108062,
          40.20424349108062,
          40.2126261688975,
          40.2126261688975,
          40.221008846714376,
          40.221008846714376,
          40.221008846714376,
          40.221008846714376,
          40.221008846714376,
          40.221008846714376,
          40.221008846714376,
          40.221008846714376,
          40.221008846714376,
          40.221008846714376,
          40.22939152453125,
          40.22939152453125,
          40.22939152453125,
          40.23777420234813,
          40.23777420234813,
          40.23777420234813,
          40.23777420234813,
          40.23777420234813,
          40.23777420234813,
          40.23777420234813,
          40.24615688016501,
          40.24615688016501,
          40.24615688016501,
          40.24615688016501,
          40.24615688016501,
          40.254539557981886,
          40.254539557981886,
          40.254539557981886,
          40.254539557981886,
          40.254539557981886,
          40.26292223579876,
          40.26292223579876,
          40.26292223579876,
          40.26292223579876,
          40.26292223579876,
          40.26292223579876,
          40.26292223579876,
          40.26292223579876,
          40.271304913615644,
          40.271304913615644,
          40.271304913615644,
          40.271304913615644,
          40.271304913615644,
          40.271304913615644,
          40.27968759143252,
          40.27968759143252,
          40.27968759143252,
          40.27968759143252,
          40.27968759143252,
          40.27968759143252,
          40.27968759143252,
          40.27968759143252,
          40.27968759143252,
          40.27968759143252,
          40.27968759143252,
          40.288070269249395,
          40.288070269249395,
          40.288070269249395,
          40.29645294706627,
          40.29645294706627,
          40.29645294706627,
          40.29645294706627,
          40.29645294706627,
          40.29645294706627,
          40.304835624883154,
          40.304835624883154,
          40.304835624883154,
          40.304835624883154,
          40.304835624883154,
          40.304835624883154,
          40.304835624883154,
          40.304835624883154,
          40.31321830270003,
          40.31321830270003,
          40.31321830270003,
          40.31321830270003,
          40.31321830270003,
          40.31321830270003,
          40.321600980516905,
          40.321600980516905,
          40.321600980516905,
          40.321600980516905,
          40.321600980516905,
          40.32998365833379,
          40.32998365833379,
          40.32998365833379,
          40.33836633615066,
          40.33836633615066,
          40.33836633615066,
          40.34674901396754,
          40.34674901396754,
          40.34674901396754,
          40.34674901396754,
          40.34674901396754,
          40.35513169178442,
          40.35513169178442,
          40.35513169178442,
          40.35513169178442,
          40.35513169178442,
          40.35513169178442,
          40.35513169178442,
          40.35513169178442,
          40.3635143696013,
          40.3635143696013,
          40.3635143696013,
          40.3635143696013,
          40.3635143696013,
          40.3635143696013,
          40.3635143696013,
          40.3635143696013,
          40.3635143696013,
          40.37189704741817,
          40.37189704741817,
          40.37189704741817,
          40.37189704741817,
          40.38027972523505,
          40.38027972523505,
          40.38027972523505,
          40.38027972523505,
          40.38027972523505,
          40.38027972523505,
          40.38027972523505,
          40.38866240305193,
          40.38866240305193,
          40.38866240305193,
          40.38866240305193,
          40.38866240305193,
          40.38866240305193,
          40.38866240305193,
          40.38866240305193,
          40.38866240305193,
          40.38866240305193,
          40.38866240305193,
          40.38866240305193,
          40.39704508086881,
          40.39704508086881,
          40.39704508086881,
          40.39704508086881,
          40.39704508086881,
          40.39704508086881,
          40.40542775868568,
          40.40542775868568,
          40.40542775868568,
          40.40542775868568,
          40.40542775868568,
          40.40542775868568,
          40.413810436502565,
          40.413810436502565,
          40.413810436502565,
          40.413810436502565,
          40.413810436502565,
          40.413810436502565,
          40.42219311431944,
          40.42219311431944,
          40.42219311431944,
          40.42219311431944,
          40.42219311431944,
          40.43057579213632,
          40.4389584699532,
          40.4389584699532,
          40.4389584699532,
          40.4389584699532,
          40.4389584699532,
          40.4389584699532,
          40.4389584699532,
          40.447341147770075,
          40.447341147770075,
          40.447341147770075,
          40.447341147770075,
          40.447341147770075,
          40.447341147770075,
          40.447341147770075,
          40.45572382558695,
          40.45572382558695,
          40.45572382558695,
          40.464106503403826,
          40.464106503403826,
          40.464106503403826,
          40.464106503403826,
          40.464106503403826,
          40.464106503403826,
          40.464106503403826,
          40.47248918122071,
          40.47248918122071,
          40.47248918122071,
          40.47248918122071,
          40.47248918122071,
          40.47248918122071,
          40.47248918122071,
          40.480871859037585,
          40.480871859037585,
          40.480871859037585,
          40.480871859037585,
          40.480871859037585,
          40.480871859037585,
          40.48925453685446,
          40.48925453685446,
          40.48925453685446,
          40.48925453685446,
          40.48925453685446,
          40.49763721467134,
          40.49763721467134,
          40.49763721467134,
          40.49763721467134,
          40.49763721467134,
          40.49763721467134,
          40.49763721467134,
          40.49763721467134,
          40.49763721467134,
          40.50601989248822,
          40.50601989248822,
          40.50601989248822,
          40.50601989248822,
          40.50601989248822,
          40.50601989248822,
          40.514402570305094,
          40.514402570305094,
          40.514402570305094,
          40.514402570305094,
          40.514402570305094,
          40.52278524812198,
          40.52278524812198,
          40.52278524812198,
          40.52278524812198,
          40.52278524812198,
          40.52278524812198,
          40.52278524812198,
          40.52278524812198,
          40.52278524812198,
          40.53116792593885,
          40.53116792593885,
          40.53116792593885,
          40.53116792593885,
          40.53116792593885,
          40.53116792593885,
          40.53116792593885,
          40.53955060375573,
          40.53955060375573,
          40.547933281572604,
          40.547933281572604,
          40.547933281572604,
          40.547933281572604,
          40.547933281572604,
          40.547933281572604,
          40.547933281572604,
          40.55631595938949,
          40.55631595938949,
          40.55631595938949,
          40.55631595938949,
          40.55631595938949,
          40.55631595938949,
          40.55631595938949,
          40.55631595938949,
          40.55631595938949,
          40.56469863720636,
          40.56469863720636,
          40.56469863720636,
          40.56469863720636,
          40.57308131502324,
          40.57308131502324,
          40.57308131502324,
          40.57308131502324,
          40.57308131502324,
          40.58146399284012,
          40.58146399284012,
          40.58146399284012,
          40.58146399284012,
          40.58146399284012,
          40.58146399284012,
          40.58146399284012,
          40.58146399284012,
          40.58146399284012,
          40.589846670656996,
          40.589846670656996,
          40.589846670656996,
          40.589846670656996,
          40.589846670656996,
          40.589846670656996,
          40.589846670656996,
          40.589846670656996,
          40.589846670656996,
          40.589846670656996,
          40.59822934847387,
          40.59822934847387,
          40.59822934847387,
          40.59822934847387,
          40.60661202629075,
          40.60661202629075,
          40.60661202629075,
          40.60661202629075,
          40.60661202629075,
          40.60661202629075,
          40.60661202629075,
          40.60661202629075,
          40.61499470410763,
          40.61499470410763,
          40.61499470410763,
          40.61499470410763,
          40.61499470410763,
          40.61499470410763,
          40.623377381924506,
          40.63176005974138,
          40.63176005974138,
          40.63176005974138,
          40.63176005974138,
          40.63176005974138,
          40.63176005974138,
          40.640142737558264,
          40.640142737558264,
          40.640142737558264,
          40.640142737558264,
          40.640142737558264,
          40.640142737558264,
          40.640142737558264,
          40.640142737558264,
          40.64852541537514,
          40.64852541537514,
          40.64852541537514,
          40.64852541537514,
          40.64852541537514,
          40.64852541537514,
          40.64852541537514,
          40.64852541537514,
          40.64852541537514,
          40.656908093192015,
          40.656908093192015,
          40.656908093192015,
          40.656908093192015,
          40.6652907710089
         ],
         "yaxis": "y"
        }
       ],
       "layout": {
        "legend": {
         "tracegroupgap": 0
        },
        "template": {
         "data": {
          "bar": [
           {
            "error_x": {
             "color": "#2a3f5f"
            },
            "error_y": {
             "color": "#2a3f5f"
            },
            "marker": {
             "line": {
              "color": "#E5ECF6",
              "width": 0.5
             },
             "pattern": {
              "fillmode": "overlay",
              "size": 10,
              "solidity": 0.2
             }
            },
            "type": "bar"
           }
          ],
          "barpolar": [
           {
            "marker": {
             "line": {
              "color": "#E5ECF6",
              "width": 0.5
             },
             "pattern": {
              "fillmode": "overlay",
              "size": 10,
              "solidity": 0.2
             }
            },
            "type": "barpolar"
           }
          ],
          "carpet": [
           {
            "aaxis": {
             "endlinecolor": "#2a3f5f",
             "gridcolor": "white",
             "linecolor": "white",
             "minorgridcolor": "white",
             "startlinecolor": "#2a3f5f"
            },
            "baxis": {
             "endlinecolor": "#2a3f5f",
             "gridcolor": "white",
             "linecolor": "white",
             "minorgridcolor": "white",
             "startlinecolor": "#2a3f5f"
            },
            "type": "carpet"
           }
          ],
          "choropleth": [
           {
            "colorbar": {
             "outlinewidth": 0,
             "ticks": ""
            },
            "type": "choropleth"
           }
          ],
          "contour": [
           {
            "colorbar": {
             "outlinewidth": 0,
             "ticks": ""
            },
            "colorscale": [
             [
              0,
              "#0d0887"
             ],
             [
              0.1111111111111111,
              "#46039f"
             ],
             [
              0.2222222222222222,
              "#7201a8"
             ],
             [
              0.3333333333333333,
              "#9c179e"
             ],
             [
              0.4444444444444444,
              "#bd3786"
             ],
             [
              0.5555555555555556,
              "#d8576b"
             ],
             [
              0.6666666666666666,
              "#ed7953"
             ],
             [
              0.7777777777777778,
              "#fb9f3a"
             ],
             [
              0.8888888888888888,
              "#fdca26"
             ],
             [
              1,
              "#f0f921"
             ]
            ],
            "type": "contour"
           }
          ],
          "contourcarpet": [
           {
            "colorbar": {
             "outlinewidth": 0,
             "ticks": ""
            },
            "type": "contourcarpet"
           }
          ],
          "heatmap": [
           {
            "colorbar": {
             "outlinewidth": 0,
             "ticks": ""
            },
            "colorscale": [
             [
              0,
              "#0d0887"
             ],
             [
              0.1111111111111111,
              "#46039f"
             ],
             [
              0.2222222222222222,
              "#7201a8"
             ],
             [
              0.3333333333333333,
              "#9c179e"
             ],
             [
              0.4444444444444444,
              "#bd3786"
             ],
             [
              0.5555555555555556,
              "#d8576b"
             ],
             [
              0.6666666666666666,
              "#ed7953"
             ],
             [
              0.7777777777777778,
              "#fb9f3a"
             ],
             [
              0.8888888888888888,
              "#fdca26"
             ],
             [
              1,
              "#f0f921"
             ]
            ],
            "type": "heatmap"
           }
          ],
          "heatmapgl": [
           {
            "colorbar": {
             "outlinewidth": 0,
             "ticks": ""
            },
            "colorscale": [
             [
              0,
              "#0d0887"
             ],
             [
              0.1111111111111111,
              "#46039f"
             ],
             [
              0.2222222222222222,
              "#7201a8"
             ],
             [
              0.3333333333333333,
              "#9c179e"
             ],
             [
              0.4444444444444444,
              "#bd3786"
             ],
             [
              0.5555555555555556,
              "#d8576b"
             ],
             [
              0.6666666666666666,
              "#ed7953"
             ],
             [
              0.7777777777777778,
              "#fb9f3a"
             ],
             [
              0.8888888888888888,
              "#fdca26"
             ],
             [
              1,
              "#f0f921"
             ]
            ],
            "type": "heatmapgl"
           }
          ],
          "histogram": [
           {
            "marker": {
             "pattern": {
              "fillmode": "overlay",
              "size": 10,
              "solidity": 0.2
             }
            },
            "type": "histogram"
           }
          ],
          "histogram2d": [
           {
            "colorbar": {
             "outlinewidth": 0,
             "ticks": ""
            },
            "colorscale": [
             [
              0,
              "#0d0887"
             ],
             [
              0.1111111111111111,
              "#46039f"
             ],
             [
              0.2222222222222222,
              "#7201a8"
             ],
             [
              0.3333333333333333,
              "#9c179e"
             ],
             [
              0.4444444444444444,
              "#bd3786"
             ],
             [
              0.5555555555555556,
              "#d8576b"
             ],
             [
              0.6666666666666666,
              "#ed7953"
             ],
             [
              0.7777777777777778,
              "#fb9f3a"
             ],
             [
              0.8888888888888888,
              "#fdca26"
             ],
             [
              1,
              "#f0f921"
             ]
            ],
            "type": "histogram2d"
           }
          ],
          "histogram2dcontour": [
           {
            "colorbar": {
             "outlinewidth": 0,
             "ticks": ""
            },
            "colorscale": [
             [
              0,
              "#0d0887"
             ],
             [
              0.1111111111111111,
              "#46039f"
             ],
             [
              0.2222222222222222,
              "#7201a8"
             ],
             [
              0.3333333333333333,
              "#9c179e"
             ],
             [
              0.4444444444444444,
              "#bd3786"
             ],
             [
              0.5555555555555556,
              "#d8576b"
             ],
             [
              0.6666666666666666,
              "#ed7953"
             ],
             [
              0.7777777777777778,
              "#fb9f3a"
             ],
             [
              0.8888888888888888,
              "#fdca26"
             ],
             [
              1,
              "#f0f921"
             ]
            ],
            "type": "histogram2dcontour"
           }
          ],
          "mesh3d": [
           {
            "colorbar": {
             "outlinewidth": 0,
             "ticks": ""
            },
            "type": "mesh3d"
           }
          ],
          "parcoords": [
           {
            "line": {
             "colorbar": {
              "outlinewidth": 0,
              "ticks": ""
             }
            },
            "type": "parcoords"
           }
          ],
          "pie": [
           {
            "automargin": true,
            "type": "pie"
           }
          ],
          "scatter": [
           {
            "fillpattern": {
             "fillmode": "overlay",
             "size": 10,
             "solidity": 0.2
            },
            "type": "scatter"
           }
          ],
          "scatter3d": [
           {
            "line": {
             "colorbar": {
              "outlinewidth": 0,
              "ticks": ""
             }
            },
            "marker": {
             "colorbar": {
              "outlinewidth": 0,
              "ticks": ""
             }
            },
            "type": "scatter3d"
           }
          ],
          "scattercarpet": [
           {
            "marker": {
             "colorbar": {
              "outlinewidth": 0,
              "ticks": ""
             }
            },
            "type": "scattercarpet"
           }
          ],
          "scattergeo": [
           {
            "marker": {
             "colorbar": {
              "outlinewidth": 0,
              "ticks": ""
             }
            },
            "type": "scattergeo"
           }
          ],
          "scattergl": [
           {
            "marker": {
             "colorbar": {
              "outlinewidth": 0,
              "ticks": ""
             }
            },
            "type": "scattergl"
           }
          ],
          "scattermapbox": [
           {
            "marker": {
             "colorbar": {
              "outlinewidth": 0,
              "ticks": ""
             }
            },
            "type": "scattermapbox"
           }
          ],
          "scatterpolar": [
           {
            "marker": {
             "colorbar": {
              "outlinewidth": 0,
              "ticks": ""
             }
            },
            "type": "scatterpolar"
           }
          ],
          "scatterpolargl": [
           {
            "marker": {
             "colorbar": {
              "outlinewidth": 0,
              "ticks": ""
             }
            },
            "type": "scatterpolargl"
           }
          ],
          "scatterternary": [
           {
            "marker": {
             "colorbar": {
              "outlinewidth": 0,
              "ticks": ""
             }
            },
            "type": "scatterternary"
           }
          ],
          "surface": [
           {
            "colorbar": {
             "outlinewidth": 0,
             "ticks": ""
            },
            "colorscale": [
             [
              0,
              "#0d0887"
             ],
             [
              0.1111111111111111,
              "#46039f"
             ],
             [
              0.2222222222222222,
              "#7201a8"
             ],
             [
              0.3333333333333333,
              "#9c179e"
             ],
             [
              0.4444444444444444,
              "#bd3786"
             ],
             [
              0.5555555555555556,
              "#d8576b"
             ],
             [
              0.6666666666666666,
              "#ed7953"
             ],
             [
              0.7777777777777778,
              "#fb9f3a"
             ],
             [
              0.8888888888888888,
              "#fdca26"
             ],
             [
              1,
              "#f0f921"
             ]
            ],
            "type": "surface"
           }
          ],
          "table": [
           {
            "cells": {
             "fill": {
              "color": "#EBF0F8"
             },
             "line": {
              "color": "white"
             }
            },
            "header": {
             "fill": {
              "color": "#C8D4E3"
             },
             "line": {
              "color": "white"
             }
            },
            "type": "table"
           }
          ]
         },
         "layout": {
          "annotationdefaults": {
           "arrowcolor": "#2a3f5f",
           "arrowhead": 0,
           "arrowwidth": 1
          },
          "autotypenumbers": "strict",
          "coloraxis": {
           "colorbar": {
            "outlinewidth": 0,
            "ticks": ""
           }
          },
          "colorscale": {
           "diverging": [
            [
             0,
             "#8e0152"
            ],
            [
             0.1,
             "#c51b7d"
            ],
            [
             0.2,
             "#de77ae"
            ],
            [
             0.3,
             "#f1b6da"
            ],
            [
             0.4,
             "#fde0ef"
            ],
            [
             0.5,
             "#f7f7f7"
            ],
            [
             0.6,
             "#e6f5d0"
            ],
            [
             0.7,
             "#b8e186"
            ],
            [
             0.8,
             "#7fbc41"
            ],
            [
             0.9,
             "#4d9221"
            ],
            [
             1,
             "#276419"
            ]
           ],
           "sequential": [
            [
             0,
             "#0d0887"
            ],
            [
             0.1111111111111111,
             "#46039f"
            ],
            [
             0.2222222222222222,
             "#7201a8"
            ],
            [
             0.3333333333333333,
             "#9c179e"
            ],
            [
             0.4444444444444444,
             "#bd3786"
            ],
            [
             0.5555555555555556,
             "#d8576b"
            ],
            [
             0.6666666666666666,
             "#ed7953"
            ],
            [
             0.7777777777777778,
             "#fb9f3a"
            ],
            [
             0.8888888888888888,
             "#fdca26"
            ],
            [
             1,
             "#f0f921"
            ]
           ],
           "sequentialminus": [
            [
             0,
             "#0d0887"
            ],
            [
             0.1111111111111111,
             "#46039f"
            ],
            [
             0.2222222222222222,
             "#7201a8"
            ],
            [
             0.3333333333333333,
             "#9c179e"
            ],
            [
             0.4444444444444444,
             "#bd3786"
            ],
            [
             0.5555555555555556,
             "#d8576b"
            ],
            [
             0.6666666666666666,
             "#ed7953"
            ],
            [
             0.7777777777777778,
             "#fb9f3a"
            ],
            [
             0.8888888888888888,
             "#fdca26"
            ],
            [
             1,
             "#f0f921"
            ]
           ]
          },
          "colorway": [
           "#636efa",
           "#EF553B",
           "#00cc96",
           "#ab63fa",
           "#FFA15A",
           "#19d3f3",
           "#FF6692",
           "#B6E880",
           "#FF97FF",
           "#FECB52"
          ],
          "font": {
           "color": "#2a3f5f"
          },
          "geo": {
           "bgcolor": "white",
           "lakecolor": "white",
           "landcolor": "#E5ECF6",
           "showlakes": true,
           "showland": true,
           "subunitcolor": "white"
          },
          "hoverlabel": {
           "align": "left"
          },
          "hovermode": "closest",
          "mapbox": {
           "style": "light"
          },
          "paper_bgcolor": "white",
          "plot_bgcolor": "#E5ECF6",
          "polar": {
           "angularaxis": {
            "gridcolor": "white",
            "linecolor": "white",
            "ticks": ""
           },
           "bgcolor": "#E5ECF6",
           "radialaxis": {
            "gridcolor": "white",
            "linecolor": "white",
            "ticks": ""
           }
          },
          "scene": {
           "xaxis": {
            "backgroundcolor": "#E5ECF6",
            "gridcolor": "white",
            "gridwidth": 2,
            "linecolor": "white",
            "showbackground": true,
            "ticks": "",
            "zerolinecolor": "white"
           },
           "yaxis": {
            "backgroundcolor": "#E5ECF6",
            "gridcolor": "white",
            "gridwidth": 2,
            "linecolor": "white",
            "showbackground": true,
            "ticks": "",
            "zerolinecolor": "white"
           },
           "zaxis": {
            "backgroundcolor": "#E5ECF6",
            "gridcolor": "white",
            "gridwidth": 2,
            "linecolor": "white",
            "showbackground": true,
            "ticks": "",
            "zerolinecolor": "white"
           }
          },
          "shapedefaults": {
           "line": {
            "color": "#2a3f5f"
           }
          },
          "ternary": {
           "aaxis": {
            "gridcolor": "white",
            "linecolor": "white",
            "ticks": ""
           },
           "baxis": {
            "gridcolor": "white",
            "linecolor": "white",
            "ticks": ""
           },
           "bgcolor": "#E5ECF6",
           "caxis": {
            "gridcolor": "white",
            "linecolor": "white",
            "ticks": ""
           }
          },
          "title": {
           "x": 0.05
          },
          "xaxis": {
           "automargin": true,
           "gridcolor": "white",
           "linecolor": "white",
           "ticks": "",
           "title": {
            "standoff": 15
           },
           "zerolinecolor": "white",
           "zerolinewidth": 2
          },
          "yaxis": {
           "automargin": true,
           "gridcolor": "white",
           "linecolor": "white",
           "ticks": "",
           "title": {
            "standoff": 15
           },
           "zerolinecolor": "white",
           "zerolinewidth": 2
          }
         }
        },
        "title": {
         "text": "Relationship between Duration of Symptoms and OCD Severity"
        },
        "xaxis": {
         "anchor": "y",
         "domain": [
          0,
          1
         ],
         "title": {
          "text": "Duration of Symptoms (months)"
         }
        },
        "yaxis": {
         "anchor": "x",
         "domain": [
          0,
          1
         ],
         "title": {
          "text": "OCD Severity (Y-BOCS Total Score)"
         }
        }
       }
      }
     },
     "metadata": {},
     "output_type": "display_data"
    }
   ],
   "source": [
    "# Calculate the Pearson correlation coefficient\n",
    "correlation_coefficient = filtered_df['Duration of Symptoms (months)'].corr(filtered_df['Total_Score'])\n",
    "print(f'Pearson correlation coefficient between Duration of symptoms and Total_Score: {correlation_coefficient:.2f}')\n",
    "\n",
    "# Create a scatterplot\n",
    "fig5 = px.scatter(df, x='Duration of Symptoms (months)', y='Total_Score', \n",
    "                  title='Relationship between Duration of Symptoms and OCD Severity',\n",
    "                  labels={'Duration of Symptoms (months)': 'Duration of Symptoms (months)', 'Total_Score': 'OCD Severity (Y-BOCS Total Score)'}, \n",
    "                  trendline='ols')\n",
    "fig5.show()"
   ]
  },
  {
   "cell_type": "markdown",
   "metadata": {},
   "source": [
    "5. How are Age and Duration of Symptoms related?"
   ]
  },
  {
   "cell_type": "code",
   "execution_count": 32,
   "metadata": {},
   "outputs": [
    {
     "data": {
      "application/vnd.plotly.v1+json": {
       "config": {
        "plotlyServerURL": "https://plot.ly"
       },
       "data": [
        {
         "hovertemplate": "Age (Years)=%{x}<br>Duration (Months)=%{y}<extra></extra>",
         "legendgroup": "",
         "marker": {
          "color": "#636efa",
          "symbol": "circle"
         },
         "mode": "markers",
         "name": "",
         "orientation": "v",
         "showlegend": false,
         "type": "scatter",
         "x": [
          0.24561403508771928,
          0.6842105263157895,
          0.3508771929824561,
          0.9649122807017544,
          0.8421052631578948,
          0.4385964912280701,
          0.9824561403508772,
          0.7368421052631579,
          0.07017543859649122,
          0.8245614035087719,
          0.07017543859649122,
          0.7894736842105262,
          0.543859649122807,
          0.017543859649122806,
          0.08771929824561403,
          0.6491228070175438,
          0.22807017543859642,
          0.08771929824561403,
          0.6666666666666666,
          0.6666666666666666,
          0.38596491228070173,
          0.5087719298245613,
          0.9649122807017544,
          0.07017543859649122,
          0.08771929824561403,
          0.9122807017543858,
          0.19298245614035092,
          0.8947368421052632,
          0.07017543859649122,
          0.9473684210526315,
          0.19298245614035092,
          0.3508771929824561,
          0.24561403508771928,
          0.6842105263157895,
          0.4385964912280701,
          0,
          0.05263157894736842,
          0.719298245614035,
          0.5087719298245613,
          0.9122807017543858,
          0.9999999999999999,
          0.08771929824561403,
          0.7543859649122807,
          0.6842105263157895,
          0.4385964912280701,
          0.543859649122807,
          0.6140350877192983,
          0.33333333333333337,
          0.26315789473684215,
          0.29824561403508765,
          0.3157894736842105,
          0.9122807017543858,
          0.07017543859649122,
          0.8421052631578948,
          0.9649122807017544,
          0.9649122807017544,
          0.719298245614035,
          0.7543859649122807,
          0.8596491228070174,
          0.36842105263157887,
          0.8421052631578948,
          0.3157894736842105,
          0.4385964912280701,
          0.15789473684210525,
          0.38596491228070173,
          0.7543859649122807,
          0.3508771929824561,
          0.9298245614035087,
          0.7368421052631579,
          0.21052631578947367,
          0.5614035087719298,
          0.33333333333333337,
          0.543859649122807,
          0.6491228070175438,
          0.49122807017543857,
          0.24561403508771928,
          0.15789473684210525,
          0.9649122807017544,
          0.7894736842105262,
          0.5614035087719298,
          0.10526315789473684,
          0.17543859649122806,
          0.49122807017543857,
          0.4385964912280701,
          0.7719298245614034,
          0.8947368421052632,
          0.4385964912280701,
          0.9999999999999999,
          0.4385964912280701,
          0.22807017543859642,
          0.631578947368421,
          0.9473684210526315,
          0.8771929824561403,
          0.9473684210526315,
          0.6140350877192983,
          0.8947368421052632,
          0.29824561403508765,
          0.29824561403508765,
          0.8596491228070174,
          0.5614035087719298,
          0.4385964912280701,
          0.543859649122807,
          0.6140350877192983,
          0.15789473684210525,
          0.8947368421052632,
          0.4385964912280701,
          0.719298245614035,
          0.6842105263157895,
          0.17543859649122806,
          0.3157894736842105,
          0.26315789473684215,
          0.6140350877192983,
          0.9473684210526315,
          0.6491228070175438,
          0.719298245614035,
          0.08771929824561403,
          0.3508771929824561,
          0.7543859649122807,
          0.9122807017543858,
          0.12280701754385964,
          0.49122807017543857,
          0.07017543859649122,
          0.8421052631578948,
          0.22807017543859642,
          0.5087719298245613,
          0.017543859649122806,
          0.5964912280701754,
          0.9298245614035087,
          0.5263157894736842,
          0.6842105263157895,
          0.8070175438596491,
          0.9473684210526315,
          0.21052631578947367,
          0.42105263157894735,
          0.6842105263157895,
          0.24561403508771928,
          0.9999999999999999,
          0.22807017543859642,
          0.8596491228070174,
          0.05263157894736842,
          0.9824561403508772,
          0.9122807017543858,
          0.5614035087719298,
          0.14035087719298245,
          0.33333333333333337,
          0.8070175438596491,
          0.33333333333333337,
          0.4736842105263158,
          0.45614035087719296,
          0.14035087719298245,
          0.7543859649122807,
          0.9473684210526315,
          0.10526315789473684,
          0.9824561403508772,
          0.5614035087719298,
          0.7017543859649124,
          0.719298245614035,
          0.6140350877192983,
          0.5789473684210525,
          0.4035087719298246,
          0.29824561403508765,
          0.7719298245614034,
          0.19298245614035092,
          0.12280701754385964,
          0.5087719298245613,
          0.6491228070175438,
          0.12280701754385964,
          0.8947368421052632,
          0.15789473684210525,
          0.4385964912280701,
          0.3157894736842105,
          0,
          0.15789473684210525,
          0.8070175438596491,
          0.14035087719298245,
          0.26315789473684215,
          0.3157894736842105,
          0.24561403508771928,
          0.5614035087719298,
          0.12280701754385964,
          0.9649122807017544,
          0,
          0.21052631578947367,
          0.21052631578947367,
          0.719298245614035,
          0.4385964912280701,
          0.017543859649122806,
          0.719298245614035,
          0.9298245614035087,
          0.9999999999999999,
          0.3157894736842105,
          0.6666666666666666,
          0.5614035087719298,
          0.38596491228070173,
          0.29824561403508765,
          0.36842105263157887,
          0.4385964912280701,
          0.5789473684210525,
          0.33333333333333337,
          0.8596491228070174,
          0.4385964912280701,
          0.9649122807017544,
          0.24561403508771928,
          0.15789473684210525,
          0.45614035087719296,
          0.03508771929824561,
          0.10526315789473684,
          0.08771929824561403,
          0.17543859649122806,
          0.26315789473684215,
          0.5964912280701754,
          0.9298245614035087,
          0.9999999999999999,
          0.2807017543859649,
          0.4035087719298246,
          0.6666666666666666,
          0.7543859649122807,
          0.9122807017543858,
          0.8421052631578948,
          0.21052631578947367,
          0.45614035087719296,
          0.4736842105263158,
          0.8070175438596491,
          0.9649122807017544,
          0.8245614035087719,
          0.4035087719298246,
          0.05263157894736842,
          0.8421052631578948,
          0.9824561403508772,
          0.45614035087719296,
          0.7894736842105262,
          0.8947368421052632,
          0.6842105263157895,
          0.9649122807017544,
          0.08771929824561403,
          0.5087719298245613,
          0.5789473684210525,
          0.719298245614035,
          0.8421052631578948,
          0.6140350877192983,
          0.26315789473684215,
          0.14035087719298245,
          0.45614035087719296,
          0.9473684210526315,
          0.6842105263157895,
          0.9298245614035087,
          0.8771929824561403,
          0.07017543859649122,
          0.017543859649122806,
          0.08771929824561403,
          0.7017543859649124,
          0.7719298245614034,
          0.3508771929824561,
          0.22807017543859642,
          0.22807017543859642,
          0.9999999999999999,
          0.17543859649122806,
          0.5087719298245613,
          0.9122807017543858,
          0.9298245614035087,
          0.26315789473684215,
          0.9999999999999999,
          0.9298245614035087,
          0.21052631578947367,
          0.42105263157894735,
          0.05263157894736842,
          0.017543859649122806,
          0.33333333333333337,
          0.4736842105263158,
          0.8421052631578948,
          0.03508771929824561,
          0.6491228070175438,
          0.8947368421052632,
          0.8245614035087719,
          0.38596491228070173,
          0.5789473684210525,
          0.7719298245614034,
          0.7368421052631579,
          0.2807017543859649,
          0.03508771929824561,
          0.719298245614035,
          0.21052631578947367,
          0.3508771929824561,
          0.5614035087719298,
          0.8070175438596491,
          0.9649122807017544,
          0.9298245614035087,
          0.05263157894736842,
          0.29824561403508765,
          0.5964912280701754,
          0.05263157894736842,
          0.543859649122807,
          0.7017543859649124,
          0.45614035087719296,
          0.38596491228070173,
          0.5964912280701754,
          0.29824561403508765,
          0.24561403508771928,
          0.21052631578947367,
          0.631578947368421,
          0.3508771929824561,
          0.15789473684210525,
          0.5263157894736842,
          0.10526315789473684,
          0.7894736842105262,
          0.17543859649122806,
          0.42105263157894735,
          0.5263157894736842,
          0.6666666666666666,
          0.5789473684210525,
          0.7368421052631579,
          0.22807017543859642,
          0.5087719298245613,
          0.03508771929824561,
          0.5789473684210525,
          0.9473684210526315,
          0.5614035087719298,
          0.9473684210526315,
          0.26315789473684215,
          0.29824561403508765,
          0.5087719298245613,
          0.49122807017543857,
          0.29824561403508765,
          0.17543859649122806,
          0.5614035087719298,
          0,
          0.6491228070175438,
          0.631578947368421,
          0.6842105263157895,
          0.4736842105263158,
          0.36842105263157887,
          0.49122807017543857,
          0.3157894736842105,
          0.38596491228070173,
          0.719298245614035,
          0.19298245614035092,
          0.03508771929824561,
          0.7543859649122807,
          0.9298245614035087,
          0.03508771929824561,
          0.8596491228070174,
          0.543859649122807,
          0.9122807017543858,
          0.14035087719298245,
          0.6140350877192983,
          0.29824561403508765,
          0.45614035087719296,
          0.7368421052631579,
          0.05263157894736842,
          0.9824561403508772,
          0.5263157894736842,
          0.9999999999999999,
          0.22807017543859642,
          0.5964912280701754,
          0.8070175438596491,
          0.2807017543859649,
          0.3508771929824561,
          0.10526315789473684,
          0.5263157894736842,
          0.631578947368421,
          0.4035087719298246,
          0.6666666666666666,
          0.8596491228070174,
          0.5614035087719298,
          0.5087719298245613,
          0.9824561403508772,
          0.42105263157894735,
          0.7368421052631579,
          0.631578947368421,
          0.543859649122807,
          0.4035087719298246,
          0.49122807017543857,
          0.5964912280701754,
          0.24561403508771928,
          0.8070175438596491,
          0.5263157894736842,
          0.9122807017543858,
          0,
          0.36842105263157887,
          0.9122807017543858,
          0.49122807017543857,
          0.8070175438596491,
          0.14035087719298245,
          0.9824561403508772,
          0.7017543859649124,
          0.9649122807017544,
          0.17543859649122806,
          0.19298245614035092,
          0.15789473684210525,
          0.29824561403508765,
          0.3508771929824561,
          0.7543859649122807,
          0.8596491228070174,
          0.9473684210526315,
          0.5789473684210525,
          0.15789473684210525,
          0.8070175438596491,
          0.6842105263157895,
          0,
          0.9122807017543858,
          0.4035087719298246,
          0.07017543859649122,
          0.7017543859649124,
          0.3157894736842105,
          0.8070175438596491,
          0.24561403508771928,
          0.7719298245614034,
          0.24561403508771928,
          0.8245614035087719,
          0.6491228070175438,
          0.9824561403508772,
          0.03508771929824561,
          0.017543859649122806,
          0.08771929824561403,
          0.10526315789473684,
          0.7719298245614034,
          0.7017543859649124,
          0.38596491228070173,
          0.33333333333333337
         ],
         "xaxis": "x",
         "y": [
          0.841880341880342,
          0.7136752136752137,
          0.4444444444444445,
          0.9700854700854702,
          0.28632478632478636,
          0.14102564102564105,
          0.15384615384615388,
          0.9401709401709403,
          0.358974358974359,
          0.5470085470085471,
          0.858974358974359,
          0.6324786324786326,
          0.17521367521367523,
          0.358974358974359,
          0.32905982905982906,
          0.1153846153846154,
          0.23504273504273507,
          0.2606837606837607,
          0.5085470085470086,
          0.717948717948718,
          0.6495726495726496,
          0.688034188034188,
          0.5085470085470086,
          0.6495726495726496,
          0.06410256410256411,
          0.16239316239316243,
          0.5982905982905984,
          0.35042735042735046,
          0.3547008547008547,
          0.47435897435897434,
          0.7905982905982907,
          0.34615384615384615,
          0.8717948717948719,
          0.5555555555555556,
          0.8675213675213675,
          0.6025641025641026,
          0.5512820512820513,
          0.42307692307692313,
          0.8632478632478633,
          0.038461538461538464,
          0.858974358974359,
          0.8205128205128206,
          0.7350427350427351,
          0,
          0.18803418803418806,
          0.07264957264957266,
          0.8547008547008548,
          0.08974358974358974,
          0.5128205128205129,
          0.43162393162393164,
          0.14102564102564105,
          0.39743589743589747,
          0.49572649572649574,
          0.5683760683760685,
          0.25213675213675213,
          0.6153846153846154,
          0.576923076923077,
          0.5384615384615385,
          0.3547008547008547,
          0.6239316239316239,
          0.37606837606837606,
          0.28205128205128205,
          0.16666666666666669,
          0.48290598290598297,
          0.9743589743589743,
          0.06410256410256411,
          0.06410256410256411,
          0.7435897435897436,
          0.07692307692307693,
          0.27350427350427353,
          0.8675213675213675,
          0.4658119658119658,
          0.7777777777777778,
          0.405982905982906,
          0.36752136752136755,
          0.5,
          0.1153846153846154,
          0.5854700854700855,
          0.08974358974358974,
          0.17521367521367523,
          0.5128205128205129,
          0.4572649572649573,
          0.06837606837606838,
          0.042735042735042736,
          0.25641025641025644,
          0.4102564102564103,
          0.6324786324786326,
          0.4786324786324787,
          0.9615384615384616,
          0.3632478632478633,
          0.10256410256410257,
          0.7350427350427351,
          0,
          0.1153846153846154,
          0.17948717948717952,
          0.01282051282051282,
          0.32905982905982906,
          0.24358974358974364,
          0.717948717948718,
          0.5897435897435898,
          0.47435897435897434,
          0.7948717948717949,
          0.33760683760683763,
          0.2478632478632479,
          0.008547008547008548,
          0.9700854700854702,
          0.1153846153846154,
          0.4914529914529915,
          0.25213675213675213,
          0.10256410256410257,
          0.9871794871794873,
          0.6666666666666667,
          0.6495726495726496,
          0.888888888888889,
          0.04700854700854701,
          0.3632478632478633,
          1.0000000000000002,
          0.2307692307692308,
          0.7735042735042735,
          0.9444444444444445,
          0.7564102564102565,
          0.5726495726495727,
          0.6068376068376069,
          0.5470085470085471,
          0.1837606837606838,
          0.5427350427350428,
          0.1452991452991453,
          0.888888888888889,
          0.8376068376068376,
          0.8376068376068376,
          0.5811965811965812,
          0.7991452991452992,
          0.2692307692307692,
          0.42307692307692313,
          0.008547008547008548,
          0.4572649572649573,
          0.21367521367521372,
          0.7735042735042735,
          0.6367521367521368,
          0.7008547008547009,
          0.8290598290598291,
          0.7222222222222223,
          0.7564102564102565,
          0.9572649572649573,
          0.49572649572649574,
          0.1495726495726496,
          0.9145299145299146,
          0.7136752136752137,
          0.2606837606837607,
          0.5085470085470086,
          0.6752136752136753,
          0.6752136752136753,
          0.4786324786324787,
          0.35042735042735046,
          0.3547008547008547,
          0.8461538461538463,
          0.5641025641025641,
          0.04700854700854701,
          0.7136752136752137,
          0.9658119658119659,
          0.49572649572649574,
          0.2948717948717949,
          0.22649572649572655,
          0.29914529914529914,
          0.38461538461538464,
          0.16239316239316243,
          0.9700854700854702,
          0.576923076923077,
          0.5811965811965812,
          0.4871794871794872,
          0.29914529914529914,
          0.42307692307692313,
          0.17948717948717952,
          0.935897435897436,
          0.764957264957265,
          0.01282051282051282,
          0.27350427350427353,
          0.5213675213675214,
          0.4444444444444445,
          0.12393162393162395,
          0.7094017094017094,
          0.32051282051282054,
          0.952991452991453,
          0.3803418803418804,
          0.25213675213675213,
          0.6538461538461539,
          0.004273504273504276,
          0.9871794871794873,
          0.22222222222222227,
          0.8162393162393163,
          0.1153846153846154,
          0.9871794871794873,
          0.25213675213675213,
          0.5470085470085471,
          0.05555555555555555,
          0.7948717948717949,
          0.6410256410256411,
          0.6452991452991453,
          0.1837606837606838,
          0.9059829059829061,
          0.358974358974359,
          0.9102564102564104,
          0.5641025641025641,
          0.39743589743589747,
          0.17094017094017097,
          0.017094017094017092,
          0.7393162393162394,
          0.0811965811965812,
          0.7051282051282052,
          0.9572649572649573,
          0.09401709401709403,
          0.858974358974359,
          0.11965811965811966,
          0.017094017094017092,
          0.24358974358974364,
          0.6837606837606838,
          0.12820512820512822,
          0.2606837606837607,
          0.8760683760683762,
          0.5470085470085471,
          0.8034188034188035,
          0.688034188034188,
          0.39743589743589747,
          0.7264957264957266,
          0.04700854700854701,
          0.1324786324786325,
          0.7991452991452992,
          0.29914529914529914,
          0.10683760683760683,
          0.3547008547008547,
          0.025641025641025644,
          0.6324786324786326,
          0.6794871794871795,
          0.8162393162393163,
          0.10683760683760683,
          0.8461538461538463,
          0.9444444444444445,
          0.8632478632478633,
          0.9273504273504274,
          0.17094017094017097,
          0.8162393162393163,
          0.07692307692307693,
          0.08547008547008547,
          0.17521367521367523,
          0.1965811965811966,
          0.1965811965811966,
          0.6068376068376069,
          0.8632478632478633,
          0.7735042735042735,
          0.19230769230769235,
          0.4273504273504274,
          0.8504273504273505,
          0.5341880341880342,
          0.3888888888888889,
          0.7863247863247864,
          0.22649572649572655,
          0.27350427350427353,
          0.07692307692307693,
          0.4017094017094017,
          0.405982905982906,
          0.8162393162393163,
          0.47008547008547014,
          0.20940170940170943,
          0.22222222222222227,
          0.5085470085470086,
          0.28632478632478636,
          0.24358974358974364,
          0.9102564102564104,
          0.38461538461538464,
          0.4358974358974359,
          0.5341880341880342,
          0.9401709401709403,
          0.17948717948717952,
          0.6495726495726496,
          0,
          0.09401709401709403,
          0.9615384615384616,
          0.4786324786324787,
          0.7264957264957266,
          0.2008547008547009,
          0.17521367521367523,
          0.16239316239316243,
          0.07692307692307693,
          0.7606837606837608,
          0.688034188034188,
          0.6239316239316239,
          0.16239316239316243,
          0.11111111111111112,
          0.17948717948717952,
          0.17948717948717952,
          0.07692307692307693,
          0.11111111111111112,
          0.5341880341880342,
          0.6025641025641026,
          0.03418803418803419,
          0.7820512820512822,
          0.4188034188034188,
          0.38461538461538464,
          0.7478632478632479,
          0.841880341880342,
          0.02136752136752137,
          0.5897435897435898,
          0.6623931623931625,
          0.31196581196581197,
          0.042735042735042736,
          0.15811965811965814,
          0.08547008547008547,
          0.41452991452991456,
          0.6153846153846154,
          0.26495726495726496,
          0.1837606837606838,
          0.004273504273504276,
          0.46153846153846156,
          0.5598290598290598,
          0.6068376068376069,
          0.042735042735042736,
          0.8717948717948719,
          0.9017094017094018,
          0.4188034188034188,
          0.5641025641025641,
          0.2692307692307692,
          0.5085470085470086,
          0.9700854700854702,
          0.9145299145299146,
          0.26495726495726496,
          0.594017094017094,
          0.9059829059829061,
          0.7948717948717949,
          0.47008547008547014,
          0.9957264957264959,
          0.0982905982905983,
          0.2692307692307692,
          0.5470085470085471,
          0,
          0.9401709401709403,
          0.4658119658119658,
          0.9957264957264959,
          0.405982905982906,
          0.7222222222222223,
          0.3888888888888889,
          0.42307692307692313,
          0.34615384615384615,
          0.6239316239316239,
          0.3418803418803419,
          0.7905982905982907,
          0.3076923076923077,
          0.5598290598290598,
          0.3247863247863248,
          0.5854700854700855,
          0.0982905982905983,
          0.5854700854700855,
          0.4444444444444445,
          0.2905982905982906,
          0.9658119658119659,
          0.9401709401709403,
          0.35042735042735046,
          0.4786324786324787,
          0.05128205128205128,
          0.47435897435897434,
          0.1965811965811966,
          0.8760683760683762,
          0.717948717948718,
          0.47435897435897434,
          0.01282051282051282,
          0.41452991452991456,
          0.9188034188034189,
          0.5085470085470086,
          0.6837606837606838,
          0.08974358974358974,
          0.05555555555555555,
          0.15811965811965814,
          0.21794871794871798,
          0.5726495726495727,
          0.888888888888889,
          0.29914529914529914,
          0.6239316239316239,
          0.594017094017094,
          0.44871794871794873,
          0.06410256410256411,
          0.7222222222222223,
          0.19230769230769235,
          0.025641025641025644,
          0.03418803418803419,
          0.8504273504273505,
          0.28632478632478636,
          0.008547008547008548,
          0.19230769230769235,
          0.6153846153846154,
          0.8846153846153847,
          0.10683760683760683,
          0.7350427350427351,
          0.6965811965811967,
          0.8376068376068376,
          0.6239316239316239,
          0.5512820512820513,
          0.004273504273504276,
          0.26495726495726496,
          0.4658119658119658,
          0.038461538461538464,
          0.6794871794871795,
          0.01282051282051282,
          0.1153846153846154,
          0.9572649572649573,
          0.858974358974359,
          0.10256410256410257,
          0.4786324786324787,
          0.4358974358974359,
          0.5512820512820513,
          0.28632478632478636,
          0.6367521367521368,
          0.9572649572649573,
          0.5256410256410257,
          0.7051282051282052,
          0.3076923076923077,
          0.3803418803418804,
          0.6666666666666667,
          0.06837606837606838,
          0.4017094017094017,
          0.8717948717948719
         ],
         "yaxis": "y"
        },
        {
         "hovertemplate": "<b>OLS trendline</b><br>Duration of Symptoms (months) = 0.0688495 * Age + 0.432024<br>R<sup>2</sup>=0.004941<br><br>Age (Years)=%{x}<br>Duration (Months)=%{y} <b>(trend)</b><extra></extra>",
         "legendgroup": "",
         "marker": {
          "color": "#636efa",
          "symbol": "circle"
         },
         "mode": "lines",
         "name": "",
         "showlegend": false,
         "type": "scatter",
         "x": [
          0,
          0,
          0,
          0,
          0,
          0,
          0.017543859649122806,
          0.017543859649122806,
          0.017543859649122806,
          0.017543859649122806,
          0.017543859649122806,
          0.017543859649122806,
          0.03508771929824561,
          0.03508771929824561,
          0.03508771929824561,
          0.03508771929824561,
          0.03508771929824561,
          0.03508771929824561,
          0.03508771929824561,
          0.05263157894736842,
          0.05263157894736842,
          0.05263157894736842,
          0.05263157894736842,
          0.05263157894736842,
          0.05263157894736842,
          0.05263157894736842,
          0.07017543859649122,
          0.07017543859649122,
          0.07017543859649122,
          0.07017543859649122,
          0.07017543859649122,
          0.07017543859649122,
          0.07017543859649122,
          0.07017543859649122,
          0.08771929824561403,
          0.08771929824561403,
          0.08771929824561403,
          0.08771929824561403,
          0.08771929824561403,
          0.08771929824561403,
          0.08771929824561403,
          0.08771929824561403,
          0.08771929824561403,
          0.10526315789473684,
          0.10526315789473684,
          0.10526315789473684,
          0.10526315789473684,
          0.10526315789473684,
          0.10526315789473684,
          0.12280701754385964,
          0.12280701754385964,
          0.12280701754385964,
          0.12280701754385964,
          0.14035087719298245,
          0.14035087719298245,
          0.14035087719298245,
          0.14035087719298245,
          0.14035087719298245,
          0.14035087719298245,
          0.15789473684210525,
          0.15789473684210525,
          0.15789473684210525,
          0.15789473684210525,
          0.15789473684210525,
          0.15789473684210525,
          0.15789473684210525,
          0.15789473684210525,
          0.15789473684210525,
          0.17543859649122806,
          0.17543859649122806,
          0.17543859649122806,
          0.17543859649122806,
          0.17543859649122806,
          0.17543859649122806,
          0.17543859649122806,
          0.19298245614035092,
          0.19298245614035092,
          0.19298245614035092,
          0.19298245614035092,
          0.19298245614035092,
          0.21052631578947367,
          0.21052631578947367,
          0.21052631578947367,
          0.21052631578947367,
          0.21052631578947367,
          0.21052631578947367,
          0.21052631578947367,
          0.21052631578947367,
          0.22807017543859642,
          0.22807017543859642,
          0.22807017543859642,
          0.22807017543859642,
          0.22807017543859642,
          0.22807017543859642,
          0.22807017543859642,
          0.22807017543859642,
          0.24561403508771928,
          0.24561403508771928,
          0.24561403508771928,
          0.24561403508771928,
          0.24561403508771928,
          0.24561403508771928,
          0.24561403508771928,
          0.24561403508771928,
          0.24561403508771928,
          0.24561403508771928,
          0.26315789473684215,
          0.26315789473684215,
          0.26315789473684215,
          0.26315789473684215,
          0.26315789473684215,
          0.26315789473684215,
          0.26315789473684215,
          0.2807017543859649,
          0.2807017543859649,
          0.2807017543859649,
          0.29824561403508765,
          0.29824561403508765,
          0.29824561403508765,
          0.29824561403508765,
          0.29824561403508765,
          0.29824561403508765,
          0.29824561403508765,
          0.29824561403508765,
          0.29824561403508765,
          0.29824561403508765,
          0.29824561403508765,
          0.3157894736842105,
          0.3157894736842105,
          0.3157894736842105,
          0.3157894736842105,
          0.3157894736842105,
          0.3157894736842105,
          0.3157894736842105,
          0.3157894736842105,
          0.33333333333333337,
          0.33333333333333337,
          0.33333333333333337,
          0.33333333333333337,
          0.33333333333333337,
          0.33333333333333337,
          0.33333333333333337,
          0.3508771929824561,
          0.3508771929824561,
          0.3508771929824561,
          0.3508771929824561,
          0.3508771929824561,
          0.3508771929824561,
          0.3508771929824561,
          0.3508771929824561,
          0.3508771929824561,
          0.36842105263157887,
          0.36842105263157887,
          0.36842105263157887,
          0.36842105263157887,
          0.38596491228070173,
          0.38596491228070173,
          0.38596491228070173,
          0.38596491228070173,
          0.38596491228070173,
          0.38596491228070173,
          0.38596491228070173,
          0.4035087719298246,
          0.4035087719298246,
          0.4035087719298246,
          0.4035087719298246,
          0.4035087719298246,
          0.4035087719298246,
          0.42105263157894735,
          0.42105263157894735,
          0.42105263157894735,
          0.42105263157894735,
          0.4385964912280701,
          0.4385964912280701,
          0.4385964912280701,
          0.4385964912280701,
          0.4385964912280701,
          0.4385964912280701,
          0.4385964912280701,
          0.4385964912280701,
          0.4385964912280701,
          0.4385964912280701,
          0.4385964912280701,
          0.4385964912280701,
          0.4385964912280701,
          0.45614035087719296,
          0.45614035087719296,
          0.45614035087719296,
          0.45614035087719296,
          0.45614035087719296,
          0.45614035087719296,
          0.45614035087719296,
          0.4736842105263158,
          0.4736842105263158,
          0.4736842105263158,
          0.4736842105263158,
          0.49122807017543857,
          0.49122807017543857,
          0.49122807017543857,
          0.49122807017543857,
          0.49122807017543857,
          0.49122807017543857,
          0.49122807017543857,
          0.5087719298245613,
          0.5087719298245613,
          0.5087719298245613,
          0.5087719298245613,
          0.5087719298245613,
          0.5087719298245613,
          0.5087719298245613,
          0.5087719298245613,
          0.5087719298245613,
          0.5263157894736842,
          0.5263157894736842,
          0.5263157894736842,
          0.5263157894736842,
          0.5263157894736842,
          0.5263157894736842,
          0.543859649122807,
          0.543859649122807,
          0.543859649122807,
          0.543859649122807,
          0.543859649122807,
          0.543859649122807,
          0.543859649122807,
          0.5614035087719298,
          0.5614035087719298,
          0.5614035087719298,
          0.5614035087719298,
          0.5614035087719298,
          0.5614035087719298,
          0.5614035087719298,
          0.5614035087719298,
          0.5614035087719298,
          0.5614035087719298,
          0.5614035087719298,
          0.5789473684210525,
          0.5789473684210525,
          0.5789473684210525,
          0.5789473684210525,
          0.5789473684210525,
          0.5789473684210525,
          0.5789473684210525,
          0.5964912280701754,
          0.5964912280701754,
          0.5964912280701754,
          0.5964912280701754,
          0.5964912280701754,
          0.5964912280701754,
          0.6140350877192983,
          0.6140350877192983,
          0.6140350877192983,
          0.6140350877192983,
          0.6140350877192983,
          0.6140350877192983,
          0.6140350877192983,
          0.631578947368421,
          0.631578947368421,
          0.631578947368421,
          0.631578947368421,
          0.631578947368421,
          0.6491228070175438,
          0.6491228070175438,
          0.6491228070175438,
          0.6491228070175438,
          0.6491228070175438,
          0.6491228070175438,
          0.6491228070175438,
          0.6666666666666666,
          0.6666666666666666,
          0.6666666666666666,
          0.6666666666666666,
          0.6666666666666666,
          0.6666666666666666,
          0.6842105263157895,
          0.6842105263157895,
          0.6842105263157895,
          0.6842105263157895,
          0.6842105263157895,
          0.6842105263157895,
          0.6842105263157895,
          0.6842105263157895,
          0.6842105263157895,
          0.6842105263157895,
          0.7017543859649124,
          0.7017543859649124,
          0.7017543859649124,
          0.7017543859649124,
          0.7017543859649124,
          0.7017543859649124,
          0.719298245614035,
          0.719298245614035,
          0.719298245614035,
          0.719298245614035,
          0.719298245614035,
          0.719298245614035,
          0.719298245614035,
          0.719298245614035,
          0.719298245614035,
          0.719298245614035,
          0.7368421052631579,
          0.7368421052631579,
          0.7368421052631579,
          0.7368421052631579,
          0.7368421052631579,
          0.7368421052631579,
          0.7543859649122807,
          0.7543859649122807,
          0.7543859649122807,
          0.7543859649122807,
          0.7543859649122807,
          0.7543859649122807,
          0.7543859649122807,
          0.7543859649122807,
          0.7719298245614034,
          0.7719298245614034,
          0.7719298245614034,
          0.7719298245614034,
          0.7719298245614034,
          0.7719298245614034,
          0.7894736842105262,
          0.7894736842105262,
          0.7894736842105262,
          0.7894736842105262,
          0.8070175438596491,
          0.8070175438596491,
          0.8070175438596491,
          0.8070175438596491,
          0.8070175438596491,
          0.8070175438596491,
          0.8070175438596491,
          0.8070175438596491,
          0.8070175438596491,
          0.8070175438596491,
          0.8245614035087719,
          0.8245614035087719,
          0.8245614035087719,
          0.8245614035087719,
          0.8421052631578948,
          0.8421052631578948,
          0.8421052631578948,
          0.8421052631578948,
          0.8421052631578948,
          0.8421052631578948,
          0.8421052631578948,
          0.8421052631578948,
          0.8596491228070174,
          0.8596491228070174,
          0.8596491228070174,
          0.8596491228070174,
          0.8596491228070174,
          0.8596491228070174,
          0.8596491228070174,
          0.8771929824561403,
          0.8771929824561403,
          0.8947368421052632,
          0.8947368421052632,
          0.8947368421052632,
          0.8947368421052632,
          0.8947368421052632,
          0.8947368421052632,
          0.8947368421052632,
          0.9122807017543858,
          0.9122807017543858,
          0.9122807017543858,
          0.9122807017543858,
          0.9122807017543858,
          0.9122807017543858,
          0.9122807017543858,
          0.9122807017543858,
          0.9122807017543858,
          0.9122807017543858,
          0.9122807017543858,
          0.9298245614035087,
          0.9298245614035087,
          0.9298245614035087,
          0.9298245614035087,
          0.9298245614035087,
          0.9298245614035087,
          0.9298245614035087,
          0.9298245614035087,
          0.9298245614035087,
          0.9473684210526315,
          0.9473684210526315,
          0.9473684210526315,
          0.9473684210526315,
          0.9473684210526315,
          0.9473684210526315,
          0.9473684210526315,
          0.9473684210526315,
          0.9473684210526315,
          0.9473684210526315,
          0.9649122807017544,
          0.9649122807017544,
          0.9649122807017544,
          0.9649122807017544,
          0.9649122807017544,
          0.9649122807017544,
          0.9649122807017544,
          0.9649122807017544,
          0.9649122807017544,
          0.9649122807017544,
          0.9649122807017544,
          0.9824561403508772,
          0.9824561403508772,
          0.9824561403508772,
          0.9824561403508772,
          0.9824561403508772,
          0.9824561403508772,
          0.9824561403508772,
          0.9824561403508772,
          0.9999999999999999,
          0.9999999999999999,
          0.9999999999999999,
          0.9999999999999999,
          0.9999999999999999,
          0.9999999999999999,
          0.9999999999999999,
          0.9999999999999999
         ],
         "xaxis": "x",
         "y": [
          0.43202399980783457,
          0.43202399980783457,
          0.43202399980783457,
          0.43202399980783457,
          0.43202399980783457,
          0.43202399980783457,
          0.4332318861992744,
          0.4332318861992744,
          0.4332318861992744,
          0.4332318861992744,
          0.4332318861992744,
          0.4332318861992744,
          0.43443977259071415,
          0.43443977259071415,
          0.43443977259071415,
          0.43443977259071415,
          0.43443977259071415,
          0.43443977259071415,
          0.43443977259071415,
          0.43564765898215396,
          0.43564765898215396,
          0.43564765898215396,
          0.43564765898215396,
          0.43564765898215396,
          0.43564765898215396,
          0.43564765898215396,
          0.4368555453735937,
          0.4368555453735937,
          0.4368555453735937,
          0.4368555453735937,
          0.4368555453735937,
          0.4368555453735937,
          0.4368555453735937,
          0.4368555453735937,
          0.43806343176503354,
          0.43806343176503354,
          0.43806343176503354,
          0.43806343176503354,
          0.43806343176503354,
          0.43806343176503354,
          0.43806343176503354,
          0.43806343176503354,
          0.43806343176503354,
          0.4392713181564733,
          0.4392713181564733,
          0.4392713181564733,
          0.4392713181564733,
          0.4392713181564733,
          0.4392713181564733,
          0.4404792045479131,
          0.4404792045479131,
          0.4404792045479131,
          0.4404792045479131,
          0.4416870909393529,
          0.4416870909393529,
          0.4416870909393529,
          0.4416870909393529,
          0.4416870909393529,
          0.4416870909393529,
          0.4428949773307927,
          0.4428949773307927,
          0.4428949773307927,
          0.4428949773307927,
          0.4428949773307927,
          0.4428949773307927,
          0.4428949773307927,
          0.4428949773307927,
          0.4428949773307927,
          0.44410286372223245,
          0.44410286372223245,
          0.44410286372223245,
          0.44410286372223245,
          0.44410286372223245,
          0.44410286372223245,
          0.44410286372223245,
          0.44531075011367227,
          0.44531075011367227,
          0.44531075011367227,
          0.44531075011367227,
          0.44531075011367227,
          0.44651863650511203,
          0.44651863650511203,
          0.44651863650511203,
          0.44651863650511203,
          0.44651863650511203,
          0.44651863650511203,
          0.44651863650511203,
          0.44651863650511203,
          0.44772652289655185,
          0.44772652289655185,
          0.44772652289655185,
          0.44772652289655185,
          0.44772652289655185,
          0.44772652289655185,
          0.44772652289655185,
          0.44772652289655185,
          0.44893440928799166,
          0.44893440928799166,
          0.44893440928799166,
          0.44893440928799166,
          0.44893440928799166,
          0.44893440928799166,
          0.44893440928799166,
          0.44893440928799166,
          0.44893440928799166,
          0.44893440928799166,
          0.4501422956794314,
          0.4501422956794314,
          0.4501422956794314,
          0.4501422956794314,
          0.4501422956794314,
          0.4501422956794314,
          0.4501422956794314,
          0.45135018207087124,
          0.45135018207087124,
          0.45135018207087124,
          0.452558068462311,
          0.452558068462311,
          0.452558068462311,
          0.452558068462311,
          0.452558068462311,
          0.452558068462311,
          0.452558068462311,
          0.452558068462311,
          0.452558068462311,
          0.452558068462311,
          0.452558068462311,
          0.4537659548537508,
          0.4537659548537508,
          0.4537659548537508,
          0.4537659548537508,
          0.4537659548537508,
          0.4537659548537508,
          0.4537659548537508,
          0.4537659548537508,
          0.4549738412451906,
          0.4549738412451906,
          0.4549738412451906,
          0.4549738412451906,
          0.4549738412451906,
          0.4549738412451906,
          0.4549738412451906,
          0.4561817276366304,
          0.4561817276366304,
          0.4561817276366304,
          0.4561817276366304,
          0.4561817276366304,
          0.4561817276366304,
          0.4561817276366304,
          0.4561817276366304,
          0.4561817276366304,
          0.45738961402807016,
          0.45738961402807016,
          0.45738961402807016,
          0.45738961402807016,
          0.45859750041951,
          0.45859750041951,
          0.45859750041951,
          0.45859750041951,
          0.45859750041951,
          0.45859750041951,
          0.45859750041951,
          0.45980538681094973,
          0.45980538681094973,
          0.45980538681094973,
          0.45980538681094973,
          0.45980538681094973,
          0.45980538681094973,
          0.46101327320238955,
          0.46101327320238955,
          0.46101327320238955,
          0.46101327320238955,
          0.4622211595938293,
          0.4622211595938293,
          0.4622211595938293,
          0.4622211595938293,
          0.4622211595938293,
          0.4622211595938293,
          0.4622211595938293,
          0.4622211595938293,
          0.4622211595938293,
          0.4622211595938293,
          0.4622211595938293,
          0.4622211595938293,
          0.4622211595938293,
          0.46342904598526913,
          0.46342904598526913,
          0.46342904598526913,
          0.46342904598526913,
          0.46342904598526913,
          0.46342904598526913,
          0.46342904598526913,
          0.46463693237670894,
          0.46463693237670894,
          0.46463693237670894,
          0.46463693237670894,
          0.4658448187681487,
          0.4658448187681487,
          0.4658448187681487,
          0.4658448187681487,
          0.4658448187681487,
          0.4658448187681487,
          0.4658448187681487,
          0.4670527051595885,
          0.4670527051595885,
          0.4670527051595885,
          0.4670527051595885,
          0.4670527051595885,
          0.4670527051595885,
          0.4670527051595885,
          0.4670527051595885,
          0.4670527051595885,
          0.4682605915510283,
          0.4682605915510283,
          0.4682605915510283,
          0.4682605915510283,
          0.4682605915510283,
          0.4682605915510283,
          0.4694684779424681,
          0.4694684779424681,
          0.4694684779424681,
          0.4694684779424681,
          0.4694684779424681,
          0.4694684779424681,
          0.4694684779424681,
          0.47067636433390786,
          0.47067636433390786,
          0.47067636433390786,
          0.47067636433390786,
          0.47067636433390786,
          0.47067636433390786,
          0.47067636433390786,
          0.47067636433390786,
          0.47067636433390786,
          0.47067636433390786,
          0.47067636433390786,
          0.4718842507253477,
          0.4718842507253477,
          0.4718842507253477,
          0.4718842507253477,
          0.4718842507253477,
          0.4718842507253477,
          0.4718842507253477,
          0.47309213711678744,
          0.47309213711678744,
          0.47309213711678744,
          0.47309213711678744,
          0.47309213711678744,
          0.47309213711678744,
          0.47430002350822725,
          0.47430002350822725,
          0.47430002350822725,
          0.47430002350822725,
          0.47430002350822725,
          0.47430002350822725,
          0.47430002350822725,
          0.475507909899667,
          0.475507909899667,
          0.475507909899667,
          0.475507909899667,
          0.475507909899667,
          0.47671579629110683,
          0.47671579629110683,
          0.47671579629110683,
          0.47671579629110683,
          0.47671579629110683,
          0.47671579629110683,
          0.47671579629110683,
          0.4779236826825466,
          0.4779236826825466,
          0.4779236826825466,
          0.4779236826825466,
          0.4779236826825466,
          0.4779236826825466,
          0.4791315690739864,
          0.4791315690739864,
          0.4791315690739864,
          0.4791315690739864,
          0.4791315690739864,
          0.4791315690739864,
          0.4791315690739864,
          0.4791315690739864,
          0.4791315690739864,
          0.4791315690739864,
          0.4803394554654262,
          0.4803394554654262,
          0.4803394554654262,
          0.4803394554654262,
          0.4803394554654262,
          0.4803394554654262,
          0.481547341856866,
          0.481547341856866,
          0.481547341856866,
          0.481547341856866,
          0.481547341856866,
          0.481547341856866,
          0.481547341856866,
          0.481547341856866,
          0.481547341856866,
          0.481547341856866,
          0.4827552282483058,
          0.4827552282483058,
          0.4827552282483058,
          0.4827552282483058,
          0.4827552282483058,
          0.4827552282483058,
          0.48396311463974556,
          0.48396311463974556,
          0.48396311463974556,
          0.48396311463974556,
          0.48396311463974556,
          0.48396311463974556,
          0.48396311463974556,
          0.48396311463974556,
          0.4851710010311854,
          0.4851710010311854,
          0.4851710010311854,
          0.4851710010311854,
          0.4851710010311854,
          0.4851710010311854,
          0.48637888742262514,
          0.48637888742262514,
          0.48637888742262514,
          0.48637888742262514,
          0.48758677381406496,
          0.48758677381406496,
          0.48758677381406496,
          0.48758677381406496,
          0.48758677381406496,
          0.48758677381406496,
          0.48758677381406496,
          0.48758677381406496,
          0.48758677381406496,
          0.48758677381406496,
          0.4887946602055047,
          0.4887946602055047,
          0.4887946602055047,
          0.4887946602055047,
          0.49000254659694453,
          0.49000254659694453,
          0.49000254659694453,
          0.49000254659694453,
          0.49000254659694453,
          0.49000254659694453,
          0.49000254659694453,
          0.49000254659694453,
          0.4912104329883843,
          0.4912104329883843,
          0.4912104329883843,
          0.4912104329883843,
          0.4912104329883843,
          0.4912104329883843,
          0.4912104329883843,
          0.4924183193798241,
          0.4924183193798241,
          0.4936262057712639,
          0.4936262057712639,
          0.4936262057712639,
          0.4936262057712639,
          0.4936262057712639,
          0.4936262057712639,
          0.4936262057712639,
          0.4948340921627037,
          0.4948340921627037,
          0.4948340921627037,
          0.4948340921627037,
          0.4948340921627037,
          0.4948340921627037,
          0.4948340921627037,
          0.4948340921627037,
          0.4948340921627037,
          0.4948340921627037,
          0.4948340921627037,
          0.49604197855414345,
          0.49604197855414345,
          0.49604197855414345,
          0.49604197855414345,
          0.49604197855414345,
          0.49604197855414345,
          0.49604197855414345,
          0.49604197855414345,
          0.49604197855414345,
          0.49724986494558326,
          0.49724986494558326,
          0.49724986494558326,
          0.49724986494558326,
          0.49724986494558326,
          0.49724986494558326,
          0.49724986494558326,
          0.49724986494558326,
          0.49724986494558326,
          0.49724986494558326,
          0.4984577513370231,
          0.4984577513370231,
          0.4984577513370231,
          0.4984577513370231,
          0.4984577513370231,
          0.4984577513370231,
          0.4984577513370231,
          0.4984577513370231,
          0.4984577513370231,
          0.4984577513370231,
          0.4984577513370231,
          0.49966563772846284,
          0.49966563772846284,
          0.49966563772846284,
          0.49966563772846284,
          0.49966563772846284,
          0.49966563772846284,
          0.49966563772846284,
          0.49966563772846284,
          0.5008735241199026,
          0.5008735241199026,
          0.5008735241199026,
          0.5008735241199026,
          0.5008735241199026,
          0.5008735241199026,
          0.5008735241199026,
          0.5008735241199026
         ],
         "yaxis": "y"
        },
        {
         "mode": "lines",
         "name": "Regression Line",
         "type": "scatter",
         "x": [
          0.24561403508771928,
          0.6842105263157895,
          0.3508771929824561,
          0.9649122807017544,
          0.8421052631578948,
          0.4385964912280701,
          0.9824561403508772,
          0.7368421052631579,
          0.07017543859649122,
          0.8245614035087719,
          0.07017543859649122,
          0.7894736842105262,
          0.543859649122807,
          0.017543859649122806,
          0.08771929824561403,
          0.6491228070175438,
          0.22807017543859642,
          0.08771929824561403,
          0.6666666666666666,
          0.6666666666666666,
          0.38596491228070173,
          0.5087719298245613,
          0.9649122807017544,
          0.07017543859649122,
          0.08771929824561403,
          0.9122807017543858,
          0.19298245614035092,
          0.8947368421052632,
          0.07017543859649122,
          0.9473684210526315,
          0.19298245614035092,
          0.3508771929824561,
          0.24561403508771928,
          0.6842105263157895,
          0.4385964912280701,
          0,
          0.05263157894736842,
          0.719298245614035,
          0.5087719298245613,
          0.9122807017543858,
          0.9999999999999999,
          0.08771929824561403,
          0.7543859649122807,
          0.6842105263157895,
          0.4385964912280701,
          0.543859649122807,
          0.6140350877192983,
          0.33333333333333337,
          0.26315789473684215,
          0.29824561403508765,
          0.3157894736842105,
          0.9122807017543858,
          0.07017543859649122,
          0.8421052631578948,
          0.9649122807017544,
          0.9649122807017544,
          0.719298245614035,
          0.7543859649122807,
          0.8596491228070174,
          0.36842105263157887,
          0.8421052631578948,
          0.3157894736842105,
          0.4385964912280701,
          0.15789473684210525,
          0.38596491228070173,
          0.7543859649122807,
          0.3508771929824561,
          0.9298245614035087,
          0.7368421052631579,
          0.21052631578947367,
          0.5614035087719298,
          0.33333333333333337,
          0.543859649122807,
          0.6491228070175438,
          0.49122807017543857,
          0.24561403508771928,
          0.15789473684210525,
          0.9649122807017544,
          0.7894736842105262,
          0.5614035087719298,
          0.10526315789473684,
          0.17543859649122806,
          0.49122807017543857,
          0.4385964912280701,
          0.7719298245614034,
          0.8947368421052632,
          0.4385964912280701,
          0.9999999999999999,
          0.4385964912280701,
          0.22807017543859642,
          0.631578947368421,
          0.9473684210526315,
          0.8771929824561403,
          0.9473684210526315,
          0.6140350877192983,
          0.8947368421052632,
          0.29824561403508765,
          0.29824561403508765,
          0.8596491228070174,
          0.5614035087719298,
          0.4385964912280701,
          0.543859649122807,
          0.6140350877192983,
          0.15789473684210525,
          0.8947368421052632,
          0.4385964912280701,
          0.719298245614035,
          0.6842105263157895,
          0.17543859649122806,
          0.3157894736842105,
          0.26315789473684215,
          0.6140350877192983,
          0.9473684210526315,
          0.6491228070175438,
          0.719298245614035,
          0.08771929824561403,
          0.3508771929824561,
          0.7543859649122807,
          0.9122807017543858,
          0.12280701754385964,
          0.49122807017543857,
          0.07017543859649122,
          0.8421052631578948,
          0.22807017543859642,
          0.5087719298245613,
          0.017543859649122806,
          0.5964912280701754,
          0.9298245614035087,
          0.5263157894736842,
          0.6842105263157895,
          0.8070175438596491,
          0.9473684210526315,
          0.21052631578947367,
          0.42105263157894735,
          0.6842105263157895,
          0.24561403508771928,
          0.9999999999999999,
          0.22807017543859642,
          0.8596491228070174,
          0.05263157894736842,
          0.9824561403508772,
          0.9122807017543858,
          0.5614035087719298,
          0.14035087719298245,
          0.33333333333333337,
          0.8070175438596491,
          0.33333333333333337,
          0.4736842105263158,
          0.45614035087719296,
          0.14035087719298245,
          0.7543859649122807,
          0.9473684210526315,
          0.10526315789473684,
          0.9824561403508772,
          0.5614035087719298,
          0.7017543859649124,
          0.719298245614035,
          0.6140350877192983,
          0.5789473684210525,
          0.4035087719298246,
          0.29824561403508765,
          0.7719298245614034,
          0.19298245614035092,
          0.12280701754385964,
          0.5087719298245613,
          0.6491228070175438,
          0.12280701754385964,
          0.8947368421052632,
          0.15789473684210525,
          0.4385964912280701,
          0.3157894736842105,
          0,
          0.15789473684210525,
          0.8070175438596491,
          0.14035087719298245,
          0.26315789473684215,
          0.3157894736842105,
          0.24561403508771928,
          0.5614035087719298,
          0.12280701754385964,
          0.9649122807017544,
          0,
          0.21052631578947367,
          0.21052631578947367,
          0.719298245614035,
          0.4385964912280701,
          0.017543859649122806,
          0.719298245614035,
          0.9298245614035087,
          0.9999999999999999,
          0.3157894736842105,
          0.6666666666666666,
          0.5614035087719298,
          0.38596491228070173,
          0.29824561403508765,
          0.36842105263157887,
          0.4385964912280701,
          0.5789473684210525,
          0.33333333333333337,
          0.8596491228070174,
          0.4385964912280701,
          0.9649122807017544,
          0.24561403508771928,
          0.15789473684210525,
          0.45614035087719296,
          0.03508771929824561,
          0.10526315789473684,
          0.08771929824561403,
          0.17543859649122806,
          0.26315789473684215,
          0.5964912280701754,
          0.9298245614035087,
          0.9999999999999999,
          0.2807017543859649,
          0.4035087719298246,
          0.6666666666666666,
          0.7543859649122807,
          0.9122807017543858,
          0.8421052631578948,
          0.21052631578947367,
          0.45614035087719296,
          0.4736842105263158,
          0.8070175438596491,
          0.9649122807017544,
          0.8245614035087719,
          0.4035087719298246,
          0.05263157894736842,
          0.8421052631578948,
          0.9824561403508772,
          0.45614035087719296,
          0.7894736842105262,
          0.8947368421052632,
          0.6842105263157895,
          0.9649122807017544,
          0.08771929824561403,
          0.5087719298245613,
          0.5789473684210525,
          0.719298245614035,
          0.8421052631578948,
          0.6140350877192983,
          0.26315789473684215,
          0.14035087719298245,
          0.45614035087719296,
          0.9473684210526315,
          0.6842105263157895,
          0.9298245614035087,
          0.8771929824561403,
          0.07017543859649122,
          0.017543859649122806,
          0.08771929824561403,
          0.7017543859649124,
          0.7719298245614034,
          0.3508771929824561,
          0.22807017543859642,
          0.22807017543859642,
          0.9999999999999999,
          0.17543859649122806,
          0.5087719298245613,
          0.9122807017543858,
          0.9298245614035087,
          0.26315789473684215,
          0.9999999999999999,
          0.9298245614035087,
          0.21052631578947367,
          0.42105263157894735,
          0.05263157894736842,
          0.017543859649122806,
          0.33333333333333337,
          0.4736842105263158,
          0.8421052631578948,
          0.03508771929824561,
          0.6491228070175438,
          0.8947368421052632,
          0.8245614035087719,
          0.38596491228070173,
          0.5789473684210525,
          0.7719298245614034,
          0.7368421052631579,
          0.2807017543859649,
          0.03508771929824561,
          0.719298245614035,
          0.21052631578947367,
          0.3508771929824561,
          0.5614035087719298,
          0.8070175438596491,
          0.9649122807017544,
          0.9298245614035087,
          0.05263157894736842,
          0.29824561403508765,
          0.5964912280701754,
          0.05263157894736842,
          0.543859649122807,
          0.7017543859649124,
          0.45614035087719296,
          0.38596491228070173,
          0.5964912280701754,
          0.29824561403508765,
          0.24561403508771928,
          0.21052631578947367,
          0.631578947368421,
          0.3508771929824561,
          0.15789473684210525,
          0.5263157894736842,
          0.10526315789473684,
          0.7894736842105262,
          0.17543859649122806,
          0.42105263157894735,
          0.5263157894736842,
          0.6666666666666666,
          0.5789473684210525,
          0.7368421052631579,
          0.22807017543859642,
          0.5087719298245613,
          0.03508771929824561,
          0.5789473684210525,
          0.9473684210526315,
          0.5614035087719298,
          0.9473684210526315,
          0.26315789473684215,
          0.29824561403508765,
          0.5087719298245613,
          0.49122807017543857,
          0.29824561403508765,
          0.17543859649122806,
          0.5614035087719298,
          0,
          0.6491228070175438,
          0.631578947368421,
          0.6842105263157895,
          0.4736842105263158,
          0.36842105263157887,
          0.49122807017543857,
          0.3157894736842105,
          0.38596491228070173,
          0.719298245614035,
          0.19298245614035092,
          0.03508771929824561,
          0.7543859649122807,
          0.9298245614035087,
          0.03508771929824561,
          0.8596491228070174,
          0.543859649122807,
          0.9122807017543858,
          0.14035087719298245,
          0.6140350877192983,
          0.29824561403508765,
          0.45614035087719296,
          0.7368421052631579,
          0.05263157894736842,
          0.9824561403508772,
          0.5263157894736842,
          0.9999999999999999,
          0.22807017543859642,
          0.5964912280701754,
          0.8070175438596491,
          0.2807017543859649,
          0.3508771929824561,
          0.10526315789473684,
          0.5263157894736842,
          0.631578947368421,
          0.4035087719298246,
          0.6666666666666666,
          0.8596491228070174,
          0.5614035087719298,
          0.5087719298245613,
          0.9824561403508772,
          0.42105263157894735,
          0.7368421052631579,
          0.631578947368421,
          0.543859649122807,
          0.4035087719298246,
          0.49122807017543857,
          0.5964912280701754,
          0.24561403508771928,
          0.8070175438596491,
          0.5263157894736842,
          0.9122807017543858,
          0,
          0.36842105263157887,
          0.9122807017543858,
          0.49122807017543857,
          0.8070175438596491,
          0.14035087719298245,
          0.9824561403508772,
          0.7017543859649124,
          0.9649122807017544,
          0.17543859649122806,
          0.19298245614035092,
          0.15789473684210525,
          0.29824561403508765,
          0.3508771929824561,
          0.7543859649122807,
          0.8596491228070174,
          0.9473684210526315,
          0.5789473684210525,
          0.15789473684210525,
          0.8070175438596491,
          0.6842105263157895,
          0,
          0.9122807017543858,
          0.4035087719298246,
          0.07017543859649122,
          0.7017543859649124,
          0.3157894736842105,
          0.8070175438596491,
          0.24561403508771928,
          0.7719298245614034,
          0.24561403508771928,
          0.8245614035087719,
          0.6491228070175438,
          0.9824561403508772,
          0.03508771929824561,
          0.017543859649122806,
          0.08771929824561403,
          0.10526315789473684,
          0.7719298245614034,
          0.7017543859649124,
          0.38596491228070173,
          0.33333333333333337
         ],
         "y": [
          0.4489344092879918,
          0.47913156907398646,
          0.4561817276366305,
          0.498457751337023,
          0.49000254659694453,
          0.4622211595938294,
          0.49966563772846284,
          0.4827552282483058,
          0.43685554537359395,
          0.48879466020550477,
          0.43685554537359395,
          0.48637888742262514,
          0.46946847794246815,
          0.43323188619927455,
          0.4380634317650337,
          0.4767157962911069,
          0.447726522896552,
          0.4380634317650337,
          0.47792368268254665,
          0.47792368268254665,
          0.4585975004195101,
          0.4670527051595886,
          0.498457751337023,
          0.43685554537359395,
          0.4380634317650337,
          0.4948340921627037,
          0.44531075011367244,
          0.49362620577126387,
          0.43685554537359395,
          0.4972498649455832,
          0.44531075011367244,
          0.4561817276366305,
          0.4489344092879918,
          0.47913156907398646,
          0.4622211595938294,
          0.4320239998078348,
          0.43564765898215413,
          0.48154734185686604,
          0.4670527051595886,
          0.4948340921627037,
          0.5008735241199026,
          0.4380634317650337,
          0.4839631146397456,
          0.47913156907398646,
          0.4622211595938294,
          0.46946847794246815,
          0.4743000235082273,
          0.45497384124519075,
          0.4501422956794316,
          0.45255806846231117,
          0.45376595485375093,
          0.4948340921627037,
          0.43685554537359395,
          0.49000254659694453,
          0.498457751337023,
          0.498457751337023,
          0.48154734185686604,
          0.4839631146397456,
          0.4912104329883843,
          0.4573896140280703,
          0.49000254659694453,
          0.45376595485375093,
          0.4622211595938294,
          0.44289497733079286,
          0.4585975004195101,
          0.4839631146397456,
          0.4561817276366305,
          0.49604197855414345,
          0.4827552282483058,
          0.4465186365051122,
          0.4706763643339079,
          0.45497384124519075,
          0.46946847794246815,
          0.4767157962911069,
          0.4658448187681488,
          0.4489344092879918,
          0.44289497733079286,
          0.498457751337023,
          0.48637888742262514,
          0.4706763643339079,
          0.4392713181564735,
          0.4441028637222327,
          0.4658448187681488,
          0.4622211595938294,
          0.4851710010311854,
          0.49362620577126387,
          0.4622211595938294,
          0.5008735241199026,
          0.4622211595938294,
          0.447726522896552,
          0.47550790989966707,
          0.4972498649455832,
          0.4924183193798241,
          0.4972498649455832,
          0.4743000235082273,
          0.49362620577126387,
          0.45255806846231117,
          0.45255806846231117,
          0.4912104329883843,
          0.4706763643339079,
          0.4622211595938294,
          0.46946847794246815,
          0.4743000235082273,
          0.44289497733079286,
          0.49362620577126387,
          0.4622211595938294,
          0.48154734185686604,
          0.47913156907398646,
          0.4441028637222327,
          0.45376595485375093,
          0.4501422956794316,
          0.4743000235082273,
          0.4972498649455832,
          0.4767157962911069,
          0.48154734185686604,
          0.4380634317650337,
          0.4561817276366305,
          0.4839631146397456,
          0.4948340921627037,
          0.4404792045479133,
          0.4658448187681488,
          0.43685554537359395,
          0.49000254659694453,
          0.447726522896552,
          0.4670527051595886,
          0.43323188619927455,
          0.47309213711678755,
          0.49604197855414345,
          0.4682605915510284,
          0.47913156907398646,
          0.48758677381406496,
          0.4972498649455832,
          0.4465186365051122,
          0.46101327320238966,
          0.47913156907398646,
          0.4489344092879918,
          0.5008735241199026,
          0.447726522896552,
          0.4912104329883843,
          0.43564765898215413,
          0.49966563772846284,
          0.4948340921627037,
          0.4706763643339079,
          0.4416870909393531,
          0.45497384124519075,
          0.48758677381406496,
          0.45497384124519075,
          0.464636932376709,
          0.46342904598526924,
          0.4416870909393531,
          0.4839631146397456,
          0.4972498649455832,
          0.4392713181564735,
          0.49966563772846284,
          0.4706763643339079,
          0.4803394554654262,
          0.48154734185686604,
          0.4743000235082273,
          0.47188425072534773,
          0.4598053868109499,
          0.45255806846231117,
          0.4851710010311854,
          0.44531075011367244,
          0.4404792045479133,
          0.4670527051595886,
          0.4767157962911069,
          0.4404792045479133,
          0.49362620577126387,
          0.44289497733079286,
          0.4622211595938294,
          0.45376595485375093,
          0.4320239998078348,
          0.44289497733079286,
          0.48758677381406496,
          0.4416870909393531,
          0.4501422956794316,
          0.45376595485375093,
          0.4489344092879918,
          0.4706763643339079,
          0.4404792045479133,
          0.498457751337023,
          0.4320239998078348,
          0.4465186365051122,
          0.4465186365051122,
          0.48154734185686604,
          0.4622211595938294,
          0.43323188619927455,
          0.48154734185686604,
          0.49604197855414345,
          0.5008735241199026,
          0.45376595485375093,
          0.47792368268254665,
          0.4706763643339079,
          0.4585975004195101,
          0.45255806846231117,
          0.4573896140280703,
          0.4622211595938294,
          0.47188425072534773,
          0.45497384124519075,
          0.4912104329883843,
          0.4622211595938294,
          0.498457751337023,
          0.4489344092879918,
          0.44289497733079286,
          0.46342904598526924,
          0.43443977259071437,
          0.4392713181564735,
          0.4380634317650337,
          0.4441028637222327,
          0.4501422956794316,
          0.47309213711678755,
          0.49604197855414345,
          0.5008735241199026,
          0.45135018207087135,
          0.4598053868109499,
          0.47792368268254665,
          0.4839631146397456,
          0.4948340921627037,
          0.49000254659694453,
          0.4465186365051122,
          0.46342904598526924,
          0.464636932376709,
          0.48758677381406496,
          0.498457751337023,
          0.48879466020550477,
          0.4598053868109499,
          0.43564765898215413,
          0.49000254659694453,
          0.49966563772846284,
          0.46342904598526924,
          0.48637888742262514,
          0.49362620577126387,
          0.47913156907398646,
          0.498457751337023,
          0.4380634317650337,
          0.4670527051595886,
          0.47188425072534773,
          0.48154734185686604,
          0.49000254659694453,
          0.4743000235082273,
          0.4501422956794316,
          0.4416870909393531,
          0.46342904598526924,
          0.4972498649455832,
          0.47913156907398646,
          0.49604197855414345,
          0.4924183193798241,
          0.43685554537359395,
          0.43323188619927455,
          0.4380634317650337,
          0.4803394554654262,
          0.4851710010311854,
          0.4561817276366305,
          0.447726522896552,
          0.447726522896552,
          0.5008735241199026,
          0.4441028637222327,
          0.4670527051595886,
          0.4948340921627037,
          0.49604197855414345,
          0.4501422956794316,
          0.5008735241199026,
          0.49604197855414345,
          0.4465186365051122,
          0.46101327320238966,
          0.43564765898215413,
          0.43323188619927455,
          0.45497384124519075,
          0.464636932376709,
          0.49000254659694453,
          0.43443977259071437,
          0.4767157962911069,
          0.49362620577126387,
          0.48879466020550477,
          0.4585975004195101,
          0.47188425072534773,
          0.4851710010311854,
          0.4827552282483058,
          0.45135018207087135,
          0.43443977259071437,
          0.48154734185686604,
          0.4465186365051122,
          0.4561817276366305,
          0.4706763643339079,
          0.48758677381406496,
          0.498457751337023,
          0.49604197855414345,
          0.43564765898215413,
          0.45255806846231117,
          0.47309213711678755,
          0.43564765898215413,
          0.46946847794246815,
          0.4803394554654262,
          0.46342904598526924,
          0.4585975004195101,
          0.47309213711678755,
          0.45255806846231117,
          0.4489344092879918,
          0.4465186365051122,
          0.47550790989966707,
          0.4561817276366305,
          0.44289497733079286,
          0.4682605915510284,
          0.4392713181564735,
          0.48637888742262514,
          0.4441028637222327,
          0.46101327320238966,
          0.4682605915510284,
          0.47792368268254665,
          0.47188425072534773,
          0.4827552282483058,
          0.447726522896552,
          0.4670527051595886,
          0.43443977259071437,
          0.47188425072534773,
          0.4972498649455832,
          0.4706763643339079,
          0.4972498649455832,
          0.4501422956794316,
          0.45255806846231117,
          0.4670527051595886,
          0.4658448187681488,
          0.45255806846231117,
          0.4441028637222327,
          0.4706763643339079,
          0.4320239998078348,
          0.4767157962911069,
          0.47550790989966707,
          0.47913156907398646,
          0.464636932376709,
          0.4573896140280703,
          0.4658448187681488,
          0.45376595485375093,
          0.4585975004195101,
          0.48154734185686604,
          0.44531075011367244,
          0.43443977259071437,
          0.4839631146397456,
          0.49604197855414345,
          0.43443977259071437,
          0.4912104329883843,
          0.46946847794246815,
          0.4948340921627037,
          0.4416870909393531,
          0.4743000235082273,
          0.45255806846231117,
          0.46342904598526924,
          0.4827552282483058,
          0.43564765898215413,
          0.49966563772846284,
          0.4682605915510284,
          0.5008735241199026,
          0.447726522896552,
          0.47309213711678755,
          0.48758677381406496,
          0.45135018207087135,
          0.4561817276366305,
          0.4392713181564735,
          0.4682605915510284,
          0.47550790989966707,
          0.4598053868109499,
          0.47792368268254665,
          0.4912104329883843,
          0.4706763643339079,
          0.4670527051595886,
          0.49966563772846284,
          0.46101327320238966,
          0.4827552282483058,
          0.47550790989966707,
          0.46946847794246815,
          0.4598053868109499,
          0.4658448187681488,
          0.47309213711678755,
          0.4489344092879918,
          0.48758677381406496,
          0.4682605915510284,
          0.4948340921627037,
          0.4320239998078348,
          0.4573896140280703,
          0.4948340921627037,
          0.4658448187681488,
          0.48758677381406496,
          0.4416870909393531,
          0.49966563772846284,
          0.4803394554654262,
          0.498457751337023,
          0.4441028637222327,
          0.44531075011367244,
          0.44289497733079286,
          0.45255806846231117,
          0.4561817276366305,
          0.4839631146397456,
          0.4912104329883843,
          0.4972498649455832,
          0.47188425072534773,
          0.44289497733079286,
          0.48758677381406496,
          0.47913156907398646,
          0.4320239998078348,
          0.4948340921627037,
          0.4598053868109499,
          0.43685554537359395,
          0.4803394554654262,
          0.45376595485375093,
          0.48758677381406496,
          0.4489344092879918,
          0.4851710010311854,
          0.4489344092879918,
          0.48879466020550477,
          0.4767157962911069,
          0.49966563772846284,
          0.43443977259071437,
          0.43323188619927455,
          0.4380634317650337,
          0.4392713181564735,
          0.4851710010311854,
          0.4803394554654262,
          0.4585975004195101,
          0.45497384124519075
         ]
        }
       ],
       "layout": {
        "legend": {
         "tracegroupgap": 0
        },
        "template": {
         "data": {
          "bar": [
           {
            "error_x": {
             "color": "#2a3f5f"
            },
            "error_y": {
             "color": "#2a3f5f"
            },
            "marker": {
             "line": {
              "color": "#E5ECF6",
              "width": 0.5
             },
             "pattern": {
              "fillmode": "overlay",
              "size": 10,
              "solidity": 0.2
             }
            },
            "type": "bar"
           }
          ],
          "barpolar": [
           {
            "marker": {
             "line": {
              "color": "#E5ECF6",
              "width": 0.5
             },
             "pattern": {
              "fillmode": "overlay",
              "size": 10,
              "solidity": 0.2
             }
            },
            "type": "barpolar"
           }
          ],
          "carpet": [
           {
            "aaxis": {
             "endlinecolor": "#2a3f5f",
             "gridcolor": "white",
             "linecolor": "white",
             "minorgridcolor": "white",
             "startlinecolor": "#2a3f5f"
            },
            "baxis": {
             "endlinecolor": "#2a3f5f",
             "gridcolor": "white",
             "linecolor": "white",
             "minorgridcolor": "white",
             "startlinecolor": "#2a3f5f"
            },
            "type": "carpet"
           }
          ],
          "choropleth": [
           {
            "colorbar": {
             "outlinewidth": 0,
             "ticks": ""
            },
            "type": "choropleth"
           }
          ],
          "contour": [
           {
            "colorbar": {
             "outlinewidth": 0,
             "ticks": ""
            },
            "colorscale": [
             [
              0,
              "#0d0887"
             ],
             [
              0.1111111111111111,
              "#46039f"
             ],
             [
              0.2222222222222222,
              "#7201a8"
             ],
             [
              0.3333333333333333,
              "#9c179e"
             ],
             [
              0.4444444444444444,
              "#bd3786"
             ],
             [
              0.5555555555555556,
              "#d8576b"
             ],
             [
              0.6666666666666666,
              "#ed7953"
             ],
             [
              0.7777777777777778,
              "#fb9f3a"
             ],
             [
              0.8888888888888888,
              "#fdca26"
             ],
             [
              1,
              "#f0f921"
             ]
            ],
            "type": "contour"
           }
          ],
          "contourcarpet": [
           {
            "colorbar": {
             "outlinewidth": 0,
             "ticks": ""
            },
            "type": "contourcarpet"
           }
          ],
          "heatmap": [
           {
            "colorbar": {
             "outlinewidth": 0,
             "ticks": ""
            },
            "colorscale": [
             [
              0,
              "#0d0887"
             ],
             [
              0.1111111111111111,
              "#46039f"
             ],
             [
              0.2222222222222222,
              "#7201a8"
             ],
             [
              0.3333333333333333,
              "#9c179e"
             ],
             [
              0.4444444444444444,
              "#bd3786"
             ],
             [
              0.5555555555555556,
              "#d8576b"
             ],
             [
              0.6666666666666666,
              "#ed7953"
             ],
             [
              0.7777777777777778,
              "#fb9f3a"
             ],
             [
              0.8888888888888888,
              "#fdca26"
             ],
             [
              1,
              "#f0f921"
             ]
            ],
            "type": "heatmap"
           }
          ],
          "heatmapgl": [
           {
            "colorbar": {
             "outlinewidth": 0,
             "ticks": ""
            },
            "colorscale": [
             [
              0,
              "#0d0887"
             ],
             [
              0.1111111111111111,
              "#46039f"
             ],
             [
              0.2222222222222222,
              "#7201a8"
             ],
             [
              0.3333333333333333,
              "#9c179e"
             ],
             [
              0.4444444444444444,
              "#bd3786"
             ],
             [
              0.5555555555555556,
              "#d8576b"
             ],
             [
              0.6666666666666666,
              "#ed7953"
             ],
             [
              0.7777777777777778,
              "#fb9f3a"
             ],
             [
              0.8888888888888888,
              "#fdca26"
             ],
             [
              1,
              "#f0f921"
             ]
            ],
            "type": "heatmapgl"
           }
          ],
          "histogram": [
           {
            "marker": {
             "pattern": {
              "fillmode": "overlay",
              "size": 10,
              "solidity": 0.2
             }
            },
            "type": "histogram"
           }
          ],
          "histogram2d": [
           {
            "colorbar": {
             "outlinewidth": 0,
             "ticks": ""
            },
            "colorscale": [
             [
              0,
              "#0d0887"
             ],
             [
              0.1111111111111111,
              "#46039f"
             ],
             [
              0.2222222222222222,
              "#7201a8"
             ],
             [
              0.3333333333333333,
              "#9c179e"
             ],
             [
              0.4444444444444444,
              "#bd3786"
             ],
             [
              0.5555555555555556,
              "#d8576b"
             ],
             [
              0.6666666666666666,
              "#ed7953"
             ],
             [
              0.7777777777777778,
              "#fb9f3a"
             ],
             [
              0.8888888888888888,
              "#fdca26"
             ],
             [
              1,
              "#f0f921"
             ]
            ],
            "type": "histogram2d"
           }
          ],
          "histogram2dcontour": [
           {
            "colorbar": {
             "outlinewidth": 0,
             "ticks": ""
            },
            "colorscale": [
             [
              0,
              "#0d0887"
             ],
             [
              0.1111111111111111,
              "#46039f"
             ],
             [
              0.2222222222222222,
              "#7201a8"
             ],
             [
              0.3333333333333333,
              "#9c179e"
             ],
             [
              0.4444444444444444,
              "#bd3786"
             ],
             [
              0.5555555555555556,
              "#d8576b"
             ],
             [
              0.6666666666666666,
              "#ed7953"
             ],
             [
              0.7777777777777778,
              "#fb9f3a"
             ],
             [
              0.8888888888888888,
              "#fdca26"
             ],
             [
              1,
              "#f0f921"
             ]
            ],
            "type": "histogram2dcontour"
           }
          ],
          "mesh3d": [
           {
            "colorbar": {
             "outlinewidth": 0,
             "ticks": ""
            },
            "type": "mesh3d"
           }
          ],
          "parcoords": [
           {
            "line": {
             "colorbar": {
              "outlinewidth": 0,
              "ticks": ""
             }
            },
            "type": "parcoords"
           }
          ],
          "pie": [
           {
            "automargin": true,
            "type": "pie"
           }
          ],
          "scatter": [
           {
            "fillpattern": {
             "fillmode": "overlay",
             "size": 10,
             "solidity": 0.2
            },
            "type": "scatter"
           }
          ],
          "scatter3d": [
           {
            "line": {
             "colorbar": {
              "outlinewidth": 0,
              "ticks": ""
             }
            },
            "marker": {
             "colorbar": {
              "outlinewidth": 0,
              "ticks": ""
             }
            },
            "type": "scatter3d"
           }
          ],
          "scattercarpet": [
           {
            "marker": {
             "colorbar": {
              "outlinewidth": 0,
              "ticks": ""
             }
            },
            "type": "scattercarpet"
           }
          ],
          "scattergeo": [
           {
            "marker": {
             "colorbar": {
              "outlinewidth": 0,
              "ticks": ""
             }
            },
            "type": "scattergeo"
           }
          ],
          "scattergl": [
           {
            "marker": {
             "colorbar": {
              "outlinewidth": 0,
              "ticks": ""
             }
            },
            "type": "scattergl"
           }
          ],
          "scattermapbox": [
           {
            "marker": {
             "colorbar": {
              "outlinewidth": 0,
              "ticks": ""
             }
            },
            "type": "scattermapbox"
           }
          ],
          "scatterpolar": [
           {
            "marker": {
             "colorbar": {
              "outlinewidth": 0,
              "ticks": ""
             }
            },
            "type": "scatterpolar"
           }
          ],
          "scatterpolargl": [
           {
            "marker": {
             "colorbar": {
              "outlinewidth": 0,
              "ticks": ""
             }
            },
            "type": "scatterpolargl"
           }
          ],
          "scatterternary": [
           {
            "marker": {
             "colorbar": {
              "outlinewidth": 0,
              "ticks": ""
             }
            },
            "type": "scatterternary"
           }
          ],
          "surface": [
           {
            "colorbar": {
             "outlinewidth": 0,
             "ticks": ""
            },
            "colorscale": [
             [
              0,
              "#0d0887"
             ],
             [
              0.1111111111111111,
              "#46039f"
             ],
             [
              0.2222222222222222,
              "#7201a8"
             ],
             [
              0.3333333333333333,
              "#9c179e"
             ],
             [
              0.4444444444444444,
              "#bd3786"
             ],
             [
              0.5555555555555556,
              "#d8576b"
             ],
             [
              0.6666666666666666,
              "#ed7953"
             ],
             [
              0.7777777777777778,
              "#fb9f3a"
             ],
             [
              0.8888888888888888,
              "#fdca26"
             ],
             [
              1,
              "#f0f921"
             ]
            ],
            "type": "surface"
           }
          ],
          "table": [
           {
            "cells": {
             "fill": {
              "color": "#EBF0F8"
             },
             "line": {
              "color": "white"
             }
            },
            "header": {
             "fill": {
              "color": "#C8D4E3"
             },
             "line": {
              "color": "white"
             }
            },
            "type": "table"
           }
          ]
         },
         "layout": {
          "annotationdefaults": {
           "arrowcolor": "#2a3f5f",
           "arrowhead": 0,
           "arrowwidth": 1
          },
          "autotypenumbers": "strict",
          "coloraxis": {
           "colorbar": {
            "outlinewidth": 0,
            "ticks": ""
           }
          },
          "colorscale": {
           "diverging": [
            [
             0,
             "#8e0152"
            ],
            [
             0.1,
             "#c51b7d"
            ],
            [
             0.2,
             "#de77ae"
            ],
            [
             0.3,
             "#f1b6da"
            ],
            [
             0.4,
             "#fde0ef"
            ],
            [
             0.5,
             "#f7f7f7"
            ],
            [
             0.6,
             "#e6f5d0"
            ],
            [
             0.7,
             "#b8e186"
            ],
            [
             0.8,
             "#7fbc41"
            ],
            [
             0.9,
             "#4d9221"
            ],
            [
             1,
             "#276419"
            ]
           ],
           "sequential": [
            [
             0,
             "#0d0887"
            ],
            [
             0.1111111111111111,
             "#46039f"
            ],
            [
             0.2222222222222222,
             "#7201a8"
            ],
            [
             0.3333333333333333,
             "#9c179e"
            ],
            [
             0.4444444444444444,
             "#bd3786"
            ],
            [
             0.5555555555555556,
             "#d8576b"
            ],
            [
             0.6666666666666666,
             "#ed7953"
            ],
            [
             0.7777777777777778,
             "#fb9f3a"
            ],
            [
             0.8888888888888888,
             "#fdca26"
            ],
            [
             1,
             "#f0f921"
            ]
           ],
           "sequentialminus": [
            [
             0,
             "#0d0887"
            ],
            [
             0.1111111111111111,
             "#46039f"
            ],
            [
             0.2222222222222222,
             "#7201a8"
            ],
            [
             0.3333333333333333,
             "#9c179e"
            ],
            [
             0.4444444444444444,
             "#bd3786"
            ],
            [
             0.5555555555555556,
             "#d8576b"
            ],
            [
             0.6666666666666666,
             "#ed7953"
            ],
            [
             0.7777777777777778,
             "#fb9f3a"
            ],
            [
             0.8888888888888888,
             "#fdca26"
            ],
            [
             1,
             "#f0f921"
            ]
           ]
          },
          "colorway": [
           "#636efa",
           "#EF553B",
           "#00cc96",
           "#ab63fa",
           "#FFA15A",
           "#19d3f3",
           "#FF6692",
           "#B6E880",
           "#FF97FF",
           "#FECB52"
          ],
          "font": {
           "color": "#2a3f5f"
          },
          "geo": {
           "bgcolor": "white",
           "lakecolor": "white",
           "landcolor": "#E5ECF6",
           "showlakes": true,
           "showland": true,
           "subunitcolor": "white"
          },
          "hoverlabel": {
           "align": "left"
          },
          "hovermode": "closest",
          "mapbox": {
           "style": "light"
          },
          "paper_bgcolor": "white",
          "plot_bgcolor": "#E5ECF6",
          "polar": {
           "angularaxis": {
            "gridcolor": "white",
            "linecolor": "white",
            "ticks": ""
           },
           "bgcolor": "#E5ECF6",
           "radialaxis": {
            "gridcolor": "white",
            "linecolor": "white",
            "ticks": ""
           }
          },
          "scene": {
           "xaxis": {
            "backgroundcolor": "#E5ECF6",
            "gridcolor": "white",
            "gridwidth": 2,
            "linecolor": "white",
            "showbackground": true,
            "ticks": "",
            "zerolinecolor": "white"
           },
           "yaxis": {
            "backgroundcolor": "#E5ECF6",
            "gridcolor": "white",
            "gridwidth": 2,
            "linecolor": "white",
            "showbackground": true,
            "ticks": "",
            "zerolinecolor": "white"
           },
           "zaxis": {
            "backgroundcolor": "#E5ECF6",
            "gridcolor": "white",
            "gridwidth": 2,
            "linecolor": "white",
            "showbackground": true,
            "ticks": "",
            "zerolinecolor": "white"
           }
          },
          "shapedefaults": {
           "line": {
            "color": "#2a3f5f"
           }
          },
          "ternary": {
           "aaxis": {
            "gridcolor": "white",
            "linecolor": "white",
            "ticks": ""
           },
           "baxis": {
            "gridcolor": "white",
            "linecolor": "white",
            "ticks": ""
           },
           "bgcolor": "#E5ECF6",
           "caxis": {
            "gridcolor": "white",
            "linecolor": "white",
            "ticks": ""
           }
          },
          "title": {
           "x": 0.05
          },
          "xaxis": {
           "automargin": true,
           "gridcolor": "white",
           "linecolor": "white",
           "ticks": "",
           "title": {
            "standoff": 15
           },
           "zerolinecolor": "white",
           "zerolinewidth": 2
          },
          "yaxis": {
           "automargin": true,
           "gridcolor": "white",
           "linecolor": "white",
           "ticks": "",
           "title": {
            "standoff": 15
           },
           "zerolinecolor": "white",
           "zerolinewidth": 2
          }
         }
        },
        "title": {
         "text": "Age vs Duration of Symptoms"
        },
        "xaxis": {
         "anchor": "y",
         "domain": [
          0,
          1
         ],
         "title": {
          "text": "Age (Years)"
         }
        },
        "yaxis": {
         "anchor": "x",
         "domain": [
          0,
          1
         ],
         "title": {
          "text": "Duration (Months)"
         }
        }
       }
      }
     },
     "metadata": {},
     "output_type": "display_data"
    }
   ],
   "source": [
    "from sklearn.linear_model import LinearRegression\n",
    "import numpy as np\n",
    "\n",
    "# Scatter plot with regression line\n",
    "def plot_age_duration_relation(filtered_df):\n",
    "    X = filtered_df[['Age']]\n",
    "    y = filtered_df['Duration of Symptoms (months)']\n",
    "\n",
    "    # Fit linear regression model\n",
    "    reg = LinearRegression().fit(X, y)\n",
    "    y_pred = reg.predict(X)\n",
    "\n",
    "    # Create scatter plot with linear regression line\n",
    "    fig = px.scatter(filtered_df, x='Age', y='Duration of Symptoms (months)', \n",
    "                     trendline=\"ols\", title=\"Age vs Duration of Symptoms\",\n",
    "                     labels={'Age': 'Age (Years)', 'Duration of Symptoms (months)': 'Duration (Months)'})\n",
    "    \n",
    "    fig.add_trace(go.Scatter(x=filtered_df['Age'], y=y_pred, mode='lines', name='Regression Line'))\n",
    "    fig.show()\n",
    "\n",
    "# Usage\n",
    "plot_age_duration_relation(filtered_df)"
   ]
  },
  {
   "cell_type": "markdown",
   "metadata": {},
   "source": [
    "### Predictive Analytics: Classification"
   ]
  },
  {
   "cell_type": "markdown",
   "metadata": {},
   "source": [
    "We choose to predict the severity of OCD symptoms (by predicting Score_Category). \"Score_Category_Encoded\" is the target class. It is binary.\n",
    "Going by the literature review and subject matter expertise within the team, features that are deemed to be necessary to create a prediction model are: Age, Gender, Family History of OCD, Duration of Symptoms, Depression Diagnosis, Anxiety Diagnosis, Type of Obsession, Type of Compulsion. \n",
    "\n",
    "Prediction task: Build a model that predicts severity of OCD symptoms by assigning a category to the Y-BOCS scores of patients."
   ]
  },
  {
   "cell_type": "code",
   "execution_count": 33,
   "metadata": {},
   "outputs": [
    {
     "data": {
      "text/html": [
       "<div>\n",
       "<style scoped>\n",
       "    .dataframe tbody tr th:only-of-type {\n",
       "        vertical-align: middle;\n",
       "    }\n",
       "\n",
       "    .dataframe tbody tr th {\n",
       "        vertical-align: top;\n",
       "    }\n",
       "\n",
       "    .dataframe thead th {\n",
       "        text-align: right;\n",
       "    }\n",
       "</style>\n",
       "<table border=\"1\" class=\"dataframe\">\n",
       "  <thead>\n",
       "    <tr style=\"text-align: right;\">\n",
       "      <th></th>\n",
       "      <th>Age</th>\n",
       "      <th>Family History of OCD</th>\n",
       "      <th>Duration of Symptoms (months)</th>\n",
       "      <th>Depression Diagnosis</th>\n",
       "      <th>Anxiety Diagnosis</th>\n",
       "      <th>Gender_Boolean</th>\n",
       "      <th>Obsession Type_Contamination</th>\n",
       "      <th>Obsession Type_Harm-related</th>\n",
       "      <th>Obsession Type_Hoarding</th>\n",
       "      <th>Obsession Type_Religious</th>\n",
       "      <th>Obsession Type_Symmetry</th>\n",
       "      <th>Compulsion Type_Checking</th>\n",
       "      <th>Compulsion Type_Counting</th>\n",
       "      <th>Compulsion Type_Ordering</th>\n",
       "      <th>Compulsion Type_Praying</th>\n",
       "      <th>Compulsion Type_Washing</th>\n",
       "      <th>Score_Category_Encoded</th>\n",
       "    </tr>\n",
       "  </thead>\n",
       "  <tbody>\n",
       "    <tr>\n",
       "      <th>0</th>\n",
       "      <td>0.245614</td>\n",
       "      <td>0</td>\n",
       "      <td>0.841880</td>\n",
       "      <td>1</td>\n",
       "      <td>1</td>\n",
       "      <td>0</td>\n",
       "      <td>0.0</td>\n",
       "      <td>1.0</td>\n",
       "      <td>0.0</td>\n",
       "      <td>0.0</td>\n",
       "      <td>0.0</td>\n",
       "      <td>1.0</td>\n",
       "      <td>0.0</td>\n",
       "      <td>0.0</td>\n",
       "      <td>0.0</td>\n",
       "      <td>0.0</td>\n",
       "      <td>0</td>\n",
       "    </tr>\n",
       "    <tr>\n",
       "      <th>1</th>\n",
       "      <td>0.684211</td>\n",
       "      <td>0</td>\n",
       "      <td>0.713675</td>\n",
       "      <td>0</td>\n",
       "      <td>0</td>\n",
       "      <td>1</td>\n",
       "      <td>1.0</td>\n",
       "      <td>0.0</td>\n",
       "      <td>0.0</td>\n",
       "      <td>0.0</td>\n",
       "      <td>0.0</td>\n",
       "      <td>1.0</td>\n",
       "      <td>0.0</td>\n",
       "      <td>0.0</td>\n",
       "      <td>0.0</td>\n",
       "      <td>0.0</td>\n",
       "      <td>1</td>\n",
       "    </tr>\n",
       "    <tr>\n",
       "      <th>2</th>\n",
       "      <td>0.350877</td>\n",
       "      <td>0</td>\n",
       "      <td>0.444444</td>\n",
       "      <td>1</td>\n",
       "      <td>0</td>\n",
       "      <td>0</td>\n",
       "      <td>1.0</td>\n",
       "      <td>0.0</td>\n",
       "      <td>0.0</td>\n",
       "      <td>0.0</td>\n",
       "      <td>0.0</td>\n",
       "      <td>0.0</td>\n",
       "      <td>0.0</td>\n",
       "      <td>0.0</td>\n",
       "      <td>1.0</td>\n",
       "      <td>0.0</td>\n",
       "      <td>0</td>\n",
       "    </tr>\n",
       "    <tr>\n",
       "      <th>3</th>\n",
       "      <td>0.964912</td>\n",
       "      <td>0</td>\n",
       "      <td>0.970085</td>\n",
       "      <td>1</td>\n",
       "      <td>1</td>\n",
       "      <td>0</td>\n",
       "      <td>0.0</td>\n",
       "      <td>0.0</td>\n",
       "      <td>0.0</td>\n",
       "      <td>1.0</td>\n",
       "      <td>0.0</td>\n",
       "      <td>0.0</td>\n",
       "      <td>1.0</td>\n",
       "      <td>0.0</td>\n",
       "      <td>0.0</td>\n",
       "      <td>0.0</td>\n",
       "      <td>1</td>\n",
       "    </tr>\n",
       "    <tr>\n",
       "      <th>4</th>\n",
       "      <td>0.842105</td>\n",
       "      <td>0</td>\n",
       "      <td>0.286325</td>\n",
       "      <td>0</td>\n",
       "      <td>1</td>\n",
       "      <td>0</td>\n",
       "      <td>0.0</td>\n",
       "      <td>1.0</td>\n",
       "      <td>0.0</td>\n",
       "      <td>0.0</td>\n",
       "      <td>0.0</td>\n",
       "      <td>0.0</td>\n",
       "      <td>0.0</td>\n",
       "      <td>0.0</td>\n",
       "      <td>0.0</td>\n",
       "      <td>1.0</td>\n",
       "      <td>1</td>\n",
       "    </tr>\n",
       "  </tbody>\n",
       "</table>\n",
       "</div>"
      ],
      "text/plain": [
       "        Age  Family History of OCD  Duration of Symptoms (months)  \\\n",
       "0  0.245614                      0                       0.841880   \n",
       "1  0.684211                      0                       0.713675   \n",
       "2  0.350877                      0                       0.444444   \n",
       "3  0.964912                      0                       0.970085   \n",
       "4  0.842105                      0                       0.286325   \n",
       "\n",
       "   Depression Diagnosis  Anxiety Diagnosis  Gender_Boolean  \\\n",
       "0                     1                  1               0   \n",
       "1                     0                  0               1   \n",
       "2                     1                  0               0   \n",
       "3                     1                  1               0   \n",
       "4                     0                  1               0   \n",
       "\n",
       "   Obsession Type_Contamination  Obsession Type_Harm-related  \\\n",
       "0                           0.0                          1.0   \n",
       "1                           1.0                          0.0   \n",
       "2                           1.0                          0.0   \n",
       "3                           0.0                          0.0   \n",
       "4                           0.0                          1.0   \n",
       "\n",
       "   Obsession Type_Hoarding  Obsession Type_Religious  Obsession Type_Symmetry  \\\n",
       "0                      0.0                       0.0                      0.0   \n",
       "1                      0.0                       0.0                      0.0   \n",
       "2                      0.0                       0.0                      0.0   \n",
       "3                      0.0                       1.0                      0.0   \n",
       "4                      0.0                       0.0                      0.0   \n",
       "\n",
       "   Compulsion Type_Checking  Compulsion Type_Counting  \\\n",
       "0                       1.0                       0.0   \n",
       "1                       1.0                       0.0   \n",
       "2                       0.0                       0.0   \n",
       "3                       0.0                       1.0   \n",
       "4                       0.0                       0.0   \n",
       "\n",
       "   Compulsion Type_Ordering  Compulsion Type_Praying  Compulsion Type_Washing  \\\n",
       "0                       0.0                      0.0                      0.0   \n",
       "1                       0.0                      0.0                      0.0   \n",
       "2                       0.0                      1.0                      0.0   \n",
       "3                       0.0                      0.0                      0.0   \n",
       "4                       0.0                      0.0                      1.0   \n",
       "\n",
       "   Score_Category_Encoded  \n",
       "0                       0  \n",
       "1                       1  \n",
       "2                       0  \n",
       "3                       1  \n",
       "4                       1  "
      ]
     },
     "execution_count": 33,
     "metadata": {},
     "output_type": "execute_result"
    }
   ],
   "source": [
    "# Drop columns that are not required\n",
    "new_df = filtered_df.drop(columns=['Total_Score', 'Score_Category', 'Age Group', 'Condition', 'Cluster', 'Gender'])\n",
    "\n",
    "# View the concise dataframe\n",
    "new_df.head()"
   ]
  },
  {
   "cell_type": "code",
   "execution_count": 34,
   "metadata": {},
   "outputs": [
    {
     "name": "stdout",
     "output_type": "stream",
     "text": [
      "[[0.24561404 0.         0.84188034 ... 0.         0.         0.        ]\n",
      " [0.68421053 0.         0.71367521 ... 0.         0.         1.        ]\n",
      " [0.35087719 0.         0.44444444 ... 1.         0.         0.        ]\n",
      " ...\n",
      " [0.70175439 1.         0.06837607 ... 1.         0.         1.        ]\n",
      " [0.38596491 1.         0.4017094  ... 0.         0.         1.        ]\n",
      " [0.33333333 1.         0.87179487 ... 0.         1.         0.        ]]\n"
     ]
    }
   ],
   "source": [
    "# Convert pd df into numpy array\n",
    "new_df_na = new_df.values\n",
    "print(new_df_na)"
   ]
  },
  {
   "cell_type": "markdown",
   "metadata": {},
   "source": [
    "Checking for class imbalance"
   ]
  },
  {
   "cell_type": "code",
   "execution_count": 35,
   "metadata": {},
   "outputs": [
    {
     "data": {
      "application/vnd.plotly.v1+json": {
       "config": {
        "plotlyServerURL": "https://plot.ly"
       },
       "data": [
        {
         "alignmentgroup": "True",
         "bingroup": "x",
         "hovertemplate": "Score Category (Encoded)=%{x}<br>count=%{y}<extra></extra>",
         "legendgroup": "",
         "marker": {
          "color": "#636efa",
          "pattern": {
           "shape": ""
          }
         },
         "name": "",
         "nbinsx": 2,
         "offsetgroup": "",
         "orientation": "v",
         "showlegend": false,
         "texttemplate": "%{value}",
         "type": "histogram",
         "x": [
          0,
          1,
          0,
          1,
          1,
          1,
          1,
          1,
          0,
          1,
          0,
          0,
          1,
          0,
          0,
          0,
          0,
          0,
          0,
          1,
          0,
          0,
          1,
          1,
          1,
          1,
          1,
          0,
          0,
          0,
          1,
          0,
          1,
          1,
          0,
          1,
          1,
          0,
          1,
          0,
          1,
          0,
          0,
          0,
          0,
          1,
          0,
          1,
          0,
          0,
          1,
          0,
          1,
          1,
          0,
          0,
          1,
          1,
          1,
          1,
          1,
          1,
          1,
          0,
          0,
          0,
          1,
          1,
          0,
          1,
          0,
          1,
          1,
          1,
          0,
          0,
          1,
          1,
          1,
          1,
          1,
          1,
          1,
          1,
          0,
          1,
          0,
          0,
          0,
          1,
          1,
          0,
          0,
          1,
          0,
          0,
          1,
          1,
          0,
          1,
          1,
          0,
          0,
          1,
          1,
          0,
          1,
          0,
          1,
          1,
          1,
          1,
          0,
          0,
          0,
          1,
          1,
          1,
          1,
          1,
          0,
          0,
          0,
          1,
          0,
          0,
          1,
          0,
          0,
          1,
          1,
          1,
          0,
          0,
          1,
          1,
          1,
          1,
          0,
          1,
          0,
          1,
          0,
          1,
          1,
          1,
          0,
          1,
          0,
          1,
          1,
          0,
          0,
          0,
          1,
          0,
          1,
          1,
          1,
          1,
          0,
          0,
          0,
          1,
          1,
          0,
          0,
          0,
          1,
          0,
          1,
          0,
          0,
          0,
          0,
          0,
          1,
          0,
          0,
          1,
          0,
          1,
          1,
          0,
          1,
          0,
          1,
          1,
          1,
          0,
          0,
          1,
          1,
          1,
          0,
          0,
          0,
          0,
          1,
          0,
          1,
          1,
          1,
          1,
          1,
          1,
          1,
          1,
          0,
          0,
          1,
          0,
          0,
          1,
          0,
          0,
          1,
          0,
          1,
          1,
          1,
          1,
          0,
          0,
          0,
          1,
          1,
          1,
          0,
          1,
          0,
          0,
          1,
          1,
          1,
          0,
          1,
          1,
          0,
          1,
          1,
          1,
          1,
          1,
          0,
          1,
          0,
          1,
          0,
          0,
          0,
          1,
          1,
          0,
          1,
          1,
          0,
          0,
          1,
          0,
          1,
          1,
          0,
          0,
          1,
          1,
          1,
          1,
          1,
          0,
          1,
          0,
          0,
          0,
          1,
          0,
          1,
          1,
          1,
          1,
          1,
          1,
          1,
          0,
          0,
          1,
          1,
          1,
          1,
          0,
          0,
          0,
          0,
          0,
          0,
          0,
          1,
          1,
          1,
          0,
          1,
          0,
          0,
          0,
          1,
          0,
          1,
          0,
          1,
          0,
          0,
          1,
          0,
          0,
          1,
          0,
          0,
          1,
          0,
          0,
          0,
          1,
          1,
          1,
          0,
          0,
          0,
          0,
          0,
          0,
          1,
          0,
          1,
          0,
          1,
          0,
          1,
          1,
          0,
          0,
          0,
          0,
          0,
          1,
          1,
          0,
          1,
          1,
          0,
          0,
          1,
          1,
          1,
          0,
          1,
          1,
          0,
          0,
          1,
          1,
          1,
          1,
          1,
          0,
          1,
          1,
          1,
          0,
          1,
          1,
          1,
          1,
          1,
          1,
          0,
          0,
          1,
          0,
          0,
          1,
          1,
          1,
          0,
          0,
          1,
          1,
          1,
          0,
          1,
          0,
          0,
          0,
          0,
          0,
          0,
          0,
          0,
          1,
          1,
          0,
          1,
          0,
          0,
          0,
          0,
          0,
          1,
          0,
          0,
          1,
          0,
          0,
          1,
          0,
          0,
          0,
          1,
          1,
          0
         ],
         "xaxis": "x",
         "yaxis": "y"
        }
       ],
       "layout": {
        "bargap": 0.2,
        "barmode": "relative",
        "legend": {
         "tracegroupgap": 0
        },
        "showlegend": false,
        "template": {
         "data": {
          "bar": [
           {
            "error_x": {
             "color": "#2a3f5f"
            },
            "error_y": {
             "color": "#2a3f5f"
            },
            "marker": {
             "line": {
              "color": "#E5ECF6",
              "width": 0.5
             },
             "pattern": {
              "fillmode": "overlay",
              "size": 10,
              "solidity": 0.2
             }
            },
            "type": "bar"
           }
          ],
          "barpolar": [
           {
            "marker": {
             "line": {
              "color": "#E5ECF6",
              "width": 0.5
             },
             "pattern": {
              "fillmode": "overlay",
              "size": 10,
              "solidity": 0.2
             }
            },
            "type": "barpolar"
           }
          ],
          "carpet": [
           {
            "aaxis": {
             "endlinecolor": "#2a3f5f",
             "gridcolor": "white",
             "linecolor": "white",
             "minorgridcolor": "white",
             "startlinecolor": "#2a3f5f"
            },
            "baxis": {
             "endlinecolor": "#2a3f5f",
             "gridcolor": "white",
             "linecolor": "white",
             "minorgridcolor": "white",
             "startlinecolor": "#2a3f5f"
            },
            "type": "carpet"
           }
          ],
          "choropleth": [
           {
            "colorbar": {
             "outlinewidth": 0,
             "ticks": ""
            },
            "type": "choropleth"
           }
          ],
          "contour": [
           {
            "colorbar": {
             "outlinewidth": 0,
             "ticks": ""
            },
            "colorscale": [
             [
              0,
              "#0d0887"
             ],
             [
              0.1111111111111111,
              "#46039f"
             ],
             [
              0.2222222222222222,
              "#7201a8"
             ],
             [
              0.3333333333333333,
              "#9c179e"
             ],
             [
              0.4444444444444444,
              "#bd3786"
             ],
             [
              0.5555555555555556,
              "#d8576b"
             ],
             [
              0.6666666666666666,
              "#ed7953"
             ],
             [
              0.7777777777777778,
              "#fb9f3a"
             ],
             [
              0.8888888888888888,
              "#fdca26"
             ],
             [
              1,
              "#f0f921"
             ]
            ],
            "type": "contour"
           }
          ],
          "contourcarpet": [
           {
            "colorbar": {
             "outlinewidth": 0,
             "ticks": ""
            },
            "type": "contourcarpet"
           }
          ],
          "heatmap": [
           {
            "colorbar": {
             "outlinewidth": 0,
             "ticks": ""
            },
            "colorscale": [
             [
              0,
              "#0d0887"
             ],
             [
              0.1111111111111111,
              "#46039f"
             ],
             [
              0.2222222222222222,
              "#7201a8"
             ],
             [
              0.3333333333333333,
              "#9c179e"
             ],
             [
              0.4444444444444444,
              "#bd3786"
             ],
             [
              0.5555555555555556,
              "#d8576b"
             ],
             [
              0.6666666666666666,
              "#ed7953"
             ],
             [
              0.7777777777777778,
              "#fb9f3a"
             ],
             [
              0.8888888888888888,
              "#fdca26"
             ],
             [
              1,
              "#f0f921"
             ]
            ],
            "type": "heatmap"
           }
          ],
          "heatmapgl": [
           {
            "colorbar": {
             "outlinewidth": 0,
             "ticks": ""
            },
            "colorscale": [
             [
              0,
              "#0d0887"
             ],
             [
              0.1111111111111111,
              "#46039f"
             ],
             [
              0.2222222222222222,
              "#7201a8"
             ],
             [
              0.3333333333333333,
              "#9c179e"
             ],
             [
              0.4444444444444444,
              "#bd3786"
             ],
             [
              0.5555555555555556,
              "#d8576b"
             ],
             [
              0.6666666666666666,
              "#ed7953"
             ],
             [
              0.7777777777777778,
              "#fb9f3a"
             ],
             [
              0.8888888888888888,
              "#fdca26"
             ],
             [
              1,
              "#f0f921"
             ]
            ],
            "type": "heatmapgl"
           }
          ],
          "histogram": [
           {
            "marker": {
             "pattern": {
              "fillmode": "overlay",
              "size": 10,
              "solidity": 0.2
             }
            },
            "type": "histogram"
           }
          ],
          "histogram2d": [
           {
            "colorbar": {
             "outlinewidth": 0,
             "ticks": ""
            },
            "colorscale": [
             [
              0,
              "#0d0887"
             ],
             [
              0.1111111111111111,
              "#46039f"
             ],
             [
              0.2222222222222222,
              "#7201a8"
             ],
             [
              0.3333333333333333,
              "#9c179e"
             ],
             [
              0.4444444444444444,
              "#bd3786"
             ],
             [
              0.5555555555555556,
              "#d8576b"
             ],
             [
              0.6666666666666666,
              "#ed7953"
             ],
             [
              0.7777777777777778,
              "#fb9f3a"
             ],
             [
              0.8888888888888888,
              "#fdca26"
             ],
             [
              1,
              "#f0f921"
             ]
            ],
            "type": "histogram2d"
           }
          ],
          "histogram2dcontour": [
           {
            "colorbar": {
             "outlinewidth": 0,
             "ticks": ""
            },
            "colorscale": [
             [
              0,
              "#0d0887"
             ],
             [
              0.1111111111111111,
              "#46039f"
             ],
             [
              0.2222222222222222,
              "#7201a8"
             ],
             [
              0.3333333333333333,
              "#9c179e"
             ],
             [
              0.4444444444444444,
              "#bd3786"
             ],
             [
              0.5555555555555556,
              "#d8576b"
             ],
             [
              0.6666666666666666,
              "#ed7953"
             ],
             [
              0.7777777777777778,
              "#fb9f3a"
             ],
             [
              0.8888888888888888,
              "#fdca26"
             ],
             [
              1,
              "#f0f921"
             ]
            ],
            "type": "histogram2dcontour"
           }
          ],
          "mesh3d": [
           {
            "colorbar": {
             "outlinewidth": 0,
             "ticks": ""
            },
            "type": "mesh3d"
           }
          ],
          "parcoords": [
           {
            "line": {
             "colorbar": {
              "outlinewidth": 0,
              "ticks": ""
             }
            },
            "type": "parcoords"
           }
          ],
          "pie": [
           {
            "automargin": true,
            "type": "pie"
           }
          ],
          "scatter": [
           {
            "fillpattern": {
             "fillmode": "overlay",
             "size": 10,
             "solidity": 0.2
            },
            "type": "scatter"
           }
          ],
          "scatter3d": [
           {
            "line": {
             "colorbar": {
              "outlinewidth": 0,
              "ticks": ""
             }
            },
            "marker": {
             "colorbar": {
              "outlinewidth": 0,
              "ticks": ""
             }
            },
            "type": "scatter3d"
           }
          ],
          "scattercarpet": [
           {
            "marker": {
             "colorbar": {
              "outlinewidth": 0,
              "ticks": ""
             }
            },
            "type": "scattercarpet"
           }
          ],
          "scattergeo": [
           {
            "marker": {
             "colorbar": {
              "outlinewidth": 0,
              "ticks": ""
             }
            },
            "type": "scattergeo"
           }
          ],
          "scattergl": [
           {
            "marker": {
             "colorbar": {
              "outlinewidth": 0,
              "ticks": ""
             }
            },
            "type": "scattergl"
           }
          ],
          "scattermapbox": [
           {
            "marker": {
             "colorbar": {
              "outlinewidth": 0,
              "ticks": ""
             }
            },
            "type": "scattermapbox"
           }
          ],
          "scatterpolar": [
           {
            "marker": {
             "colorbar": {
              "outlinewidth": 0,
              "ticks": ""
             }
            },
            "type": "scatterpolar"
           }
          ],
          "scatterpolargl": [
           {
            "marker": {
             "colorbar": {
              "outlinewidth": 0,
              "ticks": ""
             }
            },
            "type": "scatterpolargl"
           }
          ],
          "scatterternary": [
           {
            "marker": {
             "colorbar": {
              "outlinewidth": 0,
              "ticks": ""
             }
            },
            "type": "scatterternary"
           }
          ],
          "surface": [
           {
            "colorbar": {
             "outlinewidth": 0,
             "ticks": ""
            },
            "colorscale": [
             [
              0,
              "#0d0887"
             ],
             [
              0.1111111111111111,
              "#46039f"
             ],
             [
              0.2222222222222222,
              "#7201a8"
             ],
             [
              0.3333333333333333,
              "#9c179e"
             ],
             [
              0.4444444444444444,
              "#bd3786"
             ],
             [
              0.5555555555555556,
              "#d8576b"
             ],
             [
              0.6666666666666666,
              "#ed7953"
             ],
             [
              0.7777777777777778,
              "#fb9f3a"
             ],
             [
              0.8888888888888888,
              "#fdca26"
             ],
             [
              1,
              "#f0f921"
             ]
            ],
            "type": "surface"
           }
          ],
          "table": [
           {
            "cells": {
             "fill": {
              "color": "#EBF0F8"
             },
             "line": {
              "color": "white"
             }
            },
            "header": {
             "fill": {
              "color": "#C8D4E3"
             },
             "line": {
              "color": "white"
             }
            },
            "type": "table"
           }
          ]
         },
         "layout": {
          "annotationdefaults": {
           "arrowcolor": "#2a3f5f",
           "arrowhead": 0,
           "arrowwidth": 1
          },
          "autotypenumbers": "strict",
          "coloraxis": {
           "colorbar": {
            "outlinewidth": 0,
            "ticks": ""
           }
          },
          "colorscale": {
           "diverging": [
            [
             0,
             "#8e0152"
            ],
            [
             0.1,
             "#c51b7d"
            ],
            [
             0.2,
             "#de77ae"
            ],
            [
             0.3,
             "#f1b6da"
            ],
            [
             0.4,
             "#fde0ef"
            ],
            [
             0.5,
             "#f7f7f7"
            ],
            [
             0.6,
             "#e6f5d0"
            ],
            [
             0.7,
             "#b8e186"
            ],
            [
             0.8,
             "#7fbc41"
            ],
            [
             0.9,
             "#4d9221"
            ],
            [
             1,
             "#276419"
            ]
           ],
           "sequential": [
            [
             0,
             "#0d0887"
            ],
            [
             0.1111111111111111,
             "#46039f"
            ],
            [
             0.2222222222222222,
             "#7201a8"
            ],
            [
             0.3333333333333333,
             "#9c179e"
            ],
            [
             0.4444444444444444,
             "#bd3786"
            ],
            [
             0.5555555555555556,
             "#d8576b"
            ],
            [
             0.6666666666666666,
             "#ed7953"
            ],
            [
             0.7777777777777778,
             "#fb9f3a"
            ],
            [
             0.8888888888888888,
             "#fdca26"
            ],
            [
             1,
             "#f0f921"
            ]
           ],
           "sequentialminus": [
            [
             0,
             "#0d0887"
            ],
            [
             0.1111111111111111,
             "#46039f"
            ],
            [
             0.2222222222222222,
             "#7201a8"
            ],
            [
             0.3333333333333333,
             "#9c179e"
            ],
            [
             0.4444444444444444,
             "#bd3786"
            ],
            [
             0.5555555555555556,
             "#d8576b"
            ],
            [
             0.6666666666666666,
             "#ed7953"
            ],
            [
             0.7777777777777778,
             "#fb9f3a"
            ],
            [
             0.8888888888888888,
             "#fdca26"
            ],
            [
             1,
             "#f0f921"
            ]
           ]
          },
          "colorway": [
           "#636efa",
           "#EF553B",
           "#00cc96",
           "#ab63fa",
           "#FFA15A",
           "#19d3f3",
           "#FF6692",
           "#B6E880",
           "#FF97FF",
           "#FECB52"
          ],
          "font": {
           "color": "#2a3f5f"
          },
          "geo": {
           "bgcolor": "white",
           "lakecolor": "white",
           "landcolor": "#E5ECF6",
           "showlakes": true,
           "showland": true,
           "subunitcolor": "white"
          },
          "hoverlabel": {
           "align": "left"
          },
          "hovermode": "closest",
          "mapbox": {
           "style": "light"
          },
          "paper_bgcolor": "white",
          "plot_bgcolor": "#E5ECF6",
          "polar": {
           "angularaxis": {
            "gridcolor": "white",
            "linecolor": "white",
            "ticks": ""
           },
           "bgcolor": "#E5ECF6",
           "radialaxis": {
            "gridcolor": "white",
            "linecolor": "white",
            "ticks": ""
           }
          },
          "scene": {
           "xaxis": {
            "backgroundcolor": "#E5ECF6",
            "gridcolor": "white",
            "gridwidth": 2,
            "linecolor": "white",
            "showbackground": true,
            "ticks": "",
            "zerolinecolor": "white"
           },
           "yaxis": {
            "backgroundcolor": "#E5ECF6",
            "gridcolor": "white",
            "gridwidth": 2,
            "linecolor": "white",
            "showbackground": true,
            "ticks": "",
            "zerolinecolor": "white"
           },
           "zaxis": {
            "backgroundcolor": "#E5ECF6",
            "gridcolor": "white",
            "gridwidth": 2,
            "linecolor": "white",
            "showbackground": true,
            "ticks": "",
            "zerolinecolor": "white"
           }
          },
          "shapedefaults": {
           "line": {
            "color": "#2a3f5f"
           }
          },
          "ternary": {
           "aaxis": {
            "gridcolor": "white",
            "linecolor": "white",
            "ticks": ""
           },
           "baxis": {
            "gridcolor": "white",
            "linecolor": "white",
            "ticks": ""
           },
           "bgcolor": "#E5ECF6",
           "caxis": {
            "gridcolor": "white",
            "linecolor": "white",
            "ticks": ""
           }
          },
          "title": {
           "x": 0.05
          },
          "xaxis": {
           "automargin": true,
           "gridcolor": "white",
           "linecolor": "white",
           "ticks": "",
           "title": {
            "standoff": 15
           },
           "zerolinecolor": "white",
           "zerolinewidth": 2
          },
          "yaxis": {
           "automargin": true,
           "gridcolor": "white",
           "linecolor": "white",
           "ticks": "",
           "title": {
            "standoff": 15
           },
           "zerolinecolor": "white",
           "zerolinewidth": 2
          }
         }
        },
        "title": {
         "text": "Distribution of Score Category (Encoded)"
        },
        "xaxis": {
         "anchor": "y",
         "domain": [
          0,
          1
         ],
         "title": {
          "text": "Score Category (Encoded)"
         }
        },
        "yaxis": {
         "anchor": "x",
         "domain": [
          0,
          1
         ],
         "title": {
          "text": "Count"
         }
        }
       }
      }
     },
     "metadata": {},
     "output_type": "display_data"
    }
   ],
   "source": [
    "# Plot histogram for target class\n",
    "fig = px.histogram(new_df, x='Score_Category_Encoded', nbins=2, \n",
    "                   title='Distribution of Score Category (Encoded)',\n",
    "                   labels={'Score_Category_Encoded': 'Score Category (Encoded)'},\n",
    "                   text_auto=True\n",
    ")\n",
    "\n",
    "# Update the layout for better visualization\n",
    "fig.update_layout(\n",
    "    xaxis_title='Score Category (Encoded)',\n",
    "    yaxis_title='Count',\n",
    "    bargap=0.2,\n",
    "    showlegend=False\n",
    ")\n",
    "\n",
    "# Show the plot\n",
    "fig.show()"
   ]
  },
  {
   "cell_type": "markdown",
   "metadata": {},
   "source": [
    "While there doesn't seem to be a significant class imbalance, we still choose to perform Stratified train-test partitioning to ensure that the distribution of classes in both the training and testing sets remains similar to the original dataset."
   ]
  },
  {
   "cell_type": "code",
   "execution_count": 36,
   "metadata": {},
   "outputs": [],
   "source": [
    "from sklearn.model_selection import train_test_split\n",
    "\n",
    "# Separate features (x) and target variable (y)\n",
    "x = new_df_na[:, :-1]  # Features\n",
    "y = new_df_na[:, -1].astype(float)  # Target variable\n",
    "\n",
    "import numpy as np\n",
    "RANDOM_SEED = 2000\n",
    "np.random.seed(RANDOM_SEED)\n",
    "\n",
    "# Normalize the data\n",
    "from sklearn.preprocessing import MinMaxScaler\n",
    "\n",
    "scaler = MinMaxScaler()\n",
    "x_normalized = scaler.fit_transform(x)\n",
    "\n",
    "# Create splits from the normalized dataset.\n",
    "x_train_norm, x_test_norm, y_train, y_test = train_test_split(x_normalized,\n",
    "                                                              y,\n",
    "                                                              test_size=0.2,\n",
    "                                                              random_state=RANDOM_SEED)\n"
   ]
  },
  {
   "cell_type": "code",
   "execution_count": 37,
   "metadata": {},
   "outputs": [],
   "source": [
    "# Models used\n",
    "from sklearn.tree import DecisionTreeClassifier\n",
    "from sklearn.ensemble import RandomForestClassifier\n",
    "from sklearn.neighbors import KNeighborsClassifier\n",
    "from sklearn.svm import SVC\n",
    "from sklearn.linear_model import LogisticRegression"
   ]
  },
  {
   "cell_type": "code",
   "execution_count": 38,
   "metadata": {},
   "outputs": [
    {
     "name": "stdout",
     "output_type": "stream",
     "text": [
      "The name of the classifier is: DT_1  and it is a sklearn object: DecisionTreeClassifier(max_depth=3)\n",
      "The name of the classifier is: DT_2  and it is a sklearn object: DecisionTreeClassifier(max_depth=5)\n",
      "The name of the classifier is: RF_1  and it is a sklearn object: RandomForestClassifier(max_depth=3, n_estimators=10)\n",
      "The name of the classifier is: RF_2  and it is a sklearn object: RandomForestClassifier(max_depth=5)\n",
      "The name of the classifier is: KNN_1  and it is a sklearn object: KNeighborsClassifier(n_neighbors=3)\n",
      "The name of the classifier is: KNN_2  and it is a sklearn object: KNeighborsClassifier(n_neighbors=7)\n",
      "The name of the classifier is: SVM_1  and it is a sklearn object: SVC()\n",
      "The name of the classifier is: SVM_2  and it is a sklearn object: SVC(kernel='linear')\n",
      "The name of the classifier is: SVM_3  and it is a sklearn object: SVC(kernel='sigmoid')\n",
      "The name of the classifier is: SVM_4  and it is a sklearn object: SVC(class_weight={0: 2, 1: 1}, kernel='linear')\n",
      "The name of the classifier is: LR_1  and it is a sklearn object: LogisticRegression()\n",
      "The name of the classifier is: LR_2  and it is a sklearn object: LogisticRegression(class_weight='balanced')\n",
      "The name of the classifier is: LR_3  and it is a sklearn object: LogisticRegression(class_weight={0: 2, 1: 1})\n"
     ]
    }
   ],
   "source": [
    "models = {\n",
    "    \"DT_1\": DecisionTreeClassifier(max_depth=3),\n",
    "    \"DT_2\": DecisionTreeClassifier(max_depth=5),\n",
    "    \"RF_1\": RandomForestClassifier(n_estimators=10, max_depth=3),\n",
    "    \"RF_2\": RandomForestClassifier(n_estimators=100, max_depth=5),\n",
    "    \"KNN_1\": KNeighborsClassifier(n_neighbors=3),\n",
    "    \"KNN_2\": KNeighborsClassifier(n_neighbors=7),\n",
    "    \"SVM_1\": SVC(kernel='rbf'),\n",
    "    \"SVM_2\": SVC(kernel='linear'),\n",
    "    \"SVM_3\": SVC(kernel='sigmoid'),\n",
    "    \"SVM_4\": SVC(kernel='linear', class_weight= {0:2, 1:1}),\n",
    "    \"LR_1\": LogisticRegression(),\n",
    "    \"LR_2\": LogisticRegression(class_weight= \"balanced\"),\n",
    "    \"LR_3\": LogisticRegression(class_weight= {0:2, 1:1})\n",
    "}\n",
    "\n",
    "# Iterate over the dictionary as follows:\n",
    "for name, classifier in models.items():\n",
    "    print(\"The name of the classifier is:\", name, \" and it is a sklearn object:\", classifier)"
   ]
  },
  {
   "cell_type": "code",
   "execution_count": 39,
   "metadata": {},
   "outputs": [],
   "source": [
    "# Individual performance metrics\n",
    "from sklearn.metrics import accuracy_score, precision_score, recall_score, f1_score\n",
    "import time\n",
    "\n",
    "# Pandas dataframe to store results of each variable on the 10 classifiers\n",
    "results = pd.DataFrame({\n",
    "                        \"classifier_name\": [],\n",
    "                        \"training_time\": [],\n",
    "                        \"prediction_time\": [],\n",
    "                        \"accuracy\": [],\n",
    "                        \"precision\": [],\n",
    "                        \"recall\": [],\n",
    "                        \"f1\": []\n",
    "                        })"
   ]
  },
  {
   "cell_type": "code",
   "execution_count": 40,
   "metadata": {},
   "outputs": [
    {
     "data": {
      "text/html": [
       "<div>\n",
       "<style scoped>\n",
       "    .dataframe tbody tr th:only-of-type {\n",
       "        vertical-align: middle;\n",
       "    }\n",
       "\n",
       "    .dataframe tbody tr th {\n",
       "        vertical-align: top;\n",
       "    }\n",
       "\n",
       "    .dataframe thead th {\n",
       "        text-align: right;\n",
       "    }\n",
       "</style>\n",
       "<table border=\"1\" class=\"dataframe\">\n",
       "  <thead>\n",
       "    <tr style=\"text-align: right;\">\n",
       "      <th></th>\n",
       "      <th>classifier_name</th>\n",
       "      <th>training_time</th>\n",
       "      <th>prediction_time</th>\n",
       "      <th>accuracy</th>\n",
       "      <th>precision</th>\n",
       "      <th>recall</th>\n",
       "      <th>f1</th>\n",
       "    </tr>\n",
       "  </thead>\n",
       "  <tbody>\n",
       "    <tr>\n",
       "      <th>0</th>\n",
       "      <td>DT_1</td>\n",
       "      <td>0.000000</td>\n",
       "      <td>0.000000</td>\n",
       "      <td>0.630952</td>\n",
       "      <td>0.673913</td>\n",
       "      <td>0.659574</td>\n",
       "      <td>0.666667</td>\n",
       "    </tr>\n",
       "    <tr>\n",
       "      <th>1</th>\n",
       "      <td>DT_2</td>\n",
       "      <td>0.000000</td>\n",
       "      <td>0.000000</td>\n",
       "      <td>0.630952</td>\n",
       "      <td>0.653846</td>\n",
       "      <td>0.723404</td>\n",
       "      <td>0.686869</td>\n",
       "    </tr>\n",
       "    <tr>\n",
       "      <th>2</th>\n",
       "      <td>RF_1</td>\n",
       "      <td>0.000000</td>\n",
       "      <td>0.015452</td>\n",
       "      <td>0.559524</td>\n",
       "      <td>0.600000</td>\n",
       "      <td>0.638298</td>\n",
       "      <td>0.618557</td>\n",
       "    </tr>\n",
       "    <tr>\n",
       "      <th>3</th>\n",
       "      <td>RF_2</td>\n",
       "      <td>0.083184</td>\n",
       "      <td>0.018367</td>\n",
       "      <td>0.642857</td>\n",
       "      <td>0.666667</td>\n",
       "      <td>0.723404</td>\n",
       "      <td>0.693878</td>\n",
       "    </tr>\n",
       "    <tr>\n",
       "      <th>4</th>\n",
       "      <td>KNN_1</td>\n",
       "      <td>0.001013</td>\n",
       "      <td>0.008991</td>\n",
       "      <td>0.523810</td>\n",
       "      <td>0.574468</td>\n",
       "      <td>0.574468</td>\n",
       "      <td>0.574468</td>\n",
       "    </tr>\n",
       "    <tr>\n",
       "      <th>5</th>\n",
       "      <td>KNN_2</td>\n",
       "      <td>0.000999</td>\n",
       "      <td>0.010326</td>\n",
       "      <td>0.559524</td>\n",
       "      <td>0.608696</td>\n",
       "      <td>0.595745</td>\n",
       "      <td>0.602151</td>\n",
       "    </tr>\n",
       "    <tr>\n",
       "      <th>6</th>\n",
       "      <td>SVM_1</td>\n",
       "      <td>0.004981</td>\n",
       "      <td>0.001183</td>\n",
       "      <td>0.619048</td>\n",
       "      <td>0.631579</td>\n",
       "      <td>0.765957</td>\n",
       "      <td>0.692308</td>\n",
       "    </tr>\n",
       "    <tr>\n",
       "      <th>7</th>\n",
       "      <td>SVM_2</td>\n",
       "      <td>0.002997</td>\n",
       "      <td>0.001002</td>\n",
       "      <td>0.619048</td>\n",
       "      <td>0.666667</td>\n",
       "      <td>0.638298</td>\n",
       "      <td>0.652174</td>\n",
       "    </tr>\n",
       "    <tr>\n",
       "      <th>8</th>\n",
       "      <td>SVM_3</td>\n",
       "      <td>0.005146</td>\n",
       "      <td>0.000998</td>\n",
       "      <td>0.595238</td>\n",
       "      <td>0.658537</td>\n",
       "      <td>0.574468</td>\n",
       "      <td>0.613636</td>\n",
       "    </tr>\n",
       "    <tr>\n",
       "      <th>9</th>\n",
       "      <td>SVM_4</td>\n",
       "      <td>0.002060</td>\n",
       "      <td>0.000962</td>\n",
       "      <td>0.440476</td>\n",
       "      <td>0.000000</td>\n",
       "      <td>0.000000</td>\n",
       "      <td>0.000000</td>\n",
       "    </tr>\n",
       "    <tr>\n",
       "      <th>10</th>\n",
       "      <td>LR_1</td>\n",
       "      <td>0.001597</td>\n",
       "      <td>0.000000</td>\n",
       "      <td>0.619048</td>\n",
       "      <td>0.659574</td>\n",
       "      <td>0.659574</td>\n",
       "      <td>0.659574</td>\n",
       "    </tr>\n",
       "    <tr>\n",
       "      <th>11</th>\n",
       "      <td>LR_2</td>\n",
       "      <td>0.002003</td>\n",
       "      <td>0.000000</td>\n",
       "      <td>0.642857</td>\n",
       "      <td>0.688889</td>\n",
       "      <td>0.659574</td>\n",
       "      <td>0.673913</td>\n",
       "    </tr>\n",
       "    <tr>\n",
       "      <th>12</th>\n",
       "      <td>LR_3</td>\n",
       "      <td>0.002824</td>\n",
       "      <td>0.001024</td>\n",
       "      <td>0.464286</td>\n",
       "      <td>0.600000</td>\n",
       "      <td>0.127660</td>\n",
       "      <td>0.210526</td>\n",
       "    </tr>\n",
       "  </tbody>\n",
       "</table>\n",
       "</div>"
      ],
      "text/plain": [
       "   classifier_name  training_time  prediction_time  accuracy  precision  \\\n",
       "0             DT_1       0.000000         0.000000  0.630952   0.673913   \n",
       "1             DT_2       0.000000         0.000000  0.630952   0.653846   \n",
       "2             RF_1       0.000000         0.015452  0.559524   0.600000   \n",
       "3             RF_2       0.083184         0.018367  0.642857   0.666667   \n",
       "4            KNN_1       0.001013         0.008991  0.523810   0.574468   \n",
       "5            KNN_2       0.000999         0.010326  0.559524   0.608696   \n",
       "6            SVM_1       0.004981         0.001183  0.619048   0.631579   \n",
       "7            SVM_2       0.002997         0.001002  0.619048   0.666667   \n",
       "8            SVM_3       0.005146         0.000998  0.595238   0.658537   \n",
       "9            SVM_4       0.002060         0.000962  0.440476   0.000000   \n",
       "10            LR_1       0.001597         0.000000  0.619048   0.659574   \n",
       "11            LR_2       0.002003         0.000000  0.642857   0.688889   \n",
       "12            LR_3       0.002824         0.001024  0.464286   0.600000   \n",
       "\n",
       "      recall        f1  \n",
       "0   0.659574  0.666667  \n",
       "1   0.723404  0.686869  \n",
       "2   0.638298  0.618557  \n",
       "3   0.723404  0.693878  \n",
       "4   0.574468  0.574468  \n",
       "5   0.595745  0.602151  \n",
       "6   0.765957  0.692308  \n",
       "7   0.638298  0.652174  \n",
       "8   0.574468  0.613636  \n",
       "9   0.000000  0.000000  \n",
       "10  0.659574  0.659574  \n",
       "11  0.659574  0.673913  \n",
       "12  0.127660  0.210526  "
      ]
     },
     "execution_count": 40,
     "metadata": {},
     "output_type": "execute_result"
    }
   ],
   "source": [
    "# Apply the classifier in each dataset\n",
    "for name, classifier in models.items():\n",
    "\n",
    "    # Start measuring the training time\n",
    "    t_start = time.time()\n",
    "    # The code below applies the specific classifier from the loop on the data\n",
    "    classifier.fit(x_train_norm,y_train)\n",
    "    # Stop measuring training time\n",
    "    t_end = time.time()\n",
    "    # Calculate Variable of interest `training_time`\n",
    "    training_time = t_end - t_start\n",
    "    #######\n",
    "\n",
    "    # Start measuring the prediction time\n",
    "    t_start = time.time()\n",
    "    # Predict on test set\n",
    "    y_predicted = classifier.predict(x_test_norm)\n",
    "    # Stop measuring prediction time\n",
    "    t_end = time.time()\n",
    "    # Calculate Variable of interest `prediction_time`\n",
    "    prediction_time = t_end - t_start\n",
    "    #######\n",
    "\n",
    "\n",
    "    # Get performance metrics\n",
    "    accuracy_result = accuracy_score(y_test, y_predicted)\n",
    "    precision_result = precision_score(y_test, y_predicted, zero_division=0)\n",
    "    recall_result = recall_score(y_test, y_predicted)\n",
    "    f1_result = f1_score(y_test, y_predicted)\n",
    "    #######\n",
    "\n",
    "\n",
    "    #### Generate the results to populate the pandas.DataFrame\n",
    "    this_result = pd.DataFrame({\n",
    "                    \"classifier_name\": [name],\n",
    "                    \"training_time\": [training_time],\n",
    "                    \"prediction_time\": [prediction_time],\n",
    "                    \"accuracy\": [accuracy_result],\n",
    "                    \"precision\": [precision_result],\n",
    "                    \"recall\": [recall_result],\n",
    "                    \"f1\": [f1_result]\n",
    "                    })\n",
    "    # Append to the main dataframe with the results\n",
    "    results = pd.concat([results, this_result], axis=0, ignore_index=True)\n",
    "\n",
    "results"
   ]
  },
  {
   "cell_type": "code",
   "execution_count": 41,
   "metadata": {},
   "outputs": [
    {
     "name": "stdout",
     "output_type": "stream",
     "text": [
      "              precision    recall  f1-score   support\n",
      "\n",
      "         0.0       0.45      0.89      0.59        37\n",
      "         1.0       0.60      0.13      0.21        47\n",
      "\n",
      "    accuracy                           0.46        84\n",
      "   macro avg       0.52      0.51      0.40        84\n",
      "weighted avg       0.53      0.46      0.38        84\n",
      "\n"
     ]
    }
   ],
   "source": [
    "from sklearn.metrics import classification_report\n",
    "\n",
    "report = classification_report(y_test, y_predicted, zero_division=0)  # Use zero_division=1 if needed\n",
    "print(report)"
   ]
  }
 ],
 "metadata": {
  "kernelspec": {
   "display_name": "Python 3",
   "language": "python",
   "name": "python3"
  },
  "language_info": {
   "codemirror_mode": {
    "name": "ipython",
    "version": 3
   },
   "file_extension": ".py",
   "mimetype": "text/x-python",
   "name": "python",
   "nbconvert_exporter": "python",
   "pygments_lexer": "ipython3",
   "version": "3.11.5"
  }
 },
 "nbformat": 4,
 "nbformat_minor": 2
}
